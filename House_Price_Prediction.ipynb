{
  "nbformat": 4,
  "nbformat_minor": 0,
  "metadata": {
    "colab": {
      "name": "House Price Prediction.ipynb",
      "provenance": [],
      "collapsed_sections": [],
      "authorship_tag": "ABX9TyOnbZs5EV2Zx2biV684exR7",
      "include_colab_link": true
    },
    "kernelspec": {
      "name": "python3",
      "display_name": "Python 3"
    },
    "language_info": {
      "name": "python"
    }
  },
  "cells": [
    {
      "cell_type": "markdown",
      "metadata": {
        "id": "view-in-github",
        "colab_type": "text"
      },
      "source": [
        "<a href=\"https://colab.research.google.com/github/tiwari0809/House-Price-Prediction_Project/blob/main/House_Price_Prediction.ipynb\" target=\"_parent\"><img src=\"https://colab.research.google.com/assets/colab-badge.svg\" alt=\"Open In Colab\"/></a>"
      ]
    },
    {
      "cell_type": "markdown",
      "source": [
        "**Chennai House Price Prediction**\n",
        "\n",
        "**Problem Statement**\n",
        "Real estate transactions are quite opaque sometimes and it may be difficult for a newbie to know the fair price of any given home. Thus, multiple real estate websites have the functionality to predict the prices of houses given different features regarding it. Such forecasting models will help buyers to identify a fair price for the home and also give insights to sellers as to how to build homes that fetch them more money. Chennai house sale price data is shared here and the participants are expected to build a sale price prediction model that will aid the customers to find a fair price for their homes and **also help the sellers understand what factors are fetching more money for the houses?**\n",
        "\n",
        "\n",
        "**Minimum Requirements**\n",
        "It is not sufficient to just fit a model - the model must be analysed to find the important factors that contribute towards the price. Also, it will be better to give a forecast range (range of permissible values) rather than a single estimate as it will help the customers to negotiate.\n"
      ],
      "metadata": {
        "id": "bBwJQMaRPTVh"
      }
    },
    {
      "cell_type": "code",
      "execution_count": 1,
      "metadata": {
        "id": "F36MqMqw_RMU"
      },
      "outputs": [],
      "source": [
        "# Importing the Necessary Libraries\n",
        "\n",
        "import numpy as np\n",
        "import pandas as pd\n",
        "import matplotlib.pyplot as plt\n",
        "import plotly.express as px\n",
        "import seaborn as sb\n",
        "import datetime as dt\n",
        "from scipy import stats\n",
        "import warnings\n",
        "warnings.filterwarnings('ignore')\n",
        "sb.set_style(\"darkgrid\")"
      ]
    },
    {
      "cell_type": "code",
      "source": [
        "# Importing the Data Set\n",
        "house = pd.read_csv(\"/content/train-chennai-sale.csv\")"
      ],
      "metadata": {
        "id": "NrPlPL3u_yCp"
      },
      "execution_count": 2,
      "outputs": []
    },
    {
      "cell_type": "code",
      "source": [
        "# Columns in the Data\n",
        "house.columns"
      ],
      "metadata": {
        "colab": {
          "base_uri": "https://localhost:8080/"
        },
        "id": "M5K22GwEAIZk",
        "outputId": "8d6a83b9-6d88-494b-a29e-436151b00bbe"
      },
      "execution_count": 3,
      "outputs": [
        {
          "output_type": "execute_result",
          "data": {
            "text/plain": [
              "Index(['PRT_ID', 'AREA', 'INT_SQFT', 'DATE_SALE', 'DIST_MAINROAD', 'N_BEDROOM',\n",
              "       'N_BATHROOM', 'N_ROOM', 'SALE_COND', 'PARK_FACIL', 'DATE_BUILD',\n",
              "       'BUILDTYPE', 'UTILITY_AVAIL', 'STREET', 'MZZONE', 'QS_ROOMS',\n",
              "       'QS_BATHROOM', 'QS_BEDROOM', 'QS_OVERALL', 'REG_FEE', 'COMMIS',\n",
              "       'SALES_PRICE'],\n",
              "      dtype='object')"
            ]
          },
          "metadata": {},
          "execution_count": 3
        }
      ]
    },
    {
      "cell_type": "code",
      "source": [
        "# First 10 rows of the Dataset\n",
        "house.head(n = 10)"
      ],
      "metadata": {
        "colab": {
          "base_uri": "https://localhost:8080/",
          "height": 630
        },
        "id": "-F-mAqG2AJUS",
        "outputId": "12ace058-38a0-4625-e814-3e81502bb9b5"
      },
      "execution_count": 4,
      "outputs": [
        {
          "output_type": "execute_result",
          "data": {
            "text/plain": [
              "   PRT_ID        AREA  INT_SQFT   DATE_SALE  DIST_MAINROAD  N_BEDROOM  \\\n",
              "0  P03210  Karapakkam      1004  04-05-2011            131        1.0   \n",
              "1  P09411  Anna Nagar      1986  19-12-2006             26        2.0   \n",
              "2  P01812       Adyar       909  04-02-2012             70        1.0   \n",
              "3  P05346   Velachery      1855  13-03-2010             14        3.0   \n",
              "4  P06210  Karapakkam      1226  05-10-2009             84        1.0   \n",
              "5  P00219    Chrompet      1220  11-09-2014             36        2.0   \n",
              "6  P09105    Chrompet      1167  05-04-2007            137        1.0   \n",
              "7  P09679   Velachery      1847  13-03-2006            176        3.0   \n",
              "8  P03377    Chrompet       771  06-04-2011            175        1.0   \n",
              "9  P09623   Velachery      1635  22-06-2006             74        2.0   \n",
              "\n",
              "   N_BATHROOM  N_ROOM SALE_COND PARK_FACIL  ... UTILITY_AVAIL     STREET  \\\n",
              "0         1.0       3  AbNormal        Yes  ...        AllPub      Paved   \n",
              "1         1.0       5  AbNormal         No  ...        AllPub     Gravel   \n",
              "2         1.0       3  AbNormal        Yes  ...           ELO     Gravel   \n",
              "3         2.0       5    Family         No  ...       NoSewr       Paved   \n",
              "4         1.0       3  AbNormal        Yes  ...        AllPub     Gravel   \n",
              "5         1.0       4   Partial         No  ...        NoSeWa  No Access   \n",
              "6         1.0       3   Partial         No  ...        AllPub  No Access   \n",
              "7         2.0       5    Family         No  ...        AllPub     Gravel   \n",
              "8         1.0       2   AdjLand         No  ...       NoSewr       Paved   \n",
              "9         1.0       4  AbNormal         No  ...           ELO  No Access   \n",
              "\n",
              "  MZZONE QS_ROOMS QS_BATHROOM  QS_BEDROOM  QS_OVERALL  REG_FEE  COMMIS  \\\n",
              "0      A      4.0         3.9         4.9       4.330   380000  144400   \n",
              "1     RH      4.9         4.2         2.5       3.765   760122  304049   \n",
              "2     RL      4.1         3.8         2.2       3.090   421094   92114   \n",
              "3      I      4.7         3.9         3.6       4.010   356321   77042   \n",
              "4      C      3.0         2.5         4.1       3.290   237000   74063   \n",
              "5     RH      4.5         2.6         3.1       3.320   409027  198316   \n",
              "6     RL      3.6         2.1         2.5       2.670   263152   33955   \n",
              "7     RM      2.4         4.5         2.1       3.260   604809  235204   \n",
              "8     RM      2.9         3.7         4.0       3.550   257578   33236   \n",
              "9      I      3.1         3.1         3.3       3.160   323346  121255   \n",
              "\n",
              "   SALES_PRICE  \n",
              "0      7600000  \n",
              "1     21717770  \n",
              "2     13159200  \n",
              "3      9630290  \n",
              "4      7406250  \n",
              "5     12394750  \n",
              "6      8488790  \n",
              "7     16800250  \n",
              "8      8308970  \n",
              "9      8083650  \n",
              "\n",
              "[10 rows x 22 columns]"
            ],
            "text/html": [
              "\n",
              "  <div id=\"df-5c2bc7df-cd8f-437d-b911-72888c6b0ef3\">\n",
              "    <div class=\"colab-df-container\">\n",
              "      <div>\n",
              "<style scoped>\n",
              "    .dataframe tbody tr th:only-of-type {\n",
              "        vertical-align: middle;\n",
              "    }\n",
              "\n",
              "    .dataframe tbody tr th {\n",
              "        vertical-align: top;\n",
              "    }\n",
              "\n",
              "    .dataframe thead th {\n",
              "        text-align: right;\n",
              "    }\n",
              "</style>\n",
              "<table border=\"1\" class=\"dataframe\">\n",
              "  <thead>\n",
              "    <tr style=\"text-align: right;\">\n",
              "      <th></th>\n",
              "      <th>PRT_ID</th>\n",
              "      <th>AREA</th>\n",
              "      <th>INT_SQFT</th>\n",
              "      <th>DATE_SALE</th>\n",
              "      <th>DIST_MAINROAD</th>\n",
              "      <th>N_BEDROOM</th>\n",
              "      <th>N_BATHROOM</th>\n",
              "      <th>N_ROOM</th>\n",
              "      <th>SALE_COND</th>\n",
              "      <th>PARK_FACIL</th>\n",
              "      <th>...</th>\n",
              "      <th>UTILITY_AVAIL</th>\n",
              "      <th>STREET</th>\n",
              "      <th>MZZONE</th>\n",
              "      <th>QS_ROOMS</th>\n",
              "      <th>QS_BATHROOM</th>\n",
              "      <th>QS_BEDROOM</th>\n",
              "      <th>QS_OVERALL</th>\n",
              "      <th>REG_FEE</th>\n",
              "      <th>COMMIS</th>\n",
              "      <th>SALES_PRICE</th>\n",
              "    </tr>\n",
              "  </thead>\n",
              "  <tbody>\n",
              "    <tr>\n",
              "      <th>0</th>\n",
              "      <td>P03210</td>\n",
              "      <td>Karapakkam</td>\n",
              "      <td>1004</td>\n",
              "      <td>04-05-2011</td>\n",
              "      <td>131</td>\n",
              "      <td>1.0</td>\n",
              "      <td>1.0</td>\n",
              "      <td>3</td>\n",
              "      <td>AbNormal</td>\n",
              "      <td>Yes</td>\n",
              "      <td>...</td>\n",
              "      <td>AllPub</td>\n",
              "      <td>Paved</td>\n",
              "      <td>A</td>\n",
              "      <td>4.0</td>\n",
              "      <td>3.9</td>\n",
              "      <td>4.9</td>\n",
              "      <td>4.330</td>\n",
              "      <td>380000</td>\n",
              "      <td>144400</td>\n",
              "      <td>7600000</td>\n",
              "    </tr>\n",
              "    <tr>\n",
              "      <th>1</th>\n",
              "      <td>P09411</td>\n",
              "      <td>Anna Nagar</td>\n",
              "      <td>1986</td>\n",
              "      <td>19-12-2006</td>\n",
              "      <td>26</td>\n",
              "      <td>2.0</td>\n",
              "      <td>1.0</td>\n",
              "      <td>5</td>\n",
              "      <td>AbNormal</td>\n",
              "      <td>No</td>\n",
              "      <td>...</td>\n",
              "      <td>AllPub</td>\n",
              "      <td>Gravel</td>\n",
              "      <td>RH</td>\n",
              "      <td>4.9</td>\n",
              "      <td>4.2</td>\n",
              "      <td>2.5</td>\n",
              "      <td>3.765</td>\n",
              "      <td>760122</td>\n",
              "      <td>304049</td>\n",
              "      <td>21717770</td>\n",
              "    </tr>\n",
              "    <tr>\n",
              "      <th>2</th>\n",
              "      <td>P01812</td>\n",
              "      <td>Adyar</td>\n",
              "      <td>909</td>\n",
              "      <td>04-02-2012</td>\n",
              "      <td>70</td>\n",
              "      <td>1.0</td>\n",
              "      <td>1.0</td>\n",
              "      <td>3</td>\n",
              "      <td>AbNormal</td>\n",
              "      <td>Yes</td>\n",
              "      <td>...</td>\n",
              "      <td>ELO</td>\n",
              "      <td>Gravel</td>\n",
              "      <td>RL</td>\n",
              "      <td>4.1</td>\n",
              "      <td>3.8</td>\n",
              "      <td>2.2</td>\n",
              "      <td>3.090</td>\n",
              "      <td>421094</td>\n",
              "      <td>92114</td>\n",
              "      <td>13159200</td>\n",
              "    </tr>\n",
              "    <tr>\n",
              "      <th>3</th>\n",
              "      <td>P05346</td>\n",
              "      <td>Velachery</td>\n",
              "      <td>1855</td>\n",
              "      <td>13-03-2010</td>\n",
              "      <td>14</td>\n",
              "      <td>3.0</td>\n",
              "      <td>2.0</td>\n",
              "      <td>5</td>\n",
              "      <td>Family</td>\n",
              "      <td>No</td>\n",
              "      <td>...</td>\n",
              "      <td>NoSewr</td>\n",
              "      <td>Paved</td>\n",
              "      <td>I</td>\n",
              "      <td>4.7</td>\n",
              "      <td>3.9</td>\n",
              "      <td>3.6</td>\n",
              "      <td>4.010</td>\n",
              "      <td>356321</td>\n",
              "      <td>77042</td>\n",
              "      <td>9630290</td>\n",
              "    </tr>\n",
              "    <tr>\n",
              "      <th>4</th>\n",
              "      <td>P06210</td>\n",
              "      <td>Karapakkam</td>\n",
              "      <td>1226</td>\n",
              "      <td>05-10-2009</td>\n",
              "      <td>84</td>\n",
              "      <td>1.0</td>\n",
              "      <td>1.0</td>\n",
              "      <td>3</td>\n",
              "      <td>AbNormal</td>\n",
              "      <td>Yes</td>\n",
              "      <td>...</td>\n",
              "      <td>AllPub</td>\n",
              "      <td>Gravel</td>\n",
              "      <td>C</td>\n",
              "      <td>3.0</td>\n",
              "      <td>2.5</td>\n",
              "      <td>4.1</td>\n",
              "      <td>3.290</td>\n",
              "      <td>237000</td>\n",
              "      <td>74063</td>\n",
              "      <td>7406250</td>\n",
              "    </tr>\n",
              "    <tr>\n",
              "      <th>5</th>\n",
              "      <td>P00219</td>\n",
              "      <td>Chrompet</td>\n",
              "      <td>1220</td>\n",
              "      <td>11-09-2014</td>\n",
              "      <td>36</td>\n",
              "      <td>2.0</td>\n",
              "      <td>1.0</td>\n",
              "      <td>4</td>\n",
              "      <td>Partial</td>\n",
              "      <td>No</td>\n",
              "      <td>...</td>\n",
              "      <td>NoSeWa</td>\n",
              "      <td>No Access</td>\n",
              "      <td>RH</td>\n",
              "      <td>4.5</td>\n",
              "      <td>2.6</td>\n",
              "      <td>3.1</td>\n",
              "      <td>3.320</td>\n",
              "      <td>409027</td>\n",
              "      <td>198316</td>\n",
              "      <td>12394750</td>\n",
              "    </tr>\n",
              "    <tr>\n",
              "      <th>6</th>\n",
              "      <td>P09105</td>\n",
              "      <td>Chrompet</td>\n",
              "      <td>1167</td>\n",
              "      <td>05-04-2007</td>\n",
              "      <td>137</td>\n",
              "      <td>1.0</td>\n",
              "      <td>1.0</td>\n",
              "      <td>3</td>\n",
              "      <td>Partial</td>\n",
              "      <td>No</td>\n",
              "      <td>...</td>\n",
              "      <td>AllPub</td>\n",
              "      <td>No Access</td>\n",
              "      <td>RL</td>\n",
              "      <td>3.6</td>\n",
              "      <td>2.1</td>\n",
              "      <td>2.5</td>\n",
              "      <td>2.670</td>\n",
              "      <td>263152</td>\n",
              "      <td>33955</td>\n",
              "      <td>8488790</td>\n",
              "    </tr>\n",
              "    <tr>\n",
              "      <th>7</th>\n",
              "      <td>P09679</td>\n",
              "      <td>Velachery</td>\n",
              "      <td>1847</td>\n",
              "      <td>13-03-2006</td>\n",
              "      <td>176</td>\n",
              "      <td>3.0</td>\n",
              "      <td>2.0</td>\n",
              "      <td>5</td>\n",
              "      <td>Family</td>\n",
              "      <td>No</td>\n",
              "      <td>...</td>\n",
              "      <td>AllPub</td>\n",
              "      <td>Gravel</td>\n",
              "      <td>RM</td>\n",
              "      <td>2.4</td>\n",
              "      <td>4.5</td>\n",
              "      <td>2.1</td>\n",
              "      <td>3.260</td>\n",
              "      <td>604809</td>\n",
              "      <td>235204</td>\n",
              "      <td>16800250</td>\n",
              "    </tr>\n",
              "    <tr>\n",
              "      <th>8</th>\n",
              "      <td>P03377</td>\n",
              "      <td>Chrompet</td>\n",
              "      <td>771</td>\n",
              "      <td>06-04-2011</td>\n",
              "      <td>175</td>\n",
              "      <td>1.0</td>\n",
              "      <td>1.0</td>\n",
              "      <td>2</td>\n",
              "      <td>AdjLand</td>\n",
              "      <td>No</td>\n",
              "      <td>...</td>\n",
              "      <td>NoSewr</td>\n",
              "      <td>Paved</td>\n",
              "      <td>RM</td>\n",
              "      <td>2.9</td>\n",
              "      <td>3.7</td>\n",
              "      <td>4.0</td>\n",
              "      <td>3.550</td>\n",
              "      <td>257578</td>\n",
              "      <td>33236</td>\n",
              "      <td>8308970</td>\n",
              "    </tr>\n",
              "    <tr>\n",
              "      <th>9</th>\n",
              "      <td>P09623</td>\n",
              "      <td>Velachery</td>\n",
              "      <td>1635</td>\n",
              "      <td>22-06-2006</td>\n",
              "      <td>74</td>\n",
              "      <td>2.0</td>\n",
              "      <td>1.0</td>\n",
              "      <td>4</td>\n",
              "      <td>AbNormal</td>\n",
              "      <td>No</td>\n",
              "      <td>...</td>\n",
              "      <td>ELO</td>\n",
              "      <td>No Access</td>\n",
              "      <td>I</td>\n",
              "      <td>3.1</td>\n",
              "      <td>3.1</td>\n",
              "      <td>3.3</td>\n",
              "      <td>3.160</td>\n",
              "      <td>323346</td>\n",
              "      <td>121255</td>\n",
              "      <td>8083650</td>\n",
              "    </tr>\n",
              "  </tbody>\n",
              "</table>\n",
              "<p>10 rows × 22 columns</p>\n",
              "</div>\n",
              "      <button class=\"colab-df-convert\" onclick=\"convertToInteractive('df-5c2bc7df-cd8f-437d-b911-72888c6b0ef3')\"\n",
              "              title=\"Convert this dataframe to an interactive table.\"\n",
              "              style=\"display:none;\">\n",
              "        \n",
              "  <svg xmlns=\"http://www.w3.org/2000/svg\" height=\"24px\"viewBox=\"0 0 24 24\"\n",
              "       width=\"24px\">\n",
              "    <path d=\"M0 0h24v24H0V0z\" fill=\"none\"/>\n",
              "    <path d=\"M18.56 5.44l.94 2.06.94-2.06 2.06-.94-2.06-.94-.94-2.06-.94 2.06-2.06.94zm-11 1L8.5 8.5l.94-2.06 2.06-.94-2.06-.94L8.5 2.5l-.94 2.06-2.06.94zm10 10l.94 2.06.94-2.06 2.06-.94-2.06-.94-.94-2.06-.94 2.06-2.06.94z\"/><path d=\"M17.41 7.96l-1.37-1.37c-.4-.4-.92-.59-1.43-.59-.52 0-1.04.2-1.43.59L10.3 9.45l-7.72 7.72c-.78.78-.78 2.05 0 2.83L4 21.41c.39.39.9.59 1.41.59.51 0 1.02-.2 1.41-.59l7.78-7.78 2.81-2.81c.8-.78.8-2.07 0-2.86zM5.41 20L4 18.59l7.72-7.72 1.47 1.35L5.41 20z\"/>\n",
              "  </svg>\n",
              "      </button>\n",
              "      \n",
              "  <style>\n",
              "    .colab-df-container {\n",
              "      display:flex;\n",
              "      flex-wrap:wrap;\n",
              "      gap: 12px;\n",
              "    }\n",
              "\n",
              "    .colab-df-convert {\n",
              "      background-color: #E8F0FE;\n",
              "      border: none;\n",
              "      border-radius: 50%;\n",
              "      cursor: pointer;\n",
              "      display: none;\n",
              "      fill: #1967D2;\n",
              "      height: 32px;\n",
              "      padding: 0 0 0 0;\n",
              "      width: 32px;\n",
              "    }\n",
              "\n",
              "    .colab-df-convert:hover {\n",
              "      background-color: #E2EBFA;\n",
              "      box-shadow: 0px 1px 2px rgba(60, 64, 67, 0.3), 0px 1px 3px 1px rgba(60, 64, 67, 0.15);\n",
              "      fill: #174EA6;\n",
              "    }\n",
              "\n",
              "    [theme=dark] .colab-df-convert {\n",
              "      background-color: #3B4455;\n",
              "      fill: #D2E3FC;\n",
              "    }\n",
              "\n",
              "    [theme=dark] .colab-df-convert:hover {\n",
              "      background-color: #434B5C;\n",
              "      box-shadow: 0px 1px 3px 1px rgba(0, 0, 0, 0.15);\n",
              "      filter: drop-shadow(0px 1px 2px rgba(0, 0, 0, 0.3));\n",
              "      fill: #FFFFFF;\n",
              "    }\n",
              "  </style>\n",
              "\n",
              "      <script>\n",
              "        const buttonEl =\n",
              "          document.querySelector('#df-5c2bc7df-cd8f-437d-b911-72888c6b0ef3 button.colab-df-convert');\n",
              "        buttonEl.style.display =\n",
              "          google.colab.kernel.accessAllowed ? 'block' : 'none';\n",
              "\n",
              "        async function convertToInteractive(key) {\n",
              "          const element = document.querySelector('#df-5c2bc7df-cd8f-437d-b911-72888c6b0ef3');\n",
              "          const dataTable =\n",
              "            await google.colab.kernel.invokeFunction('convertToInteractive',\n",
              "                                                     [key], {});\n",
              "          if (!dataTable) return;\n",
              "\n",
              "          const docLinkHtml = 'Like what you see? Visit the ' +\n",
              "            '<a target=\"_blank\" href=https://colab.research.google.com/notebooks/data_table.ipynb>data table notebook</a>'\n",
              "            + ' to learn more about interactive tables.';\n",
              "          element.innerHTML = '';\n",
              "          dataTable['output_type'] = 'display_data';\n",
              "          await google.colab.output.renderOutput(dataTable, element);\n",
              "          const docLink = document.createElement('div');\n",
              "          docLink.innerHTML = docLinkHtml;\n",
              "          element.appendChild(docLink);\n",
              "        }\n",
              "      </script>\n",
              "    </div>\n",
              "  </div>\n",
              "  "
            ]
          },
          "metadata": {},
          "execution_count": 4
        }
      ]
    },
    {
      "cell_type": "markdown",
      "source": [
        "**EDA**"
      ],
      "metadata": {
        "id": "mNYd4yNUKBqK"
      }
    },
    {
      "cell_type": "code",
      "source": [
        "house.isna().sum() #Check for Null Values."
      ],
      "metadata": {
        "colab": {
          "base_uri": "https://localhost:8080/"
        },
        "id": "h0QmHXzHIcf5",
        "outputId": "39c5e93b-a831-4a25-eae9-0d43d2430a82"
      },
      "execution_count": 5,
      "outputs": [
        {
          "output_type": "execute_result",
          "data": {
            "text/plain": [
              "PRT_ID            0\n",
              "AREA              0\n",
              "INT_SQFT          0\n",
              "DATE_SALE         0\n",
              "DIST_MAINROAD     0\n",
              "N_BEDROOM         1\n",
              "N_BATHROOM        5\n",
              "N_ROOM            0\n",
              "SALE_COND         0\n",
              "PARK_FACIL        0\n",
              "DATE_BUILD        0\n",
              "BUILDTYPE         0\n",
              "UTILITY_AVAIL     0\n",
              "STREET            0\n",
              "MZZONE            0\n",
              "QS_ROOMS          0\n",
              "QS_BATHROOM       0\n",
              "QS_BEDROOM        0\n",
              "QS_OVERALL       48\n",
              "REG_FEE           0\n",
              "COMMIS            0\n",
              "SALES_PRICE       0\n",
              "dtype: int64"
            ]
          },
          "metadata": {},
          "execution_count": 5
        }
      ]
    },
    {
      "cell_type": "code",
      "source": [
        "house=house.dropna() #clean the null value"
      ],
      "metadata": {
        "id": "KJq5ElWzIk4p"
      },
      "execution_count": 6,
      "outputs": []
    },
    {
      "cell_type": "code",
      "source": [
        "#Checking there is any null value or not\n",
        "plt.figure(figsize=(10, 5))\n",
        "sb.heatmap(house.isnull())"
      ],
      "metadata": {
        "colab": {
          "base_uri": "https://localhost:8080/",
          "height": 415
        },
        "id": "goUbdq1BGJt7",
        "outputId": "4e7b06e2-546b-4f03-822d-5f04ac97e89b"
      },
      "execution_count": 7,
      "outputs": [
        {
          "output_type": "execute_result",
          "data": {
            "text/plain": [
              "<matplotlib.axes._subplots.AxesSubplot at 0x7f38eb9ea650>"
            ]
          },
          "metadata": {},
          "execution_count": 7
        },
        {
          "output_type": "display_data",
          "data": {
            "text/plain": [
              "<Figure size 720x360 with 2 Axes>"
            ],
            "image/png": "[encoded data removed]"
          },
          "metadata": {
            "needs_background": "light"
          }
        }
      ]
    },
    {
      "cell_type": "code",
      "source": [
        "house.dtypes #checking the data type "
      ],
      "metadata": {
        "colab": {
          "base_uri": "https://localhost:8080/"
        },
        "id": "bs1c6kCEAJ3E",
        "outputId": "610aeb5b-05b5-4bf6-bb69-e25237128d5f"
      },
      "execution_count": 8,
      "outputs": [
        {
          "output_type": "execute_result",
          "data": {
            "text/plain": [
              "PRT_ID            object\n",
              "AREA              object\n",
              "INT_SQFT           int64\n",
              "DATE_SALE         object\n",
              "DIST_MAINROAD      int64\n",
              "N_BEDROOM        float64\n",
              "N_BATHROOM       float64\n",
              "N_ROOM             int64\n",
              "SALE_COND         object\n",
              "PARK_FACIL        object\n",
              "DATE_BUILD        object\n",
              "BUILDTYPE         object\n",
              "UTILITY_AVAIL     object\n",
              "STREET            object\n",
              "MZZONE            object\n",
              "QS_ROOMS         float64\n",
              "QS_BATHROOM      float64\n",
              "QS_BEDROOM       float64\n",
              "QS_OVERALL       float64\n",
              "REG_FEE            int64\n",
              "COMMIS             int64\n",
              "SALES_PRICE        int64\n",
              "dtype: object"
            ]
          },
          "metadata": {},
          "execution_count": 8
        }
      ]
    },
    {
      "cell_type": "code",
      "source": [
        "house=house.astype({\"N_BEDROOM\":int,'N_BATHROOM':int}) # converting datatype float to int."
      ],
      "metadata": {
        "id": "BCN2fiONUagN"
      },
      "execution_count": 9,
      "outputs": []
    },
    {
      "cell_type": "code",
      "source": [
        "house['DATE_BUILD']=pd.to_datetime(house['DATE_BUILD']) # converting date build type to datetime.\n",
        "house['DATE_SALE']=pd.to_datetime(house['DATE_SALE'])"
      ],
      "metadata": {
        "id": "QA07eVyCU303"
      },
      "execution_count": 10,
      "outputs": []
    },
    {
      "cell_type": "code",
      "source": [
        "house['Age_Bldg']=(house['DATE_SALE']- house['DATE_BUILD']).astype('timedelta64[Y]').astype('int') # Adding Age_Bldg of house and replacing DATE_SALE & DATE_BUILD."
      ],
      "metadata": {
        "id": "njGjToRghm9i"
      },
      "execution_count": 11,
      "outputs": []
    },
    {
      "cell_type": "code",
      "source": [
        "house.head(10)"
      ],
      "metadata": {
        "colab": {
          "base_uri": "https://localhost:8080/",
          "height": 630
        },
        "id": "QjzX3TeNh_I-",
        "outputId": "b71e5577-a803-4492-d15e-8d3cc519c171"
      },
      "execution_count": 12,
      "outputs": [
        {
          "output_type": "execute_result",
          "data": {
            "text/plain": [
              "   PRT_ID        AREA  INT_SQFT  DATE_SALE  DIST_MAINROAD  N_BEDROOM  \\\n",
              "0  P03210  Karapakkam      1004 2011-04-05            131          1   \n",
              "1  P09411  Anna Nagar      1986 2006-12-19             26          2   \n",
              "2  P01812       Adyar       909 2012-04-02             70          1   \n",
              "3  P05346   Velachery      1855 2010-03-13             14          3   \n",
              "4  P06210  Karapakkam      1226 2009-05-10             84          1   \n",
              "5  P00219    Chrompet      1220 2014-11-09             36          2   \n",
              "6  P09105    Chrompet      1167 2007-05-04            137          1   \n",
              "7  P09679   Velachery      1847 2006-03-13            176          3   \n",
              "8  P03377    Chrompet       771 2011-06-04            175          1   \n",
              "9  P09623   Velachery      1635 2006-06-22             74          2   \n",
              "\n",
              "   N_BATHROOM  N_ROOM SALE_COND PARK_FACIL  ...     STREET MZZONE QS_ROOMS  \\\n",
              "0           1       3  AbNormal        Yes  ...      Paved      A      4.0   \n",
              "1           1       5  AbNormal         No  ...     Gravel     RH      4.9   \n",
              "2           1       3  AbNormal        Yes  ...     Gravel     RL      4.1   \n",
              "3           2       5    Family         No  ...      Paved      I      4.7   \n",
              "4           1       3  AbNormal        Yes  ...     Gravel      C      3.0   \n",
              "5           1       4   Partial         No  ...  No Access     RH      4.5   \n",
              "6           1       3   Partial         No  ...  No Access     RL      3.6   \n",
              "7           2       5    Family         No  ...     Gravel     RM      2.4   \n",
              "8           1       2   AdjLand         No  ...      Paved     RM      2.9   \n",
              "9           1       4  AbNormal         No  ...  No Access      I      3.1   \n",
              "\n",
              "  QS_BATHROOM QS_BEDROOM  QS_OVERALL  REG_FEE  COMMIS  SALES_PRICE  Age_Bldg  \n",
              "0         3.9        4.9       4.330   380000  144400      7600000        43  \n",
              "1         4.2        2.5       3.765   760122  304049     21717770        10  \n",
              "2         3.8        2.2       3.090   421094   92114     13159200        19  \n",
              "3         3.9        3.6       4.010   356321   77042      9630290        21  \n",
              "4         2.5        4.1       3.290   237000   74063      7406250        29  \n",
              "5         2.6        3.1       3.320   409027  198316     12394750         4  \n",
              "6         2.1        2.5       2.670   263152   33955      8488790        27  \n",
              "7         4.5        2.1       3.260   604809  235204     16800250         9  \n",
              "8         3.7        4.0       3.550   257578   33236      8308970        34  \n",
              "9         3.1        3.3       3.160   323346  121255      8083650        14  \n",
              "\n",
              "[10 rows x 23 columns]"
            ],
            "text/html": [
              "\n",
              "  <div id=\"df-7e8c42db-6bdc-4cd1-b169-1c60f35cd0e2\">\n",
              "    <div class=\"colab-df-container\">\n",
              "      <div>\n",
              "<style scoped>\n",
              "    .dataframe tbody tr th:only-of-type {\n",
              "        vertical-align: middle;\n",
              "    }\n",
              "\n",
              "    .dataframe tbody tr th {\n",
              "        vertical-align: top;\n",
              "    }\n",
              "\n",
              "    .dataframe thead th {\n",
              "        text-align: right;\n",
              "    }\n",
              "</style>\n",
              "<table border=\"1\" class=\"dataframe\">\n",
              "  <thead>\n",
              "    <tr style=\"text-align: right;\">\n",
              "      <th></th>\n",
              "      <th>PRT_ID</th>\n",
              "      <th>AREA</th>\n",
              "      <th>INT_SQFT</th>\n",
              "      <th>DATE_SALE</th>\n",
              "      <th>DIST_MAINROAD</th>\n",
              "      <th>N_BEDROOM</th>\n",
              "      <th>N_BATHROOM</th>\n",
              "      <th>N_ROOM</th>\n",
              "      <th>SALE_COND</th>\n",
              "      <th>PARK_FACIL</th>\n",
              "      <th>...</th>\n",
              "      <th>STREET</th>\n",
              "      <th>MZZONE</th>\n",
              "      <th>QS_ROOMS</th>\n",
              "      <th>QS_BATHROOM</th>\n",
              "      <th>QS_BEDROOM</th>\n",
              "      <th>QS_OVERALL</th>\n",
              "      <th>REG_FEE</th>\n",
              "      <th>COMMIS</th>\n",
              "      <th>SALES_PRICE</th>\n",
              "      <th>Age_Bldg</th>\n",
              "    </tr>\n",
              "  </thead>\n",
              "  <tbody>\n",
              "    <tr>\n",
              "      <th>0</th>\n",
              "      <td>P03210</td>\n",
              "      <td>Karapakkam</td>\n",
              "      <td>1004</td>\n",
              "      <td>2011-04-05</td>\n",
              "      <td>131</td>\n",
              "      <td>1</td>\n",
              "      <td>1</td>\n",
              "      <td>3</td>\n",
              "      <td>AbNormal</td>\n",
              "      <td>Yes</td>\n",
              "      <td>...</td>\n",
              "      <td>Paved</td>\n",
              "      <td>A</td>\n",
              "      <td>4.0</td>\n",
              "      <td>3.9</td>\n",
              "      <td>4.9</td>\n",
              "      <td>4.330</td>\n",
              "      <td>380000</td>\n",
              "      <td>144400</td>\n",
              "      <td>7600000</td>\n",
              "      <td>43</td>\n",
              "    </tr>\n",
              "    <tr>\n",
              "      <th>1</th>\n",
              "      <td>P09411</td>\n",
              "      <td>Anna Nagar</td>\n",
              "      <td>1986</td>\n",
              "      <td>2006-12-19</td>\n",
              "      <td>26</td>\n",
              "      <td>2</td>\n",
              "      <td>1</td>\n",
              "      <td>5</td>\n",
              "      <td>AbNormal</td>\n",
              "      <td>No</td>\n",
              "      <td>...</td>\n",
              "      <td>Gravel</td>\n",
              "      <td>RH</td>\n",
              "      <td>4.9</td>\n",
              "      <td>4.2</td>\n",
              "      <td>2.5</td>\n",
              "      <td>3.765</td>\n",
              "      <td>760122</td>\n",
              "      <td>304049</td>\n",
              "      <td>21717770</td>\n",
              "      <td>10</td>\n",
              "    </tr>\n",
              "    <tr>\n",
              "      <th>2</th>\n",
              "      <td>P01812</td>\n",
              "      <td>Adyar</td>\n",
              "      <td>909</td>\n",
              "      <td>2012-04-02</td>\n",
              "      <td>70</td>\n",
              "      <td>1</td>\n",
              "      <td>1</td>\n",
              "      <td>3</td>\n",
              "      <td>AbNormal</td>\n",
              "      <td>Yes</td>\n",
              "      <td>...</td>\n",
              "      <td>Gravel</td>\n",
              "      <td>RL</td>\n",
              "      <td>4.1</td>\n",
              "      <td>3.8</td>\n",
              "      <td>2.2</td>\n",
              "      <td>3.090</td>\n",
              "      <td>421094</td>\n",
              "      <td>92114</td>\n",
              "      <td>13159200</td>\n",
              "      <td>19</td>\n",
              "    </tr>\n",
              "    <tr>\n",
              "      <th>3</th>\n",
              "      <td>P05346</td>\n",
              "      <td>Velachery</td>\n",
              "      <td>1855</td>\n",
              "      <td>2010-03-13</td>\n",
              "      <td>14</td>\n",
              "      <td>3</td>\n",
              "      <td>2</td>\n",
              "      <td>5</td>\n",
              "      <td>Family</td>\n",
              "      <td>No</td>\n",
              "      <td>...</td>\n",
              "      <td>Paved</td>\n",
              "      <td>I</td>\n",
              "      <td>4.7</td>\n",
              "      <td>3.9</td>\n",
              "      <td>3.6</td>\n",
              "      <td>4.010</td>\n",
              "      <td>356321</td>\n",
              "      <td>77042</td>\n",
              "      <td>9630290</td>\n",
              "      <td>21</td>\n",
              "    </tr>\n",
              "    <tr>\n",
              "      <th>4</th>\n",
              "      <td>P06210</td>\n",
              "      <td>Karapakkam</td>\n",
              "      <td>1226</td>\n",
              "      <td>2009-05-10</td>\n",
              "      <td>84</td>\n",
              "      <td>1</td>\n",
              "      <td>1</td>\n",
              "      <td>3</td>\n",
              "      <td>AbNormal</td>\n",
              "      <td>Yes</td>\n",
              "      <td>...</td>\n",
              "      <td>Gravel</td>\n",
              "      <td>C</td>\n",
              "      <td>3.0</td>\n",
              "      <td>2.5</td>\n",
              "      <td>4.1</td>\n",
              "      <td>3.290</td>\n",
              "      <td>237000</td>\n",
              "      <td>74063</td>\n",
              "      <td>7406250</td>\n",
              "      <td>29</td>\n",
              "    </tr>\n",
              "    <tr>\n",
              "      <th>5</th>\n",
              "      <td>P00219</td>\n",
              "      <td>Chrompet</td>\n",
              "      <td>1220</td>\n",
              "      <td>2014-11-09</td>\n",
              "      <td>36</td>\n",
              "      <td>2</td>\n",
              "      <td>1</td>\n",
              "      <td>4</td>\n",
              "      <td>Partial</td>\n",
              "      <td>No</td>\n",
              "      <td>...</td>\n",
              "      <td>No Access</td>\n",
              "      <td>RH</td>\n",
              "      <td>4.5</td>\n",
              "      <td>2.6</td>\n",
              "      <td>3.1</td>\n",
              "      <td>3.320</td>\n",
              "      <td>409027</td>\n",
              "      <td>198316</td>\n",
              "      <td>12394750</td>\n",
              "      <td>4</td>\n",
              "    </tr>\n",
              "    <tr>\n",
              "      <th>6</th>\n",
              "      <td>P09105</td>\n",
              "      <td>Chrompet</td>\n",
              "      <td>1167</td>\n",
              "      <td>2007-05-04</td>\n",
              "      <td>137</td>\n",
              "      <td>1</td>\n",
              "      <td>1</td>\n",
              "      <td>3</td>\n",
              "      <td>Partial</td>\n",
              "      <td>No</td>\n",
              "      <td>...</td>\n",
              "      <td>No Access</td>\n",
              "      <td>RL</td>\n",
              "      <td>3.6</td>\n",
              "      <td>2.1</td>\n",
              "      <td>2.5</td>\n",
              "      <td>2.670</td>\n",
              "      <td>263152</td>\n",
              "      <td>33955</td>\n",
              "      <td>8488790</td>\n",
              "      <td>27</td>\n",
              "    </tr>\n",
              "    <tr>\n",
              "      <th>7</th>\n",
              "      <td>P09679</td>\n",
              "      <td>Velachery</td>\n",
              "      <td>1847</td>\n",
              "      <td>2006-03-13</td>\n",
              "      <td>176</td>\n",
              "      <td>3</td>\n",
              "      <td>2</td>\n",
              "      <td>5</td>\n",
              "      <td>Family</td>\n",
              "      <td>No</td>\n",
              "      <td>...</td>\n",
              "      <td>Gravel</td>\n",
              "      <td>RM</td>\n",
              "      <td>2.4</td>\n",
              "      <td>4.5</td>\n",
              "      <td>2.1</td>\n",
              "      <td>3.260</td>\n",
              "      <td>604809</td>\n",
              "      <td>235204</td>\n",
              "      <td>16800250</td>\n",
              "      <td>9</td>\n",
              "    </tr>\n",
              "    <tr>\n",
              "      <th>8</th>\n",
              "      <td>P03377</td>\n",
              "      <td>Chrompet</td>\n",
              "      <td>771</td>\n",
              "      <td>2011-06-04</td>\n",
              "      <td>175</td>\n",
              "      <td>1</td>\n",
              "      <td>1</td>\n",
              "      <td>2</td>\n",
              "      <td>AdjLand</td>\n",
              "      <td>No</td>\n",
              "      <td>...</td>\n",
              "      <td>Paved</td>\n",
              "      <td>RM</td>\n",
              "      <td>2.9</td>\n",
              "      <td>3.7</td>\n",
              "      <td>4.0</td>\n",
              "      <td>3.550</td>\n",
              "      <td>257578</td>\n",
              "      <td>33236</td>\n",
              "      <td>8308970</td>\n",
              "      <td>34</td>\n",
              "    </tr>\n",
              "    <tr>\n",
              "      <th>9</th>\n",
              "      <td>P09623</td>\n",
              "      <td>Velachery</td>\n",
              "      <td>1635</td>\n",
              "      <td>2006-06-22</td>\n",
              "      <td>74</td>\n",
              "      <td>2</td>\n",
              "      <td>1</td>\n",
              "      <td>4</td>\n",
              "      <td>AbNormal</td>\n",
              "      <td>No</td>\n",
              "      <td>...</td>\n",
              "      <td>No Access</td>\n",
              "      <td>I</td>\n",
              "      <td>3.1</td>\n",
              "      <td>3.1</td>\n",
              "      <td>3.3</td>\n",
              "      <td>3.160</td>\n",
              "      <td>323346</td>\n",
              "      <td>121255</td>\n",
              "      <td>8083650</td>\n",
              "      <td>14</td>\n",
              "    </tr>\n",
              "  </tbody>\n",
              "</table>\n",
              "<p>10 rows × 23 columns</p>\n",
              "</div>\n",
              "      <button class=\"colab-df-convert\" onclick=\"convertToInteractive('df-7e8c42db-6bdc-4cd1-b169-1c60f35cd0e2')\"\n",
              "              title=\"Convert this dataframe to an interactive table.\"\n",
              "              style=\"display:none;\">\n",
              "        \n",
              "  <svg xmlns=\"http://www.w3.org/2000/svg\" height=\"24px\"viewBox=\"0 0 24 24\"\n",
              "       width=\"24px\">\n",
              "    <path d=\"M0 0h24v24H0V0z\" fill=\"none\"/>\n",
              "    <path d=\"M18.56 5.44l.94 2.06.94-2.06 2.06-.94-2.06-.94-.94-2.06-.94 2.06-2.06.94zm-11 1L8.5 8.5l.94-2.06 2.06-.94-2.06-.94L8.5 2.5l-.94 2.06-2.06.94zm10 10l.94 2.06.94-2.06 2.06-.94-2.06-.94-.94-2.06-.94 2.06-2.06.94z\"/><path d=\"M17.41 7.96l-1.37-1.37c-.4-.4-.92-.59-1.43-.59-.52 0-1.04.2-1.43.59L10.3 9.45l-7.72 7.72c-.78.78-.78 2.05 0 2.83L4 21.41c.39.39.9.59 1.41.59.51 0 1.02-.2 1.41-.59l7.78-7.78 2.81-2.81c.8-.78.8-2.07 0-2.86zM5.41 20L4 18.59l7.72-7.72 1.47 1.35L5.41 20z\"/>\n",
              "  </svg>\n",
              "      </button>\n",
              "      \n",
              "  <style>\n",
              "    .colab-df-container {\n",
              "      display:flex;\n",
              "      flex-wrap:wrap;\n",
              "      gap: 12px;\n",
              "    }\n",
              "\n",
              "    .colab-df-convert {\n",
              "      background-color: #E8F0FE;\n",
              "      border: none;\n",
              "      border-radius: 50%;\n",
              "      cursor: pointer;\n",
              "      display: none;\n",
              "      fill: #1967D2;\n",
              "      height: 32px;\n",
              "      padding: 0 0 0 0;\n",
              "      width: 32px;\n",
              "    }\n",
              "\n",
              "    .colab-df-convert:hover {\n",
              "      background-color: #E2EBFA;\n",
              "      box-shadow: 0px 1px 2px rgba(60, 64, 67, 0.3), 0px 1px 3px 1px rgba(60, 64, 67, 0.15);\n",
              "      fill: #174EA6;\n",
              "    }\n",
              "\n",
              "    [theme=dark] .colab-df-convert {\n",
              "      background-color: #3B4455;\n",
              "      fill: #D2E3FC;\n",
              "    }\n",
              "\n",
              "    [theme=dark] .colab-df-convert:hover {\n",
              "      background-color: #434B5C;\n",
              "      box-shadow: 0px 1px 3px 1px rgba(0, 0, 0, 0.15);\n",
              "      filter: drop-shadow(0px 1px 2px rgba(0, 0, 0, 0.3));\n",
              "      fill: #FFFFFF;\n",
              "    }\n",
              "  </style>\n",
              "\n",
              "      <script>\n",
              "        const buttonEl =\n",
              "          document.querySelector('#df-7e8c42db-6bdc-4cd1-b169-1c60f35cd0e2 button.colab-df-convert');\n",
              "        buttonEl.style.display =\n",
              "          google.colab.kernel.accessAllowed ? 'block' : 'none';\n",
              "\n",
              "        async function convertToInteractive(key) {\n",
              "          const element = document.querySelector('#df-7e8c42db-6bdc-4cd1-b169-1c60f35cd0e2');\n",
              "          const dataTable =\n",
              "            await google.colab.kernel.invokeFunction('convertToInteractive',\n",
              "                                                     [key], {});\n",
              "          if (!dataTable) return;\n",
              "\n",
              "          const docLinkHtml = 'Like what you see? Visit the ' +\n",
              "            '<a target=\"_blank\" href=https://colab.research.google.com/notebooks/data_table.ipynb>data table notebook</a>'\n",
              "            + ' to learn more about interactive tables.';\n",
              "          element.innerHTML = '';\n",
              "          dataTable['output_type'] = 'display_data';\n",
              "          await google.colab.output.renderOutput(dataTable, element);\n",
              "          const docLink = document.createElement('div');\n",
              "          docLink.innerHTML = docLinkHtml;\n",
              "          element.appendChild(docLink);\n",
              "        }\n",
              "      </script>\n",
              "    </div>\n",
              "  </div>\n",
              "  "
            ]
          },
          "metadata": {},
          "execution_count": 12
        }
      ]
    },
    {
      "cell_type": "code",
      "source": [
        "house.dtypes"
      ],
      "metadata": {
        "colab": {
          "base_uri": "https://localhost:8080/"
        },
        "id": "VvM31YeNVtXE",
        "outputId": "b4a3b8ba-37da-42bf-9afb-f9ed6d761803"
      },
      "execution_count": 13,
      "outputs": [
        {
          "output_type": "execute_result",
          "data": {
            "text/plain": [
              "PRT_ID                   object\n",
              "AREA                     object\n",
              "INT_SQFT                  int64\n",
              "DATE_SALE        datetime64[ns]\n",
              "DIST_MAINROAD             int64\n",
              "N_BEDROOM                 int64\n",
              "N_BATHROOM                int64\n",
              "N_ROOM                    int64\n",
              "SALE_COND                object\n",
              "PARK_FACIL               object\n",
              "DATE_BUILD       datetime64[ns]\n",
              "BUILDTYPE                object\n",
              "UTILITY_AVAIL            object\n",
              "STREET                   object\n",
              "MZZONE                   object\n",
              "QS_ROOMS                float64\n",
              "QS_BATHROOM             float64\n",
              "QS_BEDROOM              float64\n",
              "QS_OVERALL              float64\n",
              "REG_FEE                   int64\n",
              "COMMIS                    int64\n",
              "SALES_PRICE               int64\n",
              "Age_Bldg                  int64\n",
              "dtype: object"
            ]
          },
          "metadata": {},
          "execution_count": 13
        }
      ]
    },
    {
      "cell_type": "code",
      "source": [
        "# Describing the Hosing Dataset\n",
        "house.describe()"
      ],
      "metadata": {
        "id": "M0Leb7m_AKsD",
        "colab": {
          "base_uri": "https://localhost:8080/",
          "height": 364
        },
        "outputId": "1f5fb718-a6b5-437d-ff29-3747044e13e4"
      },
      "execution_count": 14,
      "outputs": [
        {
          "output_type": "execute_result",
          "data": {
            "text/plain": [
              "          INT_SQFT  DIST_MAINROAD    N_BEDROOM   N_BATHROOM       N_ROOM  \\\n",
              "count  7056.000000    7056.000000  7056.000000  7056.000000  7056.000000   \n",
              "mean   1381.316752      99.569161     1.636621     1.213152     3.686650   \n",
              "std     457.860850      57.403870     0.803633     0.409563     1.020011   \n",
              "min     500.000000       0.000000     1.000000     1.000000     2.000000   \n",
              "25%     991.000000      50.000000     1.000000     1.000000     3.000000   \n",
              "50%    1369.500000      99.000000     1.000000     1.000000     4.000000   \n",
              "75%    1744.000000     148.000000     2.000000     1.000000     4.000000   \n",
              "max    2500.000000     200.000000     4.000000     2.000000     6.000000   \n",
              "\n",
              "          QS_ROOMS  QS_BATHROOM   QS_BEDROOM   QS_OVERALL        REG_FEE  \\\n",
              "count  7056.000000  7056.000000  7056.000000  7056.000000    7056.000000   \n",
              "mean      3.517177     3.505896     3.485332     3.503389  376791.852608   \n",
              "std       0.892141     0.897644     0.886814     0.527313  143109.581793   \n",
              "min       2.000000     2.000000     2.000000     2.000000   71177.000000   \n",
              "25%       2.700000     2.700000     2.700000     3.130000  272117.500000   \n",
              "50%       3.500000     3.500000     3.500000     3.500000  349444.500000   \n",
              "75%       4.300000     4.300000     4.300000     3.890000  451030.500000   \n",
              "max       5.000000     5.000000     5.000000     4.970000  983922.000000   \n",
              "\n",
              "              COMMIS   SALES_PRICE     Age_Bldg  \n",
              "count    7056.000000  7.056000e+03  7056.000000  \n",
              "mean   140994.273384  1.088801e+07    23.548186  \n",
              "std     78774.465963  3.769081e+06    12.434205  \n",
              "min      5055.000000  2.156875e+06     3.000000  \n",
              "25%     84212.750000  8.266790e+06    13.000000  \n",
              "50%    127640.500000  1.031922e+07    23.000000  \n",
              "75%    184449.000000  1.298148e+07    33.000000  \n",
              "max    495405.000000  2.366734e+07    55.000000  "
            ],
            "text/html": [
              "\n",
              "  <div id=\"df-551055ca-65ab-4d15-a222-d176d6e4380c\">\n",
              "    <div class=\"colab-df-container\">\n",
              "      <div>\n",
              "<style scoped>\n",
              "    .dataframe tbody tr th:only-of-type {\n",
              "        vertical-align: middle;\n",
              "    }\n",
              "\n",
              "    .dataframe tbody tr th {\n",
              "        vertical-align: top;\n",
              "    }\n",
              "\n",
              "    .dataframe thead th {\n",
              "        text-align: right;\n",
              "    }\n",
              "</style>\n",
              "<table border=\"1\" class=\"dataframe\">\n",
              "  <thead>\n",
              "    <tr style=\"text-align: right;\">\n",
              "      <th></th>\n",
              "      <th>INT_SQFT</th>\n",
              "      <th>DIST_MAINROAD</th>\n",
              "      <th>N_BEDROOM</th>\n",
              "      <th>N_BATHROOM</th>\n",
              "      <th>N_ROOM</th>\n",
              "      <th>QS_ROOMS</th>\n",
              "      <th>QS_BATHROOM</th>\n",
              "      <th>QS_BEDROOM</th>\n",
              "      <th>QS_OVERALL</th>\n",
              "      <th>REG_FEE</th>\n",
              "      <th>COMMIS</th>\n",
              "      <th>SALES_PRICE</th>\n",
              "      <th>Age_Bldg</th>\n",
              "    </tr>\n",
              "  </thead>\n",
              "  <tbody>\n",
              "    <tr>\n",
              "      <th>count</th>\n",
              "      <td>7056.000000</td>\n",
              "      <td>7056.000000</td>\n",
              "      <td>7056.000000</td>\n",
              "      <td>7056.000000</td>\n",
              "      <td>7056.000000</td>\n",
              "      <td>7056.000000</td>\n",
              "      <td>7056.000000</td>\n",
              "      <td>7056.000000</td>\n",
              "      <td>7056.000000</td>\n",
              "      <td>7056.000000</td>\n",
              "      <td>7056.000000</td>\n",
              "      <td>7.056000e+03</td>\n",
              "      <td>7056.000000</td>\n",
              "    </tr>\n",
              "    <tr>\n",
              "      <th>mean</th>\n",
              "      <td>1381.316752</td>\n",
              "      <td>99.569161</td>\n",
              "      <td>1.636621</td>\n",
              "      <td>1.213152</td>\n",
              "      <td>3.686650</td>\n",
              "      <td>3.517177</td>\n",
              "      <td>3.505896</td>\n",
              "      <td>3.485332</td>\n",
              "      <td>3.503389</td>\n",
              "      <td>376791.852608</td>\n",
              "      <td>140994.273384</td>\n",
              "      <td>1.088801e+07</td>\n",
              "      <td>23.548186</td>\n",
              "    </tr>\n",
              "    <tr>\n",
              "      <th>std</th>\n",
              "      <td>457.860850</td>\n",
              "      <td>57.403870</td>\n",
              "      <td>0.803633</td>\n",
              "      <td>0.409563</td>\n",
              "      <td>1.020011</td>\n",
              "      <td>0.892141</td>\n",
              "      <td>0.897644</td>\n",
              "      <td>0.886814</td>\n",
              "      <td>0.527313</td>\n",
              "      <td>143109.581793</td>\n",
              "      <td>78774.465963</td>\n",
              "      <td>3.769081e+06</td>\n",
              "      <td>12.434205</td>\n",
              "    </tr>\n",
              "    <tr>\n",
              "      <th>min</th>\n",
              "      <td>500.000000</td>\n",
              "      <td>0.000000</td>\n",
              "      <td>1.000000</td>\n",
              "      <td>1.000000</td>\n",
              "      <td>2.000000</td>\n",
              "      <td>2.000000</td>\n",
              "      <td>2.000000</td>\n",
              "      <td>2.000000</td>\n",
              "      <td>2.000000</td>\n",
              "      <td>71177.000000</td>\n",
              "      <td>5055.000000</td>\n",
              "      <td>2.156875e+06</td>\n",
              "      <td>3.000000</td>\n",
              "    </tr>\n",
              "    <tr>\n",
              "      <th>25%</th>\n",
              "      <td>991.000000</td>\n",
              "      <td>50.000000</td>\n",
              "      <td>1.000000</td>\n",
              "      <td>1.000000</td>\n",
              "      <td>3.000000</td>\n",
              "      <td>2.700000</td>\n",
              "      <td>2.700000</td>\n",
              "      <td>2.700000</td>\n",
              "      <td>3.130000</td>\n",
              "      <td>272117.500000</td>\n",
              "      <td>84212.750000</td>\n",
              "      <td>8.266790e+06</td>\n",
              "      <td>13.000000</td>\n",
              "    </tr>\n",
              "    <tr>\n",
              "      <th>50%</th>\n",
              "      <td>1369.500000</td>\n",
              "      <td>99.000000</td>\n",
              "      <td>1.000000</td>\n",
              "      <td>1.000000</td>\n",
              "      <td>4.000000</td>\n",
              "      <td>3.500000</td>\n",
              "      <td>3.500000</td>\n",
              "      <td>3.500000</td>\n",
              "      <td>3.500000</td>\n",
              "      <td>349444.500000</td>\n",
              "      <td>127640.500000</td>\n",
              "      <td>1.031922e+07</td>\n",
              "      <td>23.000000</td>\n",
              "    </tr>\n",
              "    <tr>\n",
              "      <th>75%</th>\n",
              "      <td>1744.000000</td>\n",
              "      <td>148.000000</td>\n",
              "      <td>2.000000</td>\n",
              "      <td>1.000000</td>\n",
              "      <td>4.000000</td>\n",
              "      <td>4.300000</td>\n",
              "      <td>4.300000</td>\n",
              "      <td>4.300000</td>\n",
              "      <td>3.890000</td>\n",
              "      <td>451030.500000</td>\n",
              "      <td>184449.000000</td>\n",
              "      <td>1.298148e+07</td>\n",
              "      <td>33.000000</td>\n",
              "    </tr>\n",
              "    <tr>\n",
              "      <th>max</th>\n",
              "      <td>2500.000000</td>\n",
              "      <td>200.000000</td>\n",
              "      <td>4.000000</td>\n",
              "      <td>2.000000</td>\n",
              "      <td>6.000000</td>\n",
              "      <td>5.000000</td>\n",
              "      <td>5.000000</td>\n",
              "      <td>5.000000</td>\n",
              "      <td>4.970000</td>\n",
              "      <td>983922.000000</td>\n",
              "      <td>495405.000000</td>\n",
              "      <td>2.366734e+07</td>\n",
              "      <td>55.000000</td>\n",
              "    </tr>\n",
              "  </tbody>\n",
              "</table>\n",
              "</div>\n",
              "      <button class=\"colab-df-convert\" onclick=\"convertToInteractive('df-551055ca-65ab-4d15-a222-d176d6e4380c')\"\n",
              "              title=\"Convert this dataframe to an interactive table.\"\n",
              "              style=\"display:none;\">\n",
              "        \n",
              "  <svg xmlns=\"http://www.w3.org/2000/svg\" height=\"24px\"viewBox=\"0 0 24 24\"\n",
              "       width=\"24px\">\n",
              "    <path d=\"M0 0h24v24H0V0z\" fill=\"none\"/>\n",
              "    <path d=\"M18.56 5.44l.94 2.06.94-2.06 2.06-.94-2.06-.94-.94-2.06-.94 2.06-2.06.94zm-11 1L8.5 8.5l.94-2.06 2.06-.94-2.06-.94L8.5 2.5l-.94 2.06-2.06.94zm10 10l.94 2.06.94-2.06 2.06-.94-2.06-.94-.94-2.06-.94 2.06-2.06.94z\"/><path d=\"M17.41 7.96l-1.37-1.37c-.4-.4-.92-.59-1.43-.59-.52 0-1.04.2-1.43.59L10.3 9.45l-7.72 7.72c-.78.78-.78 2.05 0 2.83L4 21.41c.39.39.9.59 1.41.59.51 0 1.02-.2 1.41-.59l7.78-7.78 2.81-2.81c.8-.78.8-2.07 0-2.86zM5.41 20L4 18.59l7.72-7.72 1.47 1.35L5.41 20z\"/>\n",
              "  </svg>\n",
              "      </button>\n",
              "      \n",
              "  <style>\n",
              "    .colab-df-container {\n",
              "      display:flex;\n",
              "      flex-wrap:wrap;\n",
              "      gap: 12px;\n",
              "    }\n",
              "\n",
              "    .colab-df-convert {\n",
              "      background-color: #E8F0FE;\n",
              "      border: none;\n",
              "      border-radius: 50%;\n",
              "      cursor: pointer;\n",
              "      display: none;\n",
              "      fill: #1967D2;\n",
              "      height: 32px;\n",
              "      padding: 0 0 0 0;\n",
              "      width: 32px;\n",
              "    }\n",
              "\n",
              "    .colab-df-convert:hover {\n",
              "      background-color: #E2EBFA;\n",
              "      box-shadow: 0px 1px 2px rgba(60, 64, 67, 0.3), 0px 1px 3px 1px rgba(60, 64, 67, 0.15);\n",
              "      fill: #174EA6;\n",
              "    }\n",
              "\n",
              "    [theme=dark] .colab-df-convert {\n",
              "      background-color: #3B4455;\n",
              "      fill: #D2E3FC;\n",
              "    }\n",
              "\n",
              "    [theme=dark] .colab-df-convert:hover {\n",
              "      background-color: #434B5C;\n",
              "      box-shadow: 0px 1px 3px 1px rgba(0, 0, 0, 0.15);\n",
              "      filter: drop-shadow(0px 1px 2px rgba(0, 0, 0, 0.3));\n",
              "      fill: #FFFFFF;\n",
              "    }\n",
              "  </style>\n",
              "\n",
              "      <script>\n",
              "        const buttonEl =\n",
              "          document.querySelector('#df-551055ca-65ab-4d15-a222-d176d6e4380c button.colab-df-convert');\n",
              "        buttonEl.style.display =\n",
              "          google.colab.kernel.accessAllowed ? 'block' : 'none';\n",
              "\n",
              "        async function convertToInteractive(key) {\n",
              "          const element = document.querySelector('#df-551055ca-65ab-4d15-a222-d176d6e4380c');\n",
              "          const dataTable =\n",
              "            await google.colab.kernel.invokeFunction('convertToInteractive',\n",
              "                                                     [key], {});\n",
              "          if (!dataTable) return;\n",
              "\n",
              "          const docLinkHtml = 'Like what you see? Visit the ' +\n",
              "            '<a target=\"_blank\" href=https://colab.research.google.com/notebooks/data_table.ipynb>data table notebook</a>'\n",
              "            + ' to learn more about interactive tables.';\n",
              "          element.innerHTML = '';\n",
              "          dataTable['output_type'] = 'display_data';\n",
              "          await google.colab.output.renderOutput(dataTable, element);\n",
              "          const docLink = document.createElement('div');\n",
              "          docLink.innerHTML = docLinkHtml;\n",
              "          element.appendChild(docLink);\n",
              "        }\n",
              "      </script>\n",
              "    </div>\n",
              "  </div>\n",
              "  "
            ]
          },
          "metadata": {},
          "execution_count": 14
        }
      ]
    },
    {
      "cell_type": "code",
      "source": [
        "# Check for Duplicated Records\n",
        "\n",
        "house.duplicated().sum()"
      ],
      "metadata": {
        "id": "uZ-Hih-lALm-",
        "colab": {
          "base_uri": "https://localhost:8080/"
        },
        "outputId": "0a5bb6b6-1ad6-459d-e903-614cd91f214b"
      },
      "execution_count": 15,
      "outputs": [
        {
          "output_type": "execute_result",
          "data": {
            "text/plain": [
              "0"
            ]
          },
          "metadata": {},
          "execution_count": 15
        }
      ]
    },
    {
      "cell_type": "markdown",
      "source": [
        "There is no Duplicate Records"
      ],
      "metadata": {
        "id": "TQFislayBj74"
      }
    },
    {
      "cell_type": "code",
      "source": [
        "house.shape"
      ],
      "metadata": {
        "id": "kJpOwv0SO5Wg",
        "colab": {
          "base_uri": "https://localhost:8080/"
        },
        "outputId": "90e28ed0-963b-4ed4-b83a-23c5c35fd8de"
      },
      "execution_count": 16,
      "outputs": [
        {
          "output_type": "execute_result",
          "data": {
            "text/plain": [
              "(7056, 23)"
            ]
          },
          "metadata": {},
          "execution_count": 16
        }
      ]
    },
    {
      "cell_type": "code",
      "source": [
        "house.info()"
      ],
      "metadata": {
        "id": "WspRmwt5Bqe6",
        "colab": {
          "base_uri": "https://localhost:8080/"
        },
        "outputId": "21b72828-38e4-495a-e0f7-44e54ba7a687"
      },
      "execution_count": 17,
      "outputs": [
        {
          "output_type": "stream",
          "name": "stdout",
          "text": [
            "<class 'pandas.core.frame.DataFrame'>\n",
            "Int64Index: 7056 entries, 0 to 7108\n",
            "Data columns (total 23 columns):\n",
            " #   Column         Non-Null Count  Dtype         \n",
            "---  ------         --------------  -----         \n",
            " 0   PRT_ID         7056 non-null   object        \n",
            " 1   AREA           7056 non-null   object        \n",
            " 2   INT_SQFT       7056 non-null   int64         \n",
            " 3   DATE_SALE      7056 non-null   datetime64[ns]\n",
            " 4   DIST_MAINROAD  7056 non-null   int64         \n",
            " 5   N_BEDROOM      7056 non-null   int64         \n",
            " 6   N_BATHROOM     7056 non-null   int64         \n",
            " 7   N_ROOM         7056 non-null   int64         \n",
            " 8   SALE_COND      7056 non-null   object        \n",
            " 9   PARK_FACIL     7056 non-null   object        \n",
            " 10  DATE_BUILD     7056 non-null   datetime64[ns]\n",
            " 11  BUILDTYPE      7056 non-null   object        \n",
            " 12  UTILITY_AVAIL  7056 non-null   object        \n",
            " 13  STREET         7056 non-null   object        \n",
            " 14  MZZONE         7056 non-null   object        \n",
            " 15  QS_ROOMS       7056 non-null   float64       \n",
            " 16  QS_BATHROOM    7056 non-null   float64       \n",
            " 17  QS_BEDROOM     7056 non-null   float64       \n",
            " 18  QS_OVERALL     7056 non-null   float64       \n",
            " 19  REG_FEE        7056 non-null   int64         \n",
            " 20  COMMIS         7056 non-null   int64         \n",
            " 21  SALES_PRICE    7056 non-null   int64         \n",
            " 22  Age_Bldg       7056 non-null   int64         \n",
            "dtypes: datetime64[ns](2), float64(4), int64(9), object(8)\n",
            "memory usage: 1.3+ MB\n"
          ]
        }
      ]
    },
    {
      "cell_type": "code",
      "source": [
        "for column in house.columns:\n",
        "  print(house[column].value_counts())\n",
        "  print(\"*\"*20)"
      ],
      "metadata": {
        "colab": {
          "base_uri": "https://localhost:8080/"
        },
        "id": "42w_G2KXhq9o",
        "outputId": "8d6bf586-be9f-48f6-c086-40a3ff25305b"
      },
      "execution_count": 18,
      "outputs": [
        {
          "output_type": "stream",
          "name": "stdout",
          "text": [
            "P03210    1\n",
            "P07534    1\n",
            "P06158    1\n",
            "P01307    1\n",
            "P09516    1\n",
            "         ..\n",
            "P04550    1\n",
            "P04710    1\n",
            "P06791    1\n",
            "P09761    1\n",
            "P09794    1\n",
            "Name: PRT_ID, Length: 7056, dtype: int64\n",
            "********************\n",
            "Chrompet      1671\n",
            "Karapakkam    1356\n",
            "KK Nagar       989\n",
            "Velachery      973\n",
            "Anna Nagar     772\n",
            "Adyar          768\n",
            "T Nagar        490\n",
            "Chrompt          9\n",
            "Chrmpet          6\n",
            "TNagar           5\n",
            "Chormpet         5\n",
            "Karapakam        3\n",
            "Ana Nagar        3\n",
            "Velchery         2\n",
            "Ann Nagar        2\n",
            "Adyr             1\n",
            "KKNagar          1\n",
            "Name: AREA, dtype: int64\n",
            "********************\n",
            "1781    18\n",
            "1538    15\n",
            "1514    13\n",
            "1505    13\n",
            "1634    12\n",
            "        ..\n",
            "559      1\n",
            "2479     1\n",
            "1330     1\n",
            "880      1\n",
            "598      1\n",
            "Name: INT_SQFT, Length: 1698, dtype: int64\n",
            "********************\n",
            "2009-06-10    12\n",
            "2010-11-17    10\n",
            "2012-03-15    10\n",
            "2011-12-04    10\n",
            "2009-06-01    10\n",
            "              ..\n",
            "2006-05-03     1\n",
            "2006-06-25     1\n",
            "2004-04-09     1\n",
            "2012-03-10     1\n",
            "2005-07-13     1\n",
            "Name: DATE_SALE, Length: 2794, dtype: int64\n",
            "********************\n",
            "39     55\n",
            "51     53\n",
            "78     51\n",
            "77     49\n",
            "14     48\n",
            "       ..\n",
            "136    24\n",
            "33     24\n",
            "167    24\n",
            "12     23\n",
            "25     20\n",
            "Name: DIST_MAINROAD, Length: 201, dtype: int64\n",
            "********************\n",
            "1    3773\n",
            "2    2327\n",
            "3     703\n",
            "4     253\n",
            "Name: N_BEDROOM, dtype: int64\n",
            "********************\n",
            "1    5552\n",
            "2    1504\n",
            "Name: N_BATHROOM, dtype: int64\n",
            "********************\n",
            "4    2539\n",
            "3    2112\n",
            "5    1233\n",
            "2     919\n",
            "6     253\n",
            "Name: N_ROOM, dtype: int64\n",
            "********************\n",
            "AdjLand        1426\n",
            "Normal Sale    1416\n",
            "Partial        1414\n",
            "AbNormal       1396\n",
            "Family         1390\n",
            "Adj Land          6\n",
            "Ab Normal         5\n",
            "Partiall          2\n",
            "PartiaLl          1\n",
            "Name: SALE_COND, dtype: int64\n",
            "********************\n",
            "Yes    3557\n",
            "No     3498\n",
            "Noo       1\n",
            "Name: PARK_FACIL, dtype: int64\n",
            "********************\n",
            "1987-02-07    6\n",
            "1999-04-04    5\n",
            "1982-01-29    4\n",
            "1990-02-10    4\n",
            "1982-05-13    4\n",
            "             ..\n",
            "1954-10-09    1\n",
            "2001-02-25    1\n",
            "1988-06-08    1\n",
            "2005-02-19    1\n",
            "1961-07-24    1\n",
            "Name: DATE_BUILD, Length: 5773, dtype: int64\n",
            "********************\n",
            "House         2433\n",
            "Commercial    2307\n",
            "Others        2287\n",
            "Other           25\n",
            "Comercial        4\n",
            "Name: BUILDTYPE, dtype: int64\n",
            "********************\n",
            "AllPub     1874\n",
            "NoSeWa     1860\n",
            "NoSewr     1812\n",
            "ELO        1509\n",
            "All Pub       1\n",
            "Name: UTILITY_AVAIL, dtype: int64\n",
            "********************\n",
            "Paved        2542\n",
            "Gravel       2502\n",
            "No Access    1993\n",
            "Pavd           12\n",
            "NoAccess        7\n",
            "Name: STREET, dtype: int64\n",
            "********************\n",
            "RL    1849\n",
            "RH    1808\n",
            "RM    1801\n",
            "C      547\n",
            "A      533\n",
            "I      518\n",
            "Name: MZZONE, dtype: int64\n",
            "********************\n",
            "2.5    264\n",
            "3.6    253\n",
            "3.8    253\n",
            "4.6    250\n",
            "4.9    240\n",
            "3.9    240\n",
            "4.2    239\n",
            "4.7    238\n",
            "3.4    238\n",
            "3.3    237\n",
            "4.8    237\n",
            "2.6    236\n",
            "2.1    232\n",
            "3.1    229\n",
            "3.0    228\n",
            "5.0    226\n",
            "3.5    226\n",
            "2.8    224\n",
            "4.3    223\n",
            "4.1    221\n",
            "2.3    220\n",
            "2.9    220\n",
            "4.5    218\n",
            "4.4    217\n",
            "4.0    216\n",
            "2.2    213\n",
            "2.4    207\n",
            "3.2    206\n",
            "3.7    204\n",
            "2.0    203\n",
            "2.7    198\n",
            "Name: QS_ROOMS, dtype: int64\n",
            "********************\n",
            "4.8    253\n",
            "2.7    253\n",
            "3.7    249\n",
            "4.7    244\n",
            "4.9    243\n",
            "3.0    241\n",
            "4.2    235\n",
            "2.2    233\n",
            "3.4    232\n",
            "4.6    231\n",
            "3.1    231\n",
            "4.0    230\n",
            "2.9    228\n",
            "2.4    228\n",
            "2.5    228\n",
            "3.2    225\n",
            "4.5    225\n",
            "2.6    225\n",
            "3.3    225\n",
            "2.1    224\n",
            "4.3    224\n",
            "3.5    223\n",
            "2.0    222\n",
            "3.6    221\n",
            "2.3    218\n",
            "4.4    217\n",
            "5.0    217\n",
            "3.9    211\n",
            "4.1    210\n",
            "3.8    206\n",
            "2.8    204\n",
            "Name: QS_BATHROOM, dtype: int64\n",
            "********************\n",
            "2.6    273\n",
            "3.2    250\n",
            "4.0    247\n",
            "2.4    242\n",
            "3.8    242\n",
            "3.1    240\n",
            "2.1    240\n",
            "3.0    239\n",
            "3.4    236\n",
            "4.4    236\n",
            "3.5    236\n",
            "2.2    235\n",
            "4.3    235\n",
            "3.3    233\n",
            "4.6    230\n",
            "4.5    226\n",
            "3.6    225\n",
            "4.7    223\n",
            "2.5    223\n",
            "4.1    222\n",
            "2.7    221\n",
            "3.9    220\n",
            "2.0    218\n",
            "2.9    217\n",
            "5.0    216\n",
            "4.2    210\n",
            "2.8    209\n",
            "4.8    209\n",
            "3.7    202\n",
            "4.9    202\n",
            "2.3    199\n",
            "Name: QS_BEDROOM, dtype: int64\n",
            "********************\n",
            "3.540    59\n",
            "3.260    57\n",
            "3.320    56\n",
            "3.560    55\n",
            "3.360    54\n",
            "         ..\n",
            "4.615     1\n",
            "2.975     1\n",
            "4.850     1\n",
            "2.635     1\n",
            "4.940     1\n",
            "Name: QS_OVERALL, Length: 479, dtype: int64\n",
            "********************\n",
            "235229    3\n",
            "215933    2\n",
            "308296    2\n",
            "424361    2\n",
            "324803    2\n",
            "         ..\n",
            "510010    1\n",
            "648614    1\n",
            "395886    1\n",
            "340349    1\n",
            "349177    1\n",
            "Name: REG_FEE, Length: 6986, dtype: int64\n",
            "********************\n",
            "117825    3\n",
            "111527    2\n",
            "42606     2\n",
            "111857    2\n",
            "260538    2\n",
            "         ..\n",
            "143994    1\n",
            "186975    1\n",
            "174952    1\n",
            "80122     1\n",
            "79812     1\n",
            "Name: COMMIS, Length: 6960, dtype: int64\n",
            "********************\n",
            "6519000     2\n",
            "8460450     2\n",
            "9593250     2\n",
            "13331980    2\n",
            "6530500     2\n",
            "           ..\n",
            "6818200     1\n",
            "16025310    1\n",
            "11061120    1\n",
            "11780070    1\n",
            "9976480     1\n",
            "Name: SALES_PRICE, Length: 7005, dtype: int64\n",
            "********************\n",
            "19    218\n",
            "27    202\n",
            "29    200\n",
            "16    196\n",
            "6     188\n",
            "18    185\n",
            "22    183\n",
            "7     182\n",
            "4     182\n",
            "24    182\n",
            "23    181\n",
            "15    181\n",
            "11    181\n",
            "13    180\n",
            "5     179\n",
            "20    177\n",
            "28    176\n",
            "8     176\n",
            "10    176\n",
            "25    175\n",
            "12    174\n",
            "21    173\n",
            "33    169\n",
            "14    166\n",
            "9     165\n",
            "17    164\n",
            "36    163\n",
            "35    161\n",
            "39    159\n",
            "26    156\n",
            "34    151\n",
            "31    150\n",
            "38    144\n",
            "37    142\n",
            "30    134\n",
            "32    134\n",
            "43     99\n",
            "41     88\n",
            "40     87\n",
            "42     86\n",
            "44     75\n",
            "47     56\n",
            "49     55\n",
            "45     51\n",
            "3      50\n",
            "48     46\n",
            "46     46\n",
            "50     34\n",
            "54     24\n",
            "53     21\n",
            "52     17\n",
            "51     11\n",
            "55      5\n",
            "Name: Age_Bldg, dtype: int64\n",
            "********************\n"
          ]
        }
      ]
    },
    {
      "cell_type": "code",
      "source": [
        "house=house.drop(['PRT_ID','QS_ROOMS','QS_BATHROOM','QS_BEDROOM','DATE_SALE','DATE_BUILD','QS_OVERALL','REG_FEE','COMMIS'],axis=1)\n",
        "house # Removing the coloum that are not in use"
      ],
      "metadata": {
        "colab": {
          "base_uri": "https://localhost:8080/",
          "height": 520
        },
        "id": "rNnEA2GmKiHD",
        "outputId": "f5813dde-e3d9-4fdf-e568-a52d3e82bce5"
      },
      "execution_count": 19,
      "outputs": [
        {
          "output_type": "execute_result",
          "data": {
            "text/plain": [
              "            AREA  INT_SQFT  DIST_MAINROAD  N_BEDROOM  N_BATHROOM  N_ROOM  \\\n",
              "0     Karapakkam      1004            131          1           1       3   \n",
              "1     Anna Nagar      1986             26          2           1       5   \n",
              "2          Adyar       909             70          1           1       3   \n",
              "3      Velachery      1855             14          3           2       5   \n",
              "4     Karapakkam      1226             84          1           1       3   \n",
              "...          ...       ...            ...        ...         ...     ...   \n",
              "7104  Karapakkam       598             51          1           1       2   \n",
              "7105   Velachery      1897             52          3           2       5   \n",
              "7106   Velachery      1614            152          2           1       4   \n",
              "7107  Karapakkam       787             40          1           1       2   \n",
              "7108   Velachery      1896            156          3           2       5   \n",
              "\n",
              "        SALE_COND PARK_FACIL   BUILDTYPE UTILITY_AVAIL     STREET MZZONE  \\\n",
              "0        AbNormal        Yes  Commercial        AllPub      Paved      A   \n",
              "1        AbNormal         No  Commercial        AllPub     Gravel     RH   \n",
              "2        AbNormal        Yes  Commercial           ELO     Gravel     RL   \n",
              "3          Family         No      Others       NoSewr       Paved      I   \n",
              "4        AbNormal        Yes      Others        AllPub     Gravel      C   \n",
              "...           ...        ...         ...           ...        ...    ...   \n",
              "7104      AdjLand         No      Others           ELO  No Access     RM   \n",
              "7105       Family        Yes      Others        NoSeWa  No Access     RH   \n",
              "7106  Normal Sale         No       House        NoSeWa     Gravel      I   \n",
              "7107      Partial        Yes  Commercial           ELO      Paved     RL   \n",
              "7108      Partial        Yes      Others           ELO      Paved      I   \n",
              "\n",
              "      SALES_PRICE  Age_Bldg  \n",
              "0         7600000        43  \n",
              "1        21717770        10  \n",
              "2        13159200        19  \n",
              "3         9630290        21  \n",
              "4         7406250        29  \n",
              "...           ...       ...  \n",
              "7104      5353000        49  \n",
              "7105     10818480         8  \n",
              "7106      8351410        28  \n",
              "7107      8507000        31  \n",
              "7108      9976480        43  \n",
              "\n",
              "[7056 rows x 14 columns]"
            ],
            "text/html": [
              "\n",
              "  <div id=\"df-b6cfb907-1bff-418d-91e4-6df66ee55b1e\">\n",
              "    <div class=\"colab-df-container\">\n",
              "      <div>\n",
              "<style scoped>\n",
              "    .dataframe tbody tr th:only-of-type {\n",
              "        vertical-align: middle;\n",
              "    }\n",
              "\n",
              "    .dataframe tbody tr th {\n",
              "        vertical-align: top;\n",
              "    }\n",
              "\n",
              "    .dataframe thead th {\n",
              "        text-align: right;\n",
              "    }\n",
              "</style>\n",
              "<table border=\"1\" class=\"dataframe\">\n",
              "  <thead>\n",
              "    <tr style=\"text-align: right;\">\n",
              "      <th></th>\n",
              "      <th>AREA</th>\n",
              "      <th>INT_SQFT</th>\n",
              "      <th>DIST_MAINROAD</th>\n",
              "      <th>N_BEDROOM</th>\n",
              "      <th>N_BATHROOM</th>\n",
              "      <th>N_ROOM</th>\n",
              "      <th>SALE_COND</th>\n",
              "      <th>PARK_FACIL</th>\n",
              "      <th>BUILDTYPE</th>\n",
              "      <th>UTILITY_AVAIL</th>\n",
              "      <th>STREET</th>\n",
              "      <th>MZZONE</th>\n",
              "      <th>SALES_PRICE</th>\n",
              "      <th>Age_Bldg</th>\n",
              "    </tr>\n",
              "  </thead>\n",
              "  <tbody>\n",
              "    <tr>\n",
              "      <th>0</th>\n",
              "      <td>Karapakkam</td>\n",
              "      <td>1004</td>\n",
              "      <td>131</td>\n",
              "      <td>1</td>\n",
              "      <td>1</td>\n",
              "      <td>3</td>\n",
              "      <td>AbNormal</td>\n",
              "      <td>Yes</td>\n",
              "      <td>Commercial</td>\n",
              "      <td>AllPub</td>\n",
              "      <td>Paved</td>\n",
              "      <td>A</td>\n",
              "      <td>7600000</td>\n",
              "      <td>43</td>\n",
              "    </tr>\n",
              "    <tr>\n",
              "      <th>1</th>\n",
              "      <td>Anna Nagar</td>\n",
              "      <td>1986</td>\n",
              "      <td>26</td>\n",
              "      <td>2</td>\n",
              "      <td>1</td>\n",
              "      <td>5</td>\n",
              "      <td>AbNormal</td>\n",
              "      <td>No</td>\n",
              "      <td>Commercial</td>\n",
              "      <td>AllPub</td>\n",
              "      <td>Gravel</td>\n",
              "      <td>RH</td>\n",
              "      <td>21717770</td>\n",
              "      <td>10</td>\n",
              "    </tr>\n",
              "    <tr>\n",
              "      <th>2</th>\n",
              "      <td>Adyar</td>\n",
              "      <td>909</td>\n",
              "      <td>70</td>\n",
              "      <td>1</td>\n",
              "      <td>1</td>\n",
              "      <td>3</td>\n",
              "      <td>AbNormal</td>\n",
              "      <td>Yes</td>\n",
              "      <td>Commercial</td>\n",
              "      <td>ELO</td>\n",
              "      <td>Gravel</td>\n",
              "      <td>RL</td>\n",
              "      <td>13159200</td>\n",
              "      <td>19</td>\n",
              "    </tr>\n",
              "    <tr>\n",
              "      <th>3</th>\n",
              "      <td>Velachery</td>\n",
              "      <td>1855</td>\n",
              "      <td>14</td>\n",
              "      <td>3</td>\n",
              "      <td>2</td>\n",
              "      <td>5</td>\n",
              "      <td>Family</td>\n",
              "      <td>No</td>\n",
              "      <td>Others</td>\n",
              "      <td>NoSewr</td>\n",
              "      <td>Paved</td>\n",
              "      <td>I</td>\n",
              "      <td>9630290</td>\n",
              "      <td>21</td>\n",
              "    </tr>\n",
              "    <tr>\n",
              "      <th>4</th>\n",
              "      <td>Karapakkam</td>\n",
              "      <td>1226</td>\n",
              "      <td>84</td>\n",
              "      <td>1</td>\n",
              "      <td>1</td>\n",
              "      <td>3</td>\n",
              "      <td>AbNormal</td>\n",
              "      <td>Yes</td>\n",
              "      <td>Others</td>\n",
              "      <td>AllPub</td>\n",
              "      <td>Gravel</td>\n",
              "      <td>C</td>\n",
              "      <td>7406250</td>\n",
              "      <td>29</td>\n",
              "    </tr>\n",
              "    <tr>\n",
              "      <th>...</th>\n",
              "      <td>...</td>\n",
              "      <td>...</td>\n",
              "      <td>...</td>\n",
              "      <td>...</td>\n",
              "      <td>...</td>\n",
              "      <td>...</td>\n",
              "      <td>...</td>\n",
              "      <td>...</td>\n",
              "      <td>...</td>\n",
              "      <td>...</td>\n",
              "      <td>...</td>\n",
              "      <td>...</td>\n",
              "      <td>...</td>\n",
              "      <td>...</td>\n",
              "    </tr>\n",
              "    <tr>\n",
              "      <th>7104</th>\n",
              "      <td>Karapakkam</td>\n",
              "      <td>598</td>\n",
              "      <td>51</td>\n",
              "      <td>1</td>\n",
              "      <td>1</td>\n",
              "      <td>2</td>\n",
              "      <td>AdjLand</td>\n",
              "      <td>No</td>\n",
              "      <td>Others</td>\n",
              "      <td>ELO</td>\n",
              "      <td>No Access</td>\n",
              "      <td>RM</td>\n",
              "      <td>5353000</td>\n",
              "      <td>49</td>\n",
              "    </tr>\n",
              "    <tr>\n",
              "      <th>7105</th>\n",
              "      <td>Velachery</td>\n",
              "      <td>1897</td>\n",
              "      <td>52</td>\n",
              "      <td>3</td>\n",
              "      <td>2</td>\n",
              "      <td>5</td>\n",
              "      <td>Family</td>\n",
              "      <td>Yes</td>\n",
              "      <td>Others</td>\n",
              "      <td>NoSeWa</td>\n",
              "      <td>No Access</td>\n",
              "      <td>RH</td>\n",
              "      <td>10818480</td>\n",
              "      <td>8</td>\n",
              "    </tr>\n",
              "    <tr>\n",
              "      <th>7106</th>\n",
              "      <td>Velachery</td>\n",
              "      <td>1614</td>\n",
              "      <td>152</td>\n",
              "      <td>2</td>\n",
              "      <td>1</td>\n",
              "      <td>4</td>\n",
              "      <td>Normal Sale</td>\n",
              "      <td>No</td>\n",
              "      <td>House</td>\n",
              "      <td>NoSeWa</td>\n",
              "      <td>Gravel</td>\n",
              "      <td>I</td>\n",
              "      <td>8351410</td>\n",
              "      <td>28</td>\n",
              "    </tr>\n",
              "    <tr>\n",
              "      <th>7107</th>\n",
              "      <td>Karapakkam</td>\n",
              "      <td>787</td>\n",
              "      <td>40</td>\n",
              "      <td>1</td>\n",
              "      <td>1</td>\n",
              "      <td>2</td>\n",
              "      <td>Partial</td>\n",
              "      <td>Yes</td>\n",
              "      <td>Commercial</td>\n",
              "      <td>ELO</td>\n",
              "      <td>Paved</td>\n",
              "      <td>RL</td>\n",
              "      <td>8507000</td>\n",
              "      <td>31</td>\n",
              "    </tr>\n",
              "    <tr>\n",
              "      <th>7108</th>\n",
              "      <td>Velachery</td>\n",
              "      <td>1896</td>\n",
              "      <td>156</td>\n",
              "      <td>3</td>\n",
              "      <td>2</td>\n",
              "      <td>5</td>\n",
              "      <td>Partial</td>\n",
              "      <td>Yes</td>\n",
              "      <td>Others</td>\n",
              "      <td>ELO</td>\n",
              "      <td>Paved</td>\n",
              "      <td>I</td>\n",
              "      <td>9976480</td>\n",
              "      <td>43</td>\n",
              "    </tr>\n",
              "  </tbody>\n",
              "</table>\n",
              "<p>7056 rows × 14 columns</p>\n",
              "</div>\n",
              "      <button class=\"colab-df-convert\" onclick=\"convertToInteractive('df-b6cfb907-1bff-418d-91e4-6df66ee55b1e')\"\n",
              "              title=\"Convert this dataframe to an interactive table.\"\n",
              "              style=\"display:none;\">\n",
              "        \n",
              "  <svg xmlns=\"http://www.w3.org/2000/svg\" height=\"24px\"viewBox=\"0 0 24 24\"\n",
              "       width=\"24px\">\n",
              "    <path d=\"M0 0h24v24H0V0z\" fill=\"none\"/>\n",
              "    <path d=\"M18.56 5.44l.94 2.06.94-2.06 2.06-.94-2.06-.94-.94-2.06-.94 2.06-2.06.94zm-11 1L8.5 8.5l.94-2.06 2.06-.94-2.06-.94L8.5 2.5l-.94 2.06-2.06.94zm10 10l.94 2.06.94-2.06 2.06-.94-2.06-.94-.94-2.06-.94 2.06-2.06.94z\"/><path d=\"M17.41 7.96l-1.37-1.37c-.4-.4-.92-.59-1.43-.59-.52 0-1.04.2-1.43.59L10.3 9.45l-7.72 7.72c-.78.78-.78 2.05 0 2.83L4 21.41c.39.39.9.59 1.41.59.51 0 1.02-.2 1.41-.59l7.78-7.78 2.81-2.81c.8-.78.8-2.07 0-2.86zM5.41 20L4 18.59l7.72-7.72 1.47 1.35L5.41 20z\"/>\n",
              "  </svg>\n",
              "      </button>\n",
              "      \n",
              "  <style>\n",
              "    .colab-df-container {\n",
              "      display:flex;\n",
              "      flex-wrap:wrap;\n",
              "      gap: 12px;\n",
              "    }\n",
              "\n",
              "    .colab-df-convert {\n",
              "      background-color: #E8F0FE;\n",
              "      border: none;\n",
              "      border-radius: 50%;\n",
              "      cursor: pointer;\n",
              "      display: none;\n",
              "      fill: #1967D2;\n",
              "      height: 32px;\n",
              "      padding: 0 0 0 0;\n",
              "      width: 32px;\n",
              "    }\n",
              "\n",
              "    .colab-df-convert:hover {\n",
              "      background-color: #E2EBFA;\n",
              "      box-shadow: 0px 1px 2px rgba(60, 64, 67, 0.3), 0px 1px 3px 1px rgba(60, 64, 67, 0.15);\n",
              "      fill: #174EA6;\n",
              "    }\n",
              "\n",
              "    [theme=dark] .colab-df-convert {\n",
              "      background-color: #3B4455;\n",
              "      fill: #D2E3FC;\n",
              "    }\n",
              "\n",
              "    [theme=dark] .colab-df-convert:hover {\n",
              "      background-color: #434B5C;\n",
              "      box-shadow: 0px 1px 3px 1px rgba(0, 0, 0, 0.15);\n",
              "      filter: drop-shadow(0px 1px 2px rgba(0, 0, 0, 0.3));\n",
              "      fill: #FFFFFF;\n",
              "    }\n",
              "  </style>\n",
              "\n",
              "      <script>\n",
              "        const buttonEl =\n",
              "          document.querySelector('#df-b6cfb907-1bff-418d-91e4-6df66ee55b1e button.colab-df-convert');\n",
              "        buttonEl.style.display =\n",
              "          google.colab.kernel.accessAllowed ? 'block' : 'none';\n",
              "\n",
              "        async function convertToInteractive(key) {\n",
              "          const element = document.querySelector('#df-b6cfb907-1bff-418d-91e4-6df66ee55b1e');\n",
              "          const dataTable =\n",
              "            await google.colab.kernel.invokeFunction('convertToInteractive',\n",
              "                                                     [key], {});\n",
              "          if (!dataTable) return;\n",
              "\n",
              "          const docLinkHtml = 'Like what you see? Visit the ' +\n",
              "            '<a target=\"_blank\" href=https://colab.research.google.com/notebooks/data_table.ipynb>data table notebook</a>'\n",
              "            + ' to learn more about interactive tables.';\n",
              "          element.innerHTML = '';\n",
              "          dataTable['output_type'] = 'display_data';\n",
              "          await google.colab.output.renderOutput(dataTable, element);\n",
              "          const docLink = document.createElement('div');\n",
              "          docLink.innerHTML = docLinkHtml;\n",
              "          element.appendChild(docLink);\n",
              "        }\n",
              "      </script>\n",
              "    </div>\n",
              "  </div>\n",
              "  "
            ]
          },
          "metadata": {},
          "execution_count": 19
        }
      ]
    },
    {
      "cell_type": "markdown",
      "source": [
        "**1.** **AREA** \n",
        "\n",
        "\n",
        "\n"
      ],
      "metadata": {
        "id": "GpQgppFGXQFS"
      }
    },
    {
      "cell_type": "code",
      "source": [
        "house['AREA'].unique() "
      ],
      "metadata": {
        "id": "Q9KkXGQJNlHq",
        "colab": {
          "base_uri": "https://localhost:8080/"
        },
        "outputId": "2105bc3e-f671-48cd-97ec-51cb9664e264"
      },
      "execution_count": 20,
      "outputs": [
        {
          "output_type": "execute_result",
          "data": {
            "text/plain": [
              "array(['Karapakkam', 'Anna Nagar', 'Adyar', 'Velachery', 'Chrompet',\n",
              "       'KK Nagar', 'TNagar', 'T Nagar', 'Chrompt', 'Chrmpet', 'Karapakam',\n",
              "       'Ana Nagar', 'Chormpet', 'Adyr', 'Velchery', 'Ann Nagar',\n",
              "       'KKNagar'], dtype=object)"
            ]
          },
          "metadata": {},
          "execution_count": 20
        }
      ]
    },
    {
      "cell_type": "markdown",
      "source": [
        "Replacing the AREA categories with correct names."
      ],
      "metadata": {
        "id": "p1ZHk80VQB8r"
      }
    },
    {
      "cell_type": "code",
      "source": [
        "house['AREA'] = house['AREA'].replace({\"Karapakam\":\"Karapakkam\",\"Ann Nagar\":\"Anna Nagar\",\"Ana Nagar\":\"Anna Nagar\",\"Adyr\":\"Adyar\",\"Chrompt\":\"Chormpet\",\"Chrmpet\":\"Chormpet\",\"Chrompet\":\"Chormpet\",\"Velachery\":\"Velchery\",\"TNagar\":\"T Nagar\",\"KKNagar\":\"KK Nagar\"})"
      ],
      "metadata": {
        "id": "bKCwa9IewTPW"
      },
      "execution_count": 21,
      "outputs": []
    },
    {
      "cell_type": "code",
      "source": [
        "house['AREA'].unique()"
      ],
      "metadata": {
        "id": "fRiM97oNzfZC",
        "colab": {
          "base_uri": "https://localhost:8080/"
        },
        "outputId": "ad433ca9-bf28-470b-bed8-d945cebbbf8b"
      },
      "execution_count": 22,
      "outputs": [
        {
          "output_type": "execute_result",
          "data": {
            "text/plain": [
              "array(['Karapakkam', 'Anna Nagar', 'Adyar', 'Velchery', 'Chormpet',\n",
              "       'KK Nagar', 'T Nagar'], dtype=object)"
            ]
          },
          "metadata": {},
          "execution_count": 22
        }
      ]
    },
    {
      "cell_type": "code",
      "source": [
        "house.groupby('AREA')['SALES_PRICE'].mean().sort_values(ascending=True).plot.bar() # Relationship between area and sales price (linear relations) then we go for label encording."
      ],
      "metadata": {
        "id": "iEEEnAogZslw",
        "colab": {
          "base_uri": "https://localhost:8080/",
          "height": 360
        },
        "outputId": "d8c76f04-d0d5-475d-a9f7-2ed70a6cab50"
      },
      "execution_count": 23,
      "outputs": [
        {
          "output_type": "execute_result",
          "data": {
            "text/plain": [
              "<matplotlib.axes._subplots.AxesSubplot at 0x7f38e90837d0>"
            ]
          },
          "metadata": {},
          "execution_count": 23
        },
        {
          "output_type": "display_data",
          "data": {
            "text/plain": [
              "<Figure size 432x288 with 1 Axes>"
            ],
            "image/png": "[encoded data removed]"
          },
          "metadata": {
            "needs_background": "light"
          }
        }
      ]
    },
    {
      "cell_type": "code",
      "source": [
        "AREA={'Karapakkam':0,'Adyar':1,'Chormpet':2,'Velchery':3,'KK Nagar':4,'Anna Nagar':5,'T Nagar':6} # label encording."
      ],
      "metadata": {
        "id": "N10cqCP3efRE"
      },
      "execution_count": 24,
      "outputs": []
    },
    {
      "cell_type": "code",
      "source": [
        "print(house[\"AREA\"].value_counts(),\"\\n\")\n",
        "house.groupby('AREA')['SALES_PRICE'].count().sort_values(ascending=True).plot.bar()"
      ],
      "metadata": {
        "id": "2MVUbUEZbJ1d",
        "colab": {
          "base_uri": "https://localhost:8080/",
          "height": 506
        },
        "outputId": "da9b5248-5a72-4c51-f731-1a13789b129b"
      },
      "execution_count": 25,
      "outputs": [
        {
          "output_type": "stream",
          "name": "stdout",
          "text": [
            "Chormpet      1691\n",
            "Karapakkam    1359\n",
            "KK Nagar       990\n",
            "Velchery       975\n",
            "Anna Nagar     777\n",
            "Adyar          769\n",
            "T Nagar        495\n",
            "Name: AREA, dtype: int64 \n",
            "\n"
          ]
        },
        {
          "output_type": "execute_result",
          "data": {
            "text/plain": [
              "<matplotlib.axes._subplots.AxesSubplot at 0x7f38e8a948d0>"
            ]
          },
          "metadata": {},
          "execution_count": 25
        },
        {
          "output_type": "display_data",
          "data": {
            "text/plain": [
              "<Figure size 432x288 with 1 Axes>"
            ],
            "image/png": "[encoded data removed]"
          },
          "metadata": {
            "needs_background": "light"
          }
        }
      ]
    },
    {
      "cell_type": "code",
      "source": [
        "house.loc[90]"
      ],
      "metadata": {
        "id": "_3P1XxqtWRPV",
        "colab": {
          "base_uri": "https://localhost:8080/"
        },
        "outputId": "3be81713-2212-49b8-9ad6-1a649af3f132"
      },
      "execution_count": 26,
      "outputs": [
        {
          "output_type": "execute_result",
          "data": {
            "text/plain": [
              "AREA                  Adyar\n",
              "INT_SQFT               1025\n",
              "DIST_MAINROAD           125\n",
              "N_BEDROOM                 1\n",
              "N_BATHROOM                1\n",
              "N_ROOM                    3\n",
              "SALE_COND           Partial\n",
              "PARK_FACIL               No\n",
              "BUILDTYPE        Commercial\n",
              "UTILITY_AVAIL        NoSeWa\n",
              "STREET                Paved\n",
              "MZZONE                    I\n",
              "SALES_PRICE        10934875\n",
              "Age_Bldg                 25\n",
              "Name: 90, dtype: object"
            ]
          },
          "metadata": {},
          "execution_count": 26
        }
      ]
    },
    {
      "cell_type": "markdown",
      "source": [
        "**2**. **INT_SQFT**"
      ],
      "metadata": {
        "id": "MGS2IrQcLHQd"
      }
    },
    {
      "cell_type": "code",
      "source": [
        "house['INT_SQFT'].unique()"
      ],
      "metadata": {
        "colab": {
          "base_uri": "https://localhost:8080/"
        },
        "id": "SWstTMV1LFpj",
        "outputId": "2be20794-8877-4eb1-eef0-9fe699c50290"
      },
      "execution_count": 27,
      "outputs": [
        {
          "output_type": "execute_result",
          "data": {
            "text/plain": [
              "array([1004, 1986,  909, ...,  688, 2051,  598])"
            ]
          },
          "metadata": {},
          "execution_count": 27
        }
      ]
    },
    {
      "cell_type": "code",
      "source": [
        "house[\"INT_SQFT\"].describe()"
      ],
      "metadata": {
        "id": "Fs7FcbTPZjE6",
        "colab": {
          "base_uri": "https://localhost:8080/"
        },
        "outputId": "4b31291d-d3c8-4cb1-e94d-34533eaceb56"
      },
      "execution_count": 28,
      "outputs": [
        {
          "output_type": "execute_result",
          "data": {
            "text/plain": [
              "count    7056.000000\n",
              "mean     1381.316752\n",
              "std       457.860850\n",
              "min       500.000000\n",
              "25%       991.000000\n",
              "50%      1369.500000\n",
              "75%      1744.000000\n",
              "max      2500.000000\n",
              "Name: INT_SQFT, dtype: float64"
            ]
          },
          "metadata": {},
          "execution_count": 28
        }
      ]
    },
    {
      "cell_type": "code",
      "source": [
        "sb.distplot(a = house[\"INT_SQFT\"], bins = 20) # distribution feature"
      ],
      "metadata": {
        "colab": {
          "base_uri": "https://localhost:8080/",
          "height": 297
        },
        "id": "wOmcpM5RPWLe",
        "outputId": "376de2c0-1283-4007-9ddf-466a6e99f83a"
      },
      "execution_count": 29,
      "outputs": [
        {
          "output_type": "execute_result",
          "data": {
            "text/plain": [
              "<matplotlib.axes._subplots.AxesSubplot at 0x7f38e8a1ffd0>"
            ]
          },
          "metadata": {},
          "execution_count": 29
        },
        {
          "output_type": "display_data",
          "data": {
            "text/plain": [
              "<Figure size 432x288 with 1 Axes>"
            ],
            "image/png": "[encoded data removed]"
          },
          "metadata": {
            "needs_background": "light"
          }
        }
      ]
    },
    {
      "cell_type": "code",
      "source": [
        "fig= px.scatter(house,x='INT_SQFT',y='SALES_PRICE') # With Sales Price.\n",
        "fig.show()"
      ],
      "metadata": {
        "colab": {
          "base_uri": "https://localhost:8080/",
          "height": 542
        },
        "id": "-vFyCeqRTNMu",
        "outputId": "176b727c-b3cf-4efd-e7c0-8d909f1ab7e0"
      },
      "execution_count": 30,
      "outputs": [
        {
          "output_type": "display_data",
          "data": {
            "text/html": [
              "<html>\n",
              "<head><meta charset=\"utf-8\" /></head>\n",
              "<body>\n",
              "    <div>            <script src=\"https://cdnjs.cloudflare.com/ajax/libs/mathjax/2.7.5/MathJax.js?config=TeX-AMS-MML_SVG\"></script><script type=\"text/javascript\">if (window.MathJax) {MathJax.Hub.Config({SVG: {font: \"STIX-Web\"}});}</script>                <script type=\"text/javascript\">window.PlotlyConfig = {MathJaxConfig: 'local'};</script>\n",
              "        <script src=\"https://cdn.plot.ly/plotly-2.8.3.min.js\"></script>                <div id=\"456c36f7-86ec-47f7-9483-abf1c002cd28\" class=\"plotly-graph-div\" style=\"height:525px; width:100%;\"></div>            <script type=\"text/javascript\">                                    window.PLOTLYENV=window.PLOTLYENV || {};                                    if (document.getElementById(\"456c36f7-86ec-47f7-9483-abf1c002cd28\")) {                    Plotly.newPlot(                        \"456c36f7-86ec-47f7-9483-abf1c002cd28\",                        [{\"hovertemplate\":\"INT_SQFT=%{x}<br>SALES_PRICE=%{y}<extra></extra>\",\"legendgroup\":\"\",\"marker\":{\"color\":\"#636efa\",\"symbol\":\"circle\"},\"mode\":\"markers\",\"name\":\"\",\"showlegend\":false,\"x\":[1004,1986,909,1855,1226,1220,1167,1847,771,1635,1203,1054,1196,1056,1865,1639,796,1136,1902,1069,931,2010,1074,1972,1685,1130,1301,730,1806,1981,868,1721,1755,1709,2114,1226,1648,856,904,1198,931,1290,507,2492,851,1710,1412,779,1655,940,1667,1926,718,545,1249,1894,1469,916,934,1691,1236,1577,1915,1600,1579,1260,1021,2174,668,1724,890,1218,1792,1378,898,1928,1233,1618,627,1563,1693,1522,1090,1687,692,1518,1025,2170,969,1546,1709,1659,755,1182,735,1089,1534,1622,2198,1293,1641,1950,1245,905,1496,1892,1517,1755,1622,1092,821,1694,1809,1401,1470,798,764,1135,939,1586,1973,1023,884,1640,622,1880,2413,1649,1729,711,885,1688,1236,926,1686,1344,1437,1081,1352,1986,1758,607,2139,1488,1645,950,928,1693,1873,721,1190,1593,786,1195,1906,656,727,931,1898,1698,1926,1481,1506,1020,889,1015,1682,869,1445,1919,1243,857,1055,1778,851,1021,2203,613,1489,795,1909,1252,1077,1524,1049,1780,946,906,2344,929,1843,1918,1507,1499,1526,1855,1627,1846,2019,1780,662,1005,839,1698,878,835,911,1796,1004,1694,1244,588,2342,1835,1977,1961,1517,2409,1864,1643,1015,1700,624,980,1003,1072,808,1027,696,1716,1878,1699,1626,1730,996,1277,906,1976,1402,1160,1957,1887,1859,747,985,1024,1600,1276,1159,1024,839,1286,2467,653,606,1837,1880,2189,1853,1057,723,1812,1788,1615,1755,1296,1554,1737,785,1678,2360,1464,1755,1556,1170,901,1160,1570,1476,586,1059,1712,847,1192,1942,557,1728,1798,1497,1173,1640,1747,1342,2000,1987,1567,1188,737,785,647,1171,2435,1805,1145,971,1657,1638,1284,1273,1185,1538,1929,1656,1287,1749,1962,1425,884,1052,1756,523,1524,1949,1263,1917,1401,723,1660,895,1889,1199,782,1571,1848,1131,1062,1983,1572,1535,1818,2189,1203,1610,863,985,1623,1019,1575,802,1846,759,2060,1503,1853,1739,766,857,1887,1502,1568,918,1289,1941,1730,1513,1762,1970,1702,1726,1243,1550,1830,1435,1729,1572,1145,1043,1332,608,676,1685,658,1008,1924,2112,917,1694,1625,1882,1924,894,904,1279,1547,626,1673,1296,2194,1678,702,1067,980,1989,1257,1069,606,1449,1154,927,1613,1851,1511,1765,1238,934,754,1736,980,1299,849,1634,1320,769,1150,908,1668,1990,1857,2061,1668,1444,1121,1514,1256,672,908,1631,1001,1618,2340,1159,1775,1008,1563,1723,1543,1231,1995,2113,1849,1095,1057,841,693,1666,1517,1854,789,760,1137,1687,1662,1065,1621,703,1221,1577,989,1368,2365,1525,1180,1122,1775,1877,760,2297,787,2317,749,1616,1284,756,1238,1236,1664,1537,1731,929,786,1370,1685,1549,1539,918,774,1072,1239,1362,1785,2181,2033,952,1066,1153,1849,1095,1100,1300,1806,1897,1121,985,1782,1582,1225,1727,1712,1089,1532,1301,812,863,1686,1332,969,1300,593,809,1105,542,1608,2271,1915,2152,1068,1810,1939,1905,1057,1920,1577,787,1916,1527,1248,1555,2323,961,849,1938,1147,1976,973,1472,1689,1208,1268,1640,635,1996,2404,1675,797,1256,1938,757,520,878,927,1751,764,1674,1681,1976,1505,888,1680,631,1227,1124,1962,1261,1164,1313,1723,1144,1740,1163,708,1855,563,1768,943,931,1127,1629,1656,1676,856,1663,1905,861,1183,987,1245,1144,790,1736,1950,2186,843,1022,2397,1083,923,1958,631,1829,2228,1969,1128,922,1141,1537,720,2175,1152,2278,2460,1940,693,966,898,918,1918,2333,768,783,1661,958,1276,1877,1845,1533,1257,1353,1672,1097,1986,1083,1218,1903,860,1003,1078,1133,1494,626,719,921,1867,1010,1404,1305,1647,1433,925,964,571,1828,1595,615,919,1018,1578,1660,796,2416,760,1767,817,630,833,740,1520,769,1638,1857,924,600,1964,1678,758,1110,1782,1282,913,1545,971,605,1014,982,1651,1288,1661,1578,1937,1403,968,1628,1287,1438,1351,956,1177,774,1207,1561,1156,1852,1190,1823,1527,581,519,1290,1274,1041,908,1525,1984,1537,1806,1152,1288,730,1730,845,1776,913,1124,766,665,762,1833,1754,875,1392,1853,1576,1022,1640,779,1729,715,1562,1203,1825,1707,998,1675,1792,1574,1070,1125,1971,1361,1786,612,1596,1644,1041,810,837,1884,1063,1298,1867,1575,1463,1164,1805,733,1197,2069,956,736,1050,2047,632,871,811,1087,1170,1843,1783,847,979,1607,775,1830,961,1925,1301,1041,1593,779,725,1717,1248,1223,1925,907,1089,1574,1335,1876,2455,1280,2169,1897,975,1876,1931,1793,1618,1582,1050,1938,1894,1780,1636,1864,2478,725,1627,1652,1996,1463,1302,1294,1685,1790,1036,1688,1707,919,1528,1746,1885,1135,871,831,1216,1728,1677,1463,1739,668,1878,1780,1513,917,2157,730,1912,2411,1854,2075,1239,890,2471,1303,947,2271,1610,808,1626,1596,1653,1609,1503,1232,1838,1511,1072,1291,1771,709,1886,1540,1712,853,890,934,1113,1183,527,996,1730,1697,2260,1754,1633,914,2457,1946,713,1179,1770,1833,2335,1122,1866,1635,1514,1242,1861,1650,1802,1594,1217,1926,1143,1129,937,790,1215,604,1672,2382,1324,1198,1347,1845,1569,1548,1143,1127,585,1823,1891,1781,2328,1958,977,797,700,1483,843,1464,858,1927,1664,1293,1681,1073,916,1617,2223,877,802,2057,1990,975,1537,1502,1016,1502,1497,850,1940,1523,711,1671,1293,1615,1526,2296,1600,1122,821,1678,587,613,714,596,1804,1058,884,2321,1603,715,1397,1604,1533,1744,1097,748,847,1535,1558,1696,1868,591,1539,1594,1074,736,904,802,1445,1623,1978,1546,1673,2334,1114,776,1675,1590,1639,1712,1118,792,1190,1243,1657,1008,1658,1381,929,1166,1239,1231,1973,2244,1577,1854,1109,1801,1257,531,1380,1758,1777,1943,1964,1777,1751,1573,1438,925,1280,947,1981,1554,1762,1835,1351,750,1598,1856,1584,852,1650,1606,1152,1763,1969,994,1566,914,1757,1241,1926,1531,928,1716,1637,1286,1694,770,1677,790,1115,1723,1013,1143,1676,960,1849,850,935,1247,1420,989,1227,1626,787,1576,594,991,684,1717,1195,951,825,2498,830,1459,820,1647,847,1863,1080,1292,1883,1748,1621,2061,1521,839,1296,1027,1921,855,1857,920,1781,1658,1611,1339,876,1880,1227,918,750,1631,782,1258,1536,643,919,1180,1167,1698,1051,881,1042,1954,919,1287,1793,1814,1889,1642,1910,990,1842,825,802,858,1499,1828,717,504,1823,1721,1734,787,1265,1967,1008,1120,1100,1098,1470,970,1432,790,1149,762,847,1954,2232,1587,1891,1916,1622,1812,1010,1526,775,1239,1538,1853,1536,2241,1709,1282,1319,994,782,2235,650,1677,684,1128,1360,895,1227,1720,1003,2114,973,1655,910,840,1835,1001,1646,907,809,1278,1051,1054,971,1956,1921,947,1514,1125,1394,1609,1916,1015,835,1617,1901,1548,1660,890,956,1841,1280,1636,2204,1203,1122,1574,1374,1746,1370,1362,1897,1020,897,1023,1344,1689,1764,1820,987,1688,1908,1078,1637,1019,1198,1002,1088,1703,946,1983,1112,700,1956,1666,1959,1276,1079,2357,1988,1257,1827,1661,939,1607,1829,806,784,1540,1794,1875,1494,1921,603,1479,1574,730,2450,1379,1621,617,508,1485,804,917,1729,1102,1826,1864,1776,1091,712,795,922,1473,1699,1026,1570,1479,2380,704,1325,1558,1133,1866,936,1657,904,924,2031,1945,1297,2179,996,969,1506,1095,1329,1130,1299,514,1738,1782,749,1267,694,1175,1846,1428,824,1637,2189,1128,1213,1984,680,1508,1538,1723,1161,1676,1749,2199,1101,1240,1266,1021,1713,1563,889,1925,1791,910,2450,1763,1170,1294,1386,1506,1830,744,1298,1615,1964,812,1270,1045,1093,934,1617,1994,1759,1968,785,1956,1042,1566,1380,1047,975,1036,1960,2438,1752,1272,784,2461,911,2330,1673,1966,850,1622,1938,1867,791,1958,1601,1617,1015,1572,1924,1848,1238,1556,1543,1534,1635,1450,1117,953,742,820,1895,1717,790,1885,1749,734,1624,953,967,961,1034,1940,753,755,1971,1026,1375,728,1807,1333,1093,1191,1984,888,1100,1294,1904,1045,1253,1472,1765,1634,1823,2404,985,826,705,987,1625,1729,1791,1019,1212,1234,850,662,1555,1711,1064,816,1252,1917,1013,1080,627,1058,951,575,737,706,1109,1211,1450,1277,1568,995,1304,561,831,1811,1563,1107,910,1512,1061,1851,1655,895,1192,1670,1532,1896,1296,2045,722,637,1519,1107,1788,923,1261,1773,1104,883,1639,910,1572,1854,1219,1033,861,963,1537,1579,1925,1584,1829,1761,1204,1165,1109,818,1600,1170,1288,1598,722,798,933,1086,1952,1052,1786,1652,1607,1229,1902,1677,979,655,947,1882,963,1055,1390,1599,1591,1265,870,1122,613,1670,1338,1319,1710,1938,1058,1251,1710,617,916,1027,1223,1422,1081,1603,1762,1219,1953,1208,849,522,1610,1945,884,668,740,1158,1840,829,1650,1663,1913,1963,1806,1630,1016,1823,1185,1478,875,2087,1970,1645,1856,1782,1465,2439,1693,1737,1111,2485,1568,512,958,1565,1706,1616,1531,1636,1997,915,1046,1465,1399,1126,1368,709,1550,1882,1538,1881,641,1912,1194,1502,1649,854,2388,1381,838,1684,1740,1918,669,965,1899,1553,976,1628,894,1734,662,994,1033,1462,1662,1865,1042,828,850,1562,1425,1813,1973,1558,1702,1781,1538,1906,1782,848,737,1512,1956,1402,779,1625,1724,2277,1692,1184,657,942,1535,966,1294,2042,1110,819,1132,900,2486,896,1749,1252,1234,2306,814,878,1053,1809,1871,802,1191,1025,1392,2499,1290,1760,1279,816,1904,1502,922,1781,645,1142,1674,781,1274,687,1886,1598,593,1815,1121,1182,1864,2125,955,1625,864,1183,938,1040,849,914,1156,830,1655,1693,1014,1148,2453,2167,1404,1545,1634,1268,1682,1787,1337,695,1930,1042,1613,1270,997,726,1853,1591,1980,2226,808,1376,1868,1311,805,706,1464,648,1917,1018,1694,1112,950,1282,1639,1501,765,1765,1518,2417,1070,1784,1188,1494,1810,738,1564,1211,1662,1530,909,690,780,1195,1428,746,921,607,712,2312,1809,1872,2286,1648,1522,919,1858,1082,1338,1559,860,1769,1197,1971,1966,2176,1519,1892,786,942,1344,943,1098,1190,1590,1040,1524,1132,1699,1204,1003,1610,1869,1676,929,1265,1585,729,1882,912,2147,898,1979,1398,942,1504,821,1045,1149,1666,1210,1523,891,1955,1191,1641,740,1588,1272,879,1228,946,867,1932,1617,2179,1040,950,1354,1739,935,1484,2182,1711,886,1760,1283,1155,752,1888,1211,1248,1892,1030,1254,1762,1622,951,1981,1628,797,1587,1081,1895,973,844,965,1742,1304,1510,1888,1540,1023,798,1624,1612,1723,950,1919,1528,1081,1002,937,2372,1237,1242,1700,2422,801,1503,1549,606,1277,791,1878,806,1543,1363,1584,1794,704,1531,1003,1010,1794,1756,1188,1164,1851,1176,1503,1621,883,1257,552,1803,721,1573,723,1148,1513,951,2449,1597,1058,1438,1616,632,953,1714,1334,1770,1098,1010,1195,624,1272,1324,2424,1438,701,1236,1744,1078,901,1669,1073,1273,1235,1400,1598,1819,902,795,1763,1848,1288,1615,1026,1598,1896,2276,2407,1083,728,1894,1595,1274,1760,969,1652,1211,958,818,958,1091,1066,2371,1451,1985,1853,1841,1767,1147,1232,1264,898,743,1064,980,1780,1665,1852,1231,1413,2443,1071,1614,1302,1923,805,1586,1883,1582,1109,968,1687,1754,1766,1656,805,726,1228,1995,931,737,1762,1726,1915,729,1653,1261,1744,791,2199,1915,857,1853,1701,963,1889,1544,916,1175,1966,2292,1781,1075,1056,948,1002,823,856,1432,742,1743,2311,1055,1641,690,756,1704,680,1734,1033,757,1912,845,1275,1173,1502,1187,1889,1853,603,2172,1507,692,1897,1607,1607,1853,1121,2279,729,794,800,1292,831,1850,1454,1053,1115,1498,992,520,833,1114,753,1705,934,1101,1104,1085,1015,1389,1179,855,897,1762,726,1285,940,1914,1285,707,939,1911,1697,740,1210,1467,1412,1124,1996,1632,1021,1448,2450,941,1412,1153,1690,1307,1635,772,1438,1505,1635,1631,1585,1117,1296,1238,1859,2239,1771,626,978,1586,812,1436,1019,1203,1027,1974,1746,1711,1918,1083,826,1624,1122,1906,849,1793,1936,1956,1778,1075,541,1166,533,738,1771,1687,1970,1620,668,1542,1551,2221,1522,1539,1866,1874,2097,1159,1438,863,1292,1691,1894,1174,1838,1582,1951,1237,1989,1129,768,1056,1585,1789,1869,520,738,1914,1576,869,635,1875,2344,1804,985,1589,1390,2435,1145,714,1174,1936,1477,1017,943,1515,1071,1937,2440,892,1951,1452,1605,733,616,1525,1577,1002,1792,721,1530,723,840,1254,1129,1272,1085,1922,994,1798,1544,1740,1676,1209,1397,1028,1063,648,1732,1100,1182,2137,1298,1581,1520,785,1929,765,2215,1599,1320,1527,803,778,1917,1762,1662,691,1142,965,1793,1021,1097,1753,1941,1067,733,1856,961,681,1550,1766,983,1638,2092,942,1627,932,715,1140,1658,1112,1584,1894,791,715,2495,1015,1125,1964,1975,1759,1222,1587,1992,2458,837,964,1170,1823,1159,1288,1724,1130,1977,633,1237,1599,969,1292,1229,768,1878,2134,682,1815,1687,535,1109,1333,1987,943,1633,1513,1910,1581,1239,1414,755,826,1582,1454,1226,949,1875,2152,1252,1601,1515,1638,1979,1647,1158,2323,1901,1252,1891,1816,1369,1167,1781,1512,1611,1856,1539,1965,788,848,987,1021,1282,1254,1511,920,700,1929,1820,2039,935,648,2034,1543,2366,876,1422,1877,916,1462,859,1098,1326,1866,1032,579,1366,1830,1912,1748,2415,1887,642,1210,2111,1574,1525,801,1642,1382,1901,714,1952,741,1786,1047,964,627,921,989,1217,1209,1600,740,1295,1005,908,1260,1052,1718,1286,765,1206,2268,1300,1010,1062,1755,1157,2398,1083,1730,1682,1610,1460,972,1116,771,2453,1580,1202,997,1914,1297,1576,1603,976,743,1949,1992,632,1275,1847,1953,1966,1257,1028,592,797,1866,1783,1189,1089,1892,1775,737,1601,2447,1539,1970,1282,1661,1529,1777,1596,812,964,1902,1973,2443,1679,871,1890,1507,1906,1880,770,831,1152,1277,1633,991,1387,1017,1643,1079,842,1542,876,770,941,1000,1258,787,1186,1335,1827,881,1253,1754,724,944,1078,1871,1861,1069,1861,876,1216,2144,1675,1721,1719,832,1218,1178,1551,1562,1700,1263,1664,1073,632,1874,884,657,2403,1001,1734,743,1244,1789,1025,1778,2000,1128,971,1941,972,700,1005,1938,892,1848,982,780,968,1285,755,1930,865,984,1019,662,644,1496,1422,1804,768,1079,1696,1669,1230,1286,1474,1869,1403,1253,1633,1882,1268,1756,1692,1108,2399,886,1684,1779,653,1148,1026,1734,1921,1047,1826,1189,1316,948,1708,653,1976,1996,1928,1837,902,1614,754,1977,1602,1779,1816,817,1875,913,2078,714,795,831,718,2381,727,1136,1597,1598,1673,986,1973,1988,2006,1306,2366,1178,1805,1749,1444,896,718,1254,1755,1619,1820,973,2182,1940,661,1667,1204,1653,844,668,923,549,1060,1842,717,701,1035,1614,1853,1413,1625,951,774,1276,2273,1711,1260,1786,679,1233,1009,931,1649,2197,1233,951,1082,1068,1845,1524,1999,655,826,1212,1685,1942,1898,1467,1714,1104,1081,765,930,698,1478,986,910,1505,1159,873,1000,1554,1368,2101,743,1883,1849,772,963,1939,993,1830,1774,1543,1470,1673,1779,1999,835,1251,1996,1705,1504,713,1618,743,1255,1600,1031,593,1429,1505,1898,1003,1902,705,1591,1524,1611,704,1453,1562,1671,1802,961,1116,1544,1694,2016,887,746,816,1197,2180,1975,873,1305,601,937,798,1884,1636,1615,1565,1703,1693,2280,1051,1266,1348,1005,1589,1182,1273,1596,1676,1240,848,1464,1329,1842,810,1795,1791,611,1192,1071,1176,1101,1146,918,2331,2419,1422,1667,1634,1587,1641,1673,1901,1859,1034,832,1577,1682,1652,1793,1116,883,1589,981,1222,1337,1535,1538,1376,1975,786,1094,2293,1554,1520,1761,500,1500,715,1901,1235,1797,1943,901,1685,1784,1602,1665,1932,801,1705,845,1943,1262,1881,1611,1969,878,1037,1187,1361,999,1020,1651,508,812,1697,1063,635,1540,1123,774,816,814,1241,1768,786,1592,1552,1220,1628,1787,1903,1989,1870,1939,1261,656,1661,1972,1730,887,1673,1548,1227,1004,1509,1092,1982,1217,1649,592,1237,1156,992,1302,1796,1001,1930,1530,1819,1502,1781,1132,833,1223,1738,1057,671,1072,1375,1122,1526,614,1192,1220,1970,1315,705,1222,1836,739,1430,1901,1630,1798,900,1911,659,714,703,565,1151,1541,1509,1706,983,1189,2325,1024,1997,1888,887,1162,1124,2392,1256,1611,1399,1738,1843,920,1804,1272,1690,1502,710,1060,952,1240,1540,1991,560,2419,1812,2415,1047,954,641,1591,1815,1027,1181,1998,1161,643,1885,674,884,1014,719,792,2085,1048,1069,868,862,1658,1814,1512,2330,507,863,1622,796,596,945,840,1799,1769,1354,1979,1168,1944,1122,1666,1977,2237,1760,1159,874,1082,1079,1112,1188,1878,1642,1032,1657,1060,782,1958,1511,1177,2427,916,1910,877,1781,1688,500,1597,1670,2211,527,921,1631,1624,1767,517,828,1328,1734,804,1919,1694,1767,1612,1407,1229,1674,1523,2259,1146,1885,1712,717,1101,2158,823,1530,1817,1311,819,1559,532,1182,1957,1136,1337,1899,895,1666,1924,968,813,1259,1555,1033,1275,1916,714,1488,1591,1075,1603,1852,1504,1950,1279,1931,1066,651,809,1363,897,630,678,740,1507,999,1632,1162,2042,1321,661,1275,1991,998,1904,1655,1644,1804,1216,1716,991,1078,1836,1223,1655,1192,732,970,1060,832,1990,1919,1994,1296,704,1321,1070,888,925,880,805,1777,1703,1899,1169,819,1814,711,1669,1028,860,1266,1906,2178,1300,1614,1175,1294,835,1964,1754,1866,1898,798,1626,1657,1766,661,2442,914,885,1983,1522,1970,1572,1507,1330,1373,1118,1591,1404,1867,2479,1768,1650,1035,936,918,785,923,1592,1350,1245,1563,725,2442,1110,559,1708,829,1744,1649,1323,1864,1514,1669,1993,1459,2136,1165,1132,813,815,1277,1028,1572,1507,1002,1023,1506,1348,1125,1066,1797,1459,604,1808,732,1205,712,1710,1154,1783,1221,752,1906,1119,865,1224,1520,1070,1719,752,1624,1590,779,1789,926,998,887,721,1784,907,1997,1933,1953,913,1060,1601,1703,1812,1145,1678,1262,1138,1943,1277,1639,1580,1900,698,1033,1969,1847,1563,1756,1698,1689,1680,1170,1030,1338,1217,1984,2322,1691,1689,1703,1828,1545,1686,1136,1997,878,1057,521,1457,1021,1519,724,2004,734,1770,814,1486,1215,973,869,640,969,1609,1689,1917,1178,1530,1622,1013,1244,1840,1930,1942,1722,1182,1246,925,1434,1081,794,685,2025,1581,1731,1243,1184,1704,961,610,640,1650,734,717,1419,2055,1010,1011,1806,1225,1252,1913,1729,1717,1091,1629,1724,1198,1329,1634,979,1749,1446,1034,1722,1978,1529,1074,2341,1229,1215,1648,1795,1889,1527,951,1993,2329,1094,1796,946,1697,1813,1656,1738,1155,768,1818,1199,1658,2034,1899,1621,1660,1037,868,783,1642,1618,1645,1150,2186,1911,1058,1720,1719,1191,1903,1039,816,1848,931,2062,1894,1474,968,1827,709,1983,1464,1290,558,1863,1199,1631,1576,1148,1792,1808,1877,1760,966,979,1044,1180,1095,1202,691,1313,625,1933,681,636,1718,1086,845,1774,1730,1180,1607,1182,1539,1636,1088,1229,848,1209,2041,618,1750,1816,793,1737,658,1219,1272,919,1741,1984,2202,630,1344,915,1884,1989,730,1081,1198,927,1611,655,1634,1762,2049,1711,1807,591,1827,789,1299,786,1726,1790,691,1405,1009,1525,1847,1250,804,2117,2018,942,777,1695,902,1904,1536,827,1553,768,1245,1662,1958,2281,1908,916,1101,1518,1049,736,693,1802,888,973,663,700,976,2283,1301,1261,2365,958,1587,1977,1137,865,1125,1635,2345,1072,2416,1720,727,1970,1891,1227,1253,1278,692,1186,1881,898,1661,1536,726,961,1356,882,1558,1440,691,1255,1009,1065,1065,694,1045,730,1871,994,1754,2224,836,1399,1950,1519,1605,1230,584,1590,1734,786,701,783,1739,1127,919,902,838,1026,1346,1764,825,1542,1869,1291,950,680,1579,1047,1660,835,1883,1109,995,1747,1529,1034,1302,654,1020,506,1955,1653,1820,1508,1292,1922,584,1839,1879,1199,1181,1068,1686,2242,1259,1843,1924,1144,542,1515,630,1671,1047,1595,1299,1626,801,1089,1955,1708,1697,1975,1966,1791,1890,967,1711,1583,1274,1356,1144,1129,695,867,1501,1896,1449,1700,1829,1178,1460,1807,1103,992,1268,1890,670,1236,1256,1071,1217,1488,2162,1623,1585,2237,1662,819,2348,604,1849,1617,1733,802,1081,1243,1430,1707,1317,1128,2458,1091,1795,2481,1095,1759,1774,2314,1695,1099,1547,927,1966,1541,1978,1208,659,1834,792,1262,767,1225,732,1647,1344,807,631,1775,753,1952,1021,1126,2397,1059,1625,1080,2254,1696,1943,1499,1782,1505,2050,1665,1391,1797,1514,786,1991,1814,504,1215,1934,1691,1294,2268,615,1640,832,1919,1788,1674,723,990,2219,1167,1566,1053,1781,2470,1612,1418,1032,1430,812,571,1709,1128,1731,1620,1581,1672,1266,1298,1952,2386,1058,987,1256,1824,796,1031,1114,1567,1282,957,1510,1005,1824,837,1103,1386,1588,792,1241,1571,770,1707,1840,972,1000,1888,557,1180,1219,943,1133,1153,1618,1246,2389,2227,1853,926,1517,1721,1231,1090,1590,1353,1610,1883,1029,1285,1210,774,940,1893,857,1563,1634,1483,1902,1638,1877,751,1873,1021,1448,720,1514,2347,1816,1615,1941,2227,1119,885,1417,1278,1050,1706,774,1751,729,1142,1668,857,1774,897,1838,1000,1209,858,767,1624,579,881,722,1837,1296,1624,1630,1257,1163,1652,1566,1669,1009,750,2149,1818,1623,1602,1143,865,1880,721,1510,1025,762,1609,869,1109,928,1747,1526,1922,1366,731,1886,1754,1236,1291,1744,933,747,1574,1290,1574,932,1047,1957,1511,1761,2287,1749,1550,1766,1540,1874,1454,2461,1528,823,1389,765,1244,1566,1539,1283,1132,948,589,1025,885,758,663,1530,1948,940,1532,1894,1373,1528,1826,1132,1955,1036,1504,1826,1609,891,1665,1965,1157,2064,1181,1653,2282,1531,1629,1081,1041,1175,810,1722,1475,1522,1286,1803,866,1178,1626,1589,1165,618,1144,1201,879,1501,1289,1741,1585,897,1172,1321,798,1808,934,961,962,1778,1756,1023,784,1485,2177,2088,1181,1308,663,1975,749,1727,2158,1157,1832,1138,770,1842,1882,757,1884,1729,866,919,1587,1282,928,898,692,1972,2079,1486,1742,1936,1214,1257,841,2255,1605,1188,1213,731,1781,702,1949,1857,1904,1199,1228,1786,1953,1287,1369,1771,1082,1636,602,1854,1655,698,1101,785,1135,1308,924,508,1725,1665,1868,1951,1665,1537,912,724,516,1764,872,887,1080,1045,1530,1132,2365,1781,1138,2375,1115,811,1586,1103,939,1727,1672,1581,1781,1668,1263,819,1145,1074,1707,2145,737,1178,1261,807,1167,1575,1177,1069,679,642,1850,1692,1788,817,1639,883,1827,1986,1958,870,1662,1835,1270,2292,1028,1865,981,916,1908,1936,1926,1083,1780,1707,900,1519,1934,1043,704,1539,1279,1568,2011,1566,1812,1729,1569,2068,1869,1271,1527,601,1206,1878,884,728,907,1534,2038,1512,695,1581,1238,1173,797,1684,1974,893,1026,1812,1282,2449,932,1564,1566,1266,1945,1649,1081,1889,779,984,2495,973,1986,1829,780,843,913,779,1725,2374,778,989,1624,1989,1381,923,1034,1794,2471,1085,2070,959,1341,1377,1862,1594,1016,2321,1242,707,707,1120,774,1083,767,1725,1194,1052,667,1369,1952,1228,1236,1988,1018,2120,1602,1916,893,1968,1424,755,1643,749,1960,1845,2092,1644,1932,1861,1016,734,1304,698,1476,1219,645,1532,1640,1799,991,1890,1159,948,1761,1645,934,1612,1773,1193,1350,1929,1959,626,1758,1677,1538,2148,1098,1146,1796,1578,1207,1125,737,1483,1423,1812,1028,1951,1215,1275,971,1323,1527,1978,1041,1062,1407,1905,1226,1198,1249,1310,2234,1032,1666,1212,897,919,1842,1895,1305,1373,1860,1808,741,1634,777,835,1950,833,1778,1541,1615,1683,1901,1629,1030,1733,765,920,1035,1994,1158,2019,1488,1704,1139,1138,970,1781,573,1583,1261,1138,1704,830,1913,1671,1586,1149,988,1142,1014,1770,643,1527,1597,894,929,1210,907,1370,1229,2471,1231,998,833,1141,1089,1989,1618,1571,1181,1495,1451,1273,1435,1707,1080,1634,1995,1584,1112,1232,1857,2428,837,1155,836,1836,2074,2260,970,1367,996,1686,1140,1538,1570,614,1151,1317,1904,947,997,1669,1820,1834,922,2289,2041,1628,805,1130,1622,1873,1759,1662,1230,1087,1265,740,1963,908,1076,1869,1228,1670,1245,731,1634,1597,1650,1849,879,2459,1940,547,928,505,1574,1037,764,1180,1110,1898,1484,888,1232,1977,1929,1251,694,889,1156,1607,1986,2340,756,1253,1954,602,1719,1503,825,1914,998,790,1166,1794,1606,1813,878,1573,1819,537,1538,1985,1794,1263,818,1833,737,1820,836,1073,1203,1300,1514,2252,1214,1554,1764,1675,912,822,1917,1850,1723,679,1064,1907,1898,1669,1593,1744,1759,671,723,1445,671,1839,1589,1832,1000,1822,1135,772,1160,1163,1057,948,1163,1643,1946,1268,2242,1085,1984,787,654,1685,1963,2326,576,1256,958,1823,2284,1705,716,917,1991,1676,1860,1591,1154,2015,963,1565,1699,1142,1268,1731,1898,845,857,1540,1226,619,1657,1503,2478,1572,2456,1819,842,1156,1564,874,2163,977,1880,1667,1784,1252,1833,1599,1863,1779,1923,1280,1333,1128,1829,1344,1538,1545,1279,1116,620,857,1101,1087,1993,1770,1927,1740,1878,1777,1794,1863,1582,1256,1715,1952,1238,1128,545,1939,990,1031,1724,1143,988,2019,1384,2174,1000,954,1844,902,1212,930,746,1635,754,1229,1083,1431,1670,1667,1861,2000,1997,1949,1713,727,1276,1702,1785,1632,1243,2191,2153,720,905,1107,772,1806,1162,1558,1269,838,1281,1517,1344,1705,995,818,1705,1604,1238,694,1908,667,2242,773,1524,791,1403,1211,730,1016,1574,1185,1437,1995,1195,1055,1951,983,1956,1558,947,740,1001,2127,1421,1947,788,1721,1858,806,850,713,2166,1921,888,1831,1613,695,1984,787,2208,1334,1267,1530,1458,2372,1521,1005,945,542,1204,1072,2496,1082,1518,1180,1525,1732,1841,1745,974,1797,1698,937,1152,1588,987,1616,1536,825,1722,1651,1983,1519,848,1865,845,778,1735,1900,2062,1810,830,1775,1365,1489,1576,660,1733,1346,1075,974,1051,1821,1037,1505,1195,1236,1376,1920,1214,602,1122,1532,1337,1703,1310,1533,1013,1942,976,1097,1363,1153,1904,860,836,1969,1898,1026,1919,1408,2113,1547,735,1267,793,1608,1236,1209,1703,1149,1402,1531,1959,1082,1555,2120,1735,1067,2356,833,1785,786,1702,1032,1685,768,778,2183,2472,1797,1129,1809,1299,1211,1690,2496,876,2199,1027,1905,1704,780,1756,958,736,1501,700,1716,825,1195,1651,706,1566,1356,1621,2271,1055,1896,1354,1337,818,1871,1532,1507,695,1264,658,1085,1632,1995,1244,1695,1814,1131,1699,919,1674,733,990,1003,1594,1767,981,1967,1927,1526,1520,1743,1790,1396,982,2311,936,1817,762,1817,1250,2053,936,1849,1620,896,1143,1052,676,973,1276,1549,1769,1294,1284,877,829,1596,1222,2331,1048,903,1182,1591,829,1137,1914,1944,1677,1933,2483,1549,1689,1691,1367,1345,1539,1214,2017,1745,1822,1617,737,1261,1238,1477,993,1637,1163,1399,2218,1817,1931,891,1985,1721,1171,1479,1313,1890,1067,1275,2283,1630,1275,812,917,1191,757,1713,1542,682,1609,1976,827,1182,1078,1991,1578,1119,859,1682,1451,2258,860,649,1924,1868,1121,2358,1836,1398,1359,1126,1038,1907,950,1662,1837,1038,1572,1163,869,2375,1128,1657,1078,1500,834,1838,726,1531,1559,2395,853,1879,636,658,600,1686,1548,1474,1825,1030,1030,1479,1635,1814,1725,826,1082,1468,1226,1108,1614,756,936,1112,1803,1001,1636,1068,1646,1762,1887,1536,986,1108,1002,906,1438,1416,2349,1850,909,1874,1084,807,1272,944,1289,1222,1781,1944,1822,1550,1091,1515,893,930,715,1211,1158,1836,807,1129,1000,844,1601,835,1809,1074,1782,1706,572,831,2112,1960,1776,1050,1725,878,1018,1011,1307,1835,1262,698,1087,1923,780,973,679,964,640,850,1970,1470,1105,2198,675,1326,932,501,1072,1648,1745,1616,1605,1094,834,898,1864,2097,1459,1459,1912,1842,1627,1014,1537,1614,1516,806,1129,941,1166,2241,1300,1145,1865,1168,827,1185,1151,616,700,922,1505,1208,1400,1205,818,1789,1098,2035,1243,844,615,1854,888,657,1283,1715,1655,1013,763,1881,928,1149,1255,1160,1544,1058,1765,864,1374,1072,1087,1645,895,1587,1531,1689,613,2494,1545,1550,2318,2481,1552,943,1635,1121,1241,1869,1264,1558,765,950,1248,901,1410,2263,1745,2100,2414,793,1502,748,788,1341,1571,944,1206,1465,707,1968,813,586,1671,1740,1633,550,1267,916,1872,1148,1840,586,1121,2430,2256,1280,1184,1775,1062,823,1626,774,1627,2078,1740,630,1474,1114,1188,1273,1884,1550,1208,1231,914,1578,938,2240,1595,2438,707,1697,2049,1775,957,1592,2317,742,763,1738,791,1662,1794,841,702,1009,1522,1274,2175,2101,837,1845,1245,1510,1562,792,1124,1917,1910,1151,2158,1464,883,532,1925,1067,801,1536,1505,849,1514,1181,1773,1906,1061,1520,1564,1900,1120,1147,1087,955,545,1494,1649,1297,676,1523,1704,827,897,1024,1707,1838,1680,1617,927,873,1841,712,1860,1774,1781,1351,2263,1956,1199,960,1053,1944,780,1868,511,951,1150,1758,703,973,1128,578,1669,1096,1595,1825,1298,1812,975,1830,1054,1852,1057,1616,1500,750,1262,1700,1605,1192,1199,980,1539,824,1124,1397,1419,1214,1512,574,1446,1138,1773,879,1744,1751,1541,1625,675,543,1087,1083,2451,1562,1600,1216,1333,1564,1366,1245,1314,967,1511,1067,1005,1148,1501,1559,1942,1536,1833,831,1785,935,2409,1760,1920,1352,708,1798,901,1270,802,1094,666,1655,1622,2364,1442,1614,1567,677,2333,1270,1022,1000,1429,1515,888,712,1685,1483,990,1157,1350,1702,1779,1356,713,969,1324,1156,1327,1117,1284,1983,1264,1649,1245,1422,634,2052,984,1808,1266,1910,1527,1124,1654,1722,833,529,1640,1271,1628,1553,633,796,1794,1726,1644,2471,1122,1906,1420,1755,1686,2053,1772,918,861,1091,1093,1860,1908,1555,1139,982,875,1631,1615,942,1537,961,1901,641,1538,1188,1068,1034,619,1762,1100,1860,753,1636,2074,1533,1530,825,1794,1267,1891,1896,1223,1724,1072,634,1767,1273,1275,1047,1597,1586,2327,2008,1303,846,1428,877,1751,1738,985,766,1196,1128,1092,1973,2447,1736,1559,1708,517,1403,1085,510,1291,1961,766,1169,1401,946,829,2276,1861,1616,1505,1072,1253,1859,1805,1274,1709,1909,1591,1674,1730,838,1718,1863,746,940,1569,2219,843,1779,543,2215,551,692,2432,892,1734,944,1924,1688,1721,745,1590,1719,838,1941,1215,926,1609,1226,1478,1041,1420,1933,1093,1683,1165,1083,2004,1102,1565,1938,1615,746,824,2432,645,1850,1985,1031,1604,640,1666,770,1815,2203,1194,1832,639,1638,1800,909,1184,1803,713,1624,1077,1729,1065,1671,510,1181,758,2156,2004,1067,1085,1064,739,1829,1637,763,1138,1724,1017,732,1926,958,1938,1362,1627,737,726,2189,890,810,1592,1245,1479,1259,2042,663,2439,1888,1655,1197,966,807,862,1625,1143,967,1168,1744,1966,1722,1541,1409,1936,2474,1217,1057,955,1608,1010,1170,982,763,778,1502,1110,759,1789,1884,1181,1567,686,1630,1503,1754,1299,983,1708,1230,1760,1180,1915,1533,534,1404,949,1876,753,993,1257,1280,1337,2325,1946,1719,1636,1264,780,2178,1232,762,1934,978,2248,1991,573,2496,1931,652,770,1323,2180,2458,1684,1556,526,714,748,635,1137,1132,1804,2327,1966,552,1862,1640,1232,799,1114,1444,2369,1642,771,1595,1766,1692,1827,1256,1892,1541,798,1845,1519,950,910,828,1551,831,1196,1589,1874,1867,1909,672,1997,1700,1934,1716,736,1505,689,862,1320,2300,1697,2178,1229,1549,1911,1654,1224,927,1166,900,1924,1527,1773,2187,1574,2235,776,1030,791,1600,1270,1150,2369,1814,1925,1217,1668,1668,1435,762,1816,1255,2011,1874,1743,1545,782,1349,2443,1696,1727,813,1998,1961,2298,1544,1930,642,1066,1673,1829,616,713,838,1804,1840,876,1213,1541,1401,1637,1299,1160,770,1496,911,1763,858,1943,1920,672,912,584,2222,1939,1420,1993,1818,1459,1889,1155,1707,896,1972,1506,868,1661,962,1609,1250,1796,909,1930,2000,949,1639,923,502,1511,873,2155,647,934,2251,670,1343,1021,882,1573,1979,1926,1347,1760,1776,1037,1365,1179,1514,1103,878,1571,1502,1737,1252,1584,1658,1833,1057,871,844,1741,2497,1265,1769,1902,1895,1531,1838,1288,1738,1010,909,1635,744,945,1063,1823,1358,1870,1207,1892,1857,1296,1012,733,1224,1587,858,830,1665,1003,867,1081,1976,1118,1283,889,2236,2113,1843,1795,1070,1545,1700,1511,1104,771,1605,1558,1550,853,948,942,1102,823,1792,871,1644,1081,1759,1611,1138,1886,2207,1678,886,1691,1278,1835,1827,922,1207,870,1651,846,1085,1166,601,711,1005,1554,1245,1783,909,1214,1743,1035,1848,1880,1790,862,927,1088,1362,1754,1097,1295,1607,1606,1291,1418,1317,1832,993,1153,724,1582,1115,1112,1678,1503,2346,839,760,1506,1640,896,1409,1633,1139,1101,2396,1119,1857,1886,1692,1655,622,1647,1239,1471,1505,693,1852,1191,1061,2493,1015,1911,1287,1576,840,1626,1262,1261,1015,1195,800,1873,2207,1732,961,1986,1823,830,724,1007,1875,1693,1538,1993,926,1994,1061,1803,1664,978,1914,1668,1205,685,2088,1014,806,1545,1045,1951,898,2339,2379,1692,2352,1114,1890,2363,1527,2193,1206,728,1231,1735,1266,1977,1915,1295,749,1884,1361,1934,1055,851,1118,1451,2470,935,2500,1984,1818,1741,1065,858,702,613,1896,833,2047,1579,988,1667,1184,1733,1106,2058,1055,1735,809,1335,652,1095,1477,1819,1982,1599,941,1198,967,1637,1678,1023,774,1032,889,974,790,659,2120,843,736,1053,1596,1368,1544,1486,1285,1501,2218,1117,1561,792,1212,1977,1965,775,892,1696,833,541,1414,1966,704,871,1380,1885,916,1115,919,883,2065,1869,1625,537,1534,1082,1279,1544,1101,1230,956,552,925,1822,1781,1628,1736,2016,779,1217,1601,1201,579,2289,1023,1900,807,1653,1452,1934,1972,1606,1908,741,734,1504,1121,1979,1105,1528,1712,955,802,701,1418,1155,1061,2258,947,1868,1713,886,2122,980,1916,2079,1377,2363,1568,1210,1179,822,1235,1735,745,794,1979,1641,1718,706,728,1948,1863,1849,1528,1979,1639,796,794,748,1278,838,2459,1358,731,973,1757,1995,870,2205,709,1206,685,1690,786,1136,1268,1012,1198,1152,1034,1869,773,2273,956,939,1938,1764,1920,525,653,1700,1505,1589,1829,963,1724,731,1911,1239,508,893,1973,1050,1779,1078,2470,1170,706,1897,1858,1134,1057,1630,2202,1209,1068,1366,1727,1673,1954,1022,1915,803,1241,993,779,1972,2366,1104,1509,2001,1735,730,1148,1781,951,1189,1899,1212,1136,1059,2172,2451,1834,1609,1845,2084,936,2403,1533,856,841,1083,1721,1276,974,827,1159,742,849,960,1928,1648,1538,715,1201,668,1545,1206,1694,1656,964,951,835,1548,827,1834,1840,1973,1829,1851,1519,1822,721,1022,588,1716,955,817,1036,1682,628,941,647,838,849,1048,2383,820,752,1923,2000,1412,979,1000,961,1297,714,1505,1955,1578,812,1898,1868,701,1068,1521,1572,1910,901,1586,1782,684,1165,698,1904,2386,1640,1282,787,1508,1803,1200,1743,771,1325,1569,1019,1524,1202,802,1968,1693,932,1071,1866,1844,1016,803,862,1500,2491,1704,1803,1541,1178,1473,594,1701,1169,1684,1569,1232,958,1583,907,1702,739,1760,1956,714,1848,1005,1638,1294,1653,1950,1841,1252,1817,1337,1561,1517,1917,766,745,1562,2371,991,1582,1348,1933,1737,2335,1946,1554,1039,1703,883,1226,1867,1950,1062,870,1032,1015,2289,785,878,1884,852,1155,1650,1831,1509,1389,1149,1402,1781,1632,1604,1220,1616,1015,1769,1264,1941,1269,1650,1639,1939,1908,1142,949,787,1316,2060,976,1357,2428,1201,1634,1097,1542,795,1656,1173,999,1002,1873,670,1355,1942,2225,1540,1677,2453,1248,1290,854,1080,704,525,1837,2284,876,813,1246,1410,1962,1710,867,1727,1101,1721,1623,1684,1671,1279,1737,1719,1543,1650,2454,1631,1823,1879,862,1197,1187,1409,1696,1075,1113,1027,777,1657,1681,1061,1301,762,1046,2423,940,1971,851,1867,1858,1176,1144,719,1308,1096,1881,1601,1638,1538,724,1692,1650,1089,1528,1512,1790,711,1174,866,1082,684,913,624,762,1722,1223,1822,1793,1742,1990,614,1654,1231,802,1984,868,1445,888,1052,703,1034,1561,1554,1089,885,1689,782,1837,1121,1974,704,1412,1237,1549,968,1500,1784,1952,1135,1973,982,2178,1793,1769,918,1914,824,1249,1755,1693,707,1677,1954,1224,1931,1726,800,1617,1562,806,1693,1187,895,1810,575,2351,1196,1685,1603,1275,1119,1167,1229,1297,1510,717,872,1260,1020,1232,1538,1626,1923,799,1978,1548,1670,1211,1501,1573,1643,795,1514,1058,1645,2370,903,961,1843,1091,991,1195,1814,1110,1206,1114,1677,1553,1650,2042,1852,1911,929,1872,1727,1740,773,1059,873,1836,1119,786,1174,1697,1766,1646,1999,1071,834,674,1740,1388,1897,1623,1074,1049,1142,1332,996,702,724,2310,1268,1876,585,1816,1588,728,1063,1156,2014,1514,793,1633,1307,1006,1289,921,1500,2156,1726,1493,830,1953,751,1230,2254,1550,877,1510,1811,1269,1908,1306,1117,1754,1066,1661,1305,1533,1115,837,1892,797,741,726,1017,1125,1993,1840,1481,811,1191,1690,682,516,1634,1655,806,782,1880,1838,1061,824,720,1818,561,1111,1884,1413,2047,2443,1770,2340,1293,1557,1615,1837,997,1938,756,1629,501,1042,1396,929,1622,1727,706,1527,1695,796,1525,1096,1624,1961,1955,1868,2454,1551,1786,1923,1103,1601,1219,786,1177,1179,1809,830,1098,829,1185,1281,1001,1041,1960,1419,1395,990,1988,977,1606,2472,1015,1553,1901,1917,856,1127,1933,740,1244,1818,1810,1139,1514,1512,1775,1503,1226,589,851,1558,1608,1257,1617,1678,1254,711,1703,500,672,1933,778,1922,1033,1644,1272,1066,897,1076,2398,1541,1658,2271,1613,1692,801,1298,831,1187,1577,1598,1117,1793,1399,1851,1508,1803,1147,1971,1836,1934,1858,1134,1254,1595,910,1114,1726,946,1756,1099,1700,1730,1514,1033,1751,688,1521,1496,1921,1414,1622,934,903,1946,791,1992,858,990,705,1008,1696,1907,1960,2051,1202,1941,2456,1955,1275,1860,1611,895,1733,666,701,1462,598,1897,1614,787,1896],\"xaxis\":\"x\",\"y\":[7600000,21717770,13159200,9630290,7406250,12394750,8488790,16800250,8308970,8083650,14938000,9449730,8774370,9386490,15499680,8656000,10912550,8287550,21203240,10905530,9185970,10925400,9627380,13922760,12601080,13383350,7939625,8848285,11338200,12872430,9042050,14874380,10222380,12928590,17564820,4971250,9170660,10383420,11601400,8249260,6944500,7745000,5728000,18725520,3572250,20215970,8379000,5290635,12548930,5857750,10729700,17006780,5570050,3854375,8594875,13549250,9480750,5847520,9710900,9398750,8806250,12087330,14175620,11920820,13364730,6922975,11673175,13069740,10283575,8956480,7187350,12574850,13906270,9917500,8629750,11667050,9817150,9263050,6587500,9799360,12801500,17454510,9832420,12476770,10381355,17600240,10934875,12372160,11248750,14241140,10160600,13539080,10727750,9867055,9478710,9050200,7904210,13063450,13584980,13116050,10012600,12105920,4918375,7703200,8569080,12146620,11671620,14915900,13547790,8213040,7304000,10390900,19206870,9965375,7207000,9070550,5670200,9253200,4294000,14316000,23307000,9735150,11336400,17701600,6572900,13423020,13122040,18939100,12803570,8050270,7194600,11412700,12035355,6877000,10346400,10809500,10200600,6190150,6507250,11350400,19285540,5856625,12472000,8441900,7579320,9759000,12423800,15495760,11022270,7605550,7967750,8946800,9244820,9821600,15852740,8757635,8415990,9935595,16617860,12412050,22630540,9901500,10449910,7948600,9098680,8342850,18662350,8172630,5856500,14704160,13360440,4928250,7315125,10998320,3936375,9201770,17891240,5144500,8007250,8479250,10129160,9482200,9846750,8675820,10262450,8671050,11165550,9464800,18849880,9480425,12264750,21875050,13538580,8876320,13645040,20996200,9071125,10815830,12802500,13346700,4356500,12257100,4100500,11527430,6452785,8434750,7427820,9105350,4721500,12575010,7952750,5705500,12898740,10722580,14102960,17612900,7146890,13476480,15100560,15599020,11224620,12477040,4396250,11900750,10090000,6607690,4752250,7441350,6441250,10359860,14328720,11444100,9680280,14739360,8939620,15710400,10226600,12300050,6966500,9463900,15199450,20499450,9925210,11223550,7379505,12091400,10530200,9604120,9062800,4748500,9107430,9153300,12650920,7635250,7854000,13197230,13669670,18249860,14707330,9144840,10969920,12248640,14225180,8019280,11410310,9950600,9980320,14292780,5752875,11883250,19816180,9394640,8762820,9348100,9134740,7643255,8886250,6407000,11536000,5333000,7849250,13797720,7492300,5342250,16212650,4710125,14898480,17060380,6931750,8196400,17704670,10784680,9594250,13596890,11156320,7725875,9819500,3869180,5852625,9574550,6102625,20246360,16930470,5510250,6530500,10147125,9705900,16107475,7451690,10163000,19376950,10173980,10910100,15013625,11713410,15862990,8677280,8282500,7926740,12093570,7390000,11053290,14464930,10637010,11045960,7410200,8645860,17787740,8514750,13841050,9160580,7794500,12946530,15883280,10089670,5335750,12126880,8165450,11484740,22024740,12071880,12925550,15387480,6637005,7446875,11658500,6663435,9894250,7968490,12403760,8149280,16012600,11121040,9462230,20477590,8755500,8471590,13024030,8215250,6361850,10929300,14634500,12228420,10494410,12350640,9071080,12450910,12225650,6804640,15495150,12456680,16312280,9753250,10629750,20715860,14297200,8317410,8261500,6206250,8400465,11104320,6083885,8836160,13620040,16756460,11889950,14054970,18316110,14761860,22123260,10882400,6863000,9792910,10090590,5072750,12156320,10741020,16805520,13586120,8021300,7960405,11847350,11985600,13788450,10080280,6564750,8861500,7880000,12682895,10169625,11959100,10391900,9338880,11329750,8469050,7705800,14057180,8621500,9338500,5668875,12730270,11071500,7261650,6982000,7546960,13650500,10652120,13378610,17265880,10044620,9153720,9089520,9075660,9957800,5805250,13087155,9314000,10533755,11462310,12948200,6149625,11031600,12713050,15664740,11265520,12900790,10271420,14154840,12160420,22084180,9953350,8788500,6266250,6879510,11991280,19817860,19766360,8098070,8274000,8912540,19609810,12825500,8717385,9928200,8231860,9833270,13277420,10613930,10801520,18637600,17566590,9397585,6889250,19512010,13064510,8386750,11569680,7825375,10502160,5286000,9794230,9885575,10478100,9345900,9314050,13251910,18331880,13478680,8907400,8185800,9125250,6922750,12133650,18200410,11762550,9104380,11935950,10881130,12146740,14128990,11821400,12528840,10552045,12406100,14377300,9487400,5472500,10252895,10989305,11838240,12624040,8288050,11903865,10274050,17398770,9680500,11855060,15849210,8585715,11452010,9675500,6285850,7813750,10094840,11235750,13556150,9023925,4863375,6511200,7511125,3013500,9243750,17422860,9917200,16834800,7586885,8907630,9519320,20591900,8111350,16484920,11992650,5256625,14715230,10829380,9747000,8762530,17529340,9198300,8823380,15317750,10152390,22829130,6878875,11506980,13454780,12048000,10769525,10342830,5597240,11307820,11040620,13190720,7160890,5643000,22181670,11415700,4849000,10387250,10889570,10358610,8476180,13098030,10644830,21473270,9630420,6428250,7418190,6543375,10787350,7827250,22449450,9718570,13271000,9414520,19909630,14926255,16803310,10471560,7745900,7603630,7116000,14739250,5796000,7520800,9701800,14192960,14920370,12961070,8191250,14684370,13152750,8245625,9627210,9963440,7830375,7464800,6846100,11252380,11266200,17733960,8335390,9036250,11770840,9519460,8984810,22744800,8141330,19806350,11966860,15342740,9985710,6442655,13883800,9920630,11427045,11790660,8235750,12527740,19389140,17797530,4680125,8952550,9350380,9876540,19609850,17171100,4855000,9165460,12356960,12473300,12858080,15665660,12053080,9357800,12851040,9109750,7512030,12764450,10509200,7155650,12919650,13953400,12370100,6329250,12846400,9728460,9354680,8173180,7352150,5655625,21988560,8867600,6569750,6602375,10239375,9831375,9151000,10066680,7899500,12251920,9495375,7700720,12217100,11139610,17623460,13603120,11578050,12966920,8519200,13025260,7824600,8547835,11165950,9263000,13560300,6298700,12727790,16185010,9114000,6826655,9329030,13253630,6988500,6847250,11671340,9202070,9464900,8308730,12038850,5722305,9176650,12775700,13637220,4936250,10555860,9708030,12782260,5402500,10521855,7150500,14116310,6717750,6194125,9899250,10664405,5899450,5962250,13489720,10056250,15592460,12631750,10249680,7738440,7238000,6802000,9433250,9173450,13919200,4343000,12420250,10169600,12075000,10885120,9863280,15733300,5198500,10616020,10673850,14834920,12893050,8243880,4733000,6767000,6000540,10922160,11960070,11953500,8539250,13552840,10931870,12907200,10649060,8197980,11956550,10283850,17314380,6619875,10783060,9125100,7857455,8297500,20697270,11772480,9727500,12401000,14616160,8976940,9960280,5315750,11262600,11681720,10646530,9352750,8582390,14049650,9253010,6686000,10721350,10002210,8110875,8381750,20438790,4886840,9905510,10042440,11330100,7839405,9993600,11992920,8899500,8068000,8824390,8257475,10250150,9635530,14106600,9032750,7274625,7404375,7726750,11111430,8406500,8372550,13938120,9197770,7993125,10189000,8071375,14350560,8739885,10501150,23667340,9995590,10000930,11235770,12986500,16527040,20063100,6783500,17039580,10040100,8345750,14685790,14799120,22348850,12611320,8155260,14414750,11854600,14310420,11574780,8778570,20691780,19600940,4953250,12093600,5999250,22567050,12802100,8871250,8782150,8895625,7627340,10030670,19632920,20192150,7989450,8192790,14917160,13501410,8699125,7373000,7713895,9748900,10930680,11947050,5885000,10320700,3339000,15496160,13140580,8008950,12508650,11853140,4886000,21107310,12520540,13173400,10696080,5281500,8414875,13259060,8496660,8709375,18436880,12876250,9544050,9478500,13502160,11222760,9588670,17978100,9371100,9244720,6702360,12893150,10168445,11123540,9332280,15416110,8174460,19337750,9872250,11492450,8750680,8449490,14046320,5173250,9831120,10651140,12666780,12528440,13330820,19300690,8155200,13907120,21897640,7676000,10044200,8548080,15741200,12290940,7498275,14409230,10763000,12047650,9378485,12006850,14278260,8288940,9865200,14178675,9839960,5280500,9214930,8245950,7329900,15103540,6322560,10904740,18192700,8962700,10599000,8268875,11395560,8792500,13249450,9305660,9198100,3906750,10748500,16864980,7950320,18646240,9491790,7095250,7975085,6973750,10032375,7812910,8988750,9563095,17651360,13427680,9104275,18312300,9760960,7319800,12167290,11839680,12640950,7832500,11396020,14927450,8261000,8178625,6677000,7041840,9433610,8164875,6575100,14198960,6916250,6354550,7352510,14017800,12288250,9091390,14327400,12401250,7809500,6678470,14452540,5185125,6193485,8144950,5766000,11065040,9121000,9668900,11291220,14077500,10571650,9888000,12985460,12844280,13832030,8792100,10727250,5254245,18163890,7047750,9475100,13107540,5865875,10959440,12918430,14048900,10316800,7831830,12971150,8783500,10346560,13831750,8340500,16280140,17422560,9214700,8237550,10893375,20142850,19704720,8137800,8351070,9522150,9632875,9469350,12116210,9324960,14086140,13306740,7698750,10093170,9819130,9592970,12198380,12356100,6687375,12763900,10078530,10345940,13773700,3767125,8624750,8850660,14237800,14078710,10705950,14138950,10561720,9336800,13750340,7487725,10700200,8931410,13923830,9444500,8899780,12605360,9914760,7954750,13087480,9430410,8183130,8355660,10554500,7557000,10008685,12182240,22916500,7205505,11225380,12010350,11839510,10568895,14814620,6745340,10595700,7777550,9014800,10675820,11405500,9876750,8859220,9758035,9005600,9160860,9511000,5947125,15244800,8428090,13393470,3874500,11529500,10758000,9082000,9315900,8845600,7257400,10751700,8567240,5308500,8765000,3916750,7369890,9640575,11239600,6778000,19200260,4242000,10388375,8254700,9499000,6814000,15082700,10546405,9746100,11447860,9516880,7580125,11373980,12842120,11650250,9576550,9265490,11354960,7815055,10188470,9211400,12296550,9615130,12699000,11084700,6763000,15074080,4969250,8745660,10428000,10323980,4842750,11154910,12754890,6501000,8802735,8366750,10474605,10509330,8090620,8734920,6369250,9484440,9310300,9260750,13186280,16271740,7311370,11653680,15831550,7302250,11904740,9305750,8657100,5601750,9789220,20581330,7725200,7019000,13410030,10199400,18918950,11703450,9735200,10826810,12894500,13208750,5438750,10556410,9163340,7463750,11489580,6102500,13734350,7037100,8931450,10151490,14074260,17529450,21327550,10655980,10581870,15074740,9817500,17673370,6603250,5947625,9593040,20525170,12946730,12561300,8133770,15195200,4746500,10381895,7344340,18201340,9080015,10617090,4575925,9805150,12623360,9533400,10499240,11440690,7064250,16929800,8457350,8725740,6513570,8572425,15493260,9724320,20519100,8947040,9043635,14597300,9310120,7740080,8878250,16677180,14301080,5523875,7932350,8072750,6962250,12977000,13174940,7742000,6996450,11367820,14001530,18598580,11618510,6715750,11844950,11492190,14153850,13483830,12257060,6016875,8015800,11003670,9741520,13626420,7633500,5878000,20738440,8000250,8897050,12114895,9341250,20514620,14687760,11095100,10646600,12872810,12114050,9348350,9407500,8963715,13163050,12654700,8482500,20989850,8275800,13291100,9928250,7609525,15178120,10105060,10225280,10309370,8463200,12871060,14774770,8172125,14818680,20450950,9149000,12499040,10272980,8636400,7499900,12647660,20838230,9329120,9120360,21050860,6185335,8400920,11855940,8972600,12506600,10209760,12899530,2476375,5679000,8020500,8396250,7110600,14158860,14510950,16595470,15913570,10423510,12690600,10606765,12313350,13289900,8352000,11423750,10120070,10738110,8495640,12341040,6248450,8477500,12564350,9304960,10822220,9038260,10849950,8452080,13485100,11878140,10961920,10088450,17858980,9135400,8646380,8576110,8367250,9840760,8461500,10651250,3093500,10646500,12105050,5325000,9396600,6936250,10732635,20244990,12964940,7881135,13460460,13791820,9662810,6918250,15679400,8588630,6890790,19964360,12565070,10586920,9089160,11351890,12761560,8982400,10636820,8122870,9315520,7897470,5613270,12146250,11055190,10434260,9186250,11638240,10388400,12448500,10383300,13800700,6450250,20787310,6481200,9719400,9845950,10084580,7226100,14569565,3574750,8750400,7151680,8528890,8376880,11978830,13053180,4146875,9566290,5998500,11470100,12076560,6794000,8074850,8313550,12976220,11871500,11987190,9065140,9044045,12712980,11507600,19768320,8483250,9343170,7039250,11308830,11554330,13507780,6387040,19801690,12646540,14486250,11677750,12274630,13780460,14772160,10064150,12215170,18080410,17311570,8908220,10613220,8282640,8050150,7439700,5435750,13770420,20330350,8664000,16410600,12403030,6702250,5383250,8233645,8249290,8720250,6117000,10771580,9264900,6789000,21266520,12798800,5643625,2939750,13003580,9718500,9491150,7741945,16766120,6422750,14826000,15199400,10058510,8563875,6036750,13185700,20325440,13427670,16142300,13526040,9573450,9140400,7495700,7415850,10232060,7485650,20234860,10315780,12383200,7415240,3561750,8848105,8745500,11216030,13216400,8227800,8529780,8027460,10431150,8319100,6231125,12197050,11621350,3975250,9455450,5054675,5205500,9212250,6890250,13606320,12802880,12171985,6721500,4703750,6083250,13510040,13840180,13282450,7847750,18531240,10485020,11144770,20586630,5437500,8629750,8147530,11301300,9911860,6537250,16957260,5310935,10576965,12682380,4462000,13581650,7346750,9822750,14101250,9718230,7781350,8793625,5602750,6714500,10948060,5943875,8023795,7587075,7944000,7468400,9343500,12688340,10495250,14229060,11360310,7452250,8196250,8713900,11752250,12213120,8322500,8935000,13358600,6494240,6486150,8745000,14021800,9671160,7871490,14205080,7014500,6227250,7946950,20181980,12695370,8959150,7924640,11867800,12402070,8260400,12069000,5940500,7989570,8791000,10027000,11111010,8599095,6703210,8153390,12846980,7826780,10978140,11802180,8388500,14239850,18299980,4917940,6177070,7671200,6897450,13940580,12370100,14102650,14682580,7400260,10288980,6377750,6312750,4362750,12520250,10834460,9426345,5232500,5283000,10416480,15715370,9179950,17115030,12869560,7030720,8636980,14638800,7279480,4473750,20527770,12387700,4458750,8537500,11552700,13703500,13920600,19550620,16068640,6397000,11119720,11431660,12793250,8631250,18984160,12415670,5244500,10720550,19685020,14400140,10094160,17480550,13380530,16469500,8133300,10760220,10148180,10695340,8882720,6774750,6435300,11109230,14239220,11312920,14495770,9947855,12364840,13683650,9328250,18803650,7581750,12014520,8286250,12194550,14994840,13695970,20747530,5110125,9625300,8433410,6766430,6895500,12651550,9038780,10497580,5073500,10834880,11718800,4361500,19074830,9859360,5265250,7553060,7123750,11359000,9762100,12370550,8962970,10841760,10140700,17959010,17749320,16602700,14980260,11476830,10276200,13737610,11373920,13085580,7574830,12085470,12337540,13310520,13669910,13860650,3643875,7766550,14211850,13231850,9160750,11848520,8561060,8131900,13709700,10128440,19615980,6765500,15388610,14902450,13822150,11319280,8890930,9209360,13217400,20034510,14904220,9721700,9894050,10843610,12286360,13397920,8700500,20346350,9795730,10008100,20838520,12614460,8634640,20518750,8793480,12807300,10410130,11157780,9335050,5913625,14671170,20024110,6474250,19814280,5849125,10097940,12867590,16656560,9743700,13718940,12556650,10453960,4918500,7600500,11650600,6688000,8947750,10858850,9843580,10021800,13091650,8179150,13729040,12477240,9146500,13986920,8177900,10982650,12239160,9640180,7953125,6149410,13060780,10581040,17538420,8953500,12056200,6280650,10017780,8353830,14332790,11670400,11949085,8105250,20033450,6532250,8934405,7818970,6272750,10374210,11081520,9213320,18855250,13363650,6408750,10934170,7016840,10681680,5737000,13668850,6597000,11436120,5046750,14819560,9797510,8188000,20441490,6799000,10019360,8505000,13384340,10851180,8310590,7486235,7060000,10210500,13180500,6390690,7178250,5383105,6978025,12569800,11269470,14822920,13403120,5314000,11584500,12157650,12695630,12944300,7384750,5749000,6063250,9626680,9273100,15559710,9665040,11751940,5686125,11526700,6900800,9824040,7524750,7102125,8901650,6499750,9637220,9567000,9890620,8356850,19297260,10096480,13709595,12364800,8074630,20302130,9494835,8970625,17556170,9860400,12235870,9350240,17180560,12906800,15965590,7443250,5895000,7868000,8707750,11329800,8318450,13009590,8333250,8078620,10674350,22302670,10749120,9575120,7525500,11385450,7544000,12177400,10071110,7922250,7691250,7733620,13014740,18485760,4437750,8047500,5131250,11730190,11679050,6790750,11774560,11523870,6956820,16616430,9606750,6125250,5807250,11805840,13261700,5710250,16967540,5743315,9095330,14826580,11168750,11264700,20697180,6008250,7142850,11268000,11318950,14358470,12173800,9319450,6598000,8539610,10779980,11220930,21014810,19142980,7310375,7506500,13099130,8599740,14028720,11873250,20496430,14203260,5940250,10232240,9037200,13851040,13331300,13896950,7326290,12532900,7385300,10769370,18531930,8605340,10150100,9525100,20734630,7210750,19083430,12572000,11173220,20940460,6965500,11779810,9778110,9773000,12653630,10630800,14196640,12873650,13698720,10881370,11327760,8892625,5057875,9481950,4950250,12993900,6453250,8545010,8725650,10437110,9507320,7862800,12084280,12569440,7020750,6505500,5829250,11719720,8801100,9470340,11813720,19844870,6465000,9207350,10795500,5378000,10030140,9140480,18796780,13444320,11764865,11240520,7670180,8372710,9491300,13852750,9537120,11026000,13158180,6195750,11450470,13763020,12133045,9954125,15329240,14445470,15780550,10172480,13885100,11762090,9315600,13221960,17099760,9692960,7638500,11863010,11679830,14254400,12308520,11157225,9463960,7491375,12863400,8027500,11221720,14893850,9572300,10463400,10475000,21969520,16550350,9871170,20331090,9352100,8588100,10265430,9451250,8010660,9955930,10044600,19459290,12054580,14646780,13874850,8992960,18334400,10223050,10282340,10423760,12320640,7915350,10671450,13650440,12363680,9977280,6297250,11110000,7091060,13161500,14178210,8828350,6553750,10933000,20550920,8092500,5940040,14912460,14471130,15090150,7918980,11248000,15044200,9872490,7359275,12687420,6997850,7738700,21437220,12185540,11224050,13041980,7359840,12501600,6898250,14622250,12996720,11430420,7541750,9341900,8159260,11515200,6420875,9656600,8925160,6037545,10882620,12784640,8060000,16137480,6443000,9960220,10906430,3404000,12683980,8057450,9094750,10011470,6519000,14008700,9562650,9325860,13533950,20707160,11698300,5342000,17193660,17294550,6999250,7977570,8528780,14209800,13026640,10768720,13582900,6853550,10214695,11900750,10309290,7656640,15746590,5829500,12486800,9795370,9023100,10442550,4321000,11280410,13551850,8798750,11813340,12032720,7704750,14395000,8716800,13076450,8863750,10696480,9354600,9850425,13407250,10370100,15982000,11359500,14499510,11955405,7133850,12459650,21220250,12480160,9002750,9967250,5729750,11673500,13030600,20618810,6827500,9338270,12252250,11967520,9868000,10678140,12866800,19526110,9272780,9570490,10132150,12393500,11086380,8820750,12251750,11828320,12704950,11235250,9258310,16018960,11563580,8129650,5251640,8196110,10259180,9663350,11799500,10472250,13491500,11827400,11031970,9964150,10248940,12574290,5159375,4646250,9031800,13180400,20020970,7061130,12813210,10737430,9590830,10502000,8543500,4894125,14248200,3000375,7660600,20591120,11407570,14949120,9163250,3781250,10453060,12435730,11682020,9268680,9879360,15678280,14602660,10668780,12415500,14509000,7341810,10339000,12549660,12680410,13328250,9952680,12570750,9772960,6823875,9188290,14614100,7462400,6930720,17805860,11874360,15941330,5246250,10625000,11781260,12560000,6831950,6000900,14640260,18963740,14507380,7375400,18676960,7941000,12911300,11804935,8191450,12980150,21320640,9898250,9715500,7710860,11415610,9277020,10670850,14217020,8027540,15635990,8008250,11710370,7487660,5452000,12019000,9218040,7731120,15370850,7947370,17340400,10659650,6578415,8656000,6472125,9889600,8920280,10739020,11534600,9409960,13104880,12192300,8932590,10672285,12774540,7087250,10525805,8044160,8913270,9171700,10876790,11810540,16006000,7763400,7522430,7335200,16070870,6860600,11596240,10148600,11851240,18686210,6811400,9821540,14105580,18333020,12916910,5499565,8559850,6641500,6980320,9304770,14874950,6928000,16538570,9112450,10548750,14168130,8402320,2640250,12337670,17722310,8978460,10514930,11431740,7913300,6054750,7190600,5091750,6519000,14375730,11780070,11061120,16025310,6818200,7283800,12496560,7479000,13090350,13651240,15443180,10625200,10569390,10880340,10011770,20139900,10805855,8814250,5783750,20819590,10444400,9827320,12303260,9943840,11141710,5619510,9609040,9743650,3867250,9459100,9295300,6789500,14239590,12856900,9810510,13046310,9729900,3844375,9189800,8446600,12306030,12219050,14135780,11547750,14228100,9456590,10599680,9491000,6972000,7866370,10598610,8930250,7853250,4155500,13171300,10954860,10759755,10995790,12627100,10843900,9733590,8808920,10554810,13774320,17657420,6387750,11667930,13369230,11134480,9553540,15979940,17084160,20119920,10973700,10756350,11779280,8578100,6568510,11541050,5275500,9293090,5769250,6435700,9747565,6870115,7931560,9606220,10854800,5972585,5842880,11346500,11202460,17739020,10337820,9651120,8812240,6624750,12928440,12305150,13404800,8272250,16367000,7929540,5639375,11943500,10893740,10618990,12081890,14090500,21815360,9352665,10746250,12744600,12009700,11510790,10183450,11228760,12723750,9446410,6677700,16586820,6630650,20709050,8148875,7637750,5829000,12051200,10493650,11226890,7466370,18439310,10671200,9104500,10250450,6172500,12038750,8187100,10894470,9593250,7728500,12751600,18815020,13669300,7331750,8520705,13957390,7707405,19567180,14204550,19275870,9234130,10411240,5727750,9492300,5589500,8254270,13791060,12910620,12848450,9243640,21937620,10088050,12242780,10546560,9257750,5340900,21140330,11504330,6859145,5955500,11691860,12752470,16627610,6300625,11334780,6709750,8066720,19888500,11930880,10379500,10408250,14771930,13327120,4484500,8223180,11809740,17985130,15209340,11560690,12289250,10668930,15794780,9404750,7828550,6208110,16758540,14565090,14521700,10051000,10890755,16536140,10038580,9388710,9686030,8217905,8374470,7418850,10366590,9127590,3276250,11894750,9573640,9024860,13447650,8575240,10158220,7208905,6992750,12357600,6461750,5229250,11312450,12274350,7928625,8480080,5572250,15851550,16882760,8840950,8754280,14030400,22499190,19257730,8857150,8555550,7521800,8030250,12505960,19554920,15825560,19494670,12416700,6824750,11731400,18302850,19971770,13914320,11444400,19147580,9522360,5070250,21941710,8812400,5199250,11517940,4593750,18809830,8292510,11113950,14104940,9667200,13743040,16569530,12709550,7848980,13098030,8213890,5679255,8452750,15903000,10184450,13238930,8316050,6561850,5937000,12905750,7099500,10466910,9980680,6702170,9977950,4740750,8758550,11244250,6792750,12439270,10300610,7165750,13038690,17991120,14802000,7803250,8805640,16499010,6765000,7071375,10711750,22043680,8403900,19106530,13677550,5340750,14156220,9404500,14341940,13736210,6577190,8145250,14211600,12055410,21021130,10527390,10128200,14529150,9429000,7910000,10800260,5179875,14195200,20900620,15849980,7019200,7947300,12538900,6607200,11914830,11557700,13252420,8424480,4667250,11474270,11761550,16474980,10114650,5333875,7293785,4905000,11926000,8827940,9657300,8824280,20026580,15335000,7814420,13511380,11466600,12857440,10091620,12419160,10612360,10542220,12567340,12429860,7210000,9038645,10884400,13160800,17669340,11180570,6946250,13014440,16872140,5374875,10171120,13676650,9320670,7987950,4268000,8839880,4397375,4984750,16294030,7774035,5248500,4353625,10875910,13928950,10184500,15997510,6480125,8336200,8498500,17879080,12046300,11270700,14777070,3924125,14927280,14243400,8149800,12924300,12560760,8194735,8024265,9207590,8411400,8986690,13800760,18298710,9236700,7540400,14274450,13144750,16318360,12151100,7245250,18390160,9473200,9623750,9302665,13511250,5943400,9255380,10439000,8364650,12798750,8025200,4806125,9327100,10807000,10751420,12732100,8507750,19576490,20102300,7804500,8984250,11233080,7356375,10768300,13553740,11867660,10363250,18111990,12352710,21276220,6444500,13846950,17586840,12508940,9618640,10241800,10626300,9553000,9906355,9741970,12669300,6504875,12329500,12150830,11412420,10831360,9658000,4027000,19159390,12111940,6085250,7696750,11003920,9154950,9079650,10904600,8546900,8072820,18642910,12261610,13387920,11435335,8453795,7375050,10279070,14283760,10104360,7764900,9513220,8638965,6182600,7549650,10499460,9358400,13178340,8415125,13765430,13829150,11351580,13756100,13667200,9539520,12524250,12290970,10039090,10024000,9477140,10235220,14015750,8445505,10630250,9585000,12930060,6815000,9376320,18991980,8250025,12115290,7375160,9190000,13297100,9835470,7029740,18183200,14450600,12426660,13120960,6435890,13764300,7036460,10847450,14377860,12601250,12140295,8055350,13245480,20180630,11949030,12964240,8480400,6377770,12911990,11434875,9854210,9310600,10810740,14139590,9857500,22199910,6495250,3950000,12493960,19128100,15754040,14214780,6606250,8547750,5219625,14620220,10566485,20623620,22778410,7452620,18686820,9749680,17526220,12043670,12182280,8443700,19462090,8155855,13408980,8210750,13196500,9527840,10682000,7358650,8629140,9802790,10049980,9361880,12046000,12101540,7124500,8619940,10985250,7733125,6965000,17436220,13606900,6857200,7596170,8460450,10454020,10432830,7382320,10607450,17359980,12813600,10956200,14820800,15326290,14459960,11551700,21804220,11646750,3001250,7997875,22918500,19428640,7383325,13172210,9774610,8683125,9400830,13985270,13608400,12713810,10338740,8156380,2797250,13937650,11290385,13469950,7233000,13465550,7688050,13346190,8340000,14542670,10573780,14388290,6380465,8354290,10978600,13293200,7243850,6161750,12458150,7082000,8981140,10982180,5720630,7006800,5821000,15845620,12713420,12411950,13930950,19296480,9953250,6530500,12247960,9492280,10648590,7855000,21143730,4345125,8779845,5976650,4840375,8350550,13321150,13583660,13659880,8291600,7279125,13391620,13697100,16453640,11777200,9510440,13308950,7049500,13283040,14006950,12198470,9106920,14152290,9880180,8522150,13083950,10363390,8802450,6307030,8062500,9081450,11517700,12582025,13124770,22319600,7355250,13039560,10105720,14198300,11867200,12338765,6235675,12220490,14415250,6816270,10188250,9346520,9238625,4546625,12782330,7212670,8646080,9642250,4408790,3250250,11638340,13131500,7018200,9626920,6840500,13754660,13479660,9625250,18428120,3602875,10491150,6993500,7222220,5259250,11045500,6791800,13179060,20613320,9350120,14102030,14403150,8990700,8538500,8724510,13968290,18125300,8065300,8017830,7586300,7892890,9864980,4771750,9345250,13307710,14666960,7096350,11517200,12291450,7751590,10004420,9579340,10525540,14376540,6042750,12343180,11229080,13018400,9648350,3540750,7216250,10179250,12053600,4555875,8558785,9241990,9170500,18402320,3120000,4158500,9235640,15340770,10446850,22027780,10506840,10512770,8534940,9239640,9429000,13251250,12202770,11874300,8987700,8134610,18917730,7539800,6564625,9753980,8261100,17396720,13286630,5923125,11624150,13630400,4310500,15381325,16043910,8319250,6904000,12957140,10161065,7342750,16752260,13969720,6631500,15148940,18722090,4076000,8431750,11069780,7039700,11991960,8693250,9745200,9750760,10770760,6705750,15461440,13744855,13466270,12063670,6581500,7193800,7610625,7022890,4996250,5438735,8052400,15272340,11946470,11760250,8372750,17105720,9321900,7321755,10149750,22852890,8630100,9991620,13904760,10881060,13450990,15727600,9603110,13746840,13128785,10225500,8509625,10006870,8007290,6873290,5369000,12248000,8448350,13784930,11680440,11038400,11320770,8994000,9699500,14465005,4663000,9998750,8604850,6125000,13372090,18712070,22300300,15251600,8262630,12012530,9622550,20938520,9429860,9766450,9375550,22712170,17336020,14366450,15539100,7038165,9492700,10905500,21875100,11905350,22149210,14608180,6646210,18073600,9367960,15601870,7750000,19678440,7895235,10088000,22519520,13991160,15043490,13627500,18438250,11868140,9775540,8280325,11883360,8511480,20420270,13039760,14573400,9514610,9081775,9912300,7061080,8485200,13639800,18853070,13510380,13663850,6192250,7094000,12588460,10755300,5398500,21406480,8553000,18115790,12436750,11915040,11293450,10694910,13022050,15778370,9460875,12967200,7557625,7852185,4198000,11518200,14407200,11206050,12206870,7807300,9927740,10812320,7862110,7884540,13021950,10248370,16349020,8328620,6497000,13898300,10847700,10415550,7379750,13839120,7734200,12116010,8241375,9044500,9047980,6546625,10847000,8799300,17442610,5702750,13714220,7695240,7802500,10858770,9009200,12564470,8813065,6207400,10411700,7195550,10893960,7321000,12867540,21809430,16495290,12295050,10843350,10009600,21544930,14637520,9255500,11848470,12078690,14414800,22459910,10587750,11333220,19286610,22186250,3247750,8111250,16889580,15356550,6087100,14179360,13753510,18588600,13367060,8936650,5140750,6784000,14908785,13338780,17790400,11855350,14993570,12416270,8516690,6074780,10508500,8802320,8391470,8576620,13659200,2156875,7758500,14281030,13050750,6274535,17398940,6473180,13877710,8131700,14398080,9307200,10940805,9374280,4873750,12412600,8640800,11182520,11847900,10651460,10918760,10191950,10813485,14703750,8243200,11727250,8905050,11457330,15389035,14393810,8452000,7034750,8944400,8723530,6086550,17645160,8267060,10256260,9563000,9930400,7811540,7811430,5332750,6445810,11543750,5550090,9606700,7866250,11604220,8777950,11251850,19730040,8393515,9468300,15773770,11157010,14086360,6709500,15532620,14804680,9222850,4288625,20657270,7852000,12450220,11284500,9123700,12030980,13363810,11098160,13176350,18426920,13461500,10742050,13486940,13820610,14837130,10299920,10031100,13503490,19959560,7716505,12892760,7812550,9586150,12195890,11574940,21194540,9782000,6633410,8563860,9882100,17622540,12823400,12511230,16197860,9311620,8090500,7589010,7101750,15340410,11040310,9287430,5100250,14088220,15569210,7545650,12123360,10622400,13355600,13191580,8743700,5742295,22022260,10617420,10908000,13640240,7675500,5801000,13258680,7676450,14603420,12009660,8545605,7818500,11935020,12569065,19090950,7740130,11074760,20823790,12893440,13575290,12544800,10458600,7737625,8595800,14166140,10209650,10428940,9987005,10554000,8739100,15479240,6434750,4706750,14419380,6898750,10081500,14046370,12120330,8937450,13758930,13205875,17061540,5624750,6368000,8019500,6618400,14878750,9625180,5546495,11997230,13275240,4398625,13296730,4479770,11155480,10279750,8984050,12133700,15185240,18670480,7385285,13112560,5858250,6860970,12677940,7779515,8721550,13776050,8134850,9281280,11399205,14906280,14646760,10019420,14547070,15929660,7142250,20555760,10584775,15815700,7414265,7662340,14241820,5125790,10084320,13215865,19571820,11256610,15556750,5903750,12416100,12554380,7567040,8517175,13209090,10556375,8504780,10245090,8307375,6524930,7171850,14686600,8427850,10676820,19171860,8466820,9379310,8410150,12430300,11139700,6304750,8013720,13397130,9910835,9536960,4408125,8270600,9801395,13852380,12099740,9634250,18624480,9008060,8586060,22000360,10441640,7775300,9248500,10620750,13355100,8569350,19635040,8420300,5859875,16053550,12303400,6198000,11010960,10544750,4678720,13042550,12666980,10373360,8514030,8720100,7187570,10968170,7243250,8665540,7898250,7859750,6059625,10084565,13362600,6857075,9955700,3807000,9020500,5500000,8616750,9475900,10917740,12196780,3577000,11019000,11217570,13037450,12149050,14109250,7439500,13277730,10180900,10905100,8513600,8538070,12739970,8841600,10180400,8637740,11197455,12388350,7441000,10950540,11338250,10737270,11190500,6951120,5628000,8208000,12812990,9051140,18681200,9220450,13316650,10039740,8055010,12038110,11985700,8345500,11286720,6754500,13245700,6519250,13986310,12268750,11050340,12035430,8974750,21208080,3928250,13903480,9900740,7329125,11060050,9087160,12026070,13547460,9574950,13613320,14480950,12649650,7689500,10864880,9683840,10676510,6066000,17471500,8087365,12837890,5038250,13099400,11575870,13502140,14121610,12643190,11333130,14020280,15850840,3891250,14106990,10848760,10736530,6683750,8969400,9117330,9132865,8325850,9155320,11606300,5464000,11926600,8669050,10285360,9213320,13308490,13089560,8611350,9952510,11505040,5136000,7416000,6081000,14402200,11863790,6997500,17248780,13518220,17934280,12183080,8532500,10569040,12021160,9000305,12412950,10281375,14773100,7178990,10970740,8270125,7514750,9737060,11665400,5441000,11375820,7697920,11809800,14276060,13888700,11863220,13785170,14159480,11994050,13266650,13597890,10431690,11752460,13945940,10699280,10895000,5882500,13990830,8344040,10773390,8320290,4243125,7978600,11117625,8991380,7081160,8269500,12397590,5716935,11148980,9320800,9282050,12753880,14246650,9902600,10254500,12428040,13594630,10774250,13324620,14471520,17242780,16814260,12639580,6642000,13049510,16835310,10371250,13805110,13975040,3454000,16693265,14154820,14691200,15704500,11645200,7284250,10169750,9252340,12308240,9689440,13280420,7603010,10631860,17449820,7904525,17187060,10137210,13206150,12792980,8690980,8878740,9629850,12919750,12347950,4627500,13822920,12072650,11270960,13957610,13356200,14477850,9077550,11998010,13942350,12941380,8598500,9200725,9393000,15122540,9737150,9241670,9688300,11630020,9301605,8292190,16300260,7525375,6911070,10563700,7693965,8418500,11516250,10567050,8939050,11648840,8883750,17363590,14477820,6399750,8348770,13764960,3210125,8889850,9951030,8776500,9468000,8350260,16354300,7957500,18402940,11820720,13761350,11939850,11712660,9225240,5711000,4876500,13925230,7507375,13545830,14866620,13376150,11819950,12495925,4182250,9064800,9995770,7377300,11277710,9643920,8756780,21789460,13906030,21810920,8484620,15494260,8387750,13435000,6352250,12279230,12885880,10764320,8092310,11014650,12334760,13267150,8414700,12304750,9448455,11284700,13094870,6353750,13331980,6678875,10065600,9150510,12232800,14103230,8957390,20241530,8080925,6567375,10335050,9045605,13234330,5032625,12724510,6888450,11411760,9965620,7651250,12938720,9946290,12123250,12039380,6776450,7193030,5272250,6252365,11840340,9890560,14485900,12359320,12716150,4982055,20562600,8732470,10754410,13168605,7675750,17720900,12454750,12735905,6997335,9983410,18546530,13211540,9808360,3102500,12040960,11963590,13478895,10499650,11667270,9022165,6206700,8287180,13442250,13113330,10095000,8597500,13371220,9268750,14397160,12339780,10236960,8566750,18658980,13186470,9292000,7202750,11338920,13642920,7174375,9630040,8203665,8661320,11548700,11320960,15503650,13606450,8423350,6061625,7688000,10958500,6237500,5426740,6752540,10765530,8871195,10802190,8917740,8638540,7922150,9711430,5330500,14862430,8901750,20362800,15779500,11274750,7999750,7729125,14411150,12632900,16497820,9847570,10794060,12171140,11451250,19939120,9778420,9045250,9758600,9879950,9795980,8296250,11295000,14962800,11546330,10173350,8638785,12866410,12025410,7550250,8421940,9341380,14203140,6313250,13627030,17360470,10458220,11996750,9162950,9701600,8527375,4517000,20487250,7774580,8637320,6374265,10567300,12368790,4798625,6611365,8195220,13553180,12879720,8418360,9168580,3815750,13567150,9607900,8269610,13154100,9455100,21686920,13801050,6348750,13040160,19761890,8854790,9955440,10643500,6666735,10589000,8983700,11073340,8454860,6802150,7814575,13941590,10468580,12616820,20982920,13788080,9985750,6660000,5355750,16982280,13759280,12840300,10243060,11029700,16174720,8883050,15476650,14093160,10782380,7839500,11531000,17240870,8916410,10931250,9103800,11090200,9177820,10056300,6560250,11704830,9837875,9879040,8572650,6576375,11046310,8242250,10571990,6709750,9817160,11513500,11348140,20272170,20656290,17670400,11583300,8033250,3331750,13971130,7693740,13118450,12721750,9480000,12046250,6050375,12924800,10048510,11770400,11381360,6224875,10890050,10882430,10560810,5326500,7341790,18911110,18011000,19789040,14139220,7926700,7484395,6855750,12904650,13057270,17357440,6916665,6652020,9653285,7603375,9790040,7629750,7014250,4661125,5147305,7374500,10235550,17874820,21217800,11559880,9464500,4491625,8803420,13245710,15003560,10671275,7871720,14429740,10185610,12946500,10001250,16935440,9347935,5434250,11663490,15589440,10337000,14200900,13709340,13685190,7953250,12332820,22053480,7356625,7338250,9996000,6849125,10462500,17523920,10010000,14873340,20461220,11231390,12711220,15010890,10139270,10007800,5636000,7877645,11716020,3226250,9368650,7074750,5587150,16593240,9478820,6356125,7145230,10626305,8744875,12335200,10284000,14214940,7727410,5564000,12391870,7976295,12572700,9801040,14917750,10362620,6503500,13864450,8438625,5818500,15472200,7883050,13197400,14093240,9869710,11786460,13009230,6251000,6821735,6685100,3219750,14844980,12406480,9094750,9040975,8743750,10976510,10106750,6996125,8469580,10148300,19240040,10101200,11772340,12492400,7131000,14392520,12097820,10163940,10780920,12756200,8033695,7972690,7197800,10439690,11827040,9045250,9871800,10994850,5347250,14737850,7335890,7952375,22633000,8442110,8214800,13921240,7520335,11212900,9651940,16071420,7700295,14057110,10936000,7593850,8657220,9390500,14415540,14408010,12364620,10563530,15399860,15793800,8078550,9632330,8718400,9155815,9073040,12578650,4512250,9484000,9722500,11762140,7913650,12063380,4819500,13870800,20817260,6895000,9555750,12076530,12439640,9915110,7074750,13180810,14344210,6333495,10455360,10302000,10911000,16384220,9647855,13822050,12754380,19627640,12542950,9365500,9406050,6755000,14345060,14717440,8255500,10252060,10727975,8100250,6286255,8779820,10366390,15417080,13511550,8761750,9451780,20999330,5100500,6056500,9333075,12351340,14516600,11238050,11167270,9572950,10647205,7855000,21362800,16567500,8812260,12442340,12885120,9148120,7954770,9736540,8570300,10525625,8978750,8289150,11177540,13654950,8586625,12110770,11095180,13244520,12591440,13554690,6632820,6662000,6624250,22124730,5782500,11468620,8229750,11374070,6057375,13385355,11350850,13948580,5815125,9758650,10438400,10448260,20152800,6973595,20703290,6389500,10374040,12026900,6881585,7793500,11483350,11341450,5477875,7468250,12654180,8580950,7088700,11254700,7150185,11175750,9416330,12266200,8901800,6587380,8762710,11582700,13039650,13679850,11918620,10092000,10178500,7484250,13851000,6590000,11395000,11050140,10699500,13712780,12756380,11573840,5094500,8837090,11346080,12427940,9853200,9546450,7429230,13378150,15546980,12224420,5745250,6969750,8934470,6658000,5101000,14394140,8022500,6924500,7720300,7640160,14791400,14095950,9429275,13511360,11131800,9508930,3863750,12943320,17224100,10688640,7397875,8852085,9771780,9270980,12128780,7538000,10670035,6906295,9750500,9057500,13003330,7196210,6167000,12958620,13028240,13361380,12537750,8712970,14901220,11574300,15032380,16295260,6040500,12543380,12428900,5015625,9899050,5770875,12053310,7706100,6472305,11829500,12078350,13081070,9060500,12827050,14104610,22078000,22104600,15965260,6732825,5553875,8715800,15344360,21008600,12386240,6810000,14085560,17695060,3524750,9540370,12389840,7741750,21330680,8967600,7979400,11129980,21067620,12403350,14000930,11160095,18143430,10033660,6176500,12504530,9801480,7167380,8342150,7197750,10132530,5980500,14529560,7265010,13450300,15442540,11613500,10895520,13672720,9684200,12545220,7938700,12837050,12124700,9582140,14246350,21735940,12305480,3914750,14285850,13938520,10686720,12432000,14546520,14155830,12535180,9299500,10726300,10788420,5171375,21122200,12735120,7852070,12207750,21562790,8678060,6493670,7533450,10237660,9364090,4926250,7701505,12078770,21329650,7476500,12815640,4546625,13925310,7242500,8416200,9852290,17131960,12069180,4944250,10441050,6263750,10058430,17592540,13976300,3947250,11696200,10515160,10296250,13979190,9404200,4425500,15667180,10093760,11357640,9706720,8419850,13170800,19830670,9409880,8397025,10241290,14256340,9553870,7559125,12368280,8322920,12694600,10862580,12973020,14218350,9103100,14579200,12503750,9459500,18770340,13484650,13699490,10768375,12199430,10190000,20628140,12911530,7478460,17338600,21858180,11514600,9708700,4606500,14832770,8989620,12514000,11531350,16026600,9741000,7629475,10677650,10178870,13340400,12863520,14482020,13484060,12209510,12669880,20037030,12080690,7810830,9030250,15110580,9316900,7066280,5976000,9785400,4190250,21141390,13523500,8816220,15524880,14162605,8109400,10666560,11085750,17144820,6201000,7214000,12900770,7745700,9799440,8297305,7040500,12285100,10443600,11325985,9664460,8159375,11825750,11402380,9318280,16859010,14072760,9508790,15030780,7135990,9314850,13534820,12484960,19021940,9732090,11072500,11127180,3990250,10313310,7350500,8336390,14025290,13859950,7824540,8447030,7441250,10320050,19633070,10477750,8440180,12947100,9701100,10829040,12697830,13138550,6527250,15277200,7393940,13892720,9077510,8687220,10562850,9656875,10826770,10503250,13402700,7230510,6922495,9059580,14538990,14554600,8734350,10983560,7058310,14465540,12255910,9556640,5955500,7078720,11200200,12144500,13871280,8004510,13035050,16174900,12310100,8874700,8071050,12593000,23247590,9255095,11035260,12677420,7365020,15492080,7916100,11573840,5781750,15769700,13208200,8563750,14272420,9689125,12177750,11285250,7051750,7870150,11718530,13055160,10422340,8809180,7062500,13430730,15163850,18976810,9524800,10415200,11350430,9641790,9038500,10122740,17542110,5950375,14201380,12316440,10714500,13458750,14405060,9171900,17545620,8157710,16440220,7287735,5207250,20559960,9945720,16947760,10940600,7084250,13158410,9892600,8728800,20402870,4517000,7917300,9786000,13979000,9673210,9824900,14358860,8408440,6590550,13730250,9688320,9903840,21844070,9446220,7768750,10011600,11778850,9786440,11930880,9185320,8756250,7827000,11487520,8072250,8929390,5994000,8929150,15777670,3452750,10170565,14299560,10121570,6614250,11620880,8551500,11365900,6849000,10007400,7838500,11401150,7308060,11859315,12501250,11478110,12316650,7677000,18233520,16243990,10840625,18310270,12177140,11146840,8925600,13438040,8327210,11683630,8227170,8269700,9108940,13858750,10638400,8082400,12106760,12415260,20509480,12809850,12575330,11409485,8178250,14083210,11411380,9462850,17253540,7864100,12371480,13989080,6544250,14832480,10542660,8426070,8661120,7924350,18787680,8987500,13053100,13868440,8854370,12571020,8702100,8911250,10846380,9550950,22431260,4704500,10386500,3029750,14852210,12836660,9622080,4342750,6774500,6397375,13871100,9962560,12064300,10974200,12570050,9798850,8602800,7313720,5449625,13397330,4667875,8885505,7681125,16959080,20175500,8968800,12539630,14421410,12858800,8710250,9638990,15324610,8510250,12821435,10932200,6309980,8439410,6454700,16485600,7850435,11286200,9033320,15132260,15023210,12000450,4204000,12772400,6088870,12123800,11207070,8485500,10810090,8627495,8271200,7903000,12303600,18896300,10496550,12826140,6511000,10063000,7575000,7182160,3992000,12429230,12994530,8836970,8391010,9184130,13867560,11866220,12526950,13457270,6044375,8939375,12490460,9231950,17492740,13890750,15136680,7420660,5649250,12940955,12599400,10029280,11096050,13479510,10884000,10868500,17961120,11642000,15488740,7887730,12244540,10667920,8940790,8172250,6652125,14449620,8590100,9485505,11417640,13745240,8858160,8086950,8506290,12844055,6002600,12596710,17603160,7604205,9330460,8283610,7451100,13835200,8645250,14547240,10432580,9393450,12196750,8424650,10468250,14373860,10526040,3999250,13043320,14333470,8334330,14274180,8813250,13855020,9238375,10160800,10116560,13562340,8197450,6873410,10626810,9462850,18235960,11243310,6282125,19041320,10151900,12758250,7455000,13259300,6114295,19897420,10382350,14990730,7419410,13265120,5133330,10920230,6686075,4943680,8052900,6609500,10885530,13623940,11361840,7045750,4372250,9298860,12114410,9409300,8195890,8179590,9079950,10734750,5716250,9840560,11408210,8072750,7582320,14787965,11793720,11110165,13464130,6958750,9583400,13797670,20542790,7495030,8088000,12538550,12419450,7643550,7018750,8445960,10437700,13494580,8298710,10607620,6155750,8696375,9387600,9776410,10569880,11690990,10158300,14741440,13460520,13827160,11469350,10676410,8299955,6830600,6960000,10666520,8925995,11892560,7906290,6579195,11701750,9767030,12227500,6410875,11076280,9292400,11139830,15990020,7586000,10904100,17489700,11401230,12373200,7877250,9767120,9258050,8136645,8000150,8358120,12153420,4864750,3717250,13839900,11514650,7497100,8316400,5237125,8460450,7428250,8209950,13137420,10708580,12997600,11302520,4642000,10260000,8120800,5623250,10280800,5798500,12197980,14238900,10305500,9402450,8687250,8427650,9524740,9819020,9017500,8899375,9886560,13164420,15456650,8397000,7626210,11994130,11543750,8653000,10056950,5455965,4674000,11692000,10790770,8894000,14263020,12162650,9878990,9459475,11337335,5301855,10163100,9892565,14753320,7137900,9150280,9127350,7482260,8640110,8259010,11899860,5323250,6614000,3189500,13938740,8263500,4937025,12502800,13554470,9347000,5822750,11726550,22686330,11398650,6142750,6020125,10208460,12204650,7370250,9613940,10436115,11837500,7775990,12318550,10038630,8346000,11569710,8672000,11217940,5425250,13347960,6629690,10757980,18690080,13638900,11881010,10297500,11544130,8947500,7399625,8815630,10977400,9470890,10961500,9817500,15195150,4678875,7976000,12336720,12486170,17101580,20151580,8702510,17876680,4555000,7130400,8469500,12511690,10559330,9696550,11015000,7191840,8620150,8836310,5852250,6843000,15673080,14483410,6804500,8380775,8165230,22201820,9311100,16377280,4737250,7446000,18554220,10538280,14468350,14032000,20551520,8819440,11935150,9092600,6390000,10449500,12142520,12115600,9386685,11581500,9791680,13144050,9283260,16515880,7079750,10253410,14256100,12493850,9489290,8766600,12436280,18673590,19369040,7582840,11750710,15247820,15310800,5180000,8033250,12871040,5925790,7036410,15676760,8285550,18293830,13876620,8142550,10353315,6878625,13456660,10588470,11346500,11642240,8005310,22619470,7828105,11077770,7584040,7387600,13370400,16094990,15030330,7666980,16918940,7732750,12231750,5283250,9570520,9842290,11064550,10706080,9834610,10980150,8935900,12089100,11966700,12755110,12617700,11872680,13566940,10080770,9914650,5352875,8499600,6221000,4591875,13331980,13264000,16625090,3741250,12010860,12432100,6421125,7649800,7119000,11187900,12673360,7872500,14115670,8368990,12099995,21252230,3833500,13463390,6468090,22007470,9284180,11050660,11633740,8061375,12145750,9221000,16666700,7685050,9188710,6479750,11174665,9120250,14289740,7240500,7935350,15093640,5754250,12021830,7537975,10854110,15603340,10636110,11643180,9577000,10916420,6235500,11827050,8931100,13510630,7628730,8287250,10381640,12556130,19978530,7363600,7759200,9160100,15053510,12555850,8744300,12212000,8975540,6152500,10831740,4626250,9942750,13038800,19467250,7056300,11948330,10660400,8361750,13175500,6031500,7478750,9780000,8614150,12952820,11938300,10942360,13534450,10707680,9497460,7575380,8458500,7625250,11709450,7032250,7756750,10516450,11832500,8170290,13940820,20387660,11088470,8865880,6243300,14956820,9717300,11834440,9929000,14047140,7180750,9522210,7730470,9000320,13399250,7320850,12035150,4505500,8487410,12763700,18543840,8965750,13378620,13199950,5633250,14416660,9422000,9089140,9681250,8876760,20003050,12334440,7558000,19839060,13570940,10341610,7007250,9967750,14721720,14052490,8177250,9213250,10820520,9187560,14124700,9886000,9500250,14704500,15237150,8987800,12990820,11062000,13472800,8762095,10357920,8614330,13475870,9080550,21530880,8920800,7870685,10246160,13217550,11265800,4168625,11001750,9226180,7195550,18365420,5648000,8992520,10485480,8001610,10138550,12529240,8904750,14737720,13798400,14615700,13495120,12034000,20334690,10781300,9512550,8994500,9354900,14830590,10195310,13027020,8602280,6515045,9749000,9009500,10873880,8017350,8474250,12505440,8567050,4256250,11133440,9884750,12443800,8445450,7387625,19848170,8224000,13473750,8728635,11781050,11739740,12613410,12656590,11585000,8474920,8965500,16077100,21750600,9818010,16196760,11547935,6690720,9755310,9991510,6909125,7065000,12514070,9779750,18610560,16478960,9356020,5576560,10214750,11046700,10753720,19240920,9715800,7638500,7955250,10897710,7877290,12781400,13572840,9053300,12999460,12590750,6830000,11971000,9832750,6249500,9302420,15931810,10605950,15089800,8802250,11659850,8713470,17426900,14480160,8860120,8461750,6677000,8967625,11347040,13461540,11289880,19959060,13381530,13522410,14376860,13937920,5448750,16246070,11077460,8834250,9446200,12196510,12382360,5016625,13081220,4521500,17812120,5162250,4485750,13849520,10753200,15722880,7028960,11095900,10560230,10728800,10609450,11415250,15598600,7812900,12045160,10569900,5561250,11671660,10133720,10119880,13933850,8222000,22593290,9652510,8581000,7605945,13129250,10047540,8911850,13874910,12798530,9003860,9029500,11570100,13902360,7575500,9150230,9893420,7121000,6334300,8739135,13390780,6386750,21165570,18055240,6501500,12583340,7112250,10983530,15728210,10578000,8425000,11541320,7865000,7269300,9801720,8896740,12311250,12256520,6583500,8557760,9440800,12558620,12074700,8299100,8434850,14038465,9729650,12627130,11905180,8182525,7704145,12952940,9255790,3974000,9477620,9318660,8328830,8358250,8748900,6030000,11227800,11132540,11045865,7561350,6433250,8352235,13025840,12017530,12386540,9938250,13774720,14042030,11697500,8116035,12584475,3953125,11637200,14013210,12525300,14064400,13063900,15120240,11354230,10728940,7851840,8545660,16549820,12913500,8829350,13875150,12610500,19359180,7368100,14029100,5028250,6321500,5856595,7825250,10708380,7372180,21512830,15533370,11371920,10388980,4762750,8689410,10790620,11481960,8259750,9346410,20841430,15118500,15202400,8628250,15486610,11377000,5378000,10334640,7774950,9235150,9266600,9404600,6771500,15311500,9389920,11948440,12129270,11681650,15224290,15490850,7608500,17268380,7500750,3608250,14019480,10283690,11109840,21350340,5582500,20231160,10770140,4664500,8086750,10049250,11237140,18763360,10088120,18286600,6956750,10312400,5699500,6036800,10145540,7387000,13073340,11494940,12383920,6624750,15087520,10295890,15414900,8172980,5360500,6613250,13250400,12829750,10724600,9524080,20283340,9427130,21340820,8547800,10412770,18197010,6350490,10104040,12336310,10978335,6721750,7031000,11925160,9732220,12787100,7242250,14635980,20581260,20600300,4456285,21744380,13342960,16063820,19151250,8817800,8239330,6946275,7215190,7774000,12369320,8632400,10917620,10107150,16686780,8051490,12493450,9598800,5644750,14849300,9789995,13708870,11709470,7840470,17735560,13737660,18257260,11711950,13840875,8747420,18127850,8572850,8882750,19436960,20421310,22499550,5710250,10839370,10249920,10813000,7283940,9423970,10222950,12914980,14057920,12498160,19030440,11934800,7141125,11734800,9719120,13281650,9512350,22401070,12616740,12631140,13846250,20695180,8121150,11205450,14702890,13177330,6805500,7148255,8371810,14524030,13802880,7945255,6628625,5574400,7900250,8621960,11845200,9516250,8558000,9789500,8383570,12136090,8905710,15165030,8905640,5623500,9962690,5109750,18726320,21198330,7132750,13575070,13267610,9605500,8941450,9784500,20399250,6226140,10282630,8202120,8634900,18792260,12288650,11311420,10236350,13800280,5844625,11853530,21336660,6620420,17976550,7681650,5358500,10369970,12590580,11217480,7204440,9387330,12992320,4513000,7585000,12605100,5447000,8024600,20203750,21006920,6374000,19430380,15140080,9966200,7729875,10175500,11978250,13622050,8960460,17542930,7489210,7688390,9951000,6972000,12547180,21926630,10186950,6491375,7676730,20560910,14367780,6927750,15502160,13780420,16234440,13926940,9660660,10621695,13104880,6787250,9812105,13836800,5236000,4941000,10072650,19103360,9324040,8543280,8929340,13082710,10738570,11651505,8331850,7319850,11543250,7299610,8617960,11842250,7516880,12344390,9455790,10908570,15256080,8688350,8177125,11546650,12734420,16129140,20889760,11511100,7770395,16838870,14602040,12703130,8265980,8358575,10918260,11950360,9084140,11278550,7168585,5255750,8446600,7791750,14993670,8742520,7866010,8847900,10392560,14309040,10032310,20007810,10327100,13239280,13510550,18132160,11818860,20990270,12184280,6660500,13690650,8169350,7102330,8425520,12732500,14814550,6059870,4188750,8536600,8359690,10972000,11793060,8083950,12840250,9392380,13223000,14328620,15189120,13715380,13281200,11316450,7525650,7413750,14008530,9349850,7527770,14962620,7629750,8096500,9354620,11548600,20686670,7238630,9814930,8052400,9866820,9161750,6076595,7001750,12089360,12814080,6179750,8523750,9940500,9975260,6934500,8826875,9751820,14441850,13641050,12728180,10386800,15740140,13952630,10012960,13723030,6034000,6866800,10009165,11350880,10005620,6241800,7754200,13752850,10074070,12152660,7568500,10574160,9966350,9765250,8595550,9000960,13214700,11037750,9168900,14168750,7959100,15421030,10698900,13955470,12661850,10360480,14531570,6416600,10529400,7456590,15062480,12759490,6831380,23314580,12310870,15147490,9400670,12827720,14299300,6803175,13409070,9034940,14279490,5693500,11028940,10742130,7778900,9674790,13520850,13576610,5164250,18829680,11896620,9966750,14404780,9738300,13383450,11472860,12148390,13491940,9378105,7705900,9540150,15000180,6801500,7829240,13464510,11553400,9544150,20497670,10637520,10915660,10013250,10199620,8154400,5489750,11632500,11056500,12113600,20654230,15025660,10991250,8934000,11597500,6437350,4004250,20684660,3267125,12402500,19124310,12019650,13476000,3793250,11011880,9006900,17076900,8799000,14217890,7347950,9020160,5093750,11301650,7685250,8380250,15880930,11391530,9696120,9020650,10008525,12129780,6765500,8847850,4577750,11679950,10010430,5890500,6918500,7945975,18604220,7358760,9435600,7819750,12536520,5430500,13241770,12549700,9317950,7730750,12731260,9871100,11325590,4315500,8958560,12133960,22217590,4981250,8568240,9303620,9890550,5995375,10332200,15899450,7769980,9414770,11400820,20602870,5488250,12181500,11336600,4049375,13033360,11784400,14197950,5332000,9654890,9732850,11240430,11566670,13675700,5436000,7686250,5254250,8583250,14727220,20288980,13088250,10622100,11374960,6146755,10718100,13026890,9505500,5709500,18576840,9012665,16434500,9330090,19002540,10377680,21447680,11475260,11455900,20398010,8258600,10217940,16595430,7161000,12952300,8936750,7085950,12498810,9552295,8022740,3785500,6555750,13468145,10157300,17346200,9060600,12043540,12733640,10354350,17155600,6184500,23407860,17593940,6100250,18457180,7814500,11226950,5874250,9688485,7999200,21770500,7618500,6762300,22726060,13255480,11913820,7169720,9094300,8988520,13912330,21104380,7882680,14657040,11097000,4788000,8548150,7174975,10573610,8346035,11716760,7130000,6117625,10979125,13635670,13923340,7234950,16473460,11230600,5752250,6980335,19260550,7044865,8655900,13982900,6986750,13891800,6340500,12053400,21283130,8824900,11950520,9892670,8116455,10161000,20329120,14488580,4980250,6059010,19125010,12089580,7270375,12774630,12530800,9774800,7995545,11121130,10335130,3944500,8032400,16444460,7734500,13515920,12508550,19753360,13926830,4828750,12086610,11443980,9685425,3968625,12121290,16152680,9060830,13426800,7662250,19697720,11604630,14885280,11294655,13531290,6822110,10070405,10189350,8852535,10611070,12763380,9079875,9318600,16841700,9593020,10706200,8689650,13580180,10303350,14645650,12450610,10995190,8578170,6212280,13027180,19807800,13746750,8755610,20940440,18098940,8487780,18483960,14560920,8540670,10937450,8642060,8798650,9615620,11812650,6348535,9051580,6725100,9467250,7968450,14686020,8254510,17560410,7300250,8291375,5076885,8624170,8399365,14868160,12917000,9052280,9364825,6454125,12109340,8701550,10892720,8566460,18179660,11265840,21660460,12096000,13901150,5710375,8232600,6189750,12188020,8059250,8409000,10233215,9283610,7603540,12303350,4971250,8689250,6457750,9531325,19642900,7451850,5734000,13133030,15108770,9671750,10173430,9869950,8326585,9896250,5736500,12368750,8862060,14049630,8600300,16243160,8110160,8389450,9085400,8564170,11447880,15397020,8704550,7197730,10851750,7145500,12492250,4770810,14956290,19477760,19536370,5813750,7484785,11164340,20626490,10291500,19954710,7542800,8677460,8937320,9860700,5412500,12548800,9787650,22579530,8168160,8924700,6478250,10113810,9573230,8896420,7794500,7990550,7686500,20016180,9810880,14705880,12522140,12718400,12083500,6518000,20460930,7203000,19871700,18316390,9815100,10001300,9588000,6646610,15596520,6957500,7057360,8676350,9691680,13921280,13449750,12161870,11157530,13547020,14034060,16315140,11119250,19775040,8754980,8429640,18076450,12776550,5742750,6988500,9941220,12732180,8688420,8191250,12085000,11740620,9341570,18758320,14556550,12893650,7352780,16291000,7975350,9864800,11713120,12755280,9987140,9198650,10514440,12090050,12964760,8889360,8216980,14844750,10644170,7277375,11879730,10849240,10504060,10989500,9182700,10960120,12968400,9208160,18096490,9191250,14673210,8394250,8993590,9452650,10094760,8350380,9288000,13668020,14412320,16222200,11657540,8444880,10029650,8844000,18035580,9102370,11199750,18657920,14647600,8977940,12878485,11443800,6253350,13470470,7282000,11486650,9295440,11395530,5698250,12997440,16470640,10311140,8521180,11370800,13866780,11051205,9449050,11941410,5811250,8209450,3081375,10206440,18352680,7482800,10512050,8102500,9822520,14365020,10771100,10994200,15564570,3948000,11327800,12929130,12606890,18568580,9313330,15246580,19110170,8379110,14917160,19824800,12746690,15181250,11444700,7184600,8416200,12103000,9306125,8929050,10308500,14077750,11008020,7577590,7279250,8224125,9410965,6700125,9000790,4432750,19622340,10443500,18171220,12560200,9146050,13719580,6626000,8737670,5539000,11861100,10039720,21077760,19147860,13713910,7443750,7034730,8840300,14265360,8439000,8643590,11356690,14985280,8394815,9622650,9738500,15242220,4389500,11597050,6139750,6487600,9545390,8636890,15505720,13263370,12834440,11780960,4877500,7539000,10841340,10756700,13144990,9216160,9695260,8688600,8863490,11321050,9031250,12190400,18122230,7525505,8229000,9896880,5990500,22465060,8516800,15982580,7176980,8784250,9632440,13459920,7543900,9171270,15688540,21690890,7789175,13614160,7726850,16803000,13395730,6906420,8477410,14456880,6671500,9833380,9635600,14925700,3172500,9632770,12373420,7606750,21960910,14990160,5819195,4824750,11486800,8278220,6382640,8389190,7744625,13451130,3090250,18515080,9159770,7344540,10353100,14149250,6615250,8171850,9167400,6835375,12537920,8127405,5763500,12555150,6200500,12157950,8041750,12062330,10249110,4295250,22351040,8583750,11567750,10287820,11003250,8229420,18946420,8258790,12776330,9437150,11469920,18893580,10324250,9724240,14244070,11089250,9652750,14684750,20656530,14991115,15879350,10712030,10260570,11126750,7638750,16990300,20301890,13382350,9216700,14876760,10506870,15106810,7471850,6787275,4613750,10406790,9722150,5850985,12316150,7459750,13366140,12619960,16796780,7131000,7139330,7027585,9726400,11834000,10369740,7930750,7260750,10842880,5483250,6463000,8444770,5935980,8412880,12986720,7968600,21047400,4635625,12286010,9616360,6167500,8215400,8224250,12459280,8877450,9013550,10113540,12415480,7821300,7460125,10308550,8037750,11374040,9251110,13861750,7604000,11826060,6348250,14737120,12863220,9994920,7105875,17414970,11066740,13670150,14580880,5029250,9868600,14344300,11902185,12575070,7218625,9577910,4224375,8315940,10146980,7180640,8861290,9054350,9031350,7163000,14796940,14016870,7129250,11531600,9631420,13498060,5374750,6318500,12217890,14119680,8159000,4504250,17134360,15086550,8660320,5516500,9815400,15769420,6375000,14248300,12719430,9472040,17152340,11264600,20212910,12041420,9815400,14632790,13417250,14319840,7062250,16663130,8441250,8988830,5555875,5020500,6049750,8992980,7399500,10559260,8347500,6467750,14238410,5664050,13230010,6481750,12010000,10318400,14608400,8076410,12574540,9642400,13560550,11047570,6233500,10231600,9632200,8577425,12335950,9242930,15023650,9296665,13045810,10878900,8835500,6466375,13088850,13738350,14647650,8729375,7730250,6987500,16372900,8272100,9261000,12279920,7919880,11589220,22629400,8958140,9893805,8145750,10148570,7316000,10134780,10134160,21556330,9933680,7543620,10353250,8711490,5967360,14290850,5853875,6498050,13573320,18588840,10445600,13131950,14119360,10829080,7104320,20782250,6613250,6032250,14154300,4436750,10711340,7996045,11477930,9493940,9681475,12593220,12560600,14179660,12845090,10730970,12674160,6461230,10732960,10662050,14039550,10889655,8342600,13906100,12716450,7130125,15237520,9406680,13049030,10363160,14949140,13383200,9838490,14331890,11273740,21185700,12654650,9896150,12824450,8709750,7099500,12195960,6162250,13754600,8195150,19798550,14944220,11383690,11570050,10808940,5688470,13117020,7929750,23013500,13697880,13174060,8017445,7611350,14280890,9782785,11129100,7543400,11956000,4587750,9120250,7164000,14025340,11095520,11437920,8610340,9420260,14155200,13308750,9593250,14111320,13944780,7371800,19501600,6211750,5643500,9387250,5353000,10818480,8351410,8507000,9976480],\"yaxis\":\"y\",\"type\":\"scattergl\"}],                        {\"template\":{\"data\":{\"bar\":[{\"error_x\":{\"color\":\"#2a3f5f\"},\"error_y\":{\"color\":\"#2a3f5f\"},\"marker\":{\"line\":{\"color\":\"#E5ECF6\",\"width\":0.5},\"pattern\":{\"fillmode\":\"overlay\",\"size\":10,\"solidity\":0.2}},\"type\":\"bar\"}],\"barpolar\":[{\"marker\":{\"line\":{\"color\":\"#E5ECF6\",\"width\":0.5},\"pattern\":{\"fillmode\":\"overlay\",\"size\":10,\"solidity\":0.2}},\"type\":\"barpolar\"}],\"carpet\":[{\"aaxis\":{\"endlinecolor\":\"#2a3f5f\",\"gridcolor\":\"white\",\"linecolor\":\"white\",\"minorgridcolor\":\"white\",\"startlinecolor\":\"#2a3f5f\"},\"baxis\":{\"endlinecolor\":\"#2a3f5f\",\"gridcolor\":\"white\",\"linecolor\":\"white\",\"minorgridcolor\":\"white\",\"startlinecolor\":\"#2a3f5f\"},\"type\":\"carpet\"}],\"choropleth\":[{\"colorbar\":{\"outlinewidth\":0,\"ticks\":\"\"},\"type\":\"choropleth\"}],\"contour\":[{\"colorbar\":{\"outlinewidth\":0,\"ticks\":\"\"},\"colorscale\":[[0.0,\"#0d0887\"],[0.1111111111111111,\"#46039f\"],[0.2222222222222222,\"#7201a8\"],[0.3333333333333333,\"#9c179e\"],[0.4444444444444444,\"#bd3786\"],[0.5555555555555556,\"#d8576b\"],[0.6666666666666666,\"#ed7953\"],[0.7777777777777778,\"#fb9f3a\"],[0.8888888888888888,\"#fdca26\"],[1.0,\"#f0f921\"]],\"type\":\"contour\"}],\"contourcarpet\":[{\"colorbar\":{\"outlinewidth\":0,\"ticks\":\"\"},\"type\":\"contourcarpet\"}],\"heatmap\":[{\"colorbar\":{\"outlinewidth\":0,\"ticks\":\"\"},\"colorscale\":[[0.0,\"#0d0887\"],[0.1111111111111111,\"#46039f\"],[0.2222222222222222,\"#7201a8\"],[0.3333333333333333,\"#9c179e\"],[0.4444444444444444,\"#bd3786\"],[0.5555555555555556,\"#d8576b\"],[0.6666666666666666,\"#ed7953\"],[0.7777777777777778,\"#fb9f3a\"],[0.8888888888888888,\"#fdca26\"],[1.0,\"#f0f921\"]],\"type\":\"heatmap\"}],\"heatmapgl\":[{\"colorbar\":{\"outlinewidth\":0,\"ticks\":\"\"},\"colorscale\":[[0.0,\"#0d0887\"],[0.1111111111111111,\"#46039f\"],[0.2222222222222222,\"#7201a8\"],[0.3333333333333333,\"#9c179e\"],[0.4444444444444444,\"#bd3786\"],[0.5555555555555556,\"#d8576b\"],[0.6666666666666666,\"#ed7953\"],[0.7777777777777778,\"#fb9f3a\"],[0.8888888888888888,\"#fdca26\"],[1.0,\"#f0f921\"]],\"type\":\"heatmapgl\"}],\"histogram\":[{\"marker\":{\"pattern\":{\"fillmode\":\"overlay\",\"size\":10,\"solidity\":0.2}},\"type\":\"histogram\"}],\"histogram2d\":[{\"colorbar\":{\"outlinewidth\":0,\"ticks\":\"\"},\"colorscale\":[[0.0,\"#0d0887\"],[0.1111111111111111,\"#46039f\"],[0.2222222222222222,\"#7201a8\"],[0.3333333333333333,\"#9c179e\"],[0.4444444444444444,\"#bd3786\"],[0.5555555555555556,\"#d8576b\"],[0.6666666666666666,\"#ed7953\"],[0.7777777777777778,\"#fb9f3a\"],[0.8888888888888888,\"#fdca26\"],[1.0,\"#f0f921\"]],\"type\":\"histogram2d\"}],\"histogram2dcontour\":[{\"colorbar\":{\"outlinewidth\":0,\"ticks\":\"\"},\"colorscale\":[[0.0,\"#0d0887\"],[0.1111111111111111,\"#46039f\"],[0.2222222222222222,\"#7201a8\"],[0.3333333333333333,\"#9c179e\"],[0.4444444444444444,\"#bd3786\"],[0.5555555555555556,\"#d8576b\"],[0.6666666666666666,\"#ed7953\"],[0.7777777777777778,\"#fb9f3a\"],[0.8888888888888888,\"#fdca26\"],[1.0,\"#f0f921\"]],\"type\":\"histogram2dcontour\"}],\"mesh3d\":[{\"colorbar\":{\"outlinewidth\":0,\"ticks\":\"\"},\"type\":\"mesh3d\"}],\"parcoords\":[{\"line\":{\"colorbar\":{\"outlinewidth\":0,\"ticks\":\"\"}},\"type\":\"parcoords\"}],\"pie\":[{\"automargin\":true,\"type\":\"pie\"}],\"scatter\":[{\"marker\":{\"colorbar\":{\"outlinewidth\":0,\"ticks\":\"\"}},\"type\":\"scatter\"}],\"scatter3d\":[{\"line\":{\"colorbar\":{\"outlinewidth\":0,\"ticks\":\"\"}},\"marker\":{\"colorbar\":{\"outlinewidth\":0,\"ticks\":\"\"}},\"type\":\"scatter3d\"}],\"scattercarpet\":[{\"marker\":{\"colorbar\":{\"outlinewidth\":0,\"ticks\":\"\"}},\"type\":\"scattercarpet\"}],\"scattergeo\":[{\"marker\":{\"colorbar\":{\"outlinewidth\":0,\"ticks\":\"\"}},\"type\":\"scattergeo\"}],\"scattergl\":[{\"marker\":{\"colorbar\":{\"outlinewidth\":0,\"ticks\":\"\"}},\"type\":\"scattergl\"}],\"scattermapbox\":[{\"marker\":{\"colorbar\":{\"outlinewidth\":0,\"ticks\":\"\"}},\"type\":\"scattermapbox\"}],\"scatterpolar\":[{\"marker\":{\"colorbar\":{\"outlinewidth\":0,\"ticks\":\"\"}},\"type\":\"scatterpolar\"}],\"scatterpolargl\":[{\"marker\":{\"colorbar\":{\"outlinewidth\":0,\"ticks\":\"\"}},\"type\":\"scatterpolargl\"}],\"scatterternary\":[{\"marker\":{\"colorbar\":{\"outlinewidth\":0,\"ticks\":\"\"}},\"type\":\"scatterternary\"}],\"surface\":[{\"colorbar\":{\"outlinewidth\":0,\"ticks\":\"\"},\"colorscale\":[[0.0,\"#0d0887\"],[0.1111111111111111,\"#46039f\"],[0.2222222222222222,\"#7201a8\"],[0.3333333333333333,\"#9c179e\"],[0.4444444444444444,\"#bd3786\"],[0.5555555555555556,\"#d8576b\"],[0.6666666666666666,\"#ed7953\"],[0.7777777777777778,\"#fb9f3a\"],[0.8888888888888888,\"#fdca26\"],[1.0,\"#f0f921\"]],\"type\":\"surface\"}],\"table\":[{\"cells\":{\"fill\":{\"color\":\"#EBF0F8\"},\"line\":{\"color\":\"white\"}},\"header\":{\"fill\":{\"color\":\"#C8D4E3\"},\"line\":{\"color\":\"white\"}},\"type\":\"table\"}]},\"layout\":{\"annotationdefaults\":{\"arrowcolor\":\"#2a3f5f\",\"arrowhead\":0,\"arrowwidth\":1},\"autotypenumbers\":\"strict\",\"coloraxis\":{\"colorbar\":{\"outlinewidth\":0,\"ticks\":\"\"}},\"colorscale\":{\"diverging\":[[0,\"#8e0152\"],[0.1,\"#c51b7d\"],[0.2,\"#de77ae\"],[0.3,\"#f1b6da\"],[0.4,\"#fde0ef\"],[0.5,\"#f7f7f7\"],[0.6,\"#e6f5d0\"],[0.7,\"#b8e186\"],[0.8,\"#7fbc41\"],[0.9,\"#4d9221\"],[1,\"#276419\"]],\"sequential\":[[0.0,\"#0d0887\"],[0.1111111111111111,\"#46039f\"],[0.2222222222222222,\"#7201a8\"],[0.3333333333333333,\"#9c179e\"],[0.4444444444444444,\"#bd3786\"],[0.5555555555555556,\"#d8576b\"],[0.6666666666666666,\"#ed7953\"],[0.7777777777777778,\"#fb9f3a\"],[0.8888888888888888,\"#fdca26\"],[1.0,\"#f0f921\"]],\"sequentialminus\":[[0.0,\"#0d0887\"],[0.1111111111111111,\"#46039f\"],[0.2222222222222222,\"#7201a8\"],[0.3333333333333333,\"#9c179e\"],[0.4444444444444444,\"#bd3786\"],[0.5555555555555556,\"#d8576b\"],[0.6666666666666666,\"#ed7953\"],[0.7777777777777778,\"#fb9f3a\"],[0.8888888888888888,\"#fdca26\"],[1.0,\"#f0f921\"]]},\"colorway\":[\"#636efa\",\"#EF553B\",\"#00cc96\",\"#ab63fa\",\"#FFA15A\",\"#19d3f3\",\"#FF6692\",\"#B6E880\",\"#FF97FF\",\"#FECB52\"],\"font\":{\"color\":\"#2a3f5f\"},\"geo\":{\"bgcolor\":\"white\",\"lakecolor\":\"white\",\"landcolor\":\"#E5ECF6\",\"showlakes\":true,\"showland\":true,\"subunitcolor\":\"white\"},\"hoverlabel\":{\"align\":\"left\"},\"hovermode\":\"closest\",\"mapbox\":{\"style\":\"light\"},\"paper_bgcolor\":\"white\",\"plot_bgcolor\":\"#E5ECF6\",\"polar\":{\"angularaxis\":{\"gridcolor\":\"white\",\"linecolor\":\"white\",\"ticks\":\"\"},\"bgcolor\":\"#E5ECF6\",\"radialaxis\":{\"gridcolor\":\"white\",\"linecolor\":\"white\",\"ticks\":\"\"}},\"scene\":{\"xaxis\":{\"backgroundcolor\":\"#E5ECF6\",\"gridcolor\":\"white\",\"gridwidth\":2,\"linecolor\":\"white\",\"showbackground\":true,\"ticks\":\"\",\"zerolinecolor\":\"white\"},\"yaxis\":{\"backgroundcolor\":\"#E5ECF6\",\"gridcolor\":\"white\",\"gridwidth\":2,\"linecolor\":\"white\",\"showbackground\":true,\"ticks\":\"\",\"zerolinecolor\":\"white\"},\"zaxis\":{\"backgroundcolor\":\"#E5ECF6\",\"gridcolor\":\"white\",\"gridwidth\":2,\"linecolor\":\"white\",\"showbackground\":true,\"ticks\":\"\",\"zerolinecolor\":\"white\"}},\"shapedefaults\":{\"line\":{\"color\":\"#2a3f5f\"}},\"ternary\":{\"aaxis\":{\"gridcolor\":\"white\",\"linecolor\":\"white\",\"ticks\":\"\"},\"baxis\":{\"gridcolor\":\"white\",\"linecolor\":\"white\",\"ticks\":\"\"},\"bgcolor\":\"#E5ECF6\",\"caxis\":{\"gridcolor\":\"white\",\"linecolor\":\"white\",\"ticks\":\"\"}},\"title\":{\"x\":0.05},\"xaxis\":{\"automargin\":true,\"gridcolor\":\"white\",\"linecolor\":\"white\",\"ticks\":\"\",\"title\":{\"standoff\":15},\"zerolinecolor\":\"white\",\"zerolinewidth\":2},\"yaxis\":{\"automargin\":true,\"gridcolor\":\"white\",\"linecolor\":\"white\",\"ticks\":\"\",\"title\":{\"standoff\":15},\"zerolinecolor\":\"white\",\"zerolinewidth\":2}}},\"xaxis\":{\"anchor\":\"y\",\"domain\":[0.0,1.0],\"title\":{\"text\":\"INT_SQFT\"}},\"yaxis\":{\"anchor\":\"x\",\"domain\":[0.0,1.0],\"title\":{\"text\":\"SALES_PRICE\"}},\"legend\":{\"tracegroupgap\":0},\"margin\":{\"t\":60}},                        {\"responsive\": true}                    ).then(function(){\n",
              "                            \n",
              "var gd = document.getElementById('456c36f7-86ec-47f7-9483-abf1c002cd28');\n",
              "var x = new MutationObserver(function (mutations, observer) {{\n",
              "        var display = window.getComputedStyle(gd).display;\n",
              "        if (!display || display === 'none') {{\n",
              "            console.log([gd, 'removed!']);\n",
              "            Plotly.purge(gd);\n",
              "            observer.disconnect();\n",
              "        }}\n",
              "}});\n",
              "\n",
              "// Listen for the removal of the full notebook cells\n",
              "var notebookContainer = gd.closest('#notebook-container');\n",
              "if (notebookContainer) {{\n",
              "    x.observe(notebookContainer, {childList: true});\n",
              "}}\n",
              "\n",
              "// Listen for the clearing of the current output cell\n",
              "var outputEl = gd.closest('.output');\n",
              "if (outputEl) {{\n",
              "    x.observe(outputEl, {childList: true});\n",
              "}}\n",
              "\n",
              "                        })                };                            </script>        </div>\n",
              "</body>\n",
              "</html>"
            ]
          },
          "metadata": {}
        }
      ]
    },
    {
      "cell_type": "markdown",
      "source": [
        "**3. DIST_MAINROAD**"
      ],
      "metadata": {
        "id": "Y82OLvmgPvNz"
      }
    },
    {
      "cell_type": "code",
      "source": [
        "house['DIST_MAINROAD'].unique()"
      ],
      "metadata": {
        "colab": {
          "base_uri": "https://localhost:8080/"
        },
        "id": "UCCLIEl-P5r_",
        "outputId": "b7e8e8bd-32b8-41aa-e310-5383d1e0b205"
      },
      "execution_count": 31,
      "outputs": [
        {
          "output_type": "execute_result",
          "data": {
            "text/plain": [
              "array([131,  26,  70,  14,  84,  36, 137, 176, 175,  74,  78, 143,  83,\n",
              "       157, 134,  69, 168,  53,  96, 114, 100, 111, 105,  29,  59, 185,\n",
              "       138, 173,  15, 117,  16, 130,  46, 180,  52,  86,  49, 113,  28,\n",
              "        51,  19, 167, 126,  75, 154,  25, 187, 200,  32,  11,  23,  13,\n",
              "        58,  89,  48, 177, 116,  41, 192,  72, 148,  24,  43,  85, 171,\n",
              "        73,  62, 145, 125, 121, 129,   6, 103,   8,  50,  67,   0, 147,\n",
              "        71,  34, 178, 106, 144, 135,  38,  40, 142,  79,  20,  99, 166,\n",
              "        63,  44,  60,  90, 169, 122, 108,  98,  57, 104,   1, 109, 164,\n",
              "       136,  97,  37,   9, 181,  93,  81, 193,  95, 196,  39, 141, 158,\n",
              "       174,  94, 124,  82,  76, 190, 194,  54,  64,  65, 115,  17, 102,\n",
              "        77, 182, 163,  88,  66, 119,  18, 188, 112, 159,   4, 123,  31,\n",
              "         2, 120, 184, 170, 110,   7, 152,  27, 198, 183,  12,  45, 161,\n",
              "        30, 118,  33,  61, 156, 191, 160, 149, 140,  47, 153, 146, 128,\n",
              "        80,  55, 151,   3,  92,  22,  35, 101, 127, 199, 132,  21, 107,\n",
              "        56,  10, 197, 186, 165,  87, 133, 195,  91,  68,   5,  42, 162,\n",
              "       155, 172, 189, 139, 179, 150])"
            ]
          },
          "metadata": {},
          "execution_count": 31
        }
      ]
    },
    {
      "cell_type": "code",
      "source": [
        "sb.distplot(a = house[\"DIST_MAINROAD\"], bins = 10) # distribution feature"
      ],
      "metadata": {
        "colab": {
          "base_uri": "https://localhost:8080/",
          "height": 297
        },
        "id": "dJPIHIjeQECM",
        "outputId": "10db0e37-c750-4100-a1df-267e65a772ab"
      },
      "execution_count": 32,
      "outputs": [
        {
          "output_type": "execute_result",
          "data": {
            "text/plain": [
              "<matplotlib.axes._subplots.AxesSubplot at 0x7f38e7cda510>"
            ]
          },
          "metadata": {},
          "execution_count": 32
        },
        {
          "output_type": "display_data",
          "data": {
            "text/plain": [
              "<Figure size 432x288 with 1 Axes>"
            ],
            "image/png": "[encoded data removed]"
          },
          "metadata": {
            "needs_background": "light"
          }
        }
      ]
    },
    {
      "cell_type": "code",
      "source": [
        "fig= px.scatter(house,x='DIST_MAINROAD',y='SALES_PRICE') # With Sales Price.\n",
        "fig.show()"
      ],
      "metadata": {
        "colab": {
          "base_uri": "https://localhost:8080/",
          "height": 542
        },
        "id": "JNBlX9YCQMD_",
        "outputId": "8760b426-3721-41d8-d2fe-54789137054f"
      },
      "execution_count": 33,
      "outputs": [
        {
          "output_type": "display_data",
          "data": {
            "text/html": [
              "<html>\n",
              "<head><meta charset=\"utf-8\" /></head>\n",
              "<body>\n",
              "    <div>            <script src=\"https://cdnjs.cloudflare.com/ajax/libs/mathjax/2.7.5/MathJax.js?config=TeX-AMS-MML_SVG\"></script><script type=\"text/javascript\">if (window.MathJax) {MathJax.Hub.Config({SVG: {font: \"STIX-Web\"}});}</script>                <script type=\"text/javascript\">window.PlotlyConfig = {MathJaxConfig: 'local'};</script>\n",
              "        <script src=\"https://cdn.plot.ly/plotly-2.8.3.min.js\"></script>                <div id=\"c85e3169-5b05-47a0-8959-749aaed6f1f0\" class=\"plotly-graph-div\" style=\"height:525px; width:100%;\"></div>            <script type=\"text/javascript\">                                    window.PLOTLYENV=window.PLOTLYENV || {};                                    if (document.getElementById(\"c85e3169-5b05-47a0-8959-749aaed6f1f0\")) {                    Plotly.newPlot(                        \"c85e3169-5b05-47a0-8959-749aaed6f1f0\",                        [{\"hovertemplate\":\"DIST_MAINROAD=%{x}<br>SALES_PRICE=%{y}<extra></extra>\",\"legendgroup\":\"\",\"marker\":{\"color\":\"#636efa\",\"symbol\":\"circle\"},\"mode\":\"markers\",\"name\":\"\",\"showlegend\":false,\"x\":[131,26,70,14,84,36,137,176,175,74,78,143,137,83,157,175,134,69,168,53,96,114,100,111,105,29,59,185,138,173,15,117,16,130,46,180,111,36,52,105,16,86,49,113,105,15,28,51,19,167,126,49,75,154,25,187,200,32,11,100,36,23,13,154,58,89,176,48,177,116,116,51,41,192,72,148,24,100,49,43,187,85,171,73,62,145,125,121,70,129,6,103,8,50,67,0,6,147,71,34,178,185,106,144,135,38,40,142,79,89,34,72,177,20,99,166,137,50,74,59,63,44,75,113,60,90,166,169,144,116,122,148,108,98,57,129,104,85,1,109,164,121,136,97,96,177,90,145,0,145,37,9,181,93,81,20,84,37,108,15,193,144,122,95,196,147,78,39,20,178,141,158,174,94,124,82,76,81,177,73,11,190,144,73,36,194,14,116,71,76,158,187,54,89,64,82,39,28,65,115,148,17,102,76,16,77,84,176,182,86,50,163,69,88,84,104,82,103,187,52,76,135,34,84,196,66,119,131,84,86,18,98,188,200,78,111,64,112,112,138,134,48,142,168,159,77,148,141,90,142,175,105,69,121,4,81,95,1,123,200,49,100,145,31,85,25,18,71,116,70,171,2,103,105,120,106,184,170,167,190,110,1,7,152,126,105,123,23,24,27,198,82,183,31,158,2,187,12,63,45,111,124,29,38,15,78,16,141,66,188,161,84,30,9,118,180,106,11,159,12,148,33,137,61,106,100,8,156,191,160,187,95,124,178,64,15,148,1,149,193,60,171,140,26,61,47,153,4,161,190,131,159,183,17,16,38,27,108,98,109,190,70,34,146,128,142,65,129,19,164,53,123,76,105,113,74,143,137,41,67,175,175,99,36,77,177,161,192,45,80,89,82,190,23,193,32,65,73,200,190,55,90,185,163,55,86,49,170,72,151,106,128,6,63,3,92,60,18,114,118,11,57,69,32,39,141,149,28,115,14,198,106,4,34,103,112,22,58,8,129,121,43,30,57,35,55,161,111,28,93,144,187,187,80,173,131,72,117,24,29,6,154,75,101,60,62,22,193,6,128,119,63,58,152,47,127,51,43,37,187,188,199,176,132,41,108,37,184,39,21,178,58,77,107,131,50,36,59,96,128,104,99,167,176,58,190,190,135,72,12,167,158,50,13,198,72,25,29,82,80,103,180,113,78,146,184,77,101,56,138,178,10,168,31,69,167,197,149,6,33,84,111,37,129,107,77,120,101,31,22,70,31,82,51,106,48,83,185,26,186,38,28,43,183,67,24,99,130,82,29,18,36,2,8,65,79,165,24,62,151,60,84,157,63,169,24,128,83,3,87,50,87,74,191,58,190,113,56,127,133,1,182,195,105,163,198,140,28,91,149,48,68,129,175,31,9,141,91,121,7,102,100,40,178,89,192,27,183,54,51,34,38,2,4,75,188,193,49,188,131,88,82,47,159,61,108,128,190,31,9,176,163,5,103,92,29,198,157,27,82,121,135,23,66,140,127,85,186,166,122,23,131,98,42,30,64,134,191,111,73,174,97,77,130,21,147,151,15,14,181,96,187,31,43,157,88,63,77,70,91,60,83,79,100,133,83,68,4,74,49,185,18,77,95,16,47,113,145,70,46,11,56,200,176,128,13,149,10,198,46,27,102,65,71,75,190,9,162,101,136,200,141,152,190,149,190,118,39,33,158,185,0,132,24,92,129,161,36,155,48,140,34,156,54,67,156,12,93,74,32,154,66,78,24,117,181,187,69,149,172,74,0,149,190,76,131,22,79,198,70,50,118,192,141,126,149,99,39,176,77,127,84,61,38,164,35,6,42,2,115,159,70,177,5,29,102,89,50,122,162,92,1,147,196,28,157,98,50,195,108,189,30,34,67,93,147,50,145,46,85,45,31,56,183,51,93,184,184,125,162,109,124,47,139,12,45,123,19,67,122,44,9,72,114,133,73,194,143,92,6,166,97,92,147,112,46,149,39,73,93,27,44,64,151,157,72,182,112,37,129,53,20,42,125,143,24,33,179,147,92,2,41,101,184,154,18,179,135,39,162,138,164,19,32,137,196,6,196,1,129,64,154,189,198,49,124,145,102,199,156,194,49,85,51,41,45,66,149,105,185,101,69,64,103,58,154,39,74,66,21,99,185,149,36,90,136,93,163,109,18,39,21,18,131,199,78,42,164,24,64,170,179,163,79,94,62,73,106,62,170,92,115,79,19,171,74,92,118,75,111,104,18,70,131,118,188,195,159,132,93,191,50,200,63,157,8,39,18,140,167,98,107,111,91,193,105,47,153,106,97,185,39,76,182,145,93,37,77,105,84,19,127,14,31,75,120,49,98,113,5,60,115,35,41,185,14,192,108,128,139,99,76,27,19,78,151,162,169,196,52,41,33,7,52,11,68,14,40,80,79,76,185,68,52,19,62,150,67,126,113,192,103,61,25,199,200,144,86,164,29,172,166,150,99,192,185,30,1,143,102,162,46,195,105,101,26,139,73,200,153,93,155,16,61,36,132,171,6,97,76,9,64,78,71,170,4,28,117,170,67,109,110,28,26,140,149,95,99,78,137,71,73,5,167,111,81,15,47,38,79,82,24,147,19,90,159,117,80,28,11,150,50,157,160,130,26,100,133,11,33,28,147,30,142,148,166,199,18,3,152,111,119,52,154,6,131,172,37,100,193,62,41,121,80,34,78,94,142,37,10,153,137,55,14,192,21,159,55,82,41,157,193,104,187,42,106,155,139,141,97,194,1,94,38,171,99,66,59,161,103,106,102,67,176,60,60,166,24,124,128,75,81,50,163,134,37,185,66,126,199,33,78,172,163,193,27,148,80,79,198,100,96,28,84,39,171,164,54,100,87,7,45,176,101,190,6,190,134,133,175,73,92,171,151,134,35,182,51,35,45,50,11,162,36,62,22,35,134,188,192,128,4,197,83,101,74,115,120,46,147,80,89,67,46,196,184,118,16,80,80,10,5,68,199,20,52,139,49,64,86,106,187,36,183,74,63,170,132,191,176,180,52,44,130,141,79,178,168,132,5,32,69,62,17,46,157,144,123,22,138,126,54,187,19,58,34,4,200,30,5,7,159,72,158,133,17,107,178,78,155,5,26,101,156,33,112,75,181,35,21,70,59,51,29,171,87,8,126,103,11,27,21,167,52,80,152,56,153,163,192,17,184,98,1,86,60,125,37,5,138,72,82,108,160,105,111,139,33,34,188,97,7,46,120,152,18,7,63,194,199,166,156,181,151,3,63,158,15,73,89,150,76,72,29,151,97,70,31,142,152,156,9,102,90,89,34,200,138,97,65,52,71,2,116,110,9,100,56,165,16,43,129,114,138,113,7,68,123,15,200,63,4,154,200,117,86,93,23,7,170,114,48,120,16,80,115,63,143,122,36,10,163,141,100,157,44,146,197,153,188,166,161,22,197,109,41,113,75,181,182,124,31,7,190,152,139,27,18,153,170,71,118,35,86,31,5,150,108,48,66,153,160,78,104,142,172,15,124,0,113,22,107,105,20,130,22,9,25,110,179,97,7,6,65,184,81,5,178,172,52,116,129,130,71,39,133,32,89,107,47,99,113,93,138,3,108,30,198,173,95,195,72,161,43,150,188,21,18,22,64,164,195,48,78,69,0,92,71,176,31,180,35,76,110,192,162,119,174,91,50,110,4,51,35,67,33,35,5,58,125,138,11,184,96,144,156,39,99,62,169,168,53,116,114,145,118,147,138,33,71,36,78,154,92,91,52,90,133,117,86,140,106,4,182,18,103,47,116,122,8,182,169,91,168,104,187,32,81,48,46,137,55,29,61,119,118,136,181,24,105,63,191,93,18,81,3,53,77,10,20,68,107,31,54,6,49,126,48,176,192,25,92,189,170,74,200,100,34,126,183,141,193,163,142,19,124,15,164,166,2,155,14,113,48,196,4,198,198,175,2,124,143,70,25,21,132,122,191,146,99,17,152,53,194,43,17,93,40,38,116,34,165,163,178,178,39,114,74,73,27,48,138,88,181,197,48,63,100,184,143,182,66,167,86,116,149,73,16,22,117,104,196,109,71,9,171,128,166,6,88,135,174,62,115,94,43,37,53,163,124,37,88,174,16,46,26,15,70,156,194,165,59,165,137,5,5,35,28,164,16,75,18,151,198,62,77,106,142,61,106,185,47,147,182,36,103,91,108,199,142,180,181,23,130,16,133,32,182,22,76,64,140,66,83,95,137,54,144,17,3,26,156,100,165,147,10,82,37,107,41,72,57,170,122,179,27,184,161,191,189,154,91,78,78,137,52,109,86,19,128,126,179,144,117,165,162,112,51,172,63,68,102,34,125,154,116,140,96,8,24,50,163,112,171,137,164,19,176,126,150,159,58,173,72,38,3,143,195,71,34,184,49,128,24,47,139,10,155,47,192,181,13,114,162,151,117,62,117,75,177,129,175,84,149,190,62,200,34,116,99,32,128,99,49,41,125,80,59,85,173,156,143,136,42,126,31,183,168,146,36,98,104,104,63,99,155,175,157,159,53,92,88,123,175,43,116,15,195,39,57,17,104,138,75,36,59,120,42,107,72,145,129,17,106,34,159,186,96,161,14,120,124,161,154,199,177,42,169,125,78,97,74,45,14,155,165,132,35,46,177,61,25,185,181,33,19,88,145,28,40,4,116,16,130,86,143,124,99,58,160,141,104,118,185,181,98,125,152,177,180,94,132,60,125,158,101,191,98,56,147,2,48,76,74,100,157,200,123,169,9,146,198,6,170,104,167,181,5,193,133,90,119,186,51,32,147,90,75,46,193,26,114,79,177,81,131,152,189,87,22,23,51,147,78,32,136,85,182,122,146,168,113,114,98,50,121,96,124,191,194,126,112,124,127,40,24,132,71,169,198,142,92,177,136,113,88,15,114,168,83,8,121,36,10,190,178,54,172,109,186,183,23,81,28,90,107,94,124,195,134,150,114,139,109,139,169,132,108,198,141,147,75,124,110,84,76,110,72,134,12,88,199,81,64,31,88,88,10,39,108,35,120,142,153,98,8,88,75,111,14,126,86,77,157,71,4,22,60,8,198,188,133,134,40,181,69,100,117,14,47,28,109,22,199,65,194,111,63,151,153,68,182,37,141,16,62,106,121,166,149,163,118,51,178,116,125,195,102,66,168,116,44,16,92,22,55,190,11,88,140,188,79,47,130,124,167,29,83,196,195,88,88,123,10,103,61,16,45,167,76,74,60,140,85,121,42,71,138,29,99,78,59,81,73,49,24,119,44,8,139,186,194,113,26,9,34,92,50,191,109,191,156,177,104,76,147,162,85,151,170,78,13,140,45,66,124,153,138,41,137,125,166,146,87,4,167,6,49,111,8,109,114,80,131,92,126,74,42,84,43,82,137,152,72,138,129,186,143,70,94,164,31,58,111,4,103,180,37,154,38,192,110,75,141,134,22,123,85,6,6,90,177,170,119,23,136,68,134,140,158,43,71,165,107,0,35,40,30,109,83,11,63,123,145,136,152,83,141,0,12,128,172,79,144,66,120,200,140,53,115,40,30,90,48,164,70,133,187,68,94,134,47,185,53,86,47,31,51,106,1,5,70,177,165,97,116,45,67,135,54,146,71,75,181,199,102,10,28,96,43,198,40,76,86,156,52,170,72,51,130,32,123,14,72,2,107,158,34,99,103,103,11,127,143,113,160,188,77,105,77,200,58,144,16,165,38,183,77,81,130,93,136,70,50,90,14,108,107,62,32,9,189,188,189,123,105,146,144,89,101,21,171,93,83,43,186,39,29,36,166,30,38,121,187,131,199,182,93,63,132,117,174,101,62,137,119,111,8,177,131,138,77,172,25,68,24,20,149,109,191,153,157,185,125,14,81,28,113,93,173,103,154,116,66,73,187,165,51,67,51,143,97,40,172,111,132,182,188,130,13,33,92,58,24,167,78,61,111,196,171,101,72,93,184,170,61,188,46,161,104,189,91,146,105,134,145,86,197,77,46,129,170,2,78,31,79,125,124,93,137,83,182,12,92,43,190,180,61,169,47,97,48,29,36,20,178,133,169,170,175,133,124,81,32,47,181,196,27,49,195,46,156,94,113,159,159,130,178,43,172,180,15,151,56,43,78,51,67,57,93,73,142,108,57,177,127,26,59,44,189,102,159,82,14,109,21,151,53,110,20,45,130,115,40,135,4,153,90,55,90,62,43,56,133,172,107,81,175,120,103,138,89,144,76,96,81,90,152,114,105,1,165,130,101,84,39,114,4,165,14,51,98,22,149,146,153,151,7,42,124,108,89,8,103,180,158,56,198,106,6,125,110,44,72,45,0,43,97,99,7,36,6,53,97,78,161,18,196,70,116,18,85,10,152,120,197,168,194,50,58,105,151,38,152,183,177,27,176,117,151,19,1,60,91,117,1,57,94,95,92,83,188,180,9,146,50,53,13,125,62,22,200,25,125,119,132,141,134,2,4,23,27,117,49,36,147,150,100,157,83,65,166,58,64,30,146,89,140,1,171,48,108,151,13,9,126,194,5,193,72,89,131,115,93,65,30,1,16,70,95,57,34,69,58,28,20,70,104,2,117,4,156,173,98,138,18,79,114,111,2,162,175,176,89,112,94,85,180,131,34,111,128,106,96,80,75,97,170,109,99,191,91,143,120,18,161,134,83,54,70,86,184,144,200,58,31,148,38,77,77,36,90,134,75,94,145,98,39,121,189,89,72,188,186,169,128,115,137,51,7,194,109,107,132,102,17,74,28,38,137,27,112,51,129,192,65,30,148,87,87,67,28,170,83,200,136,51,58,130,117,50,39,33,92,189,35,157,130,74,37,91,19,192,117,92,163,195,43,179,134,6,159,125,78,143,195,97,144,145,80,78,79,161,145,180,39,79,169,151,15,152,115,161,52,28,42,108,97,4,37,140,97,108,131,16,130,99,80,182,68,48,50,139,166,58,160,23,113,10,167,49,112,94,196,2,181,75,158,72,119,25,185,68,181,10,28,1,102,56,130,197,47,173,130,23,118,114,40,131,99,12,46,0,178,173,57,123,102,44,70,123,27,118,26,43,181,116,11,76,185,43,190,181,148,129,189,44,164,197,139,88,117,178,97,3,155,88,191,156,132,126,158,88,73,139,105,68,184,139,32,4,20,133,109,17,192,9,23,54,165,36,98,18,96,111,145,135,61,152,32,164,144,119,183,66,22,50,108,86,16,26,158,34,123,86,119,73,166,200,117,45,117,127,177,87,20,170,63,169,122,64,185,32,46,94,50,95,140,115,61,59,23,10,117,92,30,73,166,182,5,192,200,110,63,134,192,3,71,141,68,81,146,155,66,49,110,93,54,69,3,149,39,64,99,139,19,54,94,2,70,102,65,139,67,184,96,32,17,12,0,141,67,194,2,14,180,158,6,59,33,153,197,2,126,116,64,59,35,98,169,51,95,161,11,142,135,118,165,108,44,133,45,129,145,39,139,36,172,190,80,35,113,110,49,150,30,179,24,9,29,61,184,152,69,125,6,40,145,0,167,142,65,15,39,7,103,145,51,42,42,2,126,171,136,176,194,53,184,4,200,37,60,191,44,113,90,69,66,153,68,52,13,91,108,187,44,93,166,115,148,83,3,161,191,51,197,66,178,108,77,140,134,171,185,158,23,14,68,15,177,143,17,49,49,111,107,29,109,160,27,154,79,85,166,121,184,72,192,10,177,145,51,49,171,96,62,2,1,100,45,26,186,55,37,42,9,125,190,157,18,49,93,107,130,171,174,87,158,186,103,18,162,19,80,96,102,183,28,21,113,195,157,14,144,186,73,48,73,67,108,129,175,39,35,169,82,62,154,131,108,163,85,166,69,79,149,77,35,168,186,198,35,100,134,65,158,129,18,177,193,100,5,178,78,125,148,85,22,124,131,153,109,155,189,181,72,46,160,104,52,89,25,142,46,87,172,73,40,115,22,111,28,7,148,53,106,98,197,20,197,89,82,182,75,164,114,186,47,179,133,145,74,196,194,175,89,19,39,158,46,26,55,94,124,73,50,24,142,10,120,69,77,44,155,41,51,47,56,64,112,37,49,21,131,70,165,103,122,199,83,2,110,88,193,51,102,135,199,190,200,50,87,31,150,155,132,100,40,133,75,37,191,128,81,11,3,88,175,22,56,198,189,66,137,126,2,4,81,70,57,87,119,52,149,128,38,61,120,10,174,84,191,9,147,20,0,7,130,188,42,36,46,121,5,26,142,191,30,84,143,41,145,10,160,77,63,111,160,165,153,166,70,102,86,92,84,112,118,59,73,127,103,174,182,18,87,62,27,80,6,54,91,19,8,168,164,66,152,99,62,77,158,166,49,86,108,35,72,46,168,2,4,118,83,193,195,114,101,163,159,22,60,87,146,85,15,135,4,100,44,49,105,39,53,148,150,158,21,146,118,3,20,172,144,69,129,81,17,7,27,98,184,117,175,176,35,20,36,16,159,131,189,48,186,96,170,163,68,46,117,22,9,4,194,5,199,82,12,195,189,68,85,179,174,191,40,115,24,185,118,48,196,130,125,183,170,12,194,61,15,176,5,164,127,12,167,73,193,85,195,9,188,21,73,192,69,51,0,187,141,156,170,140,132,86,34,105,169,61,95,198,143,68,40,60,179,164,81,14,150,123,172,44,97,80,59,152,1,132,133,55,35,33,152,29,16,124,145,96,178,30,31,109,163,42,13,191,61,126,34,56,183,185,148,178,187,175,153,135,70,29,114,73,161,173,4,4,162,130,73,93,34,151,90,170,29,138,51,13,16,29,175,14,29,111,183,161,59,192,77,190,71,139,189,9,135,191,98,7,182,148,75,112,28,45,183,88,120,134,2,148,127,46,77,123,51,106,75,174,73,54,46,87,105,110,104,93,51,111,25,3,46,112,33,22,113,66,139,78,138,151,111,86,63,4,77,189,137,177,5,156,85,45,25,198,194,134,164,11,180,170,69,127,132,17,101,84,105,80,57,173,194,60,41,194,184,135,44,163,78,32,136,160,123,49,117,122,27,101,12,132,72,169,164,27,190,29,171,197,86,81,156,10,147,121,155,48,68,57,131,83,158,78,181,11,48,104,77,193,21,123,168,161,15,92,187,199,74,77,119,161,156,177,102,0,180,73,50,19,138,23,191,33,117,155,92,82,177,146,80,109,79,18,118,175,102,128,9,103,145,133,118,181,3,111,142,89,185,62,2,71,73,91,141,37,106,140,55,64,100,141,0,29,89,140,74,173,172,9,100,67,60,122,98,120,159,16,199,77,186,118,166,46,56,172,128,190,21,30,70,26,65,39,14,10,169,65,169,143,109,132,58,7,190,3,36,70,17,109,144,67,142,78,77,177,120,119,30,128,188,40,43,1,162,199,65,94,15,124,179,122,99,111,169,113,60,58,3,34,27,94,145,91,119,106,1,71,182,143,119,79,196,104,187,155,69,3,121,149,63,163,21,198,104,171,155,144,56,64,108,79,166,182,16,57,75,193,183,149,95,82,113,46,174,93,160,163,134,92,62,69,21,134,168,36,185,145,10,139,187,117,81,133,48,129,53,67,37,51,40,117,152,194,127,64,6,27,163,197,187,101,174,74,172,61,110,124,71,106,14,138,132,49,22,103,29,100,176,190,139,56,8,70,53,57,166,187,93,107,52,159,199,46,0,4,23,80,157,169,169,41,55,78,146,103,84,146,169,118,5,180,68,148,196,159,151,160,50,121,72,97,68,131,79,65,146,94,57,149,12,149,161,87,135,14,188,116,143,130,168,101,179,46,46,192,119,106,135,188,11,197,61,176,183,6,156,200,27,17,156,164,91,184,30,60,16,164,135,144,71,126,162,123,11,173,77,133,131,143,120,153,23,47,84,154,137,137,113,15,72,3,137,164,112,37,40,8,170,1,189,185,31,134,128,24,197,173,63,148,12,156,91,61,104,91,177,4,111,190,173,1,151,24,145,29,166,108,152,158,30,130,17,1,37,179,31,41,161,134,118,2,40,46,123,37,172,113,177,123,96,120,125,63,130,73,169,128,75,25,129,73,150,175,168,168,151,166,194,133,147,42,155,146,16,173,164,18,192,135,22,168,92,88,105,195,71,86,75,145,95,88,44,61,125,128,186,47,109,4,95,122,9,199,77,28,8,196,21,33,49,68,108,186,105,4,28,61,48,86,175,115,15,81,157,68,101,159,18,111,147,50,148,93,30,82,71,144,49,74,36,169,2,16,30,17,37,127,107,132,121,165,22,149,196,5,20,195,22,84,12,104,14,76,97,197,49,110,104,169,155,115,82,105,95,58,94,61,119,44,143,148,17,139,150,66,76,101,121,142,172,147,55,97,12,62,162,122,176,112,80,137,103,144,169,10,53,166,141,187,113,41,148,104,108,35,97,50,9,175,140,54,130,165,74,179,197,131,90,67,172,91,181,146,67,197,76,96,174,45,171,150,172,58,141,158,14,88,156,106,91,116,115,66,47,101,41,188,133,4,134,90,126,197,131,99,43,190,98,85,101,146,69,6,138,49,13,75,69,93,188,184,148,167,119,166,165,123,86,185,159,83,25,32,29,191,90,156,138,122,41,11,139,181,97,15,123,85,181,178,38,124,51,79,96,107,101,60,15,35,82,132,200,29,64,152,47,51,68,155,115,66,109,2,75,57,174,168,188,168,157,95,14,28,78,148,39,144,26,111,99,10,68,84,5,128,22,27,169,97,120,13,171,197,49,157,136,14,51,133,51,33,78,190,191,75,186,182,190,24,137,141,200,46,69,180,59,85,193,136,105,198,195,175,49,192,156,135,177,14,127,98,148,21,75,175,184,30,164,150,95,51,76,118,180,13,42,126,199,120,175,84,117,117,102,143,98,156,164,44,4,45,166,35,36,186,134,191,89,190,55,114,184,182,96,101,131,97,174,28,138,77,39,35,165,168,167,140,8,18,51,156,59,18,25,64,83,0,74,37,172,10,42,103,95,154,27,134,187,177,33,35,114,172,70,85,106,107,124,2,172,76,152,110,35,195,22,195,135,71,78,69,5,14,22,14,44,104,0,68,160,179,75,116,64,110,140,67,75,76,77,187,112,74,9,31,190,6,185,142,118,78,192,148,42,196,31,197,89,197,173,89,104,159,129,88,118,2,53,177,136,2,62,3,87,65,36,94,171,196,119,43,198,91,121,18,2,172,88,145,63,182,136,175,92,86,153,112,39,5,51,156,51,39,97,196,164,148,120,2,42,177,156,99,23,59,29,39,185,188,109,106,99,160,145,166,105,77,106,9,182,160,186,80,86,57,153,121,51,141,157,99,52,163,170,89,197,58,151,76,90,48,167,31,177,180,110,142,112,145,52,67,162,72,21,173,152,34,195,37,118,35,117,116,81,82,66,0,162,71,139,90,75,61,109,171,60,188,82,65,21,30,39,6,161,157,59,10,32,91,34,185,59,38,106,73,173,161,195,157,65,135,162,28,178,128,154,111,188,28,121,116,75,115,90,6,88,105,86,54,99,8,41,189,177,191,151,184,39,90,34,89,67,105,101,17,51,150,100,30,97,152,179,153,123,176,99,168,152,93,189,44,179,108,186,20,59,91,35,10,1,14,148,112,116,119,62,131,198,154,147,123,70,49,131,80,27,130,104,86,172,59,70,183,143,39,118,145,115,94,147,101,18,120,144,177,126,27,97,53,124,14,178,21,200,27,196,132,38,144,28,77,141,193,42,190,134,36,163,161,49,57,17,170,45,73,190,77,50,173,122,35,172,156,123,40,164,22,169,125,54,146,87,98,39,165,41,63,62,26,148,51,169,178,81,14,12,4,49,114,194,85,16,45,26,115,39,63,63,30,117,31,37,74,103,150,182,141,90,194,88,91,199,165,80,48,29,57,74,98,136,105,108,153,46,101,2,8,137,7,13,195,156,152,45,183,51,55,0,79,72,69,2,183,176,128,20,16,142,88,149,190,27,39,163,78,125,4,106,122,123,120,100,14,131,29,31,6,187,4,5,93,41,40,121,169,200,120,156,181,126,105,126,134,101,75,86,58,185,67,16,115,200,149,102,192,87,155,122,151,124,173,41,59,49,180,6,4,171,53,28,29,193,103,58,77,157,82,166,76,34,55,76,111,162,85,82,111,8,60,56,94,47,0,95,38,39,60,108,175,24,150,166,19,69,197,192,115,131,112,132,163,57,3,35,144,78,49,195,38,199,56,88,75,21,156,117,139,130,6,89,187,162,108,115,56,86,51,186,74,163,189,163,112,147,112,130,140,37,140,175,178,18,171,68,2,194,24,120,200,20,10,191,179,144,104,153,85,80,80,144,93,124,89,108,0,145,121,177,117,185,47,51,130,165,111,43,180,8,34,194,6,3,95,2,139,10,148,158,29,70,15,199,46,161,78,177,53,57,189,148,31,53,57,187,59,180,151,55,1,168,94,146,111,93,121,124,141,9,170,140,46,142,29,55,71,68,107,115,73,109,87,170,134,161,197,192,191,26,86,91,148,187,100,183,23,74,80,123,39,148,170,73,81,18,141,179,58,113,164,107,76,13,144,84,39,0,34,179,145,77,47,144,30,132,67,7,67,60,184,81,195,140,151,154,103,138,132,2,21,128,106,97,94,73,44,59,162,141,13,100,97,61,97,121,167,61,109,134,113,53,174,30,89,125,118,129,174,132,145,173,26,153,54,105,94,88,200,63,13,166,10,38,56,58,191,121,120,136,131,23,180,56,26,147,177,88,141,144,96,30,117,168,112,117,137,99,160,169,91,106,142,97,75,142,67,99,96,194,173,111,56,24,134,14,91,192,32,27,96,179,71,95,184,19,157,70,95,41,52,15,48,175,42,192,78,153,116,116,55,95,112,165,85,67,113,140,143,98,140,200,177,177,126,164,193,53,50,11,73,145,199,71,86,121,94,87,8,156,17,30,176,195,181,181,36,90,117,56,66,72,180,120,99,130,83,152,173,127,24,78,156,192,172,162,123,91,88,194,126,174,76,78,83,87,120,45,55,105,133,155,88,5,44,111,167,101,149,30,144,200,135,130,191,163,7,11,85,92,161,186,111,148,110,121,16,190,7,32,15,13,140,142,127,185,18,36,131,73,157,134,83,98,150,133,113,107,57,146,169,28,65,27,35,36,28,158,122,87,175,30,74,97,104,178,170,134,195,173,110,49,17,40,15,81,16,29,129,193,154,86,45,195,59,118,35,5,103,20,197,106,52,158,72,120,120,24,84,60,31,64,48,99,167,42,132,100,104,52,181,60,125,93,96,36,192,34,90,59,20,130,76,15,146,126,78,99,145,135,194,172,179,143,20,49,124,183,125,140,124,6,153,7,59,74,11,151,28,75,156,19,117,14,173,121,83,100,94,173,95,127,108,81,181,26,165,138,185,107,47,85,17,78,173,187,22,160,197,55,28,21,63,188,68,64,19,197,0,35,59,22,109,22,128,164,56,123,109,39,63,156,129,85,86,176,91,49,108,69,147,77,46,119,99,158,168,47,70,58,113,4,67,32,97,55,15,50,61,159,136,197,44,1,75,18,96,32,50,52,39,183,6,108,28,86,134,182,115,171,127,77,92,28,176,144,120,121,124,104,120,185,6,126,15,109,175,145,24,193,174,200,110,39,85,200,74,94,116,46,196,122,97,108,157,37,72,154,36,175,92,81,15,72,191,93,171,189,109,8,188,158,52,115,185,62,79,19,194,84,38,112,103,169,132,148,101,93,56,63,107,57,134,192,15,184,45,72,110,101,98,84,132,46,165,144,157,60,175,68,177,77,47,187,105,167,106,73,170,54,137,157,90,122,196,9,68,94,145,64,54,64,17,35,142,149,23,182,0,93,4,126,55,77,60,28,72,0,176,32,70,78,137,191,111,109,127,129,14,27,101,154,122,94,53,60,29,0,139,48,138,2,37,113,128,131,47,190,152,29,34,113,194,155,147,8,78,153,149,97,73,110,143,142,143,121,87,108,26,6,40,156,162,133,142,183,48,155,156,29,155,83,173,15,9,35,127,2,81,113,176,39,34,115,29,106,181,186,189,0,143,197,78,93,79,49,50,122,190,4,188,31,98,123,36,34,88,66,67,87,59,164,90,63,141,160,30,32,131,146,44,80,137,176,51,145,3,82,175,150,147,52,145,26,150,153,2,148,15,112,112,169,142,95,153,30,177,116,182,160,61,163,57,53,52,19,188,144,143,171,154,20,190,116,34,35,186,2,60,15,113,121,83,74,112,57,39,98,156,139,166,139,41,78,58,143,184,121,163,88,116,143,166,195,119,120,22,158,118,64,64,191,9,143,108,174,171,157,48,106,197,73,61,112,73,133,49,186,91,25,194,168,30,102,154,195,75,41,98,89,176,162,81,21,60,181,159,142,116,50,1,156,34,65,148,10,134,74,142,12,130,24,110,196,70,83,190,138,31,98,37,52,106,108,198,116,186,85,133,39,104,128,68,93,32,87,52,118,79,123,176,70,8,63,57,69,24,140,47,37,58,13,39,28,115,62,121,55,10,136,40,165,181,116,132,39,130,107,21,80,141,175,71,96,101,193,145,58,103,102,141,168,113,73,174,55,193,54,184,82,57,165,182,17,31,44,56,69,197,3,143,40,37,134,55,67,136,134,58,94,36,118,87,141,83,138,137,154,108,184,82,185,121,110,136,82,191,82,119,9,6,18,41,130,98,105,11,196,6,80,98,48,8,58,12,85,144,64,4,183,81,11,54,114,143,65,165,175,142,90,190,39,104,196,91,14,130,105,131,33,69,195,109,181,99,55,97,159,64,111,17,36,70,0,152,68,114,76,25,50,44,85,0,110,140,196,144,131,163,57,183,197,44,34,48,87,198,131,52,9,53,143,118,132,178,198,58,182,65,24,119,165,157,168,54,48,43,21,20,114,43,107,83,19,164,59,139,14,99,171,183,5,20,56,173,62,42,72,184,26,94,45,124,29,60,116,110,46,160,14,59,81,2,75,40,133,175,164,160,150,7,160,18,178,81,156,197,179,140,142,133,119,36,145,192,160,180,163,13,63,51,111,64,123,59,94,166,155,88,62,146,147,192,66,188,139,182,5,156,113,125,45,145,13,8,196,18,106,3,124,66,127,199,169,84,17,121,52,191,162,163,174,80,193,188,123,162,7,136,88,100,117,163,126,137,116,63,42,112,48,87,156,199,157,89,18,165,200,28,164,116,159,138,96,71,120,0,13,129,34,141,102,74,99,130,5,188,165,165,180,12,89,4,128,139,132,114,175,58,77,41,179,83,9,49,98,95,180,158,31,45,151,64,174,150,61,172,23,179,39,152,58,23,97,72,95,141,46,45,6,16,10,38,100,102,157,138,13,71,90,120,104,21,149,125,122,27,37,178,14,128,43,11,181,170,29,10,104,38,109,71,134,54,82,176,39,67,169,107,60,5,125,144,47,31,24,80,139,9,179,116,71,62,14,196,196,69,157,112,106,155,187,101,183,10,196,10,31,115,21,199,153,47,88,139,119,62,140,128,114,89,114,43,26,84,149,88,174,162,171,8,51,178,35,77,123,78,139,188,127,92,109,81,117,72,88,116,140,37,152,125,99,33,135,98,158,93,159,112,114,54,32,82,86,25,31,56,183,132,21,115,77,4,197,12,178,23,14,117,83,165,144,129,196,53,189,96,109,30,73,193,106,110,147,168,188,129,129,173,86,111,21,168,164,111,141,93,109,89,86,189,169,34,42,194,103,139,48,190,72,5,104,11,79,151,128,121,114,13,46,0,63,92,191,152,34,165,36,101,93,153,158,64,156,191,153,43,164,85,72,86,55,14,14,144,188,177,109,91,108,148,71,147,32,181,100,194,48,86,98,30,134,90,171,33,3,174,144,197,191,51,100,68,51,52,152,40,156],\"xaxis\":\"x\",\"y\":[7600000,21717770,13159200,9630290,7406250,12394750,8488790,16800250,8308970,8083650,14938000,9449730,8774370,9386490,15499680,8656000,10912550,8287550,21203240,10905530,9185970,10925400,9627380,13922760,12601080,13383350,7939625,8848285,11338200,12872430,9042050,14874380,10222380,12928590,17564820,4971250,9170660,10383420,11601400,8249260,6944500,7745000,5728000,18725520,3572250,20215970,8379000,5290635,12548930,5857750,10729700,17006780,5570050,3854375,8594875,13549250,9480750,5847520,9710900,9398750,8806250,12087330,14175620,11920820,13364730,6922975,11673175,13069740,10283575,8956480,7187350,12574850,13906270,9917500,8629750,11667050,9817150,9263050,6587500,9799360,12801500,17454510,9832420,12476770,10381355,17600240,10934875,12372160,11248750,14241140,10160600,13539080,10727750,9867055,9478710,9050200,7904210,13063450,13584980,13116050,10012600,12105920,4918375,7703200,8569080,12146620,11671620,14915900,13547790,8213040,7304000,10390900,19206870,9965375,7207000,9070550,5670200,9253200,4294000,14316000,23307000,9735150,11336400,17701600,6572900,13423020,13122040,18939100,12803570,8050270,7194600,11412700,12035355,6877000,10346400,10809500,10200600,6190150,6507250,11350400,19285540,5856625,12472000,8441900,7579320,9759000,12423800,15495760,11022270,7605550,7967750,8946800,9244820,9821600,15852740,8757635,8415990,9935595,16617860,12412050,22630540,9901500,10449910,7948600,9098680,8342850,18662350,8172630,5856500,14704160,13360440,4928250,7315125,10998320,3936375,9201770,17891240,5144500,8007250,8479250,10129160,9482200,9846750,8675820,10262450,8671050,11165550,9464800,18849880,9480425,12264750,21875050,13538580,8876320,13645040,20996200,9071125,10815830,12802500,13346700,4356500,12257100,4100500,11527430,6452785,8434750,7427820,9105350,4721500,12575010,7952750,5705500,12898740,10722580,14102960,17612900,7146890,13476480,15100560,15599020,11224620,12477040,4396250,11900750,10090000,6607690,4752250,7441350,6441250,10359860,14328720,11444100,9680280,14739360,8939620,15710400,10226600,12300050,6966500,9463900,15199450,20499450,9925210,11223550,7379505,12091400,10530200,9604120,9062800,4748500,9107430,9153300,12650920,7635250,7854000,13197230,13669670,18249860,14707330,9144840,10969920,12248640,14225180,8019280,11410310,9950600,9980320,14292780,5752875,11883250,19816180,9394640,8762820,9348100,9134740,7643255,8886250,6407000,11536000,5333000,7849250,13797720,7492300,5342250,16212650,4710125,14898480,17060380,6931750,8196400,17704670,10784680,9594250,13596890,11156320,7725875,9819500,3869180,5852625,9574550,6102625,20246360,16930470,5510250,6530500,10147125,9705900,16107475,7451690,10163000,19376950,10173980,10910100,15013625,11713410,15862990,8677280,8282500,7926740,12093570,7390000,11053290,14464930,10637010,11045960,7410200,8645860,17787740,8514750,13841050,9160580,7794500,12946530,15883280,10089670,5335750,12126880,8165450,11484740,22024740,12071880,12925550,15387480,6637005,7446875,11658500,6663435,9894250,7968490,12403760,8149280,16012600,11121040,9462230,20477590,8755500,8471590,13024030,8215250,6361850,10929300,14634500,12228420,10494410,12350640,9071080,12450910,12225650,6804640,15495150,12456680,16312280,9753250,10629750,20715860,14297200,8317410,8261500,6206250,8400465,11104320,6083885,8836160,13620040,16756460,11889950,14054970,18316110,14761860,22123260,10882400,6863000,9792910,10090590,5072750,12156320,10741020,16805520,13586120,8021300,7960405,11847350,11985600,13788450,10080280,6564750,8861500,7880000,12682895,10169625,11959100,10391900,9338880,11329750,8469050,7705800,14057180,8621500,9338500,5668875,12730270,11071500,7261650,6982000,7546960,13650500,10652120,13378610,17265880,10044620,9153720,9089520,9075660,9957800,5805250,13087155,9314000,10533755,11462310,12948200,6149625,11031600,12713050,15664740,11265520,12900790,10271420,14154840,12160420,22084180,9953350,8788500,6266250,6879510,11991280,19817860,19766360,8098070,8274000,8912540,19609810,12825500,8717385,9928200,8231860,9833270,13277420,10613930,10801520,18637600,17566590,9397585,6889250,19512010,13064510,8386750,11569680,7825375,10502160,5286000,9794230,9885575,10478100,9345900,9314050,13251910,18331880,13478680,8907400,8185800,9125250,6922750,12133650,18200410,11762550,9104380,11935950,10881130,12146740,14128990,11821400,12528840,10552045,12406100,14377300,9487400,5472500,10252895,10989305,11838240,12624040,8288050,11903865,10274050,17398770,9680500,11855060,15849210,8585715,11452010,9675500,6285850,7813750,10094840,11235750,13556150,9023925,4863375,6511200,7511125,3013500,9243750,17422860,9917200,16834800,7586885,8907630,9519320,20591900,8111350,16484920,11992650,5256625,14715230,10829380,9747000,8762530,17529340,9198300,8823380,15317750,10152390,22829130,6878875,11506980,13454780,12048000,10769525,10342830,5597240,11307820,11040620,13190720,7160890,5643000,22181670,11415700,4849000,10387250,10889570,10358610,8476180,13098030,10644830,21473270,9630420,6428250,7418190,6543375,10787350,7827250,22449450,9718570,13271000,9414520,19909630,14926255,16803310,10471560,7745900,7603630,7116000,14739250,5796000,7520800,9701800,14192960,14920370,12961070,8191250,14684370,13152750,8245625,9627210,9963440,7830375,7464800,6846100,11252380,11266200,17733960,8335390,9036250,11770840,9519460,8984810,22744800,8141330,19806350,11966860,15342740,9985710,6442655,13883800,9920630,11427045,11790660,8235750,12527740,19389140,17797530,4680125,8952550,9350380,9876540,19609850,17171100,4855000,9165460,12356960,12473300,12858080,15665660,12053080,9357800,12851040,9109750,7512030,12764450,10509200,7155650,12919650,13953400,12370100,6329250,12846400,9728460,9354680,8173180,7352150,5655625,21988560,8867600,6569750,6602375,10239375,9831375,9151000,10066680,7899500,12251920,9495375,7700720,12217100,11139610,17623460,13603120,11578050,12966920,8519200,13025260,7824600,8547835,11165950,9263000,13560300,6298700,12727790,16185010,9114000,6826655,9329030,13253630,6988500,6847250,11671340,9202070,9464900,8308730,12038850,5722305,9176650,12775700,13637220,4936250,10555860,9708030,12782260,5402500,10521855,7150500,14116310,6717750,6194125,9899250,10664405,5899450,5962250,13489720,10056250,15592460,12631750,10249680,7738440,7238000,6802000,9433250,9173450,13919200,4343000,12420250,10169600,12075000,10885120,9863280,15733300,5198500,10616020,10673850,14834920,12893050,8243880,4733000,6767000,6000540,10922160,11960070,11953500,8539250,13552840,10931870,12907200,10649060,8197980,11956550,10283850,17314380,6619875,10783060,9125100,7857455,8297500,20697270,11772480,9727500,12401000,14616160,8976940,9960280,5315750,11262600,11681720,10646530,9352750,8582390,14049650,9253010,6686000,10721350,10002210,8110875,8381750,20438790,4886840,9905510,10042440,11330100,7839405,9993600,11992920,8899500,8068000,8824390,8257475,10250150,9635530,14106600,9032750,7274625,7404375,7726750,11111430,8406500,8372550,13938120,9197770,7993125,10189000,8071375,14350560,8739885,10501150,23667340,9995590,10000930,11235770,12986500,16527040,20063100,6783500,17039580,10040100,8345750,14685790,14799120,22348850,12611320,8155260,14414750,11854600,14310420,11574780,8778570,20691780,19600940,4953250,12093600,5999250,22567050,12802100,8871250,8782150,8895625,7627340,10030670,19632920,20192150,7989450,8192790,14917160,13501410,8699125,7373000,7713895,9748900,10930680,11947050,5885000,10320700,3339000,15496160,13140580,8008950,12508650,11853140,4886000,21107310,12520540,13173400,10696080,5281500,8414875,13259060,8496660,8709375,18436880,12876250,9544050,9478500,13502160,11222760,9588670,17978100,9371100,9244720,6702360,12893150,10168445,11123540,9332280,15416110,8174460,19337750,9872250,11492450,8750680,8449490,14046320,5173250,9831120,10651140,12666780,12528440,13330820,19300690,8155200,13907120,21897640,7676000,10044200,8548080,15741200,12290940,7498275,14409230,10763000,12047650,9378485,12006850,14278260,8288940,9865200,14178675,9839960,5280500,9214930,8245950,7329900,15103540,6322560,10904740,18192700,8962700,10599000,8268875,11395560,8792500,13249450,9305660,9198100,3906750,10748500,16864980,7950320,18646240,9491790,7095250,7975085,6973750,10032375,7812910,8988750,9563095,17651360,13427680,9104275,18312300,9760960,7319800,12167290,11839680,12640950,7832500,11396020,14927450,8261000,8178625,6677000,7041840,9433610,8164875,6575100,14198960,6916250,6354550,7352510,14017800,12288250,9091390,14327400,12401250,7809500,6678470,14452540,5185125,6193485,8144950,5766000,11065040,9121000,9668900,11291220,14077500,10571650,9888000,12985460,12844280,13832030,8792100,10727250,5254245,18163890,7047750,9475100,13107540,5865875,10959440,12918430,14048900,10316800,7831830,12971150,8783500,10346560,13831750,8340500,16280140,17422560,9214700,8237550,10893375,20142850,19704720,8137800,8351070,9522150,9632875,9469350,12116210,9324960,14086140,13306740,7698750,10093170,9819130,9592970,12198380,12356100,6687375,12763900,10078530,10345940,13773700,3767125,8624750,8850660,14237800,14078710,10705950,14138950,10561720,9336800,13750340,7487725,10700200,8931410,13923830,9444500,8899780,12605360,9914760,7954750,13087480,9430410,8183130,8355660,10554500,7557000,10008685,12182240,22916500,7205505,11225380,12010350,11839510,10568895,14814620,6745340,10595700,7777550,9014800,10675820,11405500,9876750,8859220,9758035,9005600,9160860,9511000,5947125,15244800,8428090,13393470,3874500,11529500,10758000,9082000,9315900,8845600,7257400,10751700,8567240,5308500,8765000,3916750,7369890,9640575,11239600,6778000,19200260,4242000,10388375,8254700,9499000,6814000,15082700,10546405,9746100,11447860,9516880,7580125,11373980,12842120,11650250,9576550,9265490,11354960,7815055,10188470,9211400,12296550,9615130,12699000,11084700,6763000,15074080,4969250,8745660,10428000,10323980,4842750,11154910,12754890,6501000,8802735,8366750,10474605,10509330,8090620,8734920,6369250,9484440,9310300,9260750,13186280,16271740,7311370,11653680,15831550,7302250,11904740,9305750,8657100,5601750,9789220,20581330,7725200,7019000,13410030,10199400,18918950,11703450,9735200,10826810,12894500,13208750,5438750,10556410,9163340,7463750,11489580,6102500,13734350,7037100,8931450,10151490,14074260,17529450,21327550,10655980,10581870,15074740,9817500,17673370,6603250,5947625,9593040,20525170,12946730,12561300,8133770,15195200,4746500,10381895,7344340,18201340,9080015,10617090,4575925,9805150,12623360,9533400,10499240,11440690,7064250,16929800,8457350,8725740,6513570,8572425,15493260,9724320,20519100,8947040,9043635,14597300,9310120,7740080,8878250,16677180,14301080,5523875,7932350,8072750,6962250,12977000,13174940,7742000,6996450,11367820,14001530,18598580,11618510,6715750,11844950,11492190,14153850,13483830,12257060,6016875,8015800,11003670,9741520,13626420,7633500,5878000,20738440,8000250,8897050,12114895,9341250,20514620,14687760,11095100,10646600,12872810,12114050,9348350,9407500,8963715,13163050,12654700,8482500,20989850,8275800,13291100,9928250,7609525,15178120,10105060,10225280,10309370,8463200,12871060,14774770,8172125,14818680,20450950,9149000,12499040,10272980,8636400,7499900,12647660,20838230,9329120,9120360,21050860,6185335,8400920,11855940,8972600,12506600,10209760,12899530,2476375,5679000,8020500,8396250,7110600,14158860,14510950,16595470,15913570,10423510,12690600,10606765,12313350,13289900,8352000,11423750,10120070,10738110,8495640,12341040,6248450,8477500,12564350,9304960,10822220,9038260,10849950,8452080,13485100,11878140,10961920,10088450,17858980,9135400,8646380,8576110,8367250,9840760,8461500,10651250,3093500,10646500,12105050,5325000,9396600,6936250,10732635,20244990,12964940,7881135,13460460,13791820,9662810,6918250,15679400,8588630,6890790,19964360,12565070,10586920,9089160,11351890,12761560,8982400,10636820,8122870,9315520,7897470,5613270,12146250,11055190,10434260,9186250,11638240,10388400,12448500,10383300,13800700,6450250,20787310,6481200,9719400,9845950,10084580,7226100,14569565,3574750,8750400,7151680,8528890,8376880,11978830,13053180,4146875,9566290,5998500,11470100,12076560,6794000,8074850,8313550,12976220,11871500,11987190,9065140,9044045,12712980,11507600,19768320,8483250,9343170,7039250,11308830,11554330,13507780,6387040,19801690,12646540,14486250,11677750,12274630,13780460,14772160,10064150,12215170,18080410,17311570,8908220,10613220,8282640,8050150,7439700,5435750,13770420,20330350,8664000,16410600,12403030,6702250,5383250,8233645,8249290,8720250,6117000,10771580,9264900,6789000,21266520,12798800,5643625,2939750,13003580,9718500,9491150,7741945,16766120,6422750,14826000,15199400,10058510,8563875,6036750,13185700,20325440,13427670,16142300,13526040,9573450,9140400,7495700,7415850,10232060,7485650,20234860,10315780,12383200,7415240,3561750,8848105,8745500,11216030,13216400,8227800,8529780,8027460,10431150,8319100,6231125,12197050,11621350,3975250,9455450,5054675,5205500,9212250,6890250,13606320,12802880,12171985,6721500,4703750,6083250,13510040,13840180,13282450,7847750,18531240,10485020,11144770,20586630,5437500,8629750,8147530,11301300,9911860,6537250,16957260,5310935,10576965,12682380,4462000,13581650,7346750,9822750,14101250,9718230,7781350,8793625,5602750,6714500,10948060,5943875,8023795,7587075,7944000,7468400,9343500,12688340,10495250,14229060,11360310,7452250,8196250,8713900,11752250,12213120,8322500,8935000,13358600,6494240,6486150,8745000,14021800,9671160,7871490,14205080,7014500,6227250,7946950,20181980,12695370,8959150,7924640,11867800,12402070,8260400,12069000,5940500,7989570,8791000,10027000,11111010,8599095,6703210,8153390,12846980,7826780,10978140,11802180,8388500,14239850,18299980,4917940,6177070,7671200,6897450,13940580,12370100,14102650,14682580,7400260,10288980,6377750,6312750,4362750,12520250,10834460,9426345,5232500,5283000,10416480,15715370,9179950,17115030,12869560,7030720,8636980,14638800,7279480,4473750,20527770,12387700,4458750,8537500,11552700,13703500,13920600,19550620,16068640,6397000,11119720,11431660,12793250,8631250,18984160,12415670,5244500,10720550,19685020,14400140,10094160,17480550,13380530,16469500,8133300,10760220,10148180,10695340,8882720,6774750,6435300,11109230,14239220,11312920,14495770,9947855,12364840,13683650,9328250,18803650,7581750,12014520,8286250,12194550,14994840,13695970,20747530,5110125,9625300,8433410,6766430,6895500,12651550,9038780,10497580,5073500,10834880,11718800,4361500,19074830,9859360,5265250,7553060,7123750,11359000,9762100,12370550,8962970,10841760,10140700,17959010,17749320,16602700,14980260,11476830,10276200,13737610,11373920,13085580,7574830,12085470,12337540,13310520,13669910,13860650,3643875,7766550,14211850,13231850,9160750,11848520,8561060,8131900,13709700,10128440,19615980,6765500,15388610,14902450,13822150,11319280,8890930,9209360,13217400,20034510,14904220,9721700,9894050,10843610,12286360,13397920,8700500,20346350,9795730,10008100,20838520,12614460,8634640,20518750,8793480,12807300,10410130,11157780,9335050,5913625,14671170,20024110,6474250,19814280,5849125,10097940,12867590,16656560,9743700,13718940,12556650,10453960,4918500,7600500,11650600,6688000,8947750,10858850,9843580,10021800,13091650,8179150,13729040,12477240,9146500,13986920,8177900,10982650,12239160,9640180,7953125,6149410,13060780,10581040,17538420,8953500,12056200,6280650,10017780,8353830,14332790,11670400,11949085,8105250,20033450,6532250,8934405,7818970,6272750,10374210,11081520,9213320,18855250,13363650,6408750,10934170,7016840,10681680,5737000,13668850,6597000,11436120,5046750,14819560,9797510,8188000,20441490,6799000,10019360,8505000,13384340,10851180,8310590,7486235,7060000,10210500,13180500,6390690,7178250,5383105,6978025,12569800,11269470,14822920,13403120,5314000,11584500,12157650,12695630,12944300,7384750,5749000,6063250,9626680,9273100,15559710,9665040,11751940,5686125,11526700,6900800,9824040,7524750,7102125,8901650,6499750,9637220,9567000,9890620,8356850,19297260,10096480,13709595,12364800,8074630,20302130,9494835,8970625,17556170,9860400,12235870,9350240,17180560,12906800,15965590,7443250,5895000,7868000,8707750,11329800,8318450,13009590,8333250,8078620,10674350,22302670,10749120,9575120,7525500,11385450,7544000,12177400,10071110,7922250,7691250,7733620,13014740,18485760,4437750,8047500,5131250,11730190,11679050,6790750,11774560,11523870,6956820,16616430,9606750,6125250,5807250,11805840,13261700,5710250,16967540,5743315,9095330,14826580,11168750,11264700,20697180,6008250,7142850,11268000,11318950,14358470,12173800,9319450,6598000,8539610,10779980,11220930,21014810,19142980,7310375,7506500,13099130,8599740,14028720,11873250,20496430,14203260,5940250,10232240,9037200,13851040,13331300,13896950,7326290,12532900,7385300,10769370,18531930,8605340,10150100,9525100,20734630,7210750,19083430,12572000,11173220,20940460,6965500,11779810,9778110,9773000,12653630,10630800,14196640,12873650,13698720,10881370,11327760,8892625,5057875,9481950,4950250,12993900,6453250,8545010,8725650,10437110,9507320,7862800,12084280,12569440,7020750,6505500,5829250,11719720,8801100,9470340,11813720,19844870,6465000,9207350,10795500,5378000,10030140,9140480,18796780,13444320,11764865,11240520,7670180,8372710,9491300,13852750,9537120,11026000,13158180,6195750,11450470,13763020,12133045,9954125,15329240,14445470,15780550,10172480,13885100,11762090,9315600,13221960,17099760,9692960,7638500,11863010,11679830,14254400,12308520,11157225,9463960,7491375,12863400,8027500,11221720,14893850,9572300,10463400,10475000,21969520,16550350,9871170,20331090,9352100,8588100,10265430,9451250,8010660,9955930,10044600,19459290,12054580,14646780,13874850,8992960,18334400,10223050,10282340,10423760,12320640,7915350,10671450,13650440,12363680,9977280,6297250,11110000,7091060,13161500,14178210,8828350,6553750,10933000,20550920,8092500,5940040,14912460,14471130,15090150,7918980,11248000,15044200,9872490,7359275,12687420,6997850,7738700,21437220,12185540,11224050,13041980,7359840,12501600,6898250,14622250,12996720,11430420,7541750,9341900,8159260,11515200,6420875,9656600,8925160,6037545,10882620,12784640,8060000,16137480,6443000,9960220,10906430,3404000,12683980,8057450,9094750,10011470,6519000,14008700,9562650,9325860,13533950,20707160,11698300,5342000,17193660,17294550,6999250,7977570,8528780,14209800,13026640,10768720,13582900,6853550,10214695,11900750,10309290,7656640,15746590,5829500,12486800,9795370,9023100,10442550,4321000,11280410,13551850,8798750,11813340,12032720,7704750,14395000,8716800,13076450,8863750,10696480,9354600,9850425,13407250,10370100,15982000,11359500,14499510,11955405,7133850,12459650,21220250,12480160,9002750,9967250,5729750,11673500,13030600,20618810,6827500,9338270,12252250,11967520,9868000,10678140,12866800,19526110,9272780,9570490,10132150,12393500,11086380,8820750,12251750,11828320,12704950,11235250,9258310,16018960,11563580,8129650,5251640,8196110,10259180,9663350,11799500,10472250,13491500,11827400,11031970,9964150,10248940,12574290,5159375,4646250,9031800,13180400,20020970,7061130,12813210,10737430,9590830,10502000,8543500,4894125,14248200,3000375,7660600,20591120,11407570,14949120,9163250,3781250,10453060,12435730,11682020,9268680,9879360,15678280,14602660,10668780,12415500,14509000,7341810,10339000,12549660,12680410,13328250,9952680,12570750,9772960,6823875,9188290,14614100,7462400,6930720,17805860,11874360,15941330,5246250,10625000,11781260,12560000,6831950,6000900,14640260,18963740,14507380,7375400,18676960,7941000,12911300,11804935,8191450,12980150,21320640,9898250,9715500,7710860,11415610,9277020,10670850,14217020,8027540,15635990,8008250,11710370,7487660,5452000,12019000,9218040,7731120,15370850,7947370,17340400,10659650,6578415,8656000,6472125,9889600,8920280,10739020,11534600,9409960,13104880,12192300,8932590,10672285,12774540,7087250,10525805,8044160,8913270,9171700,10876790,11810540,16006000,7763400,7522430,7335200,16070870,6860600,11596240,10148600,11851240,18686210,6811400,9821540,14105580,18333020,12916910,5499565,8559850,6641500,6980320,9304770,14874950,6928000,16538570,9112450,10548750,14168130,8402320,2640250,12337670,17722310,8978460,10514930,11431740,7913300,6054750,7190600,5091750,6519000,14375730,11780070,11061120,16025310,6818200,7283800,12496560,7479000,13090350,13651240,15443180,10625200,10569390,10880340,10011770,20139900,10805855,8814250,5783750,20819590,10444400,9827320,12303260,9943840,11141710,5619510,9609040,9743650,3867250,9459100,9295300,6789500,14239590,12856900,9810510,13046310,9729900,3844375,9189800,8446600,12306030,12219050,14135780,11547750,14228100,9456590,10599680,9491000,6972000,7866370,10598610,8930250,7853250,4155500,13171300,10954860,10759755,10995790,12627100,10843900,9733590,8808920,10554810,13774320,17657420,6387750,11667930,13369230,11134480,9553540,15979940,17084160,20119920,10973700,10756350,11779280,8578100,6568510,11541050,5275500,9293090,5769250,6435700,9747565,6870115,7931560,9606220,10854800,5972585,5842880,11346500,11202460,17739020,10337820,9651120,8812240,6624750,12928440,12305150,13404800,8272250,16367000,7929540,5639375,11943500,10893740,10618990,12081890,14090500,21815360,9352665,10746250,12744600,12009700,11510790,10183450,11228760,12723750,9446410,6677700,16586820,6630650,20709050,8148875,7637750,5829000,12051200,10493650,11226890,7466370,18439310,10671200,9104500,10250450,6172500,12038750,8187100,10894470,9593250,7728500,12751600,18815020,13669300,7331750,8520705,13957390,7707405,19567180,14204550,19275870,9234130,10411240,5727750,9492300,5589500,8254270,13791060,12910620,12848450,9243640,21937620,10088050,12242780,10546560,9257750,5340900,21140330,11504330,6859145,5955500,11691860,12752470,16627610,6300625,11334780,6709750,8066720,19888500,11930880,10379500,10408250,14771930,13327120,4484500,8223180,11809740,17985130,15209340,11560690,12289250,10668930,15794780,9404750,7828550,6208110,16758540,14565090,14521700,10051000,10890755,16536140,10038580,9388710,9686030,8217905,8374470,7418850,10366590,9127590,3276250,11894750,9573640,9024860,13447650,8575240,10158220,7208905,6992750,12357600,6461750,5229250,11312450,12274350,7928625,8480080,5572250,15851550,16882760,8840950,8754280,14030400,22499190,19257730,8857150,8555550,7521800,8030250,12505960,19554920,15825560,19494670,12416700,6824750,11731400,18302850,19971770,13914320,11444400,19147580,9522360,5070250,21941710,8812400,5199250,11517940,4593750,18809830,8292510,11113950,14104940,9667200,13743040,16569530,12709550,7848980,13098030,8213890,5679255,8452750,15903000,10184450,13238930,8316050,6561850,5937000,12905750,7099500,10466910,9980680,6702170,9977950,4740750,8758550,11244250,6792750,12439270,10300610,7165750,13038690,17991120,14802000,7803250,8805640,16499010,6765000,7071375,10711750,22043680,8403900,19106530,13677550,5340750,14156220,9404500,14341940,13736210,6577190,8145250,14211600,12055410,21021130,10527390,10128200,14529150,9429000,7910000,10800260,5179875,14195200,20900620,15849980,7019200,7947300,12538900,6607200,11914830,11557700,13252420,8424480,4667250,11474270,11761550,16474980,10114650,5333875,7293785,4905000,11926000,8827940,9657300,8824280,20026580,15335000,7814420,13511380,11466600,12857440,10091620,12419160,10612360,10542220,12567340,12429860,7210000,9038645,10884400,13160800,17669340,11180570,6946250,13014440,16872140,5374875,10171120,13676650,9320670,7987950,4268000,8839880,4397375,4984750,16294030,7774035,5248500,4353625,10875910,13928950,10184500,15997510,6480125,8336200,8498500,17879080,12046300,11270700,14777070,3924125,14927280,14243400,8149800,12924300,12560760,8194735,8024265,9207590,8411400,8986690,13800760,18298710,9236700,7540400,14274450,13144750,16318360,12151100,7245250,18390160,9473200,9623750,9302665,13511250,5943400,9255380,10439000,8364650,12798750,8025200,4806125,9327100,10807000,10751420,12732100,8507750,19576490,20102300,7804500,8984250,11233080,7356375,10768300,13553740,11867660,10363250,18111990,12352710,21276220,6444500,13846950,17586840,12508940,9618640,10241800,10626300,9553000,9906355,9741970,12669300,6504875,12329500,12150830,11412420,10831360,9658000,4027000,19159390,12111940,6085250,7696750,11003920,9154950,9079650,10904600,8546900,8072820,18642910,12261610,13387920,11435335,8453795,7375050,10279070,14283760,10104360,7764900,9513220,8638965,6182600,7549650,10499460,9358400,13178340,8415125,13765430,13829150,11351580,13756100,13667200,9539520,12524250,12290970,10039090,10024000,9477140,10235220,14015750,8445505,10630250,9585000,12930060,6815000,9376320,18991980,8250025,12115290,7375160,9190000,13297100,9835470,7029740,18183200,14450600,12426660,13120960,6435890,13764300,7036460,10847450,14377860,12601250,12140295,8055350,13245480,20180630,11949030,12964240,8480400,6377770,12911990,11434875,9854210,9310600,10810740,14139590,9857500,22199910,6495250,3950000,12493960,19128100,15754040,14214780,6606250,8547750,5219625,14620220,10566485,20623620,22778410,7452620,18686820,9749680,17526220,12043670,12182280,8443700,19462090,8155855,13408980,8210750,13196500,9527840,10682000,7358650,8629140,9802790,10049980,9361880,12046000,12101540,7124500,8619940,10985250,7733125,6965000,17436220,13606900,6857200,7596170,8460450,10454020,10432830,7382320,10607450,17359980,12813600,10956200,14820800,15326290,14459960,11551700,21804220,11646750,3001250,7997875,22918500,19428640,7383325,13172210,9774610,8683125,9400830,13985270,13608400,12713810,10338740,8156380,2797250,13937650,11290385,13469950,7233000,13465550,7688050,13346190,8340000,14542670,10573780,14388290,6380465,8354290,10978600,13293200,7243850,6161750,12458150,7082000,8981140,10982180,5720630,7006800,5821000,15845620,12713420,12411950,13930950,19296480,9953250,6530500,12247960,9492280,10648590,7855000,21143730,4345125,8779845,5976650,4840375,8350550,13321150,13583660,13659880,8291600,7279125,13391620,13697100,16453640,11777200,9510440,13308950,7049500,13283040,14006950,12198470,9106920,14152290,9880180,8522150,13083950,10363390,8802450,6307030,8062500,9081450,11517700,12582025,13124770,22319600,7355250,13039560,10105720,14198300,11867200,12338765,6235675,12220490,14415250,6816270,10188250,9346520,9238625,4546625,12782330,7212670,8646080,9642250,4408790,3250250,11638340,13131500,7018200,9626920,6840500,13754660,13479660,9625250,18428120,3602875,10491150,6993500,7222220,5259250,11045500,6791800,13179060,20613320,9350120,14102030,14403150,8990700,8538500,8724510,13968290,18125300,8065300,8017830,7586300,7892890,9864980,4771750,9345250,13307710,14666960,7096350,11517200,12291450,7751590,10004420,9579340,10525540,14376540,6042750,12343180,11229080,13018400,9648350,3540750,7216250,10179250,12053600,4555875,8558785,9241990,9170500,18402320,3120000,4158500,9235640,15340770,10446850,22027780,10506840,10512770,8534940,9239640,9429000,13251250,12202770,11874300,8987700,8134610,18917730,7539800,6564625,9753980,8261100,17396720,13286630,5923125,11624150,13630400,4310500,15381325,16043910,8319250,6904000,12957140,10161065,7342750,16752260,13969720,6631500,15148940,18722090,4076000,8431750,11069780,7039700,11991960,8693250,9745200,9750760,10770760,6705750,15461440,13744855,13466270,12063670,6581500,7193800,7610625,7022890,4996250,5438735,8052400,15272340,11946470,11760250,8372750,17105720,9321900,7321755,10149750,22852890,8630100,9991620,13904760,10881060,13450990,15727600,9603110,13746840,13128785,10225500,8509625,10006870,8007290,6873290,5369000,12248000,8448350,13784930,11680440,11038400,11320770,8994000,9699500,14465005,4663000,9998750,8604850,6125000,13372090,18712070,22300300,15251600,8262630,12012530,9622550,20938520,9429860,9766450,9375550,22712170,17336020,14366450,15539100,7038165,9492700,10905500,21875100,11905350,22149210,14608180,6646210,18073600,9367960,15601870,7750000,19678440,7895235,10088000,22519520,13991160,15043490,13627500,18438250,11868140,9775540,8280325,11883360,8511480,20420270,13039760,14573400,9514610,9081775,9912300,7061080,8485200,13639800,18853070,13510380,13663850,6192250,7094000,12588460,10755300,5398500,21406480,8553000,18115790,12436750,11915040,11293450,10694910,13022050,15778370,9460875,12967200,7557625,7852185,4198000,11518200,14407200,11206050,12206870,7807300,9927740,10812320,7862110,7884540,13021950,10248370,16349020,8328620,6497000,13898300,10847700,10415550,7379750,13839120,7734200,12116010,8241375,9044500,9047980,6546625,10847000,8799300,17442610,5702750,13714220,7695240,7802500,10858770,9009200,12564470,8813065,6207400,10411700,7195550,10893960,7321000,12867540,21809430,16495290,12295050,10843350,10009600,21544930,14637520,9255500,11848470,12078690,14414800,22459910,10587750,11333220,19286610,22186250,3247750,8111250,16889580,15356550,6087100,14179360,13753510,18588600,13367060,8936650,5140750,6784000,14908785,13338780,17790400,11855350,14993570,12416270,8516690,6074780,10508500,8802320,8391470,8576620,13659200,2156875,7758500,14281030,13050750,6274535,17398940,6473180,13877710,8131700,14398080,9307200,10940805,9374280,4873750,12412600,8640800,11182520,11847900,10651460,10918760,10191950,10813485,14703750,8243200,11727250,8905050,11457330,15389035,14393810,8452000,7034750,8944400,8723530,6086550,17645160,8267060,10256260,9563000,9930400,7811540,7811430,5332750,6445810,11543750,5550090,9606700,7866250,11604220,8777950,11251850,19730040,8393515,9468300,15773770,11157010,14086360,6709500,15532620,14804680,9222850,4288625,20657270,7852000,12450220,11284500,9123700,12030980,13363810,11098160,13176350,18426920,13461500,10742050,13486940,13820610,14837130,10299920,10031100,13503490,19959560,7716505,12892760,7812550,9586150,12195890,11574940,21194540,9782000,6633410,8563860,9882100,17622540,12823400,12511230,16197860,9311620,8090500,7589010,7101750,15340410,11040310,9287430,5100250,14088220,15569210,7545650,12123360,10622400,13355600,13191580,8743700,5742295,22022260,10617420,10908000,13640240,7675500,5801000,13258680,7676450,14603420,12009660,8545605,7818500,11935020,12569065,19090950,7740130,11074760,20823790,12893440,13575290,12544800,10458600,7737625,8595800,14166140,10209650,10428940,9987005,10554000,8739100,15479240,6434750,4706750,14419380,6898750,10081500,14046370,12120330,8937450,13758930,13205875,17061540,5624750,6368000,8019500,6618400,14878750,9625180,5546495,11997230,13275240,4398625,13296730,4479770,11155480,10279750,8984050,12133700,15185240,18670480,7385285,13112560,5858250,6860970,12677940,7779515,8721550,13776050,8134850,9281280,11399205,14906280,14646760,10019420,14547070,15929660,7142250,20555760,10584775,15815700,7414265,7662340,14241820,5125790,10084320,13215865,19571820,11256610,15556750,5903750,12416100,12554380,7567040,8517175,13209090,10556375,8504780,10245090,8307375,6524930,7171850,14686600,8427850,10676820,19171860,8466820,9379310,8410150,12430300,11139700,6304750,8013720,13397130,9910835,9536960,4408125,8270600,9801395,13852380,12099740,9634250,18624480,9008060,8586060,22000360,10441640,7775300,9248500,10620750,13355100,8569350,19635040,8420300,5859875,16053550,12303400,6198000,11010960,10544750,4678720,13042550,12666980,10373360,8514030,8720100,7187570,10968170,7243250,8665540,7898250,7859750,6059625,10084565,13362600,6857075,9955700,3807000,9020500,5500000,8616750,9475900,10917740,12196780,3577000,11019000,11217570,13037450,12149050,14109250,7439500,13277730,10180900,10905100,8513600,8538070,12739970,8841600,10180400,8637740,11197455,12388350,7441000,10950540,11338250,10737270,11190500,6951120,5628000,8208000,12812990,9051140,18681200,9220450,13316650,10039740,8055010,12038110,11985700,8345500,11286720,6754500,13245700,6519250,13986310,12268750,11050340,12035430,8974750,21208080,3928250,13903480,9900740,7329125,11060050,9087160,12026070,13547460,9574950,13613320,14480950,12649650,7689500,10864880,9683840,10676510,6066000,17471500,8087365,12837890,5038250,13099400,11575870,13502140,14121610,12643190,11333130,14020280,15850840,3891250,14106990,10848760,10736530,6683750,8969400,9117330,9132865,8325850,9155320,11606300,5464000,11926600,8669050,10285360,9213320,13308490,13089560,8611350,9952510,11505040,5136000,7416000,6081000,14402200,11863790,6997500,17248780,13518220,17934280,12183080,8532500,10569040,12021160,9000305,12412950,10281375,14773100,7178990,10970740,8270125,7514750,9737060,11665400,5441000,11375820,7697920,11809800,14276060,13888700,11863220,13785170,14159480,11994050,13266650,13597890,10431690,11752460,13945940,10699280,10895000,5882500,13990830,8344040,10773390,8320290,4243125,7978600,11117625,8991380,7081160,8269500,12397590,5716935,11148980,9320800,9282050,12753880,14246650,9902600,10254500,12428040,13594630,10774250,13324620,14471520,17242780,16814260,12639580,6642000,13049510,16835310,10371250,13805110,13975040,3454000,16693265,14154820,14691200,15704500,11645200,7284250,10169750,9252340,12308240,9689440,13280420,7603010,10631860,17449820,7904525,17187060,10137210,13206150,12792980,8690980,8878740,9629850,12919750,12347950,4627500,13822920,12072650,11270960,13957610,13356200,14477850,9077550,11998010,13942350,12941380,8598500,9200725,9393000,15122540,9737150,9241670,9688300,11630020,9301605,8292190,16300260,7525375,6911070,10563700,7693965,8418500,11516250,10567050,8939050,11648840,8883750,17363590,14477820,6399750,8348770,13764960,3210125,8889850,9951030,8776500,9468000,8350260,16354300,7957500,18402940,11820720,13761350,11939850,11712660,9225240,5711000,4876500,13925230,7507375,13545830,14866620,13376150,11819950,12495925,4182250,9064800,9995770,7377300,11277710,9643920,8756780,21789460,13906030,21810920,8484620,15494260,8387750,13435000,6352250,12279230,12885880,10764320,8092310,11014650,12334760,13267150,8414700,12304750,9448455,11284700,13094870,6353750,13331980,6678875,10065600,9150510,12232800,14103230,8957390,20241530,8080925,6567375,10335050,9045605,13234330,5032625,12724510,6888450,11411760,9965620,7651250,12938720,9946290,12123250,12039380,6776450,7193030,5272250,6252365,11840340,9890560,14485900,12359320,12716150,4982055,20562600,8732470,10754410,13168605,7675750,17720900,12454750,12735905,6997335,9983410,18546530,13211540,9808360,3102500,12040960,11963590,13478895,10499650,11667270,9022165,6206700,8287180,13442250,13113330,10095000,8597500,13371220,9268750,14397160,12339780,10236960,8566750,18658980,13186470,9292000,7202750,11338920,13642920,7174375,9630040,8203665,8661320,11548700,11320960,15503650,13606450,8423350,6061625,7688000,10958500,6237500,5426740,6752540,10765530,8871195,10802190,8917740,8638540,7922150,9711430,5330500,14862430,8901750,20362800,15779500,11274750,7999750,7729125,14411150,12632900,16497820,9847570,10794060,12171140,11451250,19939120,9778420,9045250,9758600,9879950,9795980,8296250,11295000,14962800,11546330,10173350,8638785,12866410,12025410,7550250,8421940,9341380,14203140,6313250,13627030,17360470,10458220,11996750,9162950,9701600,8527375,4517000,20487250,7774580,8637320,6374265,10567300,12368790,4798625,6611365,8195220,13553180,12879720,8418360,9168580,3815750,13567150,9607900,8269610,13154100,9455100,21686920,13801050,6348750,13040160,19761890,8854790,9955440,10643500,6666735,10589000,8983700,11073340,8454860,6802150,7814575,13941590,10468580,12616820,20982920,13788080,9985750,6660000,5355750,16982280,13759280,12840300,10243060,11029700,16174720,8883050,15476650,14093160,10782380,7839500,11531000,17240870,8916410,10931250,9103800,11090200,9177820,10056300,6560250,11704830,9837875,9879040,8572650,6576375,11046310,8242250,10571990,6709750,9817160,11513500,11348140,20272170,20656290,17670400,11583300,8033250,3331750,13971130,7693740,13118450,12721750,9480000,12046250,6050375,12924800,10048510,11770400,11381360,6224875,10890050,10882430,10560810,5326500,7341790,18911110,18011000,19789040,14139220,7926700,7484395,6855750,12904650,13057270,17357440,6916665,6652020,9653285,7603375,9790040,7629750,7014250,4661125,5147305,7374500,10235550,17874820,21217800,11559880,9464500,4491625,8803420,13245710,15003560,10671275,7871720,14429740,10185610,12946500,10001250,16935440,9347935,5434250,11663490,15589440,10337000,14200900,13709340,13685190,7953250,12332820,22053480,7356625,7338250,9996000,6849125,10462500,17523920,10010000,14873340,20461220,11231390,12711220,15010890,10139270,10007800,5636000,7877645,11716020,3226250,9368650,7074750,5587150,16593240,9478820,6356125,7145230,10626305,8744875,12335200,10284000,14214940,7727410,5564000,12391870,7976295,12572700,9801040,14917750,10362620,6503500,13864450,8438625,5818500,15472200,7883050,13197400,14093240,9869710,11786460,13009230,6251000,6821735,6685100,3219750,14844980,12406480,9094750,9040975,8743750,10976510,10106750,6996125,8469580,10148300,19240040,10101200,11772340,12492400,7131000,14392520,12097820,10163940,10780920,12756200,8033695,7972690,7197800,10439690,11827040,9045250,9871800,10994850,5347250,14737850,7335890,7952375,22633000,8442110,8214800,13921240,7520335,11212900,9651940,16071420,7700295,14057110,10936000,7593850,8657220,9390500,14415540,14408010,12364620,10563530,15399860,15793800,8078550,9632330,8718400,9155815,9073040,12578650,4512250,9484000,9722500,11762140,7913650,12063380,4819500,13870800,20817260,6895000,9555750,12076530,12439640,9915110,7074750,13180810,14344210,6333495,10455360,10302000,10911000,16384220,9647855,13822050,12754380,19627640,12542950,9365500,9406050,6755000,14345060,14717440,8255500,10252060,10727975,8100250,6286255,8779820,10366390,15417080,13511550,8761750,9451780,20999330,5100500,6056500,9333075,12351340,14516600,11238050,11167270,9572950,10647205,7855000,21362800,16567500,8812260,12442340,12885120,9148120,7954770,9736540,8570300,10525625,8978750,8289150,11177540,13654950,8586625,12110770,11095180,13244520,12591440,13554690,6632820,6662000,6624250,22124730,5782500,11468620,8229750,11374070,6057375,13385355,11350850,13948580,5815125,9758650,10438400,10448260,20152800,6973595,20703290,6389500,10374040,12026900,6881585,7793500,11483350,11341450,5477875,7468250,12654180,8580950,7088700,11254700,7150185,11175750,9416330,12266200,8901800,6587380,8762710,11582700,13039650,13679850,11918620,10092000,10178500,7484250,13851000,6590000,11395000,11050140,10699500,13712780,12756380,11573840,5094500,8837090,11346080,12427940,9853200,9546450,7429230,13378150,15546980,12224420,5745250,6969750,8934470,6658000,5101000,14394140,8022500,6924500,7720300,7640160,14791400,14095950,9429275,13511360,11131800,9508930,3863750,12943320,17224100,10688640,7397875,8852085,9771780,9270980,12128780,7538000,10670035,6906295,9750500,9057500,13003330,7196210,6167000,12958620,13028240,13361380,12537750,8712970,14901220,11574300,15032380,16295260,6040500,12543380,12428900,5015625,9899050,5770875,12053310,7706100,6472305,11829500,12078350,13081070,9060500,12827050,14104610,22078000,22104600,15965260,6732825,5553875,8715800,15344360,21008600,12386240,6810000,14085560,17695060,3524750,9540370,12389840,7741750,21330680,8967600,7979400,11129980,21067620,12403350,14000930,11160095,18143430,10033660,6176500,12504530,9801480,7167380,8342150,7197750,10132530,5980500,14529560,7265010,13450300,15442540,11613500,10895520,13672720,9684200,12545220,7938700,12837050,12124700,9582140,14246350,21735940,12305480,3914750,14285850,13938520,10686720,12432000,14546520,14155830,12535180,9299500,10726300,10788420,5171375,21122200,12735120,7852070,12207750,21562790,8678060,6493670,7533450,10237660,9364090,4926250,7701505,12078770,21329650,7476500,12815640,4546625,13925310,7242500,8416200,9852290,17131960,12069180,4944250,10441050,6263750,10058430,17592540,13976300,3947250,11696200,10515160,10296250,13979190,9404200,4425500,15667180,10093760,11357640,9706720,8419850,13170800,19830670,9409880,8397025,10241290,14256340,9553870,7559125,12368280,8322920,12694600,10862580,12973020,14218350,9103100,14579200,12503750,9459500,18770340,13484650,13699490,10768375,12199430,10190000,20628140,12911530,7478460,17338600,21858180,11514600,9708700,4606500,14832770,8989620,12514000,11531350,16026600,9741000,7629475,10677650,10178870,13340400,12863520,14482020,13484060,12209510,12669880,20037030,12080690,7810830,9030250,15110580,9316900,7066280,5976000,9785400,4190250,21141390,13523500,8816220,15524880,14162605,8109400,10666560,11085750,17144820,6201000,7214000,12900770,7745700,9799440,8297305,7040500,12285100,10443600,11325985,9664460,8159375,11825750,11402380,9318280,16859010,14072760,9508790,15030780,7135990,9314850,13534820,12484960,19021940,9732090,11072500,11127180,3990250,10313310,7350500,8336390,14025290,13859950,7824540,8447030,7441250,10320050,19633070,10477750,8440180,12947100,9701100,10829040,12697830,13138550,6527250,15277200,7393940,13892720,9077510,8687220,10562850,9656875,10826770,10503250,13402700,7230510,6922495,9059580,14538990,14554600,8734350,10983560,7058310,14465540,12255910,9556640,5955500,7078720,11200200,12144500,13871280,8004510,13035050,16174900,12310100,8874700,8071050,12593000,23247590,9255095,11035260,12677420,7365020,15492080,7916100,11573840,5781750,15769700,13208200,8563750,14272420,9689125,12177750,11285250,7051750,7870150,11718530,13055160,10422340,8809180,7062500,13430730,15163850,18976810,9524800,10415200,11350430,9641790,9038500,10122740,17542110,5950375,14201380,12316440,10714500,13458750,14405060,9171900,17545620,8157710,16440220,7287735,5207250,20559960,9945720,16947760,10940600,7084250,13158410,9892600,8728800,20402870,4517000,7917300,9786000,13979000,9673210,9824900,14358860,8408440,6590550,13730250,9688320,9903840,21844070,9446220,7768750,10011600,11778850,9786440,11930880,9185320,8756250,7827000,11487520,8072250,8929390,5994000,8929150,15777670,3452750,10170565,14299560,10121570,6614250,11620880,8551500,11365900,6849000,10007400,7838500,11401150,7308060,11859315,12501250,11478110,12316650,7677000,18233520,16243990,10840625,18310270,12177140,11146840,8925600,13438040,8327210,11683630,8227170,8269700,9108940,13858750,10638400,8082400,12106760,12415260,20509480,12809850,12575330,11409485,8178250,14083210,11411380,9462850,17253540,7864100,12371480,13989080,6544250,14832480,10542660,8426070,8661120,7924350,18787680,8987500,13053100,13868440,8854370,12571020,8702100,8911250,10846380,9550950,22431260,4704500,10386500,3029750,14852210,12836660,9622080,4342750,6774500,6397375,13871100,9962560,12064300,10974200,12570050,9798850,8602800,7313720,5449625,13397330,4667875,8885505,7681125,16959080,20175500,8968800,12539630,14421410,12858800,8710250,9638990,15324610,8510250,12821435,10932200,6309980,8439410,6454700,16485600,7850435,11286200,9033320,15132260,15023210,12000450,4204000,12772400,6088870,12123800,11207070,8485500,10810090,8627495,8271200,7903000,12303600,18896300,10496550,12826140,6511000,10063000,7575000,7182160,3992000,12429230,12994530,8836970,8391010,9184130,13867560,11866220,12526950,13457270,6044375,8939375,12490460,9231950,17492740,13890750,15136680,7420660,5649250,12940955,12599400,10029280,11096050,13479510,10884000,10868500,17961120,11642000,15488740,7887730,12244540,10667920,8940790,8172250,6652125,14449620,8590100,9485505,11417640,13745240,8858160,8086950,8506290,12844055,6002600,12596710,17603160,7604205,9330460,8283610,7451100,13835200,8645250,14547240,10432580,9393450,12196750,8424650,10468250,14373860,10526040,3999250,13043320,14333470,8334330,14274180,8813250,13855020,9238375,10160800,10116560,13562340,8197450,6873410,10626810,9462850,18235960,11243310,6282125,19041320,10151900,12758250,7455000,13259300,6114295,19897420,10382350,14990730,7419410,13265120,5133330,10920230,6686075,4943680,8052900,6609500,10885530,13623940,11361840,7045750,4372250,9298860,12114410,9409300,8195890,8179590,9079950,10734750,5716250,9840560,11408210,8072750,7582320,14787965,11793720,11110165,13464130,6958750,9583400,13797670,20542790,7495030,8088000,12538550,12419450,7643550,7018750,8445960,10437700,13494580,8298710,10607620,6155750,8696375,9387600,9776410,10569880,11690990,10158300,14741440,13460520,13827160,11469350,10676410,8299955,6830600,6960000,10666520,8925995,11892560,7906290,6579195,11701750,9767030,12227500,6410875,11076280,9292400,11139830,15990020,7586000,10904100,17489700,11401230,12373200,7877250,9767120,9258050,8136645,8000150,8358120,12153420,4864750,3717250,13839900,11514650,7497100,8316400,5237125,8460450,7428250,8209950,13137420,10708580,12997600,11302520,4642000,10260000,8120800,5623250,10280800,5798500,12197980,14238900,10305500,9402450,8687250,8427650,9524740,9819020,9017500,8899375,9886560,13164420,15456650,8397000,7626210,11994130,11543750,8653000,10056950,5455965,4674000,11692000,10790770,8894000,14263020,12162650,9878990,9459475,11337335,5301855,10163100,9892565,14753320,7137900,9150280,9127350,7482260,8640110,8259010,11899860,5323250,6614000,3189500,13938740,8263500,4937025,12502800,13554470,9347000,5822750,11726550,22686330,11398650,6142750,6020125,10208460,12204650,7370250,9613940,10436115,11837500,7775990,12318550,10038630,8346000,11569710,8672000,11217940,5425250,13347960,6629690,10757980,18690080,13638900,11881010,10297500,11544130,8947500,7399625,8815630,10977400,9470890,10961500,9817500,15195150,4678875,7976000,12336720,12486170,17101580,20151580,8702510,17876680,4555000,7130400,8469500,12511690,10559330,9696550,11015000,7191840,8620150,8836310,5852250,6843000,15673080,14483410,6804500,8380775,8165230,22201820,9311100,16377280,4737250,7446000,18554220,10538280,14468350,14032000,20551520,8819440,11935150,9092600,6390000,10449500,12142520,12115600,9386685,11581500,9791680,13144050,9283260,16515880,7079750,10253410,14256100,12493850,9489290,8766600,12436280,18673590,19369040,7582840,11750710,15247820,15310800,5180000,8033250,12871040,5925790,7036410,15676760,8285550,18293830,13876620,8142550,10353315,6878625,13456660,10588470,11346500,11642240,8005310,22619470,7828105,11077770,7584040,7387600,13370400,16094990,15030330,7666980,16918940,7732750,12231750,5283250,9570520,9842290,11064550,10706080,9834610,10980150,8935900,12089100,11966700,12755110,12617700,11872680,13566940,10080770,9914650,5352875,8499600,6221000,4591875,13331980,13264000,16625090,3741250,12010860,12432100,6421125,7649800,7119000,11187900,12673360,7872500,14115670,8368990,12099995,21252230,3833500,13463390,6468090,22007470,9284180,11050660,11633740,8061375,12145750,9221000,16666700,7685050,9188710,6479750,11174665,9120250,14289740,7240500,7935350,15093640,5754250,12021830,7537975,10854110,15603340,10636110,11643180,9577000,10916420,6235500,11827050,8931100,13510630,7628730,8287250,10381640,12556130,19978530,7363600,7759200,9160100,15053510,12555850,8744300,12212000,8975540,6152500,10831740,4626250,9942750,13038800,19467250,7056300,11948330,10660400,8361750,13175500,6031500,7478750,9780000,8614150,12952820,11938300,10942360,13534450,10707680,9497460,7575380,8458500,7625250,11709450,7032250,7756750,10516450,11832500,8170290,13940820,20387660,11088470,8865880,6243300,14956820,9717300,11834440,9929000,14047140,7180750,9522210,7730470,9000320,13399250,7320850,12035150,4505500,8487410,12763700,18543840,8965750,13378620,13199950,5633250,14416660,9422000,9089140,9681250,8876760,20003050,12334440,7558000,19839060,13570940,10341610,7007250,9967750,14721720,14052490,8177250,9213250,10820520,9187560,14124700,9886000,9500250,14704500,15237150,8987800,12990820,11062000,13472800,8762095,10357920,8614330,13475870,9080550,21530880,8920800,7870685,10246160,13217550,11265800,4168625,11001750,9226180,7195550,18365420,5648000,8992520,10485480,8001610,10138550,12529240,8904750,14737720,13798400,14615700,13495120,12034000,20334690,10781300,9512550,8994500,9354900,14830590,10195310,13027020,8602280,6515045,9749000,9009500,10873880,8017350,8474250,12505440,8567050,4256250,11133440,9884750,12443800,8445450,7387625,19848170,8224000,13473750,8728635,11781050,11739740,12613410,12656590,11585000,8474920,8965500,16077100,21750600,9818010,16196760,11547935,6690720,9755310,9991510,6909125,7065000,12514070,9779750,18610560,16478960,9356020,5576560,10214750,11046700,10753720,19240920,9715800,7638500,7955250,10897710,7877290,12781400,13572840,9053300,12999460,12590750,6830000,11971000,9832750,6249500,9302420,15931810,10605950,15089800,8802250,11659850,8713470,17426900,14480160,8860120,8461750,6677000,8967625,11347040,13461540,11289880,19959060,13381530,13522410,14376860,13937920,5448750,16246070,11077460,8834250,9446200,12196510,12382360,5016625,13081220,4521500,17812120,5162250,4485750,13849520,10753200,15722880,7028960,11095900,10560230,10728800,10609450,11415250,15598600,7812900,12045160,10569900,5561250,11671660,10133720,10119880,13933850,8222000,22593290,9652510,8581000,7605945,13129250,10047540,8911850,13874910,12798530,9003860,9029500,11570100,13902360,7575500,9150230,9893420,7121000,6334300,8739135,13390780,6386750,21165570,18055240,6501500,12583340,7112250,10983530,15728210,10578000,8425000,11541320,7865000,7269300,9801720,8896740,12311250,12256520,6583500,8557760,9440800,12558620,12074700,8299100,8434850,14038465,9729650,12627130,11905180,8182525,7704145,12952940,9255790,3974000,9477620,9318660,8328830,8358250,8748900,6030000,11227800,11132540,11045865,7561350,6433250,8352235,13025840,12017530,12386540,9938250,13774720,14042030,11697500,8116035,12584475,3953125,11637200,14013210,12525300,14064400,13063900,15120240,11354230,10728940,7851840,8545660,16549820,12913500,8829350,13875150,12610500,19359180,7368100,14029100,5028250,6321500,5856595,7825250,10708380,7372180,21512830,15533370,11371920,10388980,4762750,8689410,10790620,11481960,8259750,9346410,20841430,15118500,15202400,8628250,15486610,11377000,5378000,10334640,7774950,9235150,9266600,9404600,6771500,15311500,9389920,11948440,12129270,11681650,15224290,15490850,7608500,17268380,7500750,3608250,14019480,10283690,11109840,21350340,5582500,20231160,10770140,4664500,8086750,10049250,11237140,18763360,10088120,18286600,6956750,10312400,5699500,6036800,10145540,7387000,13073340,11494940,12383920,6624750,15087520,10295890,15414900,8172980,5360500,6613250,13250400,12829750,10724600,9524080,20283340,9427130,21340820,8547800,10412770,18197010,6350490,10104040,12336310,10978335,6721750,7031000,11925160,9732220,12787100,7242250,14635980,20581260,20600300,4456285,21744380,13342960,16063820,19151250,8817800,8239330,6946275,7215190,7774000,12369320,8632400,10917620,10107150,16686780,8051490,12493450,9598800,5644750,14849300,9789995,13708870,11709470,7840470,17735560,13737660,18257260,11711950,13840875,8747420,18127850,8572850,8882750,19436960,20421310,22499550,5710250,10839370,10249920,10813000,7283940,9423970,10222950,12914980,14057920,12498160,19030440,11934800,7141125,11734800,9719120,13281650,9512350,22401070,12616740,12631140,13846250,20695180,8121150,11205450,14702890,13177330,6805500,7148255,8371810,14524030,13802880,7945255,6628625,5574400,7900250,8621960,11845200,9516250,8558000,9789500,8383570,12136090,8905710,15165030,8905640,5623500,9962690,5109750,18726320,21198330,7132750,13575070,13267610,9605500,8941450,9784500,20399250,6226140,10282630,8202120,8634900,18792260,12288650,11311420,10236350,13800280,5844625,11853530,21336660,6620420,17976550,7681650,5358500,10369970,12590580,11217480,7204440,9387330,12992320,4513000,7585000,12605100,5447000,8024600,20203750,21006920,6374000,19430380,15140080,9966200,7729875,10175500,11978250,13622050,8960460,17542930,7489210,7688390,9951000,6972000,12547180,21926630,10186950,6491375,7676730,20560910,14367780,6927750,15502160,13780420,16234440,13926940,9660660,10621695,13104880,6787250,9812105,13836800,5236000,4941000,10072650,19103360,9324040,8543280,8929340,13082710,10738570,11651505,8331850,7319850,11543250,7299610,8617960,11842250,7516880,12344390,9455790,10908570,15256080,8688350,8177125,11546650,12734420,16129140,20889760,11511100,7770395,16838870,14602040,12703130,8265980,8358575,10918260,11950360,9084140,11278550,7168585,5255750,8446600,7791750,14993670,8742520,7866010,8847900,10392560,14309040,10032310,20007810,10327100,13239280,13510550,18132160,11818860,20990270,12184280,6660500,13690650,8169350,7102330,8425520,12732500,14814550,6059870,4188750,8536600,8359690,10972000,11793060,8083950,12840250,9392380,13223000,14328620,15189120,13715380,13281200,11316450,7525650,7413750,14008530,9349850,7527770,14962620,7629750,8096500,9354620,11548600,20686670,7238630,9814930,8052400,9866820,9161750,6076595,7001750,12089360,12814080,6179750,8523750,9940500,9975260,6934500,8826875,9751820,14441850,13641050,12728180,10386800,15740140,13952630,10012960,13723030,6034000,6866800,10009165,11350880,10005620,6241800,7754200,13752850,10074070,12152660,7568500,10574160,9966350,9765250,8595550,9000960,13214700,11037750,9168900,14168750,7959100,15421030,10698900,13955470,12661850,10360480,14531570,6416600,10529400,7456590,15062480,12759490,6831380,23314580,12310870,15147490,9400670,12827720,14299300,6803175,13409070,9034940,14279490,5693500,11028940,10742130,7778900,9674790,13520850,13576610,5164250,18829680,11896620,9966750,14404780,9738300,13383450,11472860,12148390,13491940,9378105,7705900,9540150,15000180,6801500,7829240,13464510,11553400,9544150,20497670,10637520,10915660,10013250,10199620,8154400,5489750,11632500,11056500,12113600,20654230,15025660,10991250,8934000,11597500,6437350,4004250,20684660,3267125,12402500,19124310,12019650,13476000,3793250,11011880,9006900,17076900,8799000,14217890,7347950,9020160,5093750,11301650,7685250,8380250,15880930,11391530,9696120,9020650,10008525,12129780,6765500,8847850,4577750,11679950,10010430,5890500,6918500,7945975,18604220,7358760,9435600,7819750,12536520,5430500,13241770,12549700,9317950,7730750,12731260,9871100,11325590,4315500,8958560,12133960,22217590,4981250,8568240,9303620,9890550,5995375,10332200,15899450,7769980,9414770,11400820,20602870,5488250,12181500,11336600,4049375,13033360,11784400,14197950,5332000,9654890,9732850,11240430,11566670,13675700,5436000,7686250,5254250,8583250,14727220,20288980,13088250,10622100,11374960,6146755,10718100,13026890,9505500,5709500,18576840,9012665,16434500,9330090,19002540,10377680,21447680,11475260,11455900,20398010,8258600,10217940,16595430,7161000,12952300,8936750,7085950,12498810,9552295,8022740,3785500,6555750,13468145,10157300,17346200,9060600,12043540,12733640,10354350,17155600,6184500,23407860,17593940,6100250,18457180,7814500,11226950,5874250,9688485,7999200,21770500,7618500,6762300,22726060,13255480,11913820,7169720,9094300,8988520,13912330,21104380,7882680,14657040,11097000,4788000,8548150,7174975,10573610,8346035,11716760,7130000,6117625,10979125,13635670,13923340,7234950,16473460,11230600,5752250,6980335,19260550,7044865,8655900,13982900,6986750,13891800,6340500,12053400,21283130,8824900,11950520,9892670,8116455,10161000,20329120,14488580,4980250,6059010,19125010,12089580,7270375,12774630,12530800,9774800,7995545,11121130,10335130,3944500,8032400,16444460,7734500,13515920,12508550,19753360,13926830,4828750,12086610,11443980,9685425,3968625,12121290,16152680,9060830,13426800,7662250,19697720,11604630,14885280,11294655,13531290,6822110,10070405,10189350,8852535,10611070,12763380,9079875,9318600,16841700,9593020,10706200,8689650,13580180,10303350,14645650,12450610,10995190,8578170,6212280,13027180,19807800,13746750,8755610,20940440,18098940,8487780,18483960,14560920,8540670,10937450,8642060,8798650,9615620,11812650,6348535,9051580,6725100,9467250,7968450,14686020,8254510,17560410,7300250,8291375,5076885,8624170,8399365,14868160,12917000,9052280,9364825,6454125,12109340,8701550,10892720,8566460,18179660,11265840,21660460,12096000,13901150,5710375,8232600,6189750,12188020,8059250,8409000,10233215,9283610,7603540,12303350,4971250,8689250,6457750,9531325,19642900,7451850,5734000,13133030,15108770,9671750,10173430,9869950,8326585,9896250,5736500,12368750,8862060,14049630,8600300,16243160,8110160,8389450,9085400,8564170,11447880,15397020,8704550,7197730,10851750,7145500,12492250,4770810,14956290,19477760,19536370,5813750,7484785,11164340,20626490,10291500,19954710,7542800,8677460,8937320,9860700,5412500,12548800,9787650,22579530,8168160,8924700,6478250,10113810,9573230,8896420,7794500,7990550,7686500,20016180,9810880,14705880,12522140,12718400,12083500,6518000,20460930,7203000,19871700,18316390,9815100,10001300,9588000,6646610,15596520,6957500,7057360,8676350,9691680,13921280,13449750,12161870,11157530,13547020,14034060,16315140,11119250,19775040,8754980,8429640,18076450,12776550,5742750,6988500,9941220,12732180,8688420,8191250,12085000,11740620,9341570,18758320,14556550,12893650,7352780,16291000,7975350,9864800,11713120,12755280,9987140,9198650,10514440,12090050,12964760,8889360,8216980,14844750,10644170,7277375,11879730,10849240,10504060,10989500,9182700,10960120,12968400,9208160,18096490,9191250,14673210,8394250,8993590,9452650,10094760,8350380,9288000,13668020,14412320,16222200,11657540,8444880,10029650,8844000,18035580,9102370,11199750,18657920,14647600,8977940,12878485,11443800,6253350,13470470,7282000,11486650,9295440,11395530,5698250,12997440,16470640,10311140,8521180,11370800,13866780,11051205,9449050,11941410,5811250,8209450,3081375,10206440,18352680,7482800,10512050,8102500,9822520,14365020,10771100,10994200,15564570,3948000,11327800,12929130,12606890,18568580,9313330,15246580,19110170,8379110,14917160,19824800,12746690,15181250,11444700,7184600,8416200,12103000,9306125,8929050,10308500,14077750,11008020,7577590,7279250,8224125,9410965,6700125,9000790,4432750,19622340,10443500,18171220,12560200,9146050,13719580,6626000,8737670,5539000,11861100,10039720,21077760,19147860,13713910,7443750,7034730,8840300,14265360,8439000,8643590,11356690,14985280,8394815,9622650,9738500,15242220,4389500,11597050,6139750,6487600,9545390,8636890,15505720,13263370,12834440,11780960,4877500,7539000,10841340,10756700,13144990,9216160,9695260,8688600,8863490,11321050,9031250,12190400,18122230,7525505,8229000,9896880,5990500,22465060,8516800,15982580,7176980,8784250,9632440,13459920,7543900,9171270,15688540,21690890,7789175,13614160,7726850,16803000,13395730,6906420,8477410,14456880,6671500,9833380,9635600,14925700,3172500,9632770,12373420,7606750,21960910,14990160,5819195,4824750,11486800,8278220,6382640,8389190,7744625,13451130,3090250,18515080,9159770,7344540,10353100,14149250,6615250,8171850,9167400,6835375,12537920,8127405,5763500,12555150,6200500,12157950,8041750,12062330,10249110,4295250,22351040,8583750,11567750,10287820,11003250,8229420,18946420,8258790,12776330,9437150,11469920,18893580,10324250,9724240,14244070,11089250,9652750,14684750,20656530,14991115,15879350,10712030,10260570,11126750,7638750,16990300,20301890,13382350,9216700,14876760,10506870,15106810,7471850,6787275,4613750,10406790,9722150,5850985,12316150,7459750,13366140,12619960,16796780,7131000,7139330,7027585,9726400,11834000,10369740,7930750,7260750,10842880,5483250,6463000,8444770,5935980,8412880,12986720,7968600,21047400,4635625,12286010,9616360,6167500,8215400,8224250,12459280,8877450,9013550,10113540,12415480,7821300,7460125,10308550,8037750,11374040,9251110,13861750,7604000,11826060,6348250,14737120,12863220,9994920,7105875,17414970,11066740,13670150,14580880,5029250,9868600,14344300,11902185,12575070,7218625,9577910,4224375,8315940,10146980,7180640,8861290,9054350,9031350,7163000,14796940,14016870,7129250,11531600,9631420,13498060,5374750,6318500,12217890,14119680,8159000,4504250,17134360,15086550,8660320,5516500,9815400,15769420,6375000,14248300,12719430,9472040,17152340,11264600,20212910,12041420,9815400,14632790,13417250,14319840,7062250,16663130,8441250,8988830,5555875,5020500,6049750,8992980,7399500,10559260,8347500,6467750,14238410,5664050,13230010,6481750,12010000,10318400,14608400,8076410,12574540,9642400,13560550,11047570,6233500,10231600,9632200,8577425,12335950,9242930,15023650,9296665,13045810,10878900,8835500,6466375,13088850,13738350,14647650,8729375,7730250,6987500,16372900,8272100,9261000,12279920,7919880,11589220,22629400,8958140,9893805,8145750,10148570,7316000,10134780,10134160,21556330,9933680,7543620,10353250,8711490,5967360,14290850,5853875,6498050,13573320,18588840,10445600,13131950,14119360,10829080,7104320,20782250,6613250,6032250,14154300,4436750,10711340,7996045,11477930,9493940,9681475,12593220,12560600,14179660,12845090,10730970,12674160,6461230,10732960,10662050,14039550,10889655,8342600,13906100,12716450,7130125,15237520,9406680,13049030,10363160,14949140,13383200,9838490,14331890,11273740,21185700,12654650,9896150,12824450,8709750,7099500,12195960,6162250,13754600,8195150,19798550,14944220,11383690,11570050,10808940,5688470,13117020,7929750,23013500,13697880,13174060,8017445,7611350,14280890,9782785,11129100,7543400,11956000,4587750,9120250,7164000,14025340,11095520,11437920,8610340,9420260,14155200,13308750,9593250,14111320,13944780,7371800,19501600,6211750,5643500,9387250,5353000,10818480,8351410,8507000,9976480],\"yaxis\":\"y\",\"type\":\"scattergl\"}],                        {\"template\":{\"data\":{\"bar\":[{\"error_x\":{\"color\":\"#2a3f5f\"},\"error_y\":{\"color\":\"#2a3f5f\"},\"marker\":{\"line\":{\"color\":\"#E5ECF6\",\"width\":0.5},\"pattern\":{\"fillmode\":\"overlay\",\"size\":10,\"solidity\":0.2}},\"type\":\"bar\"}],\"barpolar\":[{\"marker\":{\"line\":{\"color\":\"#E5ECF6\",\"width\":0.5},\"pattern\":{\"fillmode\":\"overlay\",\"size\":10,\"solidity\":0.2}},\"type\":\"barpolar\"}],\"carpet\":[{\"aaxis\":{\"endlinecolor\":\"#2a3f5f\",\"gridcolor\":\"white\",\"linecolor\":\"white\",\"minorgridcolor\":\"white\",\"startlinecolor\":\"#2a3f5f\"},\"baxis\":{\"endlinecolor\":\"#2a3f5f\",\"gridcolor\":\"white\",\"linecolor\":\"white\",\"minorgridcolor\":\"white\",\"startlinecolor\":\"#2a3f5f\"},\"type\":\"carpet\"}],\"choropleth\":[{\"colorbar\":{\"outlinewidth\":0,\"ticks\":\"\"},\"type\":\"choropleth\"}],\"contour\":[{\"colorbar\":{\"outlinewidth\":0,\"ticks\":\"\"},\"colorscale\":[[0.0,\"#0d0887\"],[0.1111111111111111,\"#46039f\"],[0.2222222222222222,\"#7201a8\"],[0.3333333333333333,\"#9c179e\"],[0.4444444444444444,\"#bd3786\"],[0.5555555555555556,\"#d8576b\"],[0.6666666666666666,\"#ed7953\"],[0.7777777777777778,\"#fb9f3a\"],[0.8888888888888888,\"#fdca26\"],[1.0,\"#f0f921\"]],\"type\":\"contour\"}],\"contourcarpet\":[{\"colorbar\":{\"outlinewidth\":0,\"ticks\":\"\"},\"type\":\"contourcarpet\"}],\"heatmap\":[{\"colorbar\":{\"outlinewidth\":0,\"ticks\":\"\"},\"colorscale\":[[0.0,\"#0d0887\"],[0.1111111111111111,\"#46039f\"],[0.2222222222222222,\"#7201a8\"],[0.3333333333333333,\"#9c179e\"],[0.4444444444444444,\"#bd3786\"],[0.5555555555555556,\"#d8576b\"],[0.6666666666666666,\"#ed7953\"],[0.7777777777777778,\"#fb9f3a\"],[0.8888888888888888,\"#fdca26\"],[1.0,\"#f0f921\"]],\"type\":\"heatmap\"}],\"heatmapgl\":[{\"colorbar\":{\"outlinewidth\":0,\"ticks\":\"\"},\"colorscale\":[[0.0,\"#0d0887\"],[0.1111111111111111,\"#46039f\"],[0.2222222222222222,\"#7201a8\"],[0.3333333333333333,\"#9c179e\"],[0.4444444444444444,\"#bd3786\"],[0.5555555555555556,\"#d8576b\"],[0.6666666666666666,\"#ed7953\"],[0.7777777777777778,\"#fb9f3a\"],[0.8888888888888888,\"#fdca26\"],[1.0,\"#f0f921\"]],\"type\":\"heatmapgl\"}],\"histogram\":[{\"marker\":{\"pattern\":{\"fillmode\":\"overlay\",\"size\":10,\"solidity\":0.2}},\"type\":\"histogram\"}],\"histogram2d\":[{\"colorbar\":{\"outlinewidth\":0,\"ticks\":\"\"},\"colorscale\":[[0.0,\"#0d0887\"],[0.1111111111111111,\"#46039f\"],[0.2222222222222222,\"#7201a8\"],[0.3333333333333333,\"#9c179e\"],[0.4444444444444444,\"#bd3786\"],[0.5555555555555556,\"#d8576b\"],[0.6666666666666666,\"#ed7953\"],[0.7777777777777778,\"#fb9f3a\"],[0.8888888888888888,\"#fdca26\"],[1.0,\"#f0f921\"]],\"type\":\"histogram2d\"}],\"histogram2dcontour\":[{\"colorbar\":{\"outlinewidth\":0,\"ticks\":\"\"},\"colorscale\":[[0.0,\"#0d0887\"],[0.1111111111111111,\"#46039f\"],[0.2222222222222222,\"#7201a8\"],[0.3333333333333333,\"#9c179e\"],[0.4444444444444444,\"#bd3786\"],[0.5555555555555556,\"#d8576b\"],[0.6666666666666666,\"#ed7953\"],[0.7777777777777778,\"#fb9f3a\"],[0.8888888888888888,\"#fdca26\"],[1.0,\"#f0f921\"]],\"type\":\"histogram2dcontour\"}],\"mesh3d\":[{\"colorbar\":{\"outlinewidth\":0,\"ticks\":\"\"},\"type\":\"mesh3d\"}],\"parcoords\":[{\"line\":{\"colorbar\":{\"outlinewidth\":0,\"ticks\":\"\"}},\"type\":\"parcoords\"}],\"pie\":[{\"automargin\":true,\"type\":\"pie\"}],\"scatter\":[{\"marker\":{\"colorbar\":{\"outlinewidth\":0,\"ticks\":\"\"}},\"type\":\"scatter\"}],\"scatter3d\":[{\"line\":{\"colorbar\":{\"outlinewidth\":0,\"ticks\":\"\"}},\"marker\":{\"colorbar\":{\"outlinewidth\":0,\"ticks\":\"\"}},\"type\":\"scatter3d\"}],\"scattercarpet\":[{\"marker\":{\"colorbar\":{\"outlinewidth\":0,\"ticks\":\"\"}},\"type\":\"scattercarpet\"}],\"scattergeo\":[{\"marker\":{\"colorbar\":{\"outlinewidth\":0,\"ticks\":\"\"}},\"type\":\"scattergeo\"}],\"scattergl\":[{\"marker\":{\"colorbar\":{\"outlinewidth\":0,\"ticks\":\"\"}},\"type\":\"scattergl\"}],\"scattermapbox\":[{\"marker\":{\"colorbar\":{\"outlinewidth\":0,\"ticks\":\"\"}},\"type\":\"scattermapbox\"}],\"scatterpolar\":[{\"marker\":{\"colorbar\":{\"outlinewidth\":0,\"ticks\":\"\"}},\"type\":\"scatterpolar\"}],\"scatterpolargl\":[{\"marker\":{\"colorbar\":{\"outlinewidth\":0,\"ticks\":\"\"}},\"type\":\"scatterpolargl\"}],\"scatterternary\":[{\"marker\":{\"colorbar\":{\"outlinewidth\":0,\"ticks\":\"\"}},\"type\":\"scatterternary\"}],\"surface\":[{\"colorbar\":{\"outlinewidth\":0,\"ticks\":\"\"},\"colorscale\":[[0.0,\"#0d0887\"],[0.1111111111111111,\"#46039f\"],[0.2222222222222222,\"#7201a8\"],[0.3333333333333333,\"#9c179e\"],[0.4444444444444444,\"#bd3786\"],[0.5555555555555556,\"#d8576b\"],[0.6666666666666666,\"#ed7953\"],[0.7777777777777778,\"#fb9f3a\"],[0.8888888888888888,\"#fdca26\"],[1.0,\"#f0f921\"]],\"type\":\"surface\"}],\"table\":[{\"cells\":{\"fill\":{\"color\":\"#EBF0F8\"},\"line\":{\"color\":\"white\"}},\"header\":{\"fill\":{\"color\":\"#C8D4E3\"},\"line\":{\"color\":\"white\"}},\"type\":\"table\"}]},\"layout\":{\"annotationdefaults\":{\"arrowcolor\":\"#2a3f5f\",\"arrowhead\":0,\"arrowwidth\":1},\"autotypenumbers\":\"strict\",\"coloraxis\":{\"colorbar\":{\"outlinewidth\":0,\"ticks\":\"\"}},\"colorscale\":{\"diverging\":[[0,\"#8e0152\"],[0.1,\"#c51b7d\"],[0.2,\"#de77ae\"],[0.3,\"#f1b6da\"],[0.4,\"#fde0ef\"],[0.5,\"#f7f7f7\"],[0.6,\"#e6f5d0\"],[0.7,\"#b8e186\"],[0.8,\"#7fbc41\"],[0.9,\"#4d9221\"],[1,\"#276419\"]],\"sequential\":[[0.0,\"#0d0887\"],[0.1111111111111111,\"#46039f\"],[0.2222222222222222,\"#7201a8\"],[0.3333333333333333,\"#9c179e\"],[0.4444444444444444,\"#bd3786\"],[0.5555555555555556,\"#d8576b\"],[0.6666666666666666,\"#ed7953\"],[0.7777777777777778,\"#fb9f3a\"],[0.8888888888888888,\"#fdca26\"],[1.0,\"#f0f921\"]],\"sequentialminus\":[[0.0,\"#0d0887\"],[0.1111111111111111,\"#46039f\"],[0.2222222222222222,\"#7201a8\"],[0.3333333333333333,\"#9c179e\"],[0.4444444444444444,\"#bd3786\"],[0.5555555555555556,\"#d8576b\"],[0.6666666666666666,\"#ed7953\"],[0.7777777777777778,\"#fb9f3a\"],[0.8888888888888888,\"#fdca26\"],[1.0,\"#f0f921\"]]},\"colorway\":[\"#636efa\",\"#EF553B\",\"#00cc96\",\"#ab63fa\",\"#FFA15A\",\"#19d3f3\",\"#FF6692\",\"#B6E880\",\"#FF97FF\",\"#FECB52\"],\"font\":{\"color\":\"#2a3f5f\"},\"geo\":{\"bgcolor\":\"white\",\"lakecolor\":\"white\",\"landcolor\":\"#E5ECF6\",\"showlakes\":true,\"showland\":true,\"subunitcolor\":\"white\"},\"hoverlabel\":{\"align\":\"left\"},\"hovermode\":\"closest\",\"mapbox\":{\"style\":\"light\"},\"paper_bgcolor\":\"white\",\"plot_bgcolor\":\"#E5ECF6\",\"polar\":{\"angularaxis\":{\"gridcolor\":\"white\",\"linecolor\":\"white\",\"ticks\":\"\"},\"bgcolor\":\"#E5ECF6\",\"radialaxis\":{\"gridcolor\":\"white\",\"linecolor\":\"white\",\"ticks\":\"\"}},\"scene\":{\"xaxis\":{\"backgroundcolor\":\"#E5ECF6\",\"gridcolor\":\"white\",\"gridwidth\":2,\"linecolor\":\"white\",\"showbackground\":true,\"ticks\":\"\",\"zerolinecolor\":\"white\"},\"yaxis\":{\"backgroundcolor\":\"#E5ECF6\",\"gridcolor\":\"white\",\"gridwidth\":2,\"linecolor\":\"white\",\"showbackground\":true,\"ticks\":\"\",\"zerolinecolor\":\"white\"},\"zaxis\":{\"backgroundcolor\":\"#E5ECF6\",\"gridcolor\":\"white\",\"gridwidth\":2,\"linecolor\":\"white\",\"showbackground\":true,\"ticks\":\"\",\"zerolinecolor\":\"white\"}},\"shapedefaults\":{\"line\":{\"color\":\"#2a3f5f\"}},\"ternary\":{\"aaxis\":{\"gridcolor\":\"white\",\"linecolor\":\"white\",\"ticks\":\"\"},\"baxis\":{\"gridcolor\":\"white\",\"linecolor\":\"white\",\"ticks\":\"\"},\"bgcolor\":\"#E5ECF6\",\"caxis\":{\"gridcolor\":\"white\",\"linecolor\":\"white\",\"ticks\":\"\"}},\"title\":{\"x\":0.05},\"xaxis\":{\"automargin\":true,\"gridcolor\":\"white\",\"linecolor\":\"white\",\"ticks\":\"\",\"title\":{\"standoff\":15},\"zerolinecolor\":\"white\",\"zerolinewidth\":2},\"yaxis\":{\"automargin\":true,\"gridcolor\":\"white\",\"linecolor\":\"white\",\"ticks\":\"\",\"title\":{\"standoff\":15},\"zerolinecolor\":\"white\",\"zerolinewidth\":2}}},\"xaxis\":{\"anchor\":\"y\",\"domain\":[0.0,1.0],\"title\":{\"text\":\"DIST_MAINROAD\"}},\"yaxis\":{\"anchor\":\"x\",\"domain\":[0.0,1.0],\"title\":{\"text\":\"SALES_PRICE\"}},\"legend\":{\"tracegroupgap\":0},\"margin\":{\"t\":60}},                        {\"responsive\": true}                    ).then(function(){\n",
              "                            \n",
              "var gd = document.getElementById('c85e3169-5b05-47a0-8959-749aaed6f1f0');\n",
              "var x = new MutationObserver(function (mutations, observer) {{\n",
              "        var display = window.getComputedStyle(gd).display;\n",
              "        if (!display || display === 'none') {{\n",
              "            console.log([gd, 'removed!']);\n",
              "            Plotly.purge(gd);\n",
              "            observer.disconnect();\n",
              "        }}\n",
              "}});\n",
              "\n",
              "// Listen for the removal of the full notebook cells\n",
              "var notebookContainer = gd.closest('#notebook-container');\n",
              "if (notebookContainer) {{\n",
              "    x.observe(notebookContainer, {childList: true});\n",
              "}}\n",
              "\n",
              "// Listen for the clearing of the current output cell\n",
              "var outputEl = gd.closest('.output');\n",
              "if (outputEl) {{\n",
              "    x.observe(outputEl, {childList: true});\n",
              "}}\n",
              "\n",
              "                        })                };                            </script>        </div>\n",
              "</body>\n",
              "</html>"
            ]
          },
          "metadata": {}
        }
      ]
    },
    {
      "cell_type": "markdown",
      "source": [
        "**4. N_BEDROOM**"
      ],
      "metadata": {
        "id": "LnnDHUjTVs5q"
      }
    },
    {
      "cell_type": "code",
      "source": [
        "house['N_BEDROOM'].unique()"
      ],
      "metadata": {
        "colab": {
          "base_uri": "https://localhost:8080/"
        },
        "id": "_6fEEWztVXEu",
        "outputId": "0f3a8a05-80ec-4ae1-f7bc-8dcbcf50a32c"
      },
      "execution_count": 34,
      "outputs": [
        {
          "output_type": "execute_result",
          "data": {
            "text/plain": [
              "array([1, 2, 3, 4])"
            ]
          },
          "metadata": {},
          "execution_count": 34
        }
      ]
    },
    {
      "cell_type": "code",
      "source": [
        "sb.distplot(a = house[\"N_BEDROOM\"], bins = 10) # distribution feature"
      ],
      "metadata": {
        "colab": {
          "base_uri": "https://localhost:8080/",
          "height": 297
        },
        "id": "7nvn4TjciGh3",
        "outputId": "acad6807-a6b6-46a1-b9fe-abd2398b5217"
      },
      "execution_count": 35,
      "outputs": [
        {
          "output_type": "execute_result",
          "data": {
            "text/plain": [
              "<matplotlib.axes._subplots.AxesSubplot at 0x7f38e63bab50>"
            ]
          },
          "metadata": {},
          "execution_count": 35
        },
        {
          "output_type": "display_data",
          "data": {
            "text/plain": [
              "<Figure size 432x288 with 1 Axes>"
            ],
            "image/png": "[encoded data removed]"
          },
          "metadata": {
            "needs_background": "light"
          }
        }
      ]
    },
    {
      "cell_type": "code",
      "source": [
        "house.groupby('N_BEDROOM')['SALES_PRICE'].mean().sort_values(ascending=True).plot.bar() # With Sales Price."
      ],
      "metadata": {
        "colab": {
          "base_uri": "https://localhost:8080/",
          "height": 305
        },
        "id": "lJP-MI7GibAE",
        "outputId": "39a0d76b-863e-4607-8125-8ca7e4b77e24"
      },
      "execution_count": 36,
      "outputs": [
        {
          "output_type": "execute_result",
          "data": {
            "text/plain": [
              "<matplotlib.axes._subplots.AxesSubplot at 0x7f38e6446d10>"
            ]
          },
          "metadata": {},
          "execution_count": 36
        },
        {
          "output_type": "display_data",
          "data": {
            "text/plain": [
              "<Figure size 432x288 with 1 Axes>"
            ],
            "image/png": "[encoded data removed]"
          },
          "metadata": {
            "needs_background": "light"
          }
        }
      ]
    },
    {
      "cell_type": "code",
      "source": [
        "print(house[\"N_BEDROOM\"].value_counts(),\"\\n\")\n",
        "house.groupby('N_BEDROOM')['SALES_PRICE'].count().sort_values(ascending=True).plot.bar()"
      ],
      "metadata": {
        "colab": {
          "base_uri": "https://localhost:8080/",
          "height": 399
        },
        "id": "2P5BwxQEi-Hj",
        "outputId": "a2390d03-7119-4b5f-c6aa-35e289761169"
      },
      "execution_count": 37,
      "outputs": [
        {
          "output_type": "stream",
          "name": "stdout",
          "text": [
            "1    3773\n",
            "2    2327\n",
            "3     703\n",
            "4     253\n",
            "Name: N_BEDROOM, dtype: int64 \n",
            "\n"
          ]
        },
        {
          "output_type": "execute_result",
          "data": {
            "text/plain": [
              "<matplotlib.axes._subplots.AxesSubplot at 0x7f38e62b68d0>"
            ]
          },
          "metadata": {},
          "execution_count": 37
        },
        {
          "output_type": "display_data",
          "data": {
            "text/plain": [
              "<Figure size 432x288 with 1 Axes>"
            ],
            "image/png": "[encoded data removed]"
          },
          "metadata": {
            "needs_background": "light"
          }
        }
      ]
    },
    {
      "cell_type": "markdown",
      "source": [
        "**5.N_BATHROOM**"
      ],
      "metadata": {
        "id": "rZs6bkzWkUVw"
      }
    },
    {
      "cell_type": "code",
      "source": [
        "house['N_BATHROOM'].unique()"
      ],
      "metadata": {
        "colab": {
          "base_uri": "https://localhost:8080/"
        },
        "id": "lrWtRpYEkY5W",
        "outputId": "7c81c4d0-5752-4c5f-ee14-9137f2d43070"
      },
      "execution_count": 38,
      "outputs": [
        {
          "output_type": "execute_result",
          "data": {
            "text/plain": [
              "array([1, 2])"
            ]
          },
          "metadata": {},
          "execution_count": 38
        }
      ]
    },
    {
      "cell_type": "code",
      "source": [
        "sb.distplot(a = house[\"N_BATHROOM\"], bins = 10) # distribution feature"
      ],
      "metadata": {
        "colab": {
          "base_uri": "https://localhost:8080/",
          "height": 297
        },
        "id": "cUDFoC6ckmAi",
        "outputId": "924b7fe9-5a42-4130-df10-8221167c868f"
      },
      "execution_count": 39,
      "outputs": [
        {
          "output_type": "execute_result",
          "data": {
            "text/plain": [
              "<matplotlib.axes._subplots.AxesSubplot at 0x7f38e813ced0>"
            ]
          },
          "metadata": {},
          "execution_count": 39
        },
        {
          "output_type": "display_data",
          "data": {
            "text/plain": [
              "<Figure size 432x288 with 1 Axes>"
            ],
            "image/png": "[encoded data removed]"
          },
          "metadata": {
            "needs_background": "light"
          }
        }
      ]
    },
    {
      "cell_type": "code",
      "source": [
        "house.groupby('N_BATHROOM')['SALES_PRICE'].mean().sort_values(ascending=True).plot.bar() # With Sales Price."
      ],
      "metadata": {
        "colab": {
          "base_uri": "https://localhost:8080/",
          "height": 305
        },
        "id": "vtl8iYaCmtfX",
        "outputId": "35779762-fbba-4974-ddd3-7b5d650fac45"
      },
      "execution_count": 40,
      "outputs": [
        {
          "output_type": "execute_result",
          "data": {
            "text/plain": [
              "<matplotlib.axes._subplots.AxesSubplot at 0x7f38e6265a90>"
            ]
          },
          "metadata": {},
          "execution_count": 40
        },
        {
          "output_type": "display_data",
          "data": {
            "text/plain": [
              "<Figure size 432x288 with 1 Axes>"
            ],
            "image/png": "[encoded data removed]"
          },
          "metadata": {
            "needs_background": "light"
          }
        }
      ]
    },
    {
      "cell_type": "code",
      "source": [
        "print(house[\"N_BATHROOM\"].value_counts(),\"\\n\")\n",
        "house.groupby('N_BATHROOM')['SALES_PRICE'].count().sort_values(ascending=True).plot.bar()"
      ],
      "metadata": {
        "colab": {
          "base_uri": "https://localhost:8080/",
          "height": 364
        },
        "id": "G_ZFXClnkxZ0",
        "outputId": "857d14e1-b161-4eb1-a0cf-cde54b75ab68"
      },
      "execution_count": 41,
      "outputs": [
        {
          "output_type": "stream",
          "name": "stdout",
          "text": [
            "1    5552\n",
            "2    1504\n",
            "Name: N_BATHROOM, dtype: int64 \n",
            "\n"
          ]
        },
        {
          "output_type": "execute_result",
          "data": {
            "text/plain": [
              "<matplotlib.axes._subplots.AxesSubplot at 0x7f38e61b7bd0>"
            ]
          },
          "metadata": {},
          "execution_count": 41
        },
        {
          "output_type": "display_data",
          "data": {
            "text/plain": [
              "<Figure size 432x288 with 1 Axes>"
            ],
            "image/png": "[encoded data removed]"
          },
          "metadata": {
            "needs_background": "light"
          }
        }
      ]
    },
    {
      "cell_type": "markdown",
      "source": [
        "**6. N_ROOM**"
      ],
      "metadata": {
        "id": "-2G4w6AJlWSA"
      }
    },
    {
      "cell_type": "code",
      "source": [
        "house['N_ROOM'].unique() "
      ],
      "metadata": {
        "colab": {
          "base_uri": "https://localhost:8080/"
        },
        "id": "xVOZEVKVkx7d",
        "outputId": "c664fc17-9b6b-4f02-d7ce-53ad29a0a23a"
      },
      "execution_count": 42,
      "outputs": [
        {
          "output_type": "execute_result",
          "data": {
            "text/plain": [
              "array([3, 5, 4, 2, 6])"
            ]
          },
          "metadata": {},
          "execution_count": 42
        }
      ]
    },
    {
      "cell_type": "code",
      "source": [
        "sb.distplot(a = house[\"N_ROOM\"], bins = 10) # distribution feature"
      ],
      "metadata": {
        "colab": {
          "base_uri": "https://localhost:8080/",
          "height": 297
        },
        "id": "2G0V0sHykyf-",
        "outputId": "37da2ac7-049b-4886-eab7-559acd02b3ef"
      },
      "execution_count": 43,
      "outputs": [
        {
          "output_type": "execute_result",
          "data": {
            "text/plain": [
              "<matplotlib.axes._subplots.AxesSubplot at 0x7f38e61a6b90>"
            ]
          },
          "metadata": {},
          "execution_count": 43
        },
        {
          "output_type": "display_data",
          "data": {
            "text/plain": [
              "<Figure size 432x288 with 1 Axes>"
            ],
            "image/png": "[encoded data removed]"
          },
          "metadata": {
            "needs_background": "light"
          }
        }
      ]
    },
    {
      "cell_type": "code",
      "source": [
        "house.groupby('N_ROOM')['SALES_PRICE'].mean().sort_values(ascending=True).plot.bar()"
      ],
      "metadata": {
        "colab": {
          "base_uri": "https://localhost:8080/",
          "height": 305
        },
        "id": "t8DrgrlYIGDp",
        "outputId": "f86365dc-537a-4fad-8520-58509f7b0263"
      },
      "execution_count": 44,
      "outputs": [
        {
          "output_type": "execute_result",
          "data": {
            "text/plain": [
              "<matplotlib.axes._subplots.AxesSubplot at 0x7f38e6166490>"
            ]
          },
          "metadata": {},
          "execution_count": 44
        },
        {
          "output_type": "display_data",
          "data": {
            "text/plain": [
              "<Figure size 432x288 with 1 Axes>"
            ],
            "image/png": "[encoded data removed]"
          },
          "metadata": {
            "needs_background": "light"
          }
        }
      ]
    },
    {
      "cell_type": "code",
      "source": [
        "print(house[\"N_ROOM\"].value_counts(),\"\\n\")\n",
        "house.groupby('N_ROOM')['SALES_PRICE'].count().sort_values(ascending=True).plot.bar()"
      ],
      "metadata": {
        "colab": {
          "base_uri": "https://localhost:8080/",
          "height": 416
        },
        "id": "e3MJQLkBmKn7",
        "outputId": "eb67052c-2d0b-46b6-dc43-7f516e949afc"
      },
      "execution_count": 45,
      "outputs": [
        {
          "output_type": "stream",
          "name": "stdout",
          "text": [
            "4    2539\n",
            "3    2112\n",
            "5    1233\n",
            "2     919\n",
            "6     253\n",
            "Name: N_ROOM, dtype: int64 \n",
            "\n"
          ]
        },
        {
          "output_type": "execute_result",
          "data": {
            "text/plain": [
              "<matplotlib.axes._subplots.AxesSubplot at 0x7f38e60a63d0>"
            ]
          },
          "metadata": {},
          "execution_count": 45
        },
        {
          "output_type": "display_data",
          "data": {
            "text/plain": [
              "<Figure size 432x288 with 1 Axes>"
            ],
            "image/png": "[encoded data removed]"
          },
          "metadata": {
            "needs_background": "light"
          }
        }
      ]
    },
    {
      "cell_type": "markdown",
      "source": [
        "**7. SALE_COND**"
      ],
      "metadata": {
        "id": "geGHZVJ5nfjB"
      }
    },
    {
      "cell_type": "code",
      "source": [
        "house['SALE_COND'].unique() "
      ],
      "metadata": {
        "colab": {
          "base_uri": "https://localhost:8080/"
        },
        "id": "Apt6XEPomLHK",
        "outputId": "e91c7907-9ff6-4e60-c6ec-1c8c25737813"
      },
      "execution_count": 46,
      "outputs": [
        {
          "output_type": "execute_result",
          "data": {
            "text/plain": [
              "array(['AbNormal', 'Family', 'Partial', 'AdjLand', 'Normal Sale',\n",
              "       'Ab Normal', 'Partiall', 'Adj Land', 'PartiaLl'], dtype=object)"
            ]
          },
          "metadata": {},
          "execution_count": 46
        }
      ]
    },
    {
      "cell_type": "code",
      "source": [
        "house['SALE_COND'] = house['SALE_COND'].replace({'Ab Normal':'AbNormal','Partiall':'Partial','PartiaLl':'Partial','AdjLand':'Adj Land'}) # Replacing the SALE_COND categories with correct names."
      ],
      "metadata": {
        "id": "d47hrIUUmLce"
      },
      "execution_count": 47,
      "outputs": []
    },
    {
      "cell_type": "code",
      "source": [
        "house['SALE_COND'].unique()"
      ],
      "metadata": {
        "colab": {
          "base_uri": "https://localhost:8080/"
        },
        "id": "0eHtITetow2W",
        "outputId": "ef1efb7c-5f3a-4f98-c158-eab3b67c5019"
      },
      "execution_count": 48,
      "outputs": [
        {
          "output_type": "execute_result",
          "data": {
            "text/plain": [
              "array(['AbNormal', 'Family', 'Partial', 'Adj Land', 'Normal Sale'],\n",
              "      dtype=object)"
            ]
          },
          "metadata": {},
          "execution_count": 48
        }
      ]
    },
    {
      "cell_type": "code",
      "source": [
        "house.groupby('SALE_COND')['SALES_PRICE'].mean().sort_values(ascending=True).plot.bar()"
      ],
      "metadata": {
        "colab": {
          "base_uri": "https://localhost:8080/",
          "height": 359
        },
        "id": "29A9qYtVoxLl",
        "outputId": "a9141e60-78ff-40d9-a086-40913f7d60ee"
      },
      "execution_count": 49,
      "outputs": [
        {
          "output_type": "execute_result",
          "data": {
            "text/plain": [
              "<matplotlib.axes._subplots.AxesSubplot at 0x7f38e6004590>"
            ]
          },
          "metadata": {},
          "execution_count": 49
        },
        {
          "output_type": "display_data",
          "data": {
            "text/plain": [
              "<Figure size 432x288 with 1 Axes>"
            ],
            "image/png": "[encoded data removed]"
          },
          "metadata": {
            "needs_background": "light"
          }
        }
      ]
    },
    {
      "cell_type": "code",
      "source": [
        "dummies = pd.get_dummies(house.SALE_COND) # No linear realtion between SALE_COND & SALES_PRICE then we go for One hot encording.\n",
        "dummies.head(5)"
      ],
      "metadata": {
        "id": "NartXdLWGQYu",
        "colab": {
          "base_uri": "https://localhost:8080/",
          "height": 206
        },
        "outputId": "7d77402b-a938-452d-b51c-45151e27cf12"
      },
      "execution_count": 50,
      "outputs": [
        {
          "output_type": "execute_result",
          "data": {
            "text/plain": [
              "   AbNormal  Adj Land  Family  Normal Sale  Partial\n",
              "0         1         0       0            0        0\n",
              "1         1         0       0            0        0\n",
              "2         1         0       0            0        0\n",
              "3         0         0       1            0        0\n",
              "4         1         0       0            0        0"
            ],
            "text/html": [
              "\n",
              "  <div id=\"df-2b77f449-ebe5-4524-a71a-db8fd7035cc5\">\n",
              "    <div class=\"colab-df-container\">\n",
              "      <div>\n",
              "<style scoped>\n",
              "    .dataframe tbody tr th:only-of-type {\n",
              "        vertical-align: middle;\n",
              "    }\n",
              "\n",
              "    .dataframe tbody tr th {\n",
              "        vertical-align: top;\n",
              "    }\n",
              "\n",
              "    .dataframe thead th {\n",
              "        text-align: right;\n",
              "    }\n",
              "</style>\n",
              "<table border=\"1\" class=\"dataframe\">\n",
              "  <thead>\n",
              "    <tr style=\"text-align: right;\">\n",
              "      <th></th>\n",
              "      <th>AbNormal</th>\n",
              "      <th>Adj Land</th>\n",
              "      <th>Family</th>\n",
              "      <th>Normal Sale</th>\n",
              "      <th>Partial</th>\n",
              "    </tr>\n",
              "  </thead>\n",
              "  <tbody>\n",
              "    <tr>\n",
              "      <th>0</th>\n",
              "      <td>1</td>\n",
              "      <td>0</td>\n",
              "      <td>0</td>\n",
              "      <td>0</td>\n",
              "      <td>0</td>\n",
              "    </tr>\n",
              "    <tr>\n",
              "      <th>1</th>\n",
              "      <td>1</td>\n",
              "      <td>0</td>\n",
              "      <td>0</td>\n",
              "      <td>0</td>\n",
              "      <td>0</td>\n",
              "    </tr>\n",
              "    <tr>\n",
              "      <th>2</th>\n",
              "      <td>1</td>\n",
              "      <td>0</td>\n",
              "      <td>0</td>\n",
              "      <td>0</td>\n",
              "      <td>0</td>\n",
              "    </tr>\n",
              "    <tr>\n",
              "      <th>3</th>\n",
              "      <td>0</td>\n",
              "      <td>0</td>\n",
              "      <td>1</td>\n",
              "      <td>0</td>\n",
              "      <td>0</td>\n",
              "    </tr>\n",
              "    <tr>\n",
              "      <th>4</th>\n",
              "      <td>1</td>\n",
              "      <td>0</td>\n",
              "      <td>0</td>\n",
              "      <td>0</td>\n",
              "      <td>0</td>\n",
              "    </tr>\n",
              "  </tbody>\n",
              "</table>\n",
              "</div>\n",
              "      <button class=\"colab-df-convert\" onclick=\"convertToInteractive('df-2b77f449-ebe5-4524-a71a-db8fd7035cc5')\"\n",
              "              title=\"Convert this dataframe to an interactive table.\"\n",
              "              style=\"display:none;\">\n",
              "        \n",
              "  <svg xmlns=\"http://www.w3.org/2000/svg\" height=\"24px\"viewBox=\"0 0 24 24\"\n",
              "       width=\"24px\">\n",
              "    <path d=\"M0 0h24v24H0V0z\" fill=\"none\"/>\n",
              "    <path d=\"M18.56 5.44l.94 2.06.94-2.06 2.06-.94-2.06-.94-.94-2.06-.94 2.06-2.06.94zm-11 1L8.5 8.5l.94-2.06 2.06-.94-2.06-.94L8.5 2.5l-.94 2.06-2.06.94zm10 10l.94 2.06.94-2.06 2.06-.94-2.06-.94-.94-2.06-.94 2.06-2.06.94z\"/><path d=\"M17.41 7.96l-1.37-1.37c-.4-.4-.92-.59-1.43-.59-.52 0-1.04.2-1.43.59L10.3 9.45l-7.72 7.72c-.78.78-.78 2.05 0 2.83L4 21.41c.39.39.9.59 1.41.59.51 0 1.02-.2 1.41-.59l7.78-7.78 2.81-2.81c.8-.78.8-2.07 0-2.86zM5.41 20L4 18.59l7.72-7.72 1.47 1.35L5.41 20z\"/>\n",
              "  </svg>\n",
              "      </button>\n",
              "      \n",
              "  <style>\n",
              "    .colab-df-container {\n",
              "      display:flex;\n",
              "      flex-wrap:wrap;\n",
              "      gap: 12px;\n",
              "    }\n",
              "\n",
              "    .colab-df-convert {\n",
              "      background-color: #E8F0FE;\n",
              "      border: none;\n",
              "      border-radius: 50%;\n",
              "      cursor: pointer;\n",
              "      display: none;\n",
              "      fill: #1967D2;\n",
              "      height: 32px;\n",
              "      padding: 0 0 0 0;\n",
              "      width: 32px;\n",
              "    }\n",
              "\n",
              "    .colab-df-convert:hover {\n",
              "      background-color: #E2EBFA;\n",
              "      box-shadow: 0px 1px 2px rgba(60, 64, 67, 0.3), 0px 1px 3px 1px rgba(60, 64, 67, 0.15);\n",
              "      fill: #174EA6;\n",
              "    }\n",
              "\n",
              "    [theme=dark] .colab-df-convert {\n",
              "      background-color: #3B4455;\n",
              "      fill: #D2E3FC;\n",
              "    }\n",
              "\n",
              "    [theme=dark] .colab-df-convert:hover {\n",
              "      background-color: #434B5C;\n",
              "      box-shadow: 0px 1px 3px 1px rgba(0, 0, 0, 0.15);\n",
              "      filter: drop-shadow(0px 1px 2px rgba(0, 0, 0, 0.3));\n",
              "      fill: #FFFFFF;\n",
              "    }\n",
              "  </style>\n",
              "\n",
              "      <script>\n",
              "        const buttonEl =\n",
              "          document.querySelector('#df-2b77f449-ebe5-4524-a71a-db8fd7035cc5 button.colab-df-convert');\n",
              "        buttonEl.style.display =\n",
              "          google.colab.kernel.accessAllowed ? 'block' : 'none';\n",
              "\n",
              "        async function convertToInteractive(key) {\n",
              "          const element = document.querySelector('#df-2b77f449-ebe5-4524-a71a-db8fd7035cc5');\n",
              "          const dataTable =\n",
              "            await google.colab.kernel.invokeFunction('convertToInteractive',\n",
              "                                                     [key], {});\n",
              "          if (!dataTable) return;\n",
              "\n",
              "          const docLinkHtml = 'Like what you see? Visit the ' +\n",
              "            '<a target=\"_blank\" href=https://colab.research.google.com/notebooks/data_table.ipynb>data table notebook</a>'\n",
              "            + ' to learn more about interactive tables.';\n",
              "          element.innerHTML = '';\n",
              "          dataTable['output_type'] = 'display_data';\n",
              "          await google.colab.output.renderOutput(dataTable, element);\n",
              "          const docLink = document.createElement('div');\n",
              "          docLink.innerHTML = docLinkHtml;\n",
              "          element.appendChild(docLink);\n",
              "        }\n",
              "      </script>\n",
              "    </div>\n",
              "  </div>\n",
              "  "
            ]
          },
          "metadata": {},
          "execution_count": 50
        }
      ]
    },
    {
      "cell_type": "code",
      "source": [
        "print(house[\"SALE_COND\"].value_counts(),\"\\n\")\n",
        "house.groupby('SALE_COND')['SALES_PRICE'].count().sort_values(ascending=True).plot.bar() #Sales price preduction."
      ],
      "metadata": {
        "colab": {
          "base_uri": "https://localhost:8080/",
          "height": 470
        },
        "id": "MgvWix2ip1EM",
        "outputId": "51ab03c9-d3fb-4452-f945-d214ee75d4d4"
      },
      "execution_count": 51,
      "outputs": [
        {
          "output_type": "stream",
          "name": "stdout",
          "text": [
            "Adj Land       1432\n",
            "Partial        1417\n",
            "Normal Sale    1416\n",
            "AbNormal       1401\n",
            "Family         1390\n",
            "Name: SALE_COND, dtype: int64 \n",
            "\n"
          ]
        },
        {
          "output_type": "execute_result",
          "data": {
            "text/plain": [
              "<matplotlib.axes._subplots.AxesSubplot at 0x7f38e5f84150>"
            ]
          },
          "metadata": {},
          "execution_count": 51
        },
        {
          "output_type": "display_data",
          "data": {
            "text/plain": [
              "<Figure size 432x288 with 1 Axes>"
            ],
            "image/png": "[encoded data removed]"
          },
          "metadata": {
            "needs_background": "light"
          }
        }
      ]
    },
    {
      "cell_type": "markdown",
      "source": [
        "**8. PARK_FACIL**"
      ],
      "metadata": {
        "id": "wJBgJ-cBrTmJ"
      }
    },
    {
      "cell_type": "code",
      "source": [
        "house['PARK_FACIL'].unique() "
      ],
      "metadata": {
        "colab": {
          "base_uri": "https://localhost:8080/"
        },
        "id": "64NVByDYp14K",
        "outputId": "8ecb07bb-b41d-40c0-a3ef-f5c6532b5371"
      },
      "execution_count": 52,
      "outputs": [
        {
          "output_type": "execute_result",
          "data": {
            "text/plain": [
              "array(['Yes', 'No', 'Noo'], dtype=object)"
            ]
          },
          "metadata": {},
          "execution_count": 52
        }
      ]
    },
    {
      "cell_type": "code",
      "source": [
        "house['PARK_FACIL'] = house['PARK_FACIL'].replace({'Noo':'No'}) # Replacing the PARK_FACIL categories with correct names."
      ],
      "metadata": {
        "id": "gBqNo0iYtYtq"
      },
      "execution_count": 53,
      "outputs": []
    },
    {
      "cell_type": "code",
      "source": [
        "house['PARK_FACIL'].unique()"
      ],
      "metadata": {
        "colab": {
          "base_uri": "https://localhost:8080/"
        },
        "id": "L0SMKWw4tiWf",
        "outputId": "77d4a6ac-9319-4954-cd98-0757ef44701b"
      },
      "execution_count": 54,
      "outputs": [
        {
          "output_type": "execute_result",
          "data": {
            "text/plain": [
              "array(['Yes', 'No'], dtype=object)"
            ]
          },
          "metadata": {},
          "execution_count": 54
        }
      ]
    },
    {
      "cell_type": "code",
      "source": [
        "PARK_FACIL={'No':0,'Yes':1} # label encording."
      ],
      "metadata": {
        "id": "ELGfYRHJHGD2"
      },
      "execution_count": 55,
      "outputs": []
    },
    {
      "cell_type": "code",
      "source": [
        "house.groupby('PARK_FACIL')['SALES_PRICE'].mean().sort_values(ascending=True).plot.bar()"
      ],
      "metadata": {
        "colab": {
          "base_uri": "https://localhost:8080/",
          "height": 314
        },
        "id": "DdZtuDUwtizt",
        "outputId": "262295c3-75a8-4371-cad4-3d40574599cf"
      },
      "execution_count": 56,
      "outputs": [
        {
          "output_type": "execute_result",
          "data": {
            "text/plain": [
              "<matplotlib.axes._subplots.AxesSubplot at 0x7f38e601d0d0>"
            ]
          },
          "metadata": {},
          "execution_count": 56
        },
        {
          "output_type": "display_data",
          "data": {
            "text/plain": [
              "<Figure size 432x288 with 1 Axes>"
            ],
            "image/png": "[encoded data removed]"
          },
          "metadata": {
            "needs_background": "light"
          }
        }
      ]
    },
    {
      "cell_type": "code",
      "source": [
        "print(house[\"PARK_FACIL\"].value_counts(),\"\\n\")\n",
        "house.groupby('PARK_FACIL')['SALES_PRICE'].count().sort_values(ascending=True).plot.bar() #Sales price preduction."
      ],
      "metadata": {
        "colab": {
          "base_uri": "https://localhost:8080/",
          "height": 373
        },
        "id": "S12lMR3UtjON",
        "outputId": "d901d8f6-4d18-4849-df7e-b7edd1f51064"
      },
      "execution_count": 57,
      "outputs": [
        {
          "output_type": "stream",
          "name": "stdout",
          "text": [
            "Yes    3557\n",
            "No     3499\n",
            "Name: PARK_FACIL, dtype: int64 \n",
            "\n"
          ]
        },
        {
          "output_type": "execute_result",
          "data": {
            "text/plain": [
              "<matplotlib.axes._subplots.AxesSubplot at 0x7f38e5ef1b50>"
            ]
          },
          "metadata": {},
          "execution_count": 57
        },
        {
          "output_type": "display_data",
          "data": {
            "text/plain": [
              "<Figure size 432x288 with 1 Axes>"
            ],
            "image/png": "[encoded data removed]"
          },
          "metadata": {
            "needs_background": "light"
          }
        }
      ]
    },
    {
      "cell_type": "markdown",
      "source": [
        "**9. BUILDTYPE**"
      ],
      "metadata": {
        "id": "6OB9nqAovzOJ"
      }
    },
    {
      "cell_type": "code",
      "source": [
        "house['BUILDTYPE'].unique() "
      ],
      "metadata": {
        "colab": {
          "base_uri": "https://localhost:8080/"
        },
        "id": "hG7vWxi2v3IC",
        "outputId": "44ecfc27-0801-45a6-f943-0fcf99860b8c"
      },
      "execution_count": 58,
      "outputs": [
        {
          "output_type": "execute_result",
          "data": {
            "text/plain": [
              "array(['Commercial', 'Others', 'Other', 'House', 'Comercial'],\n",
              "      dtype=object)"
            ]
          },
          "metadata": {},
          "execution_count": 58
        }
      ]
    },
    {
      "cell_type": "code",
      "source": [
        "house['BUILDTYPE'] = house['BUILDTYPE'].replace({'Comercial':'Commercial','Other':'Others'}) # Replacing the BUILDTYPE categories with correct names."
      ],
      "metadata": {
        "id": "_jbYawtvv3nS"
      },
      "execution_count": 59,
      "outputs": []
    },
    {
      "cell_type": "code",
      "source": [
        "house['BUILDTYPE'].unique() "
      ],
      "metadata": {
        "colab": {
          "base_uri": "https://localhost:8080/"
        },
        "id": "4NBvbPrEv4Mz",
        "outputId": "1aebf887-2951-46cc-8ccf-7109d45677f6"
      },
      "execution_count": 60,
      "outputs": [
        {
          "output_type": "execute_result",
          "data": {
            "text/plain": [
              "array(['Commercial', 'Others', 'House'], dtype=object)"
            ]
          },
          "metadata": {},
          "execution_count": 60
        }
      ]
    },
    {
      "cell_type": "code",
      "source": [
        "house.groupby('BUILDTYPE')['SALES_PRICE'].mean().sort_values(ascending=True).plot.bar()"
      ],
      "metadata": {
        "colab": {
          "base_uri": "https://localhost:8080/",
          "height": 357
        },
        "id": "IsW60zoNv43N",
        "outputId": "75dc7fe8-abc7-4785-e124-1d77fac469ee"
      },
      "execution_count": 61,
      "outputs": [
        {
          "output_type": "execute_result",
          "data": {
            "text/plain": [
              "<matplotlib.axes._subplots.AxesSubplot at 0x7f38e5e62190>"
            ]
          },
          "metadata": {},
          "execution_count": 61
        },
        {
          "output_type": "display_data",
          "data": {
            "text/plain": [
              "<Figure size 432x288 with 1 Axes>"
            ],
            "image/png": "[encoded data removed]"
          },
          "metadata": {
            "needs_background": "light"
          }
        }
      ]
    },
    {
      "cell_type": "code",
      "source": [
        "BUILDTYPE={'Commercial':0,'Others':1,'House':2} # label encording."
      ],
      "metadata": {
        "id": "YS6X34rbHXBH"
      },
      "execution_count": 62,
      "outputs": []
    },
    {
      "cell_type": "code",
      "source": [
        "print(house[\"BUILDTYPE\"].value_counts(),\"\\n\")\n",
        "house.groupby('BUILDTYPE')['SALES_PRICE'].count().sort_values(ascending=True).plot.bar() #Sales price preduction."
      ],
      "metadata": {
        "colab": {
          "base_uri": "https://localhost:8080/",
          "height": 433
        },
        "id": "sDt7loiR4g6h",
        "outputId": "af6514f0-6564-46df-d271-52055e478880"
      },
      "execution_count": 63,
      "outputs": [
        {
          "output_type": "stream",
          "name": "stdout",
          "text": [
            "House         2433\n",
            "Others        2312\n",
            "Commercial    2311\n",
            "Name: BUILDTYPE, dtype: int64 \n",
            "\n"
          ]
        },
        {
          "output_type": "execute_result",
          "data": {
            "text/plain": [
              "<matplotlib.axes._subplots.AxesSubplot at 0x7f38e5dda210>"
            ]
          },
          "metadata": {},
          "execution_count": 63
        },
        {
          "output_type": "display_data",
          "data": {
            "text/plain": [
              "<Figure size 432x288 with 1 Axes>"
            ],
            "image/png": "[encoded data removed]"
          },
          "metadata": {
            "needs_background": "light"
          }
        }
      ]
    },
    {
      "cell_type": "markdown",
      "source": [
        "**10. UTILITY_AVAIL**"
      ],
      "metadata": {
        "id": "0OacndtJ6WEN"
      }
    },
    {
      "cell_type": "code",
      "source": [
        "house['UTILITY_AVAIL'].unique() "
      ],
      "metadata": {
        "colab": {
          "base_uri": "https://localhost:8080/"
        },
        "id": "9BV5FbUk4grU",
        "outputId": "76fd37c9-d617-4ffd-d6f3-c9a65188418f"
      },
      "execution_count": 64,
      "outputs": [
        {
          "output_type": "execute_result",
          "data": {
            "text/plain": [
              "array(['AllPub', 'ELO', 'NoSewr ', 'NoSeWa', 'All Pub'], dtype=object)"
            ]
          },
          "metadata": {},
          "execution_count": 64
        }
      ]
    },
    {
      "cell_type": "code",
      "source": [
        "house['UTILITY_AVAIL'] = house['UTILITY_AVAIL'].replace({'All Pub':'AllPub'}) # Replacing the UTILITY_AVAIL categories with correct names."
      ],
      "metadata": {
        "id": "By81_nsw4gbp"
      },
      "execution_count": 65,
      "outputs": []
    },
    {
      "cell_type": "code",
      "source": [
        "house['UTILITY_AVAIL'].unique()"
      ],
      "metadata": {
        "colab": {
          "base_uri": "https://localhost:8080/"
        },
        "id": "-kDOU6iWRstl",
        "outputId": "ccbd0212-994c-433b-b92e-92566a2ff610"
      },
      "execution_count": 66,
      "outputs": [
        {
          "output_type": "execute_result",
          "data": {
            "text/plain": [
              "array(['AllPub', 'ELO', 'NoSewr ', 'NoSeWa'], dtype=object)"
            ]
          },
          "metadata": {},
          "execution_count": 66
        }
      ]
    },
    {
      "cell_type": "code",
      "source": [
        "house.groupby('UTILITY_AVAIL')['SALES_PRICE'].mean().sort_values(ascending=True).plot.bar()"
      ],
      "metadata": {
        "colab": {
          "base_uri": "https://localhost:8080/",
          "height": 339
        },
        "id": "w6DESE7j7hNO",
        "outputId": "cc07aa19-f406-4bd7-ce3c-4ec83b20ca4b"
      },
      "execution_count": 67,
      "outputs": [
        {
          "output_type": "execute_result",
          "data": {
            "text/plain": [
              "<matplotlib.axes._subplots.AxesSubplot at 0x7f38e5da8a50>"
            ]
          },
          "metadata": {},
          "execution_count": 67
        },
        {
          "output_type": "display_data",
          "data": {
            "text/plain": [
              "<Figure size 432x288 with 1 Axes>"
            ],
            "image/png": "[encoded data removed]"
          },
          "metadata": {
            "needs_background": "light"
          }
        }
      ]
    },
    {
      "cell_type": "code",
      "source": [
        "dummies = pd.get_dummies(house.UTILITY_AVAIL) # No linear realtion between UTILITY_AVAIL & SALES_PRICE then we go for One hot encording.\n",
        "dummies.head(3)"
      ],
      "metadata": {
        "colab": {
          "base_uri": "https://localhost:8080/",
          "height": 143
        },
        "id": "yOyLohKKHmS0",
        "outputId": "b6837944-10b5-4c8f-ceca-4b5108f0e5cc"
      },
      "execution_count": 68,
      "outputs": [
        {
          "output_type": "execute_result",
          "data": {
            "text/plain": [
              "   AllPub  ELO  NoSeWa  NoSewr \n",
              "0       1    0       0        0\n",
              "1       1    0       0        0\n",
              "2       0    1       0        0"
            ],
            "text/html": [
              "\n",
              "  <div id=\"df-6dc4d009-211e-4345-a899-9fa26964c165\">\n",
              "    <div class=\"colab-df-container\">\n",
              "      <div>\n",
              "<style scoped>\n",
              "    .dataframe tbody tr th:only-of-type {\n",
              "        vertical-align: middle;\n",
              "    }\n",
              "\n",
              "    .dataframe tbody tr th {\n",
              "        vertical-align: top;\n",
              "    }\n",
              "\n",
              "    .dataframe thead th {\n",
              "        text-align: right;\n",
              "    }\n",
              "</style>\n",
              "<table border=\"1\" class=\"dataframe\">\n",
              "  <thead>\n",
              "    <tr style=\"text-align: right;\">\n",
              "      <th></th>\n",
              "      <th>AllPub</th>\n",
              "      <th>ELO</th>\n",
              "      <th>NoSeWa</th>\n",
              "      <th>NoSewr</th>\n",
              "    </tr>\n",
              "  </thead>\n",
              "  <tbody>\n",
              "    <tr>\n",
              "      <th>0</th>\n",
              "      <td>1</td>\n",
              "      <td>0</td>\n",
              "      <td>0</td>\n",
              "      <td>0</td>\n",
              "    </tr>\n",
              "    <tr>\n",
              "      <th>1</th>\n",
              "      <td>1</td>\n",
              "      <td>0</td>\n",
              "      <td>0</td>\n",
              "      <td>0</td>\n",
              "    </tr>\n",
              "    <tr>\n",
              "      <th>2</th>\n",
              "      <td>0</td>\n",
              "      <td>1</td>\n",
              "      <td>0</td>\n",
              "      <td>0</td>\n",
              "    </tr>\n",
              "  </tbody>\n",
              "</table>\n",
              "</div>\n",
              "      <button class=\"colab-df-convert\" onclick=\"convertToInteractive('df-6dc4d009-211e-4345-a899-9fa26964c165')\"\n",
              "              title=\"Convert this dataframe to an interactive table.\"\n",
              "              style=\"display:none;\">\n",
              "        \n",
              "  <svg xmlns=\"http://www.w3.org/2000/svg\" height=\"24px\"viewBox=\"0 0 24 24\"\n",
              "       width=\"24px\">\n",
              "    <path d=\"M0 0h24v24H0V0z\" fill=\"none\"/>\n",
              "    <path d=\"M18.56 5.44l.94 2.06.94-2.06 2.06-.94-2.06-.94-.94-2.06-.94 2.06-2.06.94zm-11 1L8.5 8.5l.94-2.06 2.06-.94-2.06-.94L8.5 2.5l-.94 2.06-2.06.94zm10 10l.94 2.06.94-2.06 2.06-.94-2.06-.94-.94-2.06-.94 2.06-2.06.94z\"/><path d=\"M17.41 7.96l-1.37-1.37c-.4-.4-.92-.59-1.43-.59-.52 0-1.04.2-1.43.59L10.3 9.45l-7.72 7.72c-.78.78-.78 2.05 0 2.83L4 21.41c.39.39.9.59 1.41.59.51 0 1.02-.2 1.41-.59l7.78-7.78 2.81-2.81c.8-.78.8-2.07 0-2.86zM5.41 20L4 18.59l7.72-7.72 1.47 1.35L5.41 20z\"/>\n",
              "  </svg>\n",
              "      </button>\n",
              "      \n",
              "  <style>\n",
              "    .colab-df-container {\n",
              "      display:flex;\n",
              "      flex-wrap:wrap;\n",
              "      gap: 12px;\n",
              "    }\n",
              "\n",
              "    .colab-df-convert {\n",
              "      background-color: #E8F0FE;\n",
              "      border: none;\n",
              "      border-radius: 50%;\n",
              "      cursor: pointer;\n",
              "      display: none;\n",
              "      fill: #1967D2;\n",
              "      height: 32px;\n",
              "      padding: 0 0 0 0;\n",
              "      width: 32px;\n",
              "    }\n",
              "\n",
              "    .colab-df-convert:hover {\n",
              "      background-color: #E2EBFA;\n",
              "      box-shadow: 0px 1px 2px rgba(60, 64, 67, 0.3), 0px 1px 3px 1px rgba(60, 64, 67, 0.15);\n",
              "      fill: #174EA6;\n",
              "    }\n",
              "\n",
              "    [theme=dark] .colab-df-convert {\n",
              "      background-color: #3B4455;\n",
              "      fill: #D2E3FC;\n",
              "    }\n",
              "\n",
              "    [theme=dark] .colab-df-convert:hover {\n",
              "      background-color: #434B5C;\n",
              "      box-shadow: 0px 1px 3px 1px rgba(0, 0, 0, 0.15);\n",
              "      filter: drop-shadow(0px 1px 2px rgba(0, 0, 0, 0.3));\n",
              "      fill: #FFFFFF;\n",
              "    }\n",
              "  </style>\n",
              "\n",
              "      <script>\n",
              "        const buttonEl =\n",
              "          document.querySelector('#df-6dc4d009-211e-4345-a899-9fa26964c165 button.colab-df-convert');\n",
              "        buttonEl.style.display =\n",
              "          google.colab.kernel.accessAllowed ? 'block' : 'none';\n",
              "\n",
              "        async function convertToInteractive(key) {\n",
              "          const element = document.querySelector('#df-6dc4d009-211e-4345-a899-9fa26964c165');\n",
              "          const dataTable =\n",
              "            await google.colab.kernel.invokeFunction('convertToInteractive',\n",
              "                                                     [key], {});\n",
              "          if (!dataTable) return;\n",
              "\n",
              "          const docLinkHtml = 'Like what you see? Visit the ' +\n",
              "            '<a target=\"_blank\" href=https://colab.research.google.com/notebooks/data_table.ipynb>data table notebook</a>'\n",
              "            + ' to learn more about interactive tables.';\n",
              "          element.innerHTML = '';\n",
              "          dataTable['output_type'] = 'display_data';\n",
              "          await google.colab.output.renderOutput(dataTable, element);\n",
              "          const docLink = document.createElement('div');\n",
              "          docLink.innerHTML = docLinkHtml;\n",
              "          element.appendChild(docLink);\n",
              "        }\n",
              "      </script>\n",
              "    </div>\n",
              "  </div>\n",
              "  "
            ]
          },
          "metadata": {},
          "execution_count": 68
        }
      ]
    },
    {
      "cell_type": "code",
      "source": [
        "print(house[\"UTILITY_AVAIL\"].value_counts(),\"\\n\")\n",
        "house.groupby('UTILITY_AVAIL')['SALES_PRICE'].count().sort_values(ascending=True).plot.bar() #Sales price preduction."
      ],
      "metadata": {
        "colab": {
          "base_uri": "https://localhost:8080/",
          "height": 433
        },
        "id": "mFGgewbf6yKe",
        "outputId": "36bb1dd0-3dae-48cf-9c69-2320ba28fd84"
      },
      "execution_count": 69,
      "outputs": [
        {
          "output_type": "stream",
          "name": "stdout",
          "text": [
            "AllPub     1875\n",
            "NoSeWa     1860\n",
            "NoSewr     1812\n",
            "ELO        1509\n",
            "Name: UTILITY_AVAIL, dtype: int64 \n",
            "\n"
          ]
        },
        {
          "output_type": "execute_result",
          "data": {
            "text/plain": [
              "<matplotlib.axes._subplots.AxesSubplot at 0x7f38e5d3fa50>"
            ]
          },
          "metadata": {},
          "execution_count": 69
        },
        {
          "output_type": "display_data",
          "data": {
            "text/plain": [
              "<Figure size 432x288 with 1 Axes>"
            ],
            "image/png": "[encoded data removed]"
          },
          "metadata": {
            "needs_background": "light"
          }
        }
      ]
    },
    {
      "cell_type": "markdown",
      "source": [
        "**11. STREET**"
      ],
      "metadata": {
        "id": "Yv6TsTGoPFpG"
      }
    },
    {
      "cell_type": "code",
      "source": [
        "house['STREET'].unique()"
      ],
      "metadata": {
        "colab": {
          "base_uri": "https://localhost:8080/"
        },
        "id": "cnudgSLkPEKU",
        "outputId": "02dd57e8-ea93-4366-fe71-6f0884d3c477"
      },
      "execution_count": 70,
      "outputs": [
        {
          "output_type": "execute_result",
          "data": {
            "text/plain": [
              "array(['Paved', 'Gravel', 'No Access', 'Pavd', 'NoAccess'], dtype=object)"
            ]
          },
          "metadata": {},
          "execution_count": 70
        }
      ]
    },
    {
      "cell_type": "code",
      "source": [
        "house['STREET'] = house['STREET'].replace({'Pavd':'Paved','NoAccess':'No Access'}) # Replacing the STREET categories with correct names."
      ],
      "metadata": {
        "id": "awvyVFksREsC"
      },
      "execution_count": 71,
      "outputs": []
    },
    {
      "cell_type": "code",
      "source": [
        "house['STREET'].unique()"
      ],
      "metadata": {
        "colab": {
          "base_uri": "https://localhost:8080/"
        },
        "id": "ZSjp_TzxTa6C",
        "outputId": "7a612352-7671-4524-a1c0-1be49303d806"
      },
      "execution_count": 72,
      "outputs": [
        {
          "output_type": "execute_result",
          "data": {
            "text/plain": [
              "array(['Paved', 'Gravel', 'No Access'], dtype=object)"
            ]
          },
          "metadata": {},
          "execution_count": 72
        }
      ]
    },
    {
      "cell_type": "code",
      "source": [
        "house.groupby('STREET')['SALES_PRICE'].mean().sort_values(ascending=True).plot.bar()"
      ],
      "metadata": {
        "colab": {
          "base_uri": "https://localhost:8080/",
          "height": 348
        },
        "id": "6qFpKCxERFkE",
        "outputId": "42cf58d6-e256-4e5c-d7ef-2550f85af935"
      },
      "execution_count": 73,
      "outputs": [
        {
          "output_type": "execute_result",
          "data": {
            "text/plain": [
              "<matplotlib.axes._subplots.AxesSubplot at 0x7f38e5c96490>"
            ]
          },
          "metadata": {},
          "execution_count": 73
        },
        {
          "output_type": "display_data",
          "data": {
            "text/plain": [
              "<Figure size 432x288 with 1 Axes>"
            ],
            "image/png": "[encoded data removed]"
          },
          "metadata": {
            "needs_background": "light"
          }
        }
      ]
    },
    {
      "cell_type": "code",
      "source": [
        "STREET={'No Access':0,'Paved':1,'Gravel':2} # Label Encording."
      ],
      "metadata": {
        "id": "3LnQpW06S36S"
      },
      "execution_count": 74,
      "outputs": []
    },
    {
      "cell_type": "code",
      "source": [
        "print(house[\"STREET\"].value_counts(),\"\\n\")\n",
        "house.groupby('STREET')['SALES_PRICE'].count().sort_values(ascending=True).plot.bar() #Sales price preduction."
      ],
      "metadata": {
        "colab": {
          "base_uri": "https://localhost:8080/",
          "height": 424
        },
        "id": "pILZ4weQTo4r",
        "outputId": "9dda3fc3-f323-46fb-e11e-902b8caf91fd"
      },
      "execution_count": 75,
      "outputs": [
        {
          "output_type": "stream",
          "name": "stdout",
          "text": [
            "Paved        2554\n",
            "Gravel       2502\n",
            "No Access    2000\n",
            "Name: STREET, dtype: int64 \n",
            "\n"
          ]
        },
        {
          "output_type": "execute_result",
          "data": {
            "text/plain": [
              "<matplotlib.axes._subplots.AxesSubplot at 0x7f38e5c0e290>"
            ]
          },
          "metadata": {},
          "execution_count": 75
        },
        {
          "output_type": "display_data",
          "data": {
            "text/plain": [
              "<Figure size 432x288 with 1 Axes>"
            ],
            "image/png": "[encoded data removed]"
          },
          "metadata": {
            "needs_background": "light"
          }
        }
      ]
    },
    {
      "cell_type": "markdown",
      "source": [
        "**12. MZZONE**"
      ],
      "metadata": {
        "id": "ifhjCC9QBfRb"
      }
    },
    {
      "cell_type": "code",
      "source": [
        "house['MZZONE'].unique()"
      ],
      "metadata": {
        "colab": {
          "base_uri": "https://localhost:8080/"
        },
        "id": "HNKlrr0VBjot",
        "outputId": "290f5fb0-53f8-406d-b56c-ebb03c3245ee"
      },
      "execution_count": 76,
      "outputs": [
        {
          "output_type": "execute_result",
          "data": {
            "text/plain": [
              "array(['A', 'RH', 'RL', 'I', 'C', 'RM'], dtype=object)"
            ]
          },
          "metadata": {},
          "execution_count": 76
        }
      ]
    },
    {
      "cell_type": "code",
      "source": [
        "house.groupby('MZZONE')['SALES_PRICE'].mean().sort_values(ascending=True).plot.bar() # Relationship between MZZONE and sales price (linear relations) then we go for label encording."
      ],
      "metadata": {
        "colab": {
          "base_uri": "https://localhost:8080/",
          "height": 313
        },
        "id": "LS3M5qxrBkHb",
        "outputId": "e3b66107-b491-412e-f976-2c0e79d2bc3b"
      },
      "execution_count": 77,
      "outputs": [
        {
          "output_type": "execute_result",
          "data": {
            "text/plain": [
              "<matplotlib.axes._subplots.AxesSubplot at 0x7f38e5b7d910>"
            ]
          },
          "metadata": {},
          "execution_count": 77
        },
        {
          "output_type": "display_data",
          "data": {
            "text/plain": [
              "<Figure size 432x288 with 1 Axes>"
            ],
            "image/png": "[encoded data removed]"
          },
          "metadata": {
            "needs_background": "light"
          }
        }
      ]
    },
    {
      "cell_type": "code",
      "source": [
        "MZZONE={'A':0,'C':1,'I':2,'RH':3,'RL':4,'RM':5} # Label Encording."
      ],
      "metadata": {
        "id": "rYa2I0GfBkp7"
      },
      "execution_count": 78,
      "outputs": []
    },
    {
      "cell_type": "code",
      "source": [
        "print(house[\"MZZONE\"].value_counts(),\"\\n\")\n",
        "house.groupby('MZZONE')['SALES_PRICE'].count().sort_values(ascending=True).plot.bar() #Sales price preduction.\n",
        "#fig= px.scatter(house,x='MZZONE',y='SALES_PRICE') # With Sales Price.\n",
        "#fig.show()"
      ],
      "metadata": {
        "colab": {
          "base_uri": "https://localhost:8080/",
          "height": 441
        },
        "id": "b9XVHZ8-FxEZ",
        "outputId": "ae22ccc0-36c7-4aaa-9a1c-0997c9cd95a0"
      },
      "execution_count": 79,
      "outputs": [
        {
          "output_type": "stream",
          "name": "stdout",
          "text": [
            "RL    1849\n",
            "RH    1808\n",
            "RM    1801\n",
            "C      547\n",
            "A      533\n",
            "I      518\n",
            "Name: MZZONE, dtype: int64 \n",
            "\n"
          ]
        },
        {
          "output_type": "execute_result",
          "data": {
            "text/plain": [
              "<matplotlib.axes._subplots.AxesSubplot at 0x7f38e5b6ead0>"
            ]
          },
          "metadata": {},
          "execution_count": 79
        },
        {
          "output_type": "display_data",
          "data": {
            "text/plain": [
              "<Figure size 432x288 with 1 Axes>"
            ],
            "image/png": "[encoded data removed]"
          },
          "metadata": {
            "needs_background": "light"
          }
        }
      ]
    },
    {
      "cell_type": "markdown",
      "source": [
        "**13. Age_Bldg**"
      ],
      "metadata": {
        "id": "cnm07X51ic_8"
      }
    },
    {
      "cell_type": "code",
      "source": [
        "house['Age_Bldg'].unique()"
      ],
      "metadata": {
        "colab": {
          "base_uri": "https://localhost:8080/"
        },
        "id": "Iy2S9j6oibpA",
        "outputId": "87c38057-4430-4257-b87c-43a614e682fa"
      },
      "execution_count": 80,
      "outputs": [
        {
          "output_type": "execute_result",
          "data": {
            "text/plain": [
              "array([43, 10, 19, 21, 29,  4, 27,  9, 34, 14, 36, 25, 53, 17, 30, 41,  3,\n",
              "       15, 33,  7, 38,  8,  5, 26, 12, 39, 35, 47, 46, 11, 48, 45, 23, 24,\n",
              "       54, 20, 28, 32,  6, 42, 37, 16, 13, 31, 40, 49, 22, 52, 18, 50, 44,\n",
              "       51, 55])"
            ]
          },
          "metadata": {},
          "execution_count": 80
        }
      ]
    },
    {
      "cell_type": "code",
      "source": [
        "sb.distplot(a = house[\"Age_Bldg\"], bins = 10)"
      ],
      "metadata": {
        "colab": {
          "base_uri": "https://localhost:8080/",
          "height": 297
        },
        "id": "0x-GoBKOjDQf",
        "outputId": "bdcb58dd-83ee-488f-b344-a99d4ad849ca"
      },
      "execution_count": 81,
      "outputs": [
        {
          "output_type": "execute_result",
          "data": {
            "text/plain": [
              "<matplotlib.axes._subplots.AxesSubplot at 0x7f38e5aefdd0>"
            ]
          },
          "metadata": {},
          "execution_count": 81
        },
        {
          "output_type": "display_data",
          "data": {
            "text/plain": [
              "<Figure size 432x288 with 1 Axes>"
            ],
            "image/png": "[encoded data removed]"
          },
          "metadata": {
            "needs_background": "light"
          }
        }
      ]
    },
    {
      "cell_type": "code",
      "source": [
        "fig= px.scatter(house,x='Age_Bldg',y='SALES_PRICE') # With Sales Price.\n",
        "fig.show()"
      ],
      "metadata": {
        "colab": {
          "base_uri": "https://localhost:8080/",
          "height": 542
        },
        "id": "1conltVnis3W",
        "outputId": "3a19b3c0-107a-4eee-b75e-8ced2cfe5ba2"
      },
      "execution_count": 82,
      "outputs": [
        {
          "output_type": "display_data",
          "data": {
            "text/html": [
              "<html>\n",
              "<head><meta charset=\"utf-8\" /></head>\n",
              "<body>\n",
              "    <div>            <script src=\"https://cdnjs.cloudflare.com/ajax/libs/mathjax/2.7.5/MathJax.js?config=TeX-AMS-MML_SVG\"></script><script type=\"text/javascript\">if (window.MathJax) {MathJax.Hub.Config({SVG: {font: \"STIX-Web\"}});}</script>                <script type=\"text/javascript\">window.PlotlyConfig = {MathJaxConfig: 'local'};</script>\n",
              "        <script src=\"https://cdn.plot.ly/plotly-2.8.3.min.js\"></script>                <div id=\"3bbe7797-a944-4b4d-8fd5-ccb84dab95a0\" class=\"plotly-graph-div\" style=\"height:525px; width:100%;\"></div>            <script type=\"text/javascript\">                                    window.PLOTLYENV=window.PLOTLYENV || {};                                    if (document.getElementById(\"3bbe7797-a944-4b4d-8fd5-ccb84dab95a0\")) {                    Plotly.newPlot(                        \"3bbe7797-a944-4b4d-8fd5-ccb84dab95a0\",                        [{\"hovertemplate\":\"Age_Bldg=%{x}<br>SALES_PRICE=%{y}<extra></extra>\",\"legendgroup\":\"\",\"marker\":{\"color\":\"#636efa\",\"symbol\":\"circle\"},\"mode\":\"markers\",\"name\":\"\",\"showlegend\":false,\"x\":[43,10,19,21,29,4,27,9,34,14,27,36,19,25,53,17,36,30,41,3,21,9,15,4,33,29,7,38,34,8,9,19,19,5,21,26,12,25,39,35,17,47,46,15,29,11,27,9,33,48,4,9,29,30,36,45,4,27,21,30,38,36,41,21,23,24,4,23,4,54,29,29,20,8,28,9,32,39,28,27,6,42,27,12,37,36,25,7,16,27,19,17,33,16,13,31,53,4,20,39,28,40,28,33,13,36,10,34,6,3,7,10,25,13,24,36,7,23,38,28,34,17,3,4,19,15,8,24,41,12,31,15,36,20,23,49,22,30,27,29,41,45,20,26,25,25,3,52,20,9,28,16,11,18,6,8,16,33,38,39,16,37,32,23,20,35,34,17,23,12,35,16,47,7,40,3,21,29,28,9,33,12,33,27,10,54,16,31,24,14,14,34,18,5,21,9,30,38,15,24,38,26,20,33,19,37,33,50,28,26,30,23,6,28,42,14,11,25,22,31,7,31,31,17,19,5,35,20,10,7,6,15,23,18,21,16,31,39,30,30,24,19,47,4,6,15,24,35,35,49,15,33,15,14,16,28,45,22,49,17,27,43,16,18,43,19,5,8,11,35,8,28,25,20,36,37,19,7,32,18,33,5,39,22,25,16,18,28,34,31,36,16,43,26,10,16,34,32,12,10,15,18,15,16,27,38,4,4,5,20,4,29,14,14,32,33,14,25,9,30,37,22,42,22,17,19,16,36,4,44,24,13,24,24,20,21,24,19,31,31,14,16,23,6,19,37,28,8,8,34,14,30,18,48,37,50,25,38,6,29,21,39,19,23,27,23,33,44,21,8,13,13,32,4,17,15,29,43,14,31,35,38,32,31,13,36,20,43,4,22,27,39,33,47,24,44,14,5,15,17,26,25,20,34,20,13,36,11,32,30,54,44,28,16,22,35,9,33,45,36,31,5,6,31,36,5,5,35,14,10,25,28,22,3,19,36,18,36,48,19,50,24,19,11,5,46,28,31,27,24,11,46,24,33,24,42,42,38,3,10,12,14,18,28,20,33,10,3,27,29,32,18,18,33,29,16,16,8,27,33,13,24,38,33,30,41,18,43,3,20,14,38,29,17,4,35,36,22,26,31,29,28,22,29,30,14,31,32,26,32,11,22,30,19,25,5,23,17,20,52,13,30,36,31,36,37,35,13,36,6,34,21,12,9,29,38,54,15,25,29,40,10,16,34,21,19,43,26,18,10,24,39,13,5,6,28,11,14,8,15,25,21,50,16,19,5,33,32,23,17,22,29,24,13,31,20,19,6,22,4,40,29,12,39,5,38,36,22,31,13,54,48,37,9,35,36,27,16,10,30,10,29,6,30,18,15,12,34,22,45,17,25,9,25,33,33,24,21,34,22,20,12,36,15,8,23,7,9,16,6,18,28,4,11,35,14,14,27,12,28,33,11,22,44,19,5,30,44,15,19,27,34,27,5,30,27,22,23,31,37,33,7,35,13,37,14,5,29,7,21,34,40,27,37,33,32,16,38,20,15,23,19,9,9,3,14,34,27,7,33,16,43,16,38,23,6,37,33,18,18,26,35,9,16,43,27,28,5,43,36,44,13,37,43,18,6,31,32,5,6,13,33,43,11,11,19,27,10,40,43,6,50,28,41,11,29,45,25,22,11,18,39,44,15,40,7,44,17,42,11,30,11,33,25,44,35,43,42,27,34,17,28,10,18,29,35,32,6,23,24,19,19,21,28,5,14,29,18,45,42,29,22,21,35,13,11,9,6,12,28,19,32,5,4,14,28,42,8,15,31,20,18,18,45,25,11,18,7,4,17,19,9,6,35,12,25,9,21,4,9,9,40,36,6,10,4,29,23,20,11,39,43,45,38,7,32,19,19,4,14,31,5,10,46,28,30,10,15,6,47,18,14,39,13,21,13,10,5,34,35,5,38,34,26,29,44,12,5,33,28,39,24,22,12,28,13,27,6,24,27,4,5,35,21,15,33,29,22,42,36,13,47,34,6,34,21,5,7,48,27,6,13,21,30,11,31,29,6,19,3,23,39,12,24,19,43,19,38,29,12,11,9,4,7,35,32,24,39,36,24,22,24,24,35,31,22,11,22,8,13,14,21,18,50,21,36,15,38,12,4,36,4,12,8,17,4,4,16,15,26,13,32,25,21,4,7,24,40,36,37,15,19,43,29,32,22,15,22,26,13,29,20,37,21,29,38,12,19,8,10,14,21,6,10,47,27,23,14,21,31,23,11,44,14,20,8,15,43,29,7,32,8,37,7,29,44,16,7,38,8,4,34,5,45,38,9,24,20,17,31,21,6,8,4,29,21,38,20,18,38,11,6,38,34,28,12,4,25,4,31,20,19,26,34,16,14,39,15,39,17,26,22,49,37,48,23,46,11,38,18,19,26,25,8,27,32,35,11,39,45,14,15,18,20,20,28,35,22,27,47,9,26,20,29,21,27,5,5,15,49,29,31,41,32,33,27,4,7,29,22,19,32,26,13,30,27,6,5,29,49,36,8,25,23,4,13,16,36,45,35,49,43,44,5,26,18,28,28,23,43,45,26,7,39,8,18,6,33,27,4,38,31,39,16,8,16,35,44,9,10,25,16,9,11,22,38,23,8,23,30,44,31,23,32,9,36,46,33,16,16,26,18,4,25,34,27,10,40,14,22,21,6,19,16,39,13,37,35,28,24,36,7,40,32,31,16,20,42,34,8,18,22,30,6,12,19,29,31,37,35,12,12,9,27,8,25,19,11,10,29,40,47,39,41,43,19,6,7,30,36,18,38,33,15,28,47,6,19,8,10,24,30,15,35,29,47,16,34,34,12,39,31,53,4,3,7,19,37,44,20,30,25,37,40,15,39,46,15,6,27,48,14,15,26,18,22,28,14,27,6,29,11,26,17,13,5,7,28,8,27,31,17,29,19,45,26,15,31,6,7,36,28,30,50,47,7,10,16,21,9,8,18,33,22,22,38,24,54,4,20,23,50,11,29,15,16,39,28,27,38,23,18,18,4,34,38,4,19,45,23,35,28,41,6,28,38,11,33,33,34,21,46,12,35,32,27,16,17,39,7,37,9,35,35,14,27,22,22,11,26,37,19,5,35,43,27,3,29,19,10,10,34,11,14,42,28,28,10,31,16,5,26,27,49,10,16,36,4,24,26,22,27,27,15,44,5,46,23,33,23,15,21,38,34,37,28,31,15,4,25,12,25,10,10,36,21,13,4,30,29,33,54,8,18,23,22,33,18,26,9,37,27,41,31,25,32,26,5,24,22,4,32,23,19,52,17,6,25,36,30,25,7,27,19,17,10,27,14,7,20,27,15,7,27,38,28,35,31,12,27,16,13,9,26,24,8,26,24,23,10,38,27,16,39,37,34,32,26,18,6,21,6,34,16,23,47,8,39,24,12,10,12,8,11,44,46,25,13,20,33,4,36,37,49,48,8,35,32,4,36,44,46,26,10,7,52,20,38,17,6,10,28,27,24,33,24,20,3,27,34,13,8,44,24,28,25,8,35,39,50,15,19,39,31,21,24,34,12,34,11,8,29,6,44,17,34,38,35,38,35,29,18,26,25,15,23,29,20,37,16,31,23,23,49,31,31,46,33,28,20,15,8,21,23,33,25,30,48,25,4,9,9,40,31,33,25,9,21,40,7,10,25,8,30,26,53,19,19,14,37,27,9,28,17,36,13,19,16,35,40,16,16,34,30,10,4,5,4,36,22,31,43,36,26,17,18,18,9,27,23,49,11,28,29,13,17,37,21,9,47,4,42,45,12,24,37,20,4,19,21,15,9,5,18,39,41,16,28,29,26,43,17,39,27,21,13,23,21,13,35,19,9,43,18,36,24,24,17,19,13,32,38,22,33,7,6,25,20,21,29,25,13,13,10,11,21,44,11,9,17,21,32,12,13,30,7,40,28,5,16,6,14,45,37,35,22,8,22,29,19,22,32,19,24,19,5,54,18,5,48,35,13,43,17,5,22,39,11,8,18,31,29,19,18,40,28,26,32,4,33,5,7,34,34,16,17,36,23,19,19,28,26,48,16,4,31,6,15,7,27,46,38,25,9,23,5,9,5,9,7,14,9,20,17,9,28,16,6,23,17,7,13,36,24,13,27,6,10,7,22,7,38,40,31,31,8,26,19,16,23,42,19,13,45,43,13,28,12,35,19,15,15,17,40,16,39,19,43,9,20,18,28,29,40,37,35,6,4,34,39,7,19,24,14,42,50,46,17,33,17,46,36,30,34,25,16,27,34,29,32,10,21,21,30,17,21,20,19,24,29,18,6,22,32,8,10,39,6,27,12,4,23,22,8,10,14,13,6,39,23,33,25,36,5,11,21,9,8,42,14,38,50,23,36,34,17,29,30,38,9,5,18,38,24,12,15,13,24,15,38,26,14,4,6,10,24,47,22,6,32,6,21,22,28,24,29,20,33,23,27,17,6,15,25,23,13,18,19,9,13,18,25,11,19,43,30,13,45,7,28,11,48,38,15,22,34,21,5,16,18,9,16,24,12,27,26,34,42,8,31,20,34,47,24,3,22,7,22,30,29,40,20,34,36,36,37,18,32,39,37,27,40,11,13,13,6,27,30,18,12,7,16,37,19,36,23,31,31,27,52,30,8,28,48,47,26,41,36,7,19,19,35,23,7,11,4,10,30,17,5,31,38,34,51,11,4,19,24,40,16,9,21,35,37,23,27,22,7,10,48,8,23,14,18,43,32,29,37,51,28,37,10,12,13,7,19,39,22,14,6,46,53,29,40,4,26,9,32,12,19,16,36,29,3,37,26,20,43,33,18,32,21,7,30,11,20,38,42,6,6,14,31,5,40,13,17,27,22,30,30,29,8,38,14,13,24,32,49,21,39,26,19,24,19,23,11,47,16,46,34,26,20,41,16,26,38,27,18,34,36,39,33,4,41,47,37,27,50,24,25,41,12,13,39,27,41,32,27,8,44,29,5,20,15,24,31,15,30,5,42,36,47,9,20,13,23,24,26,22,17,9,22,31,27,37,34,43,4,7,21,36,29,36,39,42,7,13,18,11,7,15,37,39,7,17,24,39,17,33,14,28,18,24,26,26,5,16,32,36,9,11,25,11,12,25,14,35,14,4,7,44,32,9,14,21,16,26,19,31,10,28,47,13,29,46,18,16,11,6,24,5,25,30,19,36,14,29,33,30,39,11,20,11,37,19,16,10,41,22,30,35,35,50,31,8,50,11,30,24,19,32,48,15,23,29,19,6,29,39,27,22,50,26,17,35,17,19,34,28,43,8,41,8,10,27,42,5,4,36,26,40,41,39,27,43,35,33,33,36,34,32,38,25,9,39,20,13,22,15,46,35,9,44,26,39,37,39,41,27,19,11,36,8,28,37,7,44,12,37,16,29,39,36,15,24,12,35,16,33,9,13,36,16,42,15,14,19,13,21,28,10,48,25,34,54,31,20,12,31,10,38,11,15,13,21,34,13,52,18,11,20,3,35,29,29,4,21,6,51,4,9,38,30,23,9,4,27,39,32,48,47,10,5,22,24,16,46,5,27,19,25,38,17,11,42,32,41,16,29,26,22,33,40,11,14,40,6,37,27,19,24,5,23,11,42,5,19,11,19,5,22,4,30,29,43,7,20,37,19,44,23,27,26,36,48,48,11,16,27,24,19,41,22,5,10,16,33,6,38,31,16,14,23,28,40,25,34,41,21,11,11,16,6,39,33,8,6,19,18,9,36,33,8,20,22,6,25,10,6,20,23,36,33,30,8,29,43,46,12,17,33,23,3,26,38,24,20,39,38,14,15,18,20,13,27,19,14,15,25,3,28,4,14,33,23,12,27,34,28,34,4,36,8,14,9,32,32,8,6,16,5,39,29,13,38,39,7,33,13,47,11,38,12,24,29,43,33,25,10,39,18,30,27,39,22,7,50,7,45,23,29,29,36,20,22,9,21,22,25,39,15,21,19,39,24,16,20,35,24,49,10,30,24,45,17,25,7,28,29,39,8,8,40,25,8,39,11,39,24,8,28,17,13,13,9,15,24,11,6,14,17,17,11,21,23,28,23,3,49,12,40,38,19,6,50,10,31,25,12,7,32,23,31,13,8,41,39,23,27,29,18,28,7,36,13,30,29,42,35,32,7,31,19,7,8,11,6,7,11,47,17,19,11,10,45,7,9,40,42,20,16,11,15,19,10,43,28,41,19,31,26,36,22,14,48,31,4,49,26,24,41,9,6,12,42,41,13,16,22,8,12,16,21,7,17,12,37,20,14,27,33,49,36,6,29,42,6,42,45,32,12,29,4,35,19,7,12,36,19,8,12,35,37,7,17,5,11,31,35,38,12,29,16,32,26,45,28,37,23,5,34,34,28,23,16,21,24,6,18,20,17,3,36,18,34,25,24,3,5,26,35,29,20,22,27,52,4,47,39,13,29,32,33,34,39,24,11,40,17,15,4,33,23,31,42,17,42,9,31,24,34,36,8,29,6,11,6,18,10,32,22,41,33,30,16,12,19,11,16,8,17,34,11,24,31,23,19,28,18,11,6,25,35,43,15,33,6,21,20,14,19,7,44,37,29,44,19,9,30,26,6,25,25,8,7,5,40,11,14,12,42,14,24,19,39,22,18,49,38,6,38,12,48,26,30,11,23,14,40,7,30,5,19,22,34,30,16,25,35,18,22,19,9,11,20,8,29,33,10,9,18,48,42,32,38,17,22,38,20,20,20,32,18,20,44,5,34,22,9,34,36,45,22,32,37,7,31,18,37,4,9,55,53,9,27,25,34,10,9,10,18,10,14,23,10,4,37,40,17,35,36,25,36,18,37,8,35,26,46,16,13,19,28,5,12,7,14,5,34,33,41,21,26,9,36,37,25,11,29,4,35,17,53,31,4,54,23,9,25,12,40,34,17,7,16,19,23,30,35,26,36,29,45,8,11,24,15,20,54,27,8,8,18,36,42,40,44,6,12,4,18,24,21,15,36,4,7,39,5,15,39,43,43,27,14,28,25,15,13,27,12,4,27,35,7,18,25,41,11,14,32,27,38,35,16,25,23,12,13,7,44,8,17,7,40,21,16,31,37,32,19,47,19,6,28,11,6,37,22,39,26,5,16,40,11,29,51,37,32,42,15,7,35,18,50,29,5,31,26,39,31,16,43,12,10,30,35,7,6,11,26,19,48,41,10,39,3,19,34,16,15,21,22,8,40,10,6,9,10,30,30,9,19,12,53,28,24,17,15,26,11,29,31,20,14,26,29,9,6,6,34,38,13,15,19,29,7,4,13,11,8,16,35,18,38,29,12,10,15,36,18,8,32,19,11,14,7,4,13,19,14,15,38,46,31,15,23,23,49,8,28,53,6,16,20,20,20,27,55,9,21,29,5,15,22,7,38,54,13,23,29,42,8,19,39,41,36,27,30,10,35,17,8,17,43,9,38,11,18,32,18,19,27,13,25,25,7,12,16,15,7,14,44,14,8,11,34,13,11,29,17,25,42,22,38,14,9,4,24,14,22,28,30,19,51,27,24,23,35,22,44,8,26,39,12,17,24,20,7,16,40,23,29,15,7,7,27,24,18,24,34,44,25,48,28,14,19,37,39,24,9,7,37,22,23,39,27,22,21,14,12,25,13,32,10,26,27,31,20,40,35,32,14,11,10,13,18,49,20,41,41,30,14,13,15,37,32,15,9,9,9,32,29,15,33,11,7,26,32,20,54,40,6,11,3,31,47,19,41,10,29,12,10,49,6,46,28,27,43,19,14,52,34,32,10,39,26,25,12,22,8,19,26,25,11,13,14,28,13,26,41,7,31,39,23,28,6,16,11,4,36,39,7,15,33,3,26,23,39,21,43,27,13,44,9,29,34,35,23,4,31,34,31,19,19,4,19,12,33,17,20,33,18,12,36,22,36,26,13,19,7,43,50,36,20,32,14,14,24,6,18,27,10,25,23,31,13,25,39,30,42,20,26,10,10,30,12,16,6,17,20,25,25,21,5,24,42,16,54,19,7,29,20,12,35,33,8,33,19,29,8,5,28,12,19,40,12,5,6,18,23,11,23,32,4,26,21,4,10,24,22,50,12,39,44,5,8,20,7,29,7,6,28,15,33,18,42,3,39,41,20,10,23,4,38,43,17,31,49,21,27,28,21,39,10,39,40,6,30,53,9,5,35,38,14,31,28,4,36,20,44,22,14,10,15,27,44,32,30,37,29,21,14,35,33,32,35,37,25,5,25,26,42,24,31,8,16,23,11,14,31,31,10,12,25,10,16,29,18,30,25,38,15,17,17,29,10,37,16,3,10,17,9,11,49,14,6,28,12,25,21,44,36,15,10,14,25,14,17,4,14,33,15,36,23,21,13,16,15,15,28,16,9,13,29,20,43,24,26,35,29,26,29,45,14,34,35,35,36,25,9,48,21,22,40,13,17,35,40,19,34,31,36,5,32,16,48,23,19,9,7,26,33,35,3,21,8,23,21,21,28,18,15,22,13,26,29,5,7,8,39,10,25,18,12,43,25,42,27,9,37,6,27,10,25,29,13,12,18,16,10,36,16,39,37,23,20,35,27,3,54,28,13,17,31,32,8,15,25,35,6,12,9,16,28,24,45,23,21,14,11,6,10,39,5,43,27,21,32,7,30,18,10,4,44,35,35,10,32,41,41,42,17,38,37,27,3,26,15,23,29,37,27,5,29,27,25,21,17,49,8,34,28,28,29,28,35,38,3,31,29,5,15,18,12,36,25,16,23,24,23,38,27,27,25,37,25,7,28,34,36,36,20,42,41,18,24,28,43,7,18,21,13,14,41,18,6,42,35,13,27,18,34,30,40,23,34,43,29,49,49,30,6,23,5,35,8,36,19,26,17,26,49,45,8,27,8,12,8,41,27,31,42,41,33,30,41,10,22,43,10,53,35,13,17,39,27,8,18,36,24,15,35,5,5,20,4,23,10,7,25,12,35,34,8,46,15,25,29,15,22,38,12,6,46,23,29,38,37,13,16,4,15,36,12,10,34,5,21,15,19,26,34,5,39,6,27,29,19,20,4,7,13,29,18,9,7,34,35,38,36,37,34,17,10,44,8,19,17,12,20,16,28,10,6,11,5,31,10,11,17,24,8,19,4,22,32,17,9,21,14,4,22,41,13,36,6,28,15,4,15,37,29,24,39,9,10,41,23,49,33,18,13,33,13,6,37,5,18,18,30,25,37,11,10,53,26,29,19,27,24,25,28,24,16,30,21,33,32,25,48,7,9,8,35,22,14,25,30,32,37,29,38,8,31,10,4,24,38,40,17,10,38,43,5,23,42,12,14,26,20,40,12,31,39,37,21,30,27,38,6,10,42,20,40,26,29,50,16,9,11,35,43,5,18,17,24,40,21,33,12,14,21,8,44,12,38,54,37,31,52,23,19,18,27,39,19,23,13,15,31,6,10,31,12,35,11,10,21,22,36,47,10,14,54,22,10,11,33,26,21,31,5,31,40,14,25,32,24,11,14,4,13,14,20,7,49,26,7,16,17,42,29,35,8,22,34,29,13,21,24,28,52,33,9,7,45,22,37,16,11,9,15,10,47,24,19,33,37,19,25,35,22,19,14,38,29,5,13,14,25,35,16,29,24,16,5,12,27,43,17,50,38,6,22,18,33,4,9,37,12,10,20,15,18,16,43,24,11,10,18,43,7,33,49,36,24,36,38,26,7,17,32,30,27,7,20,16,6,13,22,17,33,31,34,12,8,30,42,25,42,36,20,17,21,5,29,8,43,10,38,4,16,5,9,41,12,26,13,34,25,12,26,41,50,28,16,21,34,4,28,6,5,25,40,19,35,16,36,28,11,6,24,34,21,41,10,40,17,30,24,28,19,3,19,10,33,41,28,6,26,18,43,8,25,39,16,15,16,13,26,18,20,11,19,31,31,9,13,18,8,8,34,38,20,23,13,12,36,46,18,23,16,45,15,13,27,11,34,22,35,28,20,39,38,5,27,43,16,33,41,22,27,24,4,4,32,20,33,47,5,25,12,9,19,8,28,38,31,9,33,25,38,43,34,40,21,36,19,24,29,5,35,38,6,50,8,4,35,18,40,42,9,27,33,33,5,11,11,34,5,30,23,14,39,27,28,44,12,35,23,12,36,20,34,21,8,3,38,31,10,5,16,12,33,22,41,41,23,48,32,4,29,44,28,33,13,35,9,15,13,20,26,25,44,33,15,44,21,18,18,18,5,15,39,20,13,9,46,29,26,22,9,19,45,33,11,23,37,34,8,7,8,27,30,40,15,20,26,22,25,19,46,8,18,46,18,25,33,6,14,43,11,12,46,11,19,50,9,26,36,5,19,28,31,24,14,31,21,18,34,13,26,9,8,10,14,9,15,4,22,27,19,42,32,23,23,37,18,53,9,28,11,21,13,40,20,24,39,19,35,4,39,17,24,15,45,5,7,28,34,41,34,11,11,49,44,47,23,32,41,21,20,23,26,36,19,48,20,7,39,19,9,15,27,12,19,20,18,36,15,45,5,54,12,39,11,43,11,29,27,37,21,5,23,25,31,33,38,4,42,21,37,26,34,14,15,8,39,6,26,16,43,32,38,8,35,23,21,31,34,11,17,18,34,17,13,21,6,27,35,37,33,27,37,19,33,27,29,50,43,17,4,4,5,19,34,23,11,32,22,25,7,24,38,21,36,13,19,49,29,18,20,30,8,29,22,17,11,49,37,24,4,33,4,3,39,42,6,13,27,4,14,17,39,20,22,49,35,24,10,28,6,33,20,28,29,10,33,14,29,5,39,39,6,11,13,9,22,12,44,10,32,5,35,28,40,23,36,14,28,5,4,13,36,30,21,13,29,36,41,30,22,51,33,43,4,24,5,6,37,30,32,21,35,43,14,16,5,16,14,36,6,26,19,11,28,13,24,4,5,29,7,23,17,20,29,26,38,38,18,37,29,30,6,29,23,18,14,44,20,36,46,8,38,14,29,36,37,15,14,55,29,20,8,5,21,28,22,33,23,38,33,25,37,13,20,27,29,15,36,50,42,34,46,6,46,23,44,32,29,30,10,47,26,32,8,29,19,11,52,19,19,28,27,32,21,28,23,49,27,17,7,5,23,41,12,31,7,24,9,12,16,11,31,7,12,41,22,18,40,32,18,7,4,29,6,18,46,11,16,27,4,15,48,41,17,15,16,26,34,15,37,16,12,6,22,26,5,5,8,6,36,33,26,12,12,24,25,39,37,31,21,38,6,53,17,10,27,6,33,20,15,21,34,30,4,36,47,45,29,21,21,44,10,31,19,13,41,14,22,27,38,23,15,45,16,22,18,12,14,32,36,24,53,48,10,21,33,5,12,40,50,41,27,16,20,23,24,17,4,41,5,32,29,33,27,32,28,36,10,35,30,53,26,30,18,6,48,35,16,39,37,41,7,24,38,33,20,16,24,23,13,36,15,50,10,37,7,20,27,16,34,15,34,12,18,33,12,36,20,10,43,43,11,18,46,48,5,24,23,35,25,31,26,22,12,28,30,49,46,13,30,37,15,31,39,15,4,31,8,27,6,17,9,28,18,39,49,18,25,19,6,19,15,27,20,7,32,12,25,14,36,22,42,21,27,17,30,39,9,17,36,10,6,3,24,28,36,25,31,15,19,13,25,11,42,32,7,16,11,47,20,37,14,36,35,25,6,12,18,6,27,39,24,25,22,6,20,37,16,20,39,23,35,55,17,32,13,16,43,13,4,17,9,13,13,40,43,36,6,33,37,4,5,11,15,30,28,8,9,13,9,32,37,32,21,12,47,10,44,33,35,41,13,47,30,4,21,5,21,13,41,7,11,23,33,35,5,29,33,39,28,4,5,30,38,5,21,6,22,18,49,34,5,10,26,15,23,21,11,30,47,20,35,9,7,14,34,21,13,20,34,39,24,20,49,23,17,24,21,33,5,6,15,51,15,16,32,43,12,6,48,32,26,25,33,24,7,47,12,40,26,29,37,37,28,27,45,6,22,19,17,11,28,19,5,28,27,8,5,3,15,18,32,42,5,16,32,8,21,41,46,10,18,12,20,43,16,23,15,26,42,14,10,14,12,7,21,15,39,12,4,12,21,15,43,35,20,29,29,26,44,53,37,37,33,8,19,39,13,42,18,17,7,16,22,4,7,4,7,35,22,49,29,23,21,29,29,28,24,30,9,17,34,13,12,29,22,29,15,49,26,7,45,11,20,38,20,43,13,5,16,11,54,41,44,22,20,33,35,6,29,8,42,24,21,47,10,35,46,19,11,31,7,18,9,15,19,42,6,33,10,4,25,36,32,22,28,17,21,19,43,9,35,23,25,3,30,33,23,38,34,4,39,25,18,12,24,36,40,20,11,24,15,47,15,29,17,30,22,15,17,20,14,25,16,26,9,4,33,33,6,52,25,14,23,24,27,8,4,48,36,9,4,21,4,11,34,35,5,8,54,8,39,26,20,21,31,10,18,24,4,21,17,8,28,48,38,17,31,20,23,17,7,17,23,33,6,35,36,19,20,48,8,31,16,24,44,47,14,39,11,16,23,36,53,10,39,8,6,37,14,13,50,14,39,14,21,41,5,17,8,37,17,15,21,10,48,18,16,11,7,11,20,9,5,38,33,23,31,23,24,25,38,8,39,30,9,6,6,8,14,6,9,23,6,49,26,17,30,22,39,17,30,37,19,7,38,6,15,34,18,20,13,30,29,19,49,11,21,34,11,27,19,27,16,36,31,23,20,28,26,10,26,42,23,16,14,24,25,22,10,22,29,43,35,22,22,13,50,40,24,43,38,15,33,19,16,30,8,6,8,21,34,14,26,6,42,26,28,4,31,15,12,22,11,38,6,13,16,51,22,10,10,36,28,21,38,37,34,44,27,32,18,11,29,33,20,8,11,37,22,10,17,48,30,33,22,4,38,37,47,29,22,13,15,39,20,8,25,15,21,20,45,37,22,30,28,25,23,8,26,22,11,31,27,15,5,12,30,26,27,15,4,12,35,33,39,18,15,20,16,20,21,16,36,13,32,25,35,9,41,7,13,37,23,35,11,45,32,25,52,31,9,4,22,32,16,9,40,28,33,14,18,23,22,20,4,31,39,4,38,27,15,34,10,4,43,7,38,23,24,13,12,5,15,16,17,47,12,17,24,5,34,18,14,28,22,14,4,21,50,39,35,25,36,27,26,17,22,8,5,19,15,50,33,5,15,28,10,18,9,18,39,33,29,37,24,8,28,16,35,44,41,17,3,42,11,21,13,31,18,28,52,17,6,44,5,28,6,36,27,49,19,17,25,16,14,41,37,17,14,22,4,44,27,44,22,27,39,38,17,16,11,24,15,20,26,19,36,17,47,19,19,31,49,28,24,12,5,14,8,11,35,33,53,6,9,27,41,28,33,18,19,32,21,10,21,27,22,16,52,12,42,42,6,34,47,17,30,42,13,28,32,4,31,26,27,23,35,52,17,38,44,25,28,3,49,36,34,23,24,17,32,10,33,30,22,9,13,5,7,10,7,16,38,40,27,12,17,30,22,9,18,27,26,17,24,23,16,22,24,10,43,42,30,32,18,27,37,12,17,47,8,12,28,28,4,26,44,3,15,31,39,4,14,19,24,27,14,17,20,17,24,11,19,20,21,21,3,11,12,33,44,32,13,32,5,42,27,29,7,27,14,35,18,35,28,13,22,8,7,39,10,12,25,20,44,6,38,9,9,17,12,14,20,37,37,20,16,37,14,39,14,35,18,53,24,22,3,19,18,21,34,18,37,11,25,26,15,24,16,21,5,19,27,12,34,22,10,43,33,13,21,8,16,33,40,22,31,23,6,13,12,24,21,51,28,34,4,10,4,22,27,4,19,38,24,5,30,33,26,4,37,13,16,16,28,43,7,43,34,16,26,54,29,5,11,37,28,8,34,5,12,34,18,38,32,39,34,8,46,9,20,33,33,41,49,25,11,10,27,33,5,49,35,4,26,27,15,5,17,49,23,32,21,49,31,24,4,28,5,10,29,13,10,20,12,38,11,25,17,4,10,42,41,19,24,15,17,5,42,6,35,35,8,12,14,7,36,29,37,22,11,21,30,24,21,32,11,8,17,14,22,31,36,23,39,34,45,49,24,12,28,7,39,22,38,20,12,28,30,8,19,35,7,26,36,18,45,9,13,38,28,29,21,37,7,45,6,38,19,25,31,13,13,15,20,37,24,4,12,8,27,39,39,35,12,21,20,22,15,19,8,19,10,17,17,34,3,41,23,39,5,5,28,36,29,25,18,40,13,42,44,24,33,3,30,23,34,29,41,27,7,17,46,9,17,21,9,43,29,14,20,31,23,37,3,10,26,44,23,16,26,8,6,16,28,26,28,4,19,4,40,39,22,40,12,6,47,32,18,31,16,9,29,17,41,26,11,7,29,25,10,12,24,33,6,8,33,5,42,10,15,12,18,27,37,18,5,10,53,14,39,14,38,34,16,26,7,32,41,7,23,24,29,36,16,11,23,12,20,47,15,29,36,30,30,15,4,6,47,8,46,8,35,12,39,43,16,9,42,38,5,5,37,39,3,45,34,41,29,13,19,39,22,33,42,7,15,48,39,28,22,13,43,7,22,5,14,41,31,39,8,48,29,13,17,14,5,45,4,54,29,13,13,12,27,9,48,18,39,24,16,22,17,29,33,15,42,47,34,5,18,20,20,8,15,37,32,34,27,18,36,20,32,37,25,51,27,25,15,7,18,36,15,35,4,21,10,16,40,40,43,7,21,3,9,8,23,31,18,18,12,18,26,22,29,29,25,24,5,11,19,8,10,6,6,7,38,18,40,16,40,7,28,23,31,28,6,16,5,15,16,19,21,30,45,20,30,26,39,23,21,22,6,9,4,5,27,8,33,14,14,7,11,14,24,31,30,25,42,19,20,35,5,30,28,42,13,37,19,31,43,7,19,11,7,15,20,27,27,14,45,5,12,7,13,29,46,31,32,19,45,27,34,35,7,9,18,47,18,11,14,39,42,33,32,4,26,35,17,5,52,37,13,21,19,37,27,13,38,48,39,41,25,25,34,41,7,22,27,36,9,42,15,17,20,34,38,33,45,23,27,36,15,29,42,19,8,17,40,32,25,25,31,6,11,24,27,22,9,21,16,12,7,25,30,29,9,27,26,10,48,38,27,33,30,8,19,47,23,45,44,40,23,34,51,44,34,4,34,11,9,40,6,17,8,7,33,11,43,7,49,11,8,44,16,22,41,35,25,8,12,30,28,6,35,35,7,9,4,43,20,4,26,25,24,4,4,32,15,37,14,5,27,38,25,46,21,12,38,12,7,12,43,18,5,21,39,19,19,6,18,44,8,26,7,7,31,27,26,36,4,17,12,23,21,3,22,10,25,9,47,13,22,6,4,33,12,43,16,23,27,41,7,16,5,5,10,6,24,24,39,28,30,38,50,16,47,36,6,48,36,25,29,37,49,30,40,4,35,32,38,12,43,41,13,24,39,18,49,32,33,11,31,27,22,42,8,6,9,23,20,3,46,43,28,33,44,10,54,25,41,40,7,11,12,25,47,23,34,37,45,40,24,40,48,16,8,54,15,43,18,35,35,28,37,49,11,13,18,25,24,6,33,55,16,4,22,28,10,9,15,11,38,4,26,6,4,46,33,37,9,13,14,25,44,26,7,38,25,6,25,41,3,7,28,13,14,4,22,6,25,19,36,23,38,35,4,7,15,4,23,10,27,43,42,39,33,16,7,32,44,20,20,24,35,40,16,35,11,7,13,34,14,36,9,12,10,12,42,10,29,4,10,31,10,41,37,20,24,14,23,14,22,9,27,39,15,24,7,34,30,39,21,16,5,39,47,19,29,22,5,4,40,25,36,19,23,49,8,28,31,43],\"xaxis\":\"x\",\"y\":[7600000,21717770,13159200,9630290,7406250,12394750,8488790,16800250,8308970,8083650,14938000,9449730,8774370,9386490,15499680,8656000,10912550,8287550,21203240,10905530,9185970,10925400,9627380,13922760,12601080,13383350,7939625,8848285,11338200,12872430,9042050,14874380,10222380,12928590,17564820,4971250,9170660,10383420,11601400,8249260,6944500,7745000,5728000,18725520,3572250,20215970,8379000,5290635,12548930,5857750,10729700,17006780,5570050,3854375,8594875,13549250,9480750,5847520,9710900,9398750,8806250,12087330,14175620,11920820,13364730,6922975,11673175,13069740,10283575,8956480,7187350,12574850,13906270,9917500,8629750,11667050,9817150,9263050,6587500,9799360,12801500,17454510,9832420,12476770,10381355,17600240,10934875,12372160,11248750,14241140,10160600,13539080,10727750,9867055,9478710,9050200,7904210,13063450,13584980,13116050,10012600,12105920,4918375,7703200,8569080,12146620,11671620,14915900,13547790,8213040,7304000,10390900,19206870,9965375,7207000,9070550,5670200,9253200,4294000,14316000,23307000,9735150,11336400,17701600,6572900,13423020,13122040,18939100,12803570,8050270,7194600,11412700,12035355,6877000,10346400,10809500,10200600,6190150,6507250,11350400,19285540,5856625,12472000,8441900,7579320,9759000,12423800,15495760,11022270,7605550,7967750,8946800,9244820,9821600,15852740,8757635,8415990,9935595,16617860,12412050,22630540,9901500,10449910,7948600,9098680,8342850,18662350,8172630,5856500,14704160,13360440,4928250,7315125,10998320,3936375,9201770,17891240,5144500,8007250,8479250,10129160,9482200,9846750,8675820,10262450,8671050,11165550,9464800,18849880,9480425,12264750,21875050,13538580,8876320,13645040,20996200,9071125,10815830,12802500,13346700,4356500,12257100,4100500,11527430,6452785,8434750,7427820,9105350,4721500,12575010,7952750,5705500,12898740,10722580,14102960,17612900,7146890,13476480,15100560,15599020,11224620,12477040,4396250,11900750,10090000,6607690,4752250,7441350,6441250,10359860,14328720,11444100,9680280,14739360,8939620,15710400,10226600,12300050,6966500,9463900,15199450,20499450,9925210,11223550,7379505,12091400,10530200,9604120,9062800,4748500,9107430,9153300,12650920,7635250,7854000,13197230,13669670,18249860,14707330,9144840,10969920,12248640,14225180,8019280,11410310,9950600,9980320,14292780,5752875,11883250,19816180,9394640,8762820,9348100,9134740,7643255,8886250,6407000,11536000,5333000,7849250,13797720,7492300,5342250,16212650,4710125,14898480,17060380,6931750,8196400,17704670,10784680,9594250,13596890,11156320,7725875,9819500,3869180,5852625,9574550,6102625,20246360,16930470,5510250,6530500,10147125,9705900,16107475,7451690,10163000,19376950,10173980,10910100,15013625,11713410,15862990,8677280,8282500,7926740,12093570,7390000,11053290,14464930,10637010,11045960,7410200,8645860,17787740,8514750,13841050,9160580,7794500,12946530,15883280,10089670,5335750,12126880,8165450,11484740,22024740,12071880,12925550,15387480,6637005,7446875,11658500,6663435,9894250,7968490,12403760,8149280,16012600,11121040,9462230,20477590,8755500,8471590,13024030,8215250,6361850,10929300,14634500,12228420,10494410,12350640,9071080,12450910,12225650,6804640,15495150,12456680,16312280,9753250,10629750,20715860,14297200,8317410,8261500,6206250,8400465,11104320,6083885,8836160,13620040,16756460,11889950,14054970,18316110,14761860,22123260,10882400,6863000,9792910,10090590,5072750,12156320,10741020,16805520,13586120,8021300,7960405,11847350,11985600,13788450,10080280,6564750,8861500,7880000,12682895,10169625,11959100,10391900,9338880,11329750,8469050,7705800,14057180,8621500,9338500,5668875,12730270,11071500,7261650,6982000,7546960,13650500,10652120,13378610,17265880,10044620,9153720,9089520,9075660,9957800,5805250,13087155,9314000,10533755,11462310,12948200,6149625,11031600,12713050,15664740,11265520,12900790,10271420,14154840,12160420,22084180,9953350,8788500,6266250,6879510,11991280,19817860,19766360,8098070,8274000,8912540,19609810,12825500,8717385,9928200,8231860,9833270,13277420,10613930,10801520,18637600,17566590,9397585,6889250,19512010,13064510,8386750,11569680,7825375,10502160,5286000,9794230,9885575,10478100,9345900,9314050,13251910,18331880,13478680,8907400,8185800,9125250,6922750,12133650,18200410,11762550,9104380,11935950,10881130,12146740,14128990,11821400,12528840,10552045,12406100,14377300,9487400,5472500,10252895,10989305,11838240,12624040,8288050,11903865,10274050,17398770,9680500,11855060,15849210,8585715,11452010,9675500,6285850,7813750,10094840,11235750,13556150,9023925,4863375,6511200,7511125,3013500,9243750,17422860,9917200,16834800,7586885,8907630,9519320,20591900,8111350,16484920,11992650,5256625,14715230,10829380,9747000,8762530,17529340,9198300,8823380,15317750,10152390,22829130,6878875,11506980,13454780,12048000,10769525,10342830,5597240,11307820,11040620,13190720,7160890,5643000,22181670,11415700,4849000,10387250,10889570,10358610,8476180,13098030,10644830,21473270,9630420,6428250,7418190,6543375,10787350,7827250,22449450,9718570,13271000,9414520,19909630,14926255,16803310,10471560,7745900,7603630,7116000,14739250,5796000,7520800,9701800,14192960,14920370,12961070,8191250,14684370,13152750,8245625,9627210,9963440,7830375,7464800,6846100,11252380,11266200,17733960,8335390,9036250,11770840,9519460,8984810,22744800,8141330,19806350,11966860,15342740,9985710,6442655,13883800,9920630,11427045,11790660,8235750,12527740,19389140,17797530,4680125,8952550,9350380,9876540,19609850,17171100,4855000,9165460,12356960,12473300,12858080,15665660,12053080,9357800,12851040,9109750,7512030,12764450,10509200,7155650,12919650,13953400,12370100,6329250,12846400,9728460,9354680,8173180,7352150,5655625,21988560,8867600,6569750,6602375,10239375,9831375,9151000,10066680,7899500,12251920,9495375,7700720,12217100,11139610,17623460,13603120,11578050,12966920,8519200,13025260,7824600,8547835,11165950,9263000,13560300,6298700,12727790,16185010,9114000,6826655,9329030,13253630,6988500,6847250,11671340,9202070,9464900,8308730,12038850,5722305,9176650,12775700,13637220,4936250,10555860,9708030,12782260,5402500,10521855,7150500,14116310,6717750,6194125,9899250,10664405,5899450,5962250,13489720,10056250,15592460,12631750,10249680,7738440,7238000,6802000,9433250,9173450,13919200,4343000,12420250,10169600,12075000,10885120,9863280,15733300,5198500,10616020,10673850,14834920,12893050,8243880,4733000,6767000,6000540,10922160,11960070,11953500,8539250,13552840,10931870,12907200,10649060,8197980,11956550,10283850,17314380,6619875,10783060,9125100,7857455,8297500,20697270,11772480,9727500,12401000,14616160,8976940,9960280,5315750,11262600,11681720,10646530,9352750,8582390,14049650,9253010,6686000,10721350,10002210,8110875,8381750,20438790,4886840,9905510,10042440,11330100,7839405,9993600,11992920,8899500,8068000,8824390,8257475,10250150,9635530,14106600,9032750,7274625,7404375,7726750,11111430,8406500,8372550,13938120,9197770,7993125,10189000,8071375,14350560,8739885,10501150,23667340,9995590,10000930,11235770,12986500,16527040,20063100,6783500,17039580,10040100,8345750,14685790,14799120,22348850,12611320,8155260,14414750,11854600,14310420,11574780,8778570,20691780,19600940,4953250,12093600,5999250,22567050,12802100,8871250,8782150,8895625,7627340,10030670,19632920,20192150,7989450,8192790,14917160,13501410,8699125,7373000,7713895,9748900,10930680,11947050,5885000,10320700,3339000,15496160,13140580,8008950,12508650,11853140,4886000,21107310,12520540,13173400,10696080,5281500,8414875,13259060,8496660,8709375,18436880,12876250,9544050,9478500,13502160,11222760,9588670,17978100,9371100,9244720,6702360,12893150,10168445,11123540,9332280,15416110,8174460,19337750,9872250,11492450,8750680,8449490,14046320,5173250,9831120,10651140,12666780,12528440,13330820,19300690,8155200,13907120,21897640,7676000,10044200,8548080,15741200,12290940,7498275,14409230,10763000,12047650,9378485,12006850,14278260,8288940,9865200,14178675,9839960,5280500,9214930,8245950,7329900,15103540,6322560,10904740,18192700,8962700,10599000,8268875,11395560,8792500,13249450,9305660,9198100,3906750,10748500,16864980,7950320,18646240,9491790,7095250,7975085,6973750,10032375,7812910,8988750,9563095,17651360,13427680,9104275,18312300,9760960,7319800,12167290,11839680,12640950,7832500,11396020,14927450,8261000,8178625,6677000,7041840,9433610,8164875,6575100,14198960,6916250,6354550,7352510,14017800,12288250,9091390,14327400,12401250,7809500,6678470,14452540,5185125,6193485,8144950,5766000,11065040,9121000,9668900,11291220,14077500,10571650,9888000,12985460,12844280,13832030,8792100,10727250,5254245,18163890,7047750,9475100,13107540,5865875,10959440,12918430,14048900,10316800,7831830,12971150,8783500,10346560,13831750,8340500,16280140,17422560,9214700,8237550,10893375,20142850,19704720,8137800,8351070,9522150,9632875,9469350,12116210,9324960,14086140,13306740,7698750,10093170,9819130,9592970,12198380,12356100,6687375,12763900,10078530,10345940,13773700,3767125,8624750,8850660,14237800,14078710,10705950,14138950,10561720,9336800,13750340,7487725,10700200,8931410,13923830,9444500,8899780,12605360,9914760,7954750,13087480,9430410,8183130,8355660,10554500,7557000,10008685,12182240,22916500,7205505,11225380,12010350,11839510,10568895,14814620,6745340,10595700,7777550,9014800,10675820,11405500,9876750,8859220,9758035,9005600,9160860,9511000,5947125,15244800,8428090,13393470,3874500,11529500,10758000,9082000,9315900,8845600,7257400,10751700,8567240,5308500,8765000,3916750,7369890,9640575,11239600,6778000,19200260,4242000,10388375,8254700,9499000,6814000,15082700,10546405,9746100,11447860,9516880,7580125,11373980,12842120,11650250,9576550,9265490,11354960,7815055,10188470,9211400,12296550,9615130,12699000,11084700,6763000,15074080,4969250,8745660,10428000,10323980,4842750,11154910,12754890,6501000,8802735,8366750,10474605,10509330,8090620,8734920,6369250,9484440,9310300,9260750,13186280,16271740,7311370,11653680,15831550,7302250,11904740,9305750,8657100,5601750,9789220,20581330,7725200,7019000,13410030,10199400,18918950,11703450,9735200,10826810,12894500,13208750,5438750,10556410,9163340,7463750,11489580,6102500,13734350,7037100,8931450,10151490,14074260,17529450,21327550,10655980,10581870,15074740,9817500,17673370,6603250,5947625,9593040,20525170,12946730,12561300,8133770,15195200,4746500,10381895,7344340,18201340,9080015,10617090,4575925,9805150,12623360,9533400,10499240,11440690,7064250,16929800,8457350,8725740,6513570,8572425,15493260,9724320,20519100,8947040,9043635,14597300,9310120,7740080,8878250,16677180,14301080,5523875,7932350,8072750,6962250,12977000,13174940,7742000,6996450,11367820,14001530,18598580,11618510,6715750,11844950,11492190,14153850,13483830,12257060,6016875,8015800,11003670,9741520,13626420,7633500,5878000,20738440,8000250,8897050,12114895,9341250,20514620,14687760,11095100,10646600,12872810,12114050,9348350,9407500,8963715,13163050,12654700,8482500,20989850,8275800,13291100,9928250,7609525,15178120,10105060,10225280,10309370,8463200,12871060,14774770,8172125,14818680,20450950,9149000,12499040,10272980,8636400,7499900,12647660,20838230,9329120,9120360,21050860,6185335,8400920,11855940,8972600,12506600,10209760,12899530,2476375,5679000,8020500,8396250,7110600,14158860,14510950,16595470,15913570,10423510,12690600,10606765,12313350,13289900,8352000,11423750,10120070,10738110,8495640,12341040,6248450,8477500,12564350,9304960,10822220,9038260,10849950,8452080,13485100,11878140,10961920,10088450,17858980,9135400,8646380,8576110,8367250,9840760,8461500,10651250,3093500,10646500,12105050,5325000,9396600,6936250,10732635,20244990,12964940,7881135,13460460,13791820,9662810,6918250,15679400,8588630,6890790,19964360,12565070,10586920,9089160,11351890,12761560,8982400,10636820,8122870,9315520,7897470,5613270,12146250,11055190,10434260,9186250,11638240,10388400,12448500,10383300,13800700,6450250,20787310,6481200,9719400,9845950,10084580,7226100,14569565,3574750,8750400,7151680,8528890,8376880,11978830,13053180,4146875,9566290,5998500,11470100,12076560,6794000,8074850,8313550,12976220,11871500,11987190,9065140,9044045,12712980,11507600,19768320,8483250,9343170,7039250,11308830,11554330,13507780,6387040,19801690,12646540,14486250,11677750,12274630,13780460,14772160,10064150,12215170,18080410,17311570,8908220,10613220,8282640,8050150,7439700,5435750,13770420,20330350,8664000,16410600,12403030,6702250,5383250,8233645,8249290,8720250,6117000,10771580,9264900,6789000,21266520,12798800,5643625,2939750,13003580,9718500,9491150,7741945,16766120,6422750,14826000,15199400,10058510,8563875,6036750,13185700,20325440,13427670,16142300,13526040,9573450,9140400,7495700,7415850,10232060,7485650,20234860,10315780,12383200,7415240,3561750,8848105,8745500,11216030,13216400,8227800,8529780,8027460,10431150,8319100,6231125,12197050,11621350,3975250,9455450,5054675,5205500,9212250,6890250,13606320,12802880,12171985,6721500,4703750,6083250,13510040,13840180,13282450,7847750,18531240,10485020,11144770,20586630,5437500,8629750,8147530,11301300,9911860,6537250,16957260,5310935,10576965,12682380,4462000,13581650,7346750,9822750,14101250,9718230,7781350,8793625,5602750,6714500,10948060,5943875,8023795,7587075,7944000,7468400,9343500,12688340,10495250,14229060,11360310,7452250,8196250,8713900,11752250,12213120,8322500,8935000,13358600,6494240,6486150,8745000,14021800,9671160,7871490,14205080,7014500,6227250,7946950,20181980,12695370,8959150,7924640,11867800,12402070,8260400,12069000,5940500,7989570,8791000,10027000,11111010,8599095,6703210,8153390,12846980,7826780,10978140,11802180,8388500,14239850,18299980,4917940,6177070,7671200,6897450,13940580,12370100,14102650,14682580,7400260,10288980,6377750,6312750,4362750,12520250,10834460,9426345,5232500,5283000,10416480,15715370,9179950,17115030,12869560,7030720,8636980,14638800,7279480,4473750,20527770,12387700,4458750,8537500,11552700,13703500,13920600,19550620,16068640,6397000,11119720,11431660,12793250,8631250,18984160,12415670,5244500,10720550,19685020,14400140,10094160,17480550,13380530,16469500,8133300,10760220,10148180,10695340,8882720,6774750,6435300,11109230,14239220,11312920,14495770,9947855,12364840,13683650,9328250,18803650,7581750,12014520,8286250,12194550,14994840,13695970,20747530,5110125,9625300,8433410,6766430,6895500,12651550,9038780,10497580,5073500,10834880,11718800,4361500,19074830,9859360,5265250,7553060,7123750,11359000,9762100,12370550,8962970,10841760,10140700,17959010,17749320,16602700,14980260,11476830,10276200,13737610,11373920,13085580,7574830,12085470,12337540,13310520,13669910,13860650,3643875,7766550,14211850,13231850,9160750,11848520,8561060,8131900,13709700,10128440,19615980,6765500,15388610,14902450,13822150,11319280,8890930,9209360,13217400,20034510,14904220,9721700,9894050,10843610,12286360,13397920,8700500,20346350,9795730,10008100,20838520,12614460,8634640,20518750,8793480,12807300,10410130,11157780,9335050,5913625,14671170,20024110,6474250,19814280,5849125,10097940,12867590,16656560,9743700,13718940,12556650,10453960,4918500,7600500,11650600,6688000,8947750,10858850,9843580,10021800,13091650,8179150,13729040,12477240,9146500,13986920,8177900,10982650,12239160,9640180,7953125,6149410,13060780,10581040,17538420,8953500,12056200,6280650,10017780,8353830,14332790,11670400,11949085,8105250,20033450,6532250,8934405,7818970,6272750,10374210,11081520,9213320,18855250,13363650,6408750,10934170,7016840,10681680,5737000,13668850,6597000,11436120,5046750,14819560,9797510,8188000,20441490,6799000,10019360,8505000,13384340,10851180,8310590,7486235,7060000,10210500,13180500,6390690,7178250,5383105,6978025,12569800,11269470,14822920,13403120,5314000,11584500,12157650,12695630,12944300,7384750,5749000,6063250,9626680,9273100,15559710,9665040,11751940,5686125,11526700,6900800,9824040,7524750,7102125,8901650,6499750,9637220,9567000,9890620,8356850,19297260,10096480,13709595,12364800,8074630,20302130,9494835,8970625,17556170,9860400,12235870,9350240,17180560,12906800,15965590,7443250,5895000,7868000,8707750,11329800,8318450,13009590,8333250,8078620,10674350,22302670,10749120,9575120,7525500,11385450,7544000,12177400,10071110,7922250,7691250,7733620,13014740,18485760,4437750,8047500,5131250,11730190,11679050,6790750,11774560,11523870,6956820,16616430,9606750,6125250,5807250,11805840,13261700,5710250,16967540,5743315,9095330,14826580,11168750,11264700,20697180,6008250,7142850,11268000,11318950,14358470,12173800,9319450,6598000,8539610,10779980,11220930,21014810,19142980,7310375,7506500,13099130,8599740,14028720,11873250,20496430,14203260,5940250,10232240,9037200,13851040,13331300,13896950,7326290,12532900,7385300,10769370,18531930,8605340,10150100,9525100,20734630,7210750,19083430,12572000,11173220,20940460,6965500,11779810,9778110,9773000,12653630,10630800,14196640,12873650,13698720,10881370,11327760,8892625,5057875,9481950,4950250,12993900,6453250,8545010,8725650,10437110,9507320,7862800,12084280,12569440,7020750,6505500,5829250,11719720,8801100,9470340,11813720,19844870,6465000,9207350,10795500,5378000,10030140,9140480,18796780,13444320,11764865,11240520,7670180,8372710,9491300,13852750,9537120,11026000,13158180,6195750,11450470,13763020,12133045,9954125,15329240,14445470,15780550,10172480,13885100,11762090,9315600,13221960,17099760,9692960,7638500,11863010,11679830,14254400,12308520,11157225,9463960,7491375,12863400,8027500,11221720,14893850,9572300,10463400,10475000,21969520,16550350,9871170,20331090,9352100,8588100,10265430,9451250,8010660,9955930,10044600,19459290,12054580,14646780,13874850,8992960,18334400,10223050,10282340,10423760,12320640,7915350,10671450,13650440,12363680,9977280,6297250,11110000,7091060,13161500,14178210,8828350,6553750,10933000,20550920,8092500,5940040,14912460,14471130,15090150,7918980,11248000,15044200,9872490,7359275,12687420,6997850,7738700,21437220,12185540,11224050,13041980,7359840,12501600,6898250,14622250,12996720,11430420,7541750,9341900,8159260,11515200,6420875,9656600,8925160,6037545,10882620,12784640,8060000,16137480,6443000,9960220,10906430,3404000,12683980,8057450,9094750,10011470,6519000,14008700,9562650,9325860,13533950,20707160,11698300,5342000,17193660,17294550,6999250,7977570,8528780,14209800,13026640,10768720,13582900,6853550,10214695,11900750,10309290,7656640,15746590,5829500,12486800,9795370,9023100,10442550,4321000,11280410,13551850,8798750,11813340,12032720,7704750,14395000,8716800,13076450,8863750,10696480,9354600,9850425,13407250,10370100,15982000,11359500,14499510,11955405,7133850,12459650,21220250,12480160,9002750,9967250,5729750,11673500,13030600,20618810,6827500,9338270,12252250,11967520,9868000,10678140,12866800,19526110,9272780,9570490,10132150,12393500,11086380,8820750,12251750,11828320,12704950,11235250,9258310,16018960,11563580,8129650,5251640,8196110,10259180,9663350,11799500,10472250,13491500,11827400,11031970,9964150,10248940,12574290,5159375,4646250,9031800,13180400,20020970,7061130,12813210,10737430,9590830,10502000,8543500,4894125,14248200,3000375,7660600,20591120,11407570,14949120,9163250,3781250,10453060,12435730,11682020,9268680,9879360,15678280,14602660,10668780,12415500,14509000,7341810,10339000,12549660,12680410,13328250,9952680,12570750,9772960,6823875,9188290,14614100,7462400,6930720,17805860,11874360,15941330,5246250,10625000,11781260,12560000,6831950,6000900,14640260,18963740,14507380,7375400,18676960,7941000,12911300,11804935,8191450,12980150,21320640,9898250,9715500,7710860,11415610,9277020,10670850,14217020,8027540,15635990,8008250,11710370,7487660,5452000,12019000,9218040,7731120,15370850,7947370,17340400,10659650,6578415,8656000,6472125,9889600,8920280,10739020,11534600,9409960,13104880,12192300,8932590,10672285,12774540,7087250,10525805,8044160,8913270,9171700,10876790,11810540,16006000,7763400,7522430,7335200,16070870,6860600,11596240,10148600,11851240,18686210,6811400,9821540,14105580,18333020,12916910,5499565,8559850,6641500,6980320,9304770,14874950,6928000,16538570,9112450,10548750,14168130,8402320,2640250,12337670,17722310,8978460,10514930,11431740,7913300,6054750,7190600,5091750,6519000,14375730,11780070,11061120,16025310,6818200,7283800,12496560,7479000,13090350,13651240,15443180,10625200,10569390,10880340,10011770,20139900,10805855,8814250,5783750,20819590,10444400,9827320,12303260,9943840,11141710,5619510,9609040,9743650,3867250,9459100,9295300,6789500,14239590,12856900,9810510,13046310,9729900,3844375,9189800,8446600,12306030,12219050,14135780,11547750,14228100,9456590,10599680,9491000,6972000,7866370,10598610,8930250,7853250,4155500,13171300,10954860,10759755,10995790,12627100,10843900,9733590,8808920,10554810,13774320,17657420,6387750,11667930,13369230,11134480,9553540,15979940,17084160,20119920,10973700,10756350,11779280,8578100,6568510,11541050,5275500,9293090,5769250,6435700,9747565,6870115,7931560,9606220,10854800,5972585,5842880,11346500,11202460,17739020,10337820,9651120,8812240,6624750,12928440,12305150,13404800,8272250,16367000,7929540,5639375,11943500,10893740,10618990,12081890,14090500,21815360,9352665,10746250,12744600,12009700,11510790,10183450,11228760,12723750,9446410,6677700,16586820,6630650,20709050,8148875,7637750,5829000,12051200,10493650,11226890,7466370,18439310,10671200,9104500,10250450,6172500,12038750,8187100,10894470,9593250,7728500,12751600,18815020,13669300,7331750,8520705,13957390,7707405,19567180,14204550,19275870,9234130,10411240,5727750,9492300,5589500,8254270,13791060,12910620,12848450,9243640,21937620,10088050,12242780,10546560,9257750,5340900,21140330,11504330,6859145,5955500,11691860,12752470,16627610,6300625,11334780,6709750,8066720,19888500,11930880,10379500,10408250,14771930,13327120,4484500,8223180,11809740,17985130,15209340,11560690,12289250,10668930,15794780,9404750,7828550,6208110,16758540,14565090,14521700,10051000,10890755,16536140,10038580,9388710,9686030,8217905,8374470,7418850,10366590,9127590,3276250,11894750,9573640,9024860,13447650,8575240,10158220,7208905,6992750,12357600,6461750,5229250,11312450,12274350,7928625,8480080,5572250,15851550,16882760,8840950,8754280,14030400,22499190,19257730,8857150,8555550,7521800,8030250,12505960,19554920,15825560,19494670,12416700,6824750,11731400,18302850,19971770,13914320,11444400,19147580,9522360,5070250,21941710,8812400,5199250,11517940,4593750,18809830,8292510,11113950,14104940,9667200,13743040,16569530,12709550,7848980,13098030,8213890,5679255,8452750,15903000,10184450,13238930,8316050,6561850,5937000,12905750,7099500,10466910,9980680,6702170,9977950,4740750,8758550,11244250,6792750,12439270,10300610,7165750,13038690,17991120,14802000,7803250,8805640,16499010,6765000,7071375,10711750,22043680,8403900,19106530,13677550,5340750,14156220,9404500,14341940,13736210,6577190,8145250,14211600,12055410,21021130,10527390,10128200,14529150,9429000,7910000,10800260,5179875,14195200,20900620,15849980,7019200,7947300,12538900,6607200,11914830,11557700,13252420,8424480,4667250,11474270,11761550,16474980,10114650,5333875,7293785,4905000,11926000,8827940,9657300,8824280,20026580,15335000,7814420,13511380,11466600,12857440,10091620,12419160,10612360,10542220,12567340,12429860,7210000,9038645,10884400,13160800,17669340,11180570,6946250,13014440,16872140,5374875,10171120,13676650,9320670,7987950,4268000,8839880,4397375,4984750,16294030,7774035,5248500,4353625,10875910,13928950,10184500,15997510,6480125,8336200,8498500,17879080,12046300,11270700,14777070,3924125,14927280,14243400,8149800,12924300,12560760,8194735,8024265,9207590,8411400,8986690,13800760,18298710,9236700,7540400,14274450,13144750,16318360,12151100,7245250,18390160,9473200,9623750,9302665,13511250,5943400,9255380,10439000,8364650,12798750,8025200,4806125,9327100,10807000,10751420,12732100,8507750,19576490,20102300,7804500,8984250,11233080,7356375,10768300,13553740,11867660,10363250,18111990,12352710,21276220,6444500,13846950,17586840,12508940,9618640,10241800,10626300,9553000,9906355,9741970,12669300,6504875,12329500,12150830,11412420,10831360,9658000,4027000,19159390,12111940,6085250,7696750,11003920,9154950,9079650,10904600,8546900,8072820,18642910,12261610,13387920,11435335,8453795,7375050,10279070,14283760,10104360,7764900,9513220,8638965,6182600,7549650,10499460,9358400,13178340,8415125,13765430,13829150,11351580,13756100,13667200,9539520,12524250,12290970,10039090,10024000,9477140,10235220,14015750,8445505,10630250,9585000,12930060,6815000,9376320,18991980,8250025,12115290,7375160,9190000,13297100,9835470,7029740,18183200,14450600,12426660,13120960,6435890,13764300,7036460,10847450,14377860,12601250,12140295,8055350,13245480,20180630,11949030,12964240,8480400,6377770,12911990,11434875,9854210,9310600,10810740,14139590,9857500,22199910,6495250,3950000,12493960,19128100,15754040,14214780,6606250,8547750,5219625,14620220,10566485,20623620,22778410,7452620,18686820,9749680,17526220,12043670,12182280,8443700,19462090,8155855,13408980,8210750,13196500,9527840,10682000,7358650,8629140,9802790,10049980,9361880,12046000,12101540,7124500,8619940,10985250,7733125,6965000,17436220,13606900,6857200,7596170,8460450,10454020,10432830,7382320,10607450,17359980,12813600,10956200,14820800,15326290,14459960,11551700,21804220,11646750,3001250,7997875,22918500,19428640,7383325,13172210,9774610,8683125,9400830,13985270,13608400,12713810,10338740,8156380,2797250,13937650,11290385,13469950,7233000,13465550,7688050,13346190,8340000,14542670,10573780,14388290,6380465,8354290,10978600,13293200,7243850,6161750,12458150,7082000,8981140,10982180,5720630,7006800,5821000,15845620,12713420,12411950,13930950,19296480,9953250,6530500,12247960,9492280,10648590,7855000,21143730,4345125,8779845,5976650,4840375,8350550,13321150,13583660,13659880,8291600,7279125,13391620,13697100,16453640,11777200,9510440,13308950,7049500,13283040,14006950,12198470,9106920,14152290,9880180,8522150,13083950,10363390,8802450,6307030,8062500,9081450,11517700,12582025,13124770,22319600,7355250,13039560,10105720,14198300,11867200,12338765,6235675,12220490,14415250,6816270,10188250,9346520,9238625,4546625,12782330,7212670,8646080,9642250,4408790,3250250,11638340,13131500,7018200,9626920,6840500,13754660,13479660,9625250,18428120,3602875,10491150,6993500,7222220,5259250,11045500,6791800,13179060,20613320,9350120,14102030,14403150,8990700,8538500,8724510,13968290,18125300,8065300,8017830,7586300,7892890,9864980,4771750,9345250,13307710,14666960,7096350,11517200,12291450,7751590,10004420,9579340,10525540,14376540,6042750,12343180,11229080,13018400,9648350,3540750,7216250,10179250,12053600,4555875,8558785,9241990,9170500,18402320,3120000,4158500,9235640,15340770,10446850,22027780,10506840,10512770,8534940,9239640,9429000,13251250,12202770,11874300,8987700,8134610,18917730,7539800,6564625,9753980,8261100,17396720,13286630,5923125,11624150,13630400,4310500,15381325,16043910,8319250,6904000,12957140,10161065,7342750,16752260,13969720,6631500,15148940,18722090,4076000,8431750,11069780,7039700,11991960,8693250,9745200,9750760,10770760,6705750,15461440,13744855,13466270,12063670,6581500,7193800,7610625,7022890,4996250,5438735,8052400,15272340,11946470,11760250,8372750,17105720,9321900,7321755,10149750,22852890,8630100,9991620,13904760,10881060,13450990,15727600,9603110,13746840,13128785,10225500,8509625,10006870,8007290,6873290,5369000,12248000,8448350,13784930,11680440,11038400,11320770,8994000,9699500,14465005,4663000,9998750,8604850,6125000,13372090,18712070,22300300,15251600,8262630,12012530,9622550,20938520,9429860,9766450,9375550,22712170,17336020,14366450,15539100,7038165,9492700,10905500,21875100,11905350,22149210,14608180,6646210,18073600,9367960,15601870,7750000,19678440,7895235,10088000,22519520,13991160,15043490,13627500,18438250,11868140,9775540,8280325,11883360,8511480,20420270,13039760,14573400,9514610,9081775,9912300,7061080,8485200,13639800,18853070,13510380,13663850,6192250,7094000,12588460,10755300,5398500,21406480,8553000,18115790,12436750,11915040,11293450,10694910,13022050,15778370,9460875,12967200,7557625,7852185,4198000,11518200,14407200,11206050,12206870,7807300,9927740,10812320,7862110,7884540,13021950,10248370,16349020,8328620,6497000,13898300,10847700,10415550,7379750,13839120,7734200,12116010,8241375,9044500,9047980,6546625,10847000,8799300,17442610,5702750,13714220,7695240,7802500,10858770,9009200,12564470,8813065,6207400,10411700,7195550,10893960,7321000,12867540,21809430,16495290,12295050,10843350,10009600,21544930,14637520,9255500,11848470,12078690,14414800,22459910,10587750,11333220,19286610,22186250,3247750,8111250,16889580,15356550,6087100,14179360,13753510,18588600,13367060,8936650,5140750,6784000,14908785,13338780,17790400,11855350,14993570,12416270,8516690,6074780,10508500,8802320,8391470,8576620,13659200,2156875,7758500,14281030,13050750,6274535,17398940,6473180,13877710,8131700,14398080,9307200,10940805,9374280,4873750,12412600,8640800,11182520,11847900,10651460,10918760,10191950,10813485,14703750,8243200,11727250,8905050,11457330,15389035,14393810,8452000,7034750,8944400,8723530,6086550,17645160,8267060,10256260,9563000,9930400,7811540,7811430,5332750,6445810,11543750,5550090,9606700,7866250,11604220,8777950,11251850,19730040,8393515,9468300,15773770,11157010,14086360,6709500,15532620,14804680,9222850,4288625,20657270,7852000,12450220,11284500,9123700,12030980,13363810,11098160,13176350,18426920,13461500,10742050,13486940,13820610,14837130,10299920,10031100,13503490,19959560,7716505,12892760,7812550,9586150,12195890,11574940,21194540,9782000,6633410,8563860,9882100,17622540,12823400,12511230,16197860,9311620,8090500,7589010,7101750,15340410,11040310,9287430,5100250,14088220,15569210,7545650,12123360,10622400,13355600,13191580,8743700,5742295,22022260,10617420,10908000,13640240,7675500,5801000,13258680,7676450,14603420,12009660,8545605,7818500,11935020,12569065,19090950,7740130,11074760,20823790,12893440,13575290,12544800,10458600,7737625,8595800,14166140,10209650,10428940,9987005,10554000,8739100,15479240,6434750,4706750,14419380,6898750,10081500,14046370,12120330,8937450,13758930,13205875,17061540,5624750,6368000,8019500,6618400,14878750,9625180,5546495,11997230,13275240,4398625,13296730,4479770,11155480,10279750,8984050,12133700,15185240,18670480,7385285,13112560,5858250,6860970,12677940,7779515,8721550,13776050,8134850,9281280,11399205,14906280,14646760,10019420,14547070,15929660,7142250,20555760,10584775,15815700,7414265,7662340,14241820,5125790,10084320,13215865,19571820,11256610,15556750,5903750,12416100,12554380,7567040,8517175,13209090,10556375,8504780,10245090,8307375,6524930,7171850,14686600,8427850,10676820,19171860,8466820,9379310,8410150,12430300,11139700,6304750,8013720,13397130,9910835,9536960,4408125,8270600,9801395,13852380,12099740,9634250,18624480,9008060,8586060,22000360,10441640,7775300,9248500,10620750,13355100,8569350,19635040,8420300,5859875,16053550,12303400,6198000,11010960,10544750,4678720,13042550,12666980,10373360,8514030,8720100,7187570,10968170,7243250,8665540,7898250,7859750,6059625,10084565,13362600,6857075,9955700,3807000,9020500,5500000,8616750,9475900,10917740,12196780,3577000,11019000,11217570,13037450,12149050,14109250,7439500,13277730,10180900,10905100,8513600,8538070,12739970,8841600,10180400,8637740,11197455,12388350,7441000,10950540,11338250,10737270,11190500,6951120,5628000,8208000,12812990,9051140,18681200,9220450,13316650,10039740,8055010,12038110,11985700,8345500,11286720,6754500,13245700,6519250,13986310,12268750,11050340,12035430,8974750,21208080,3928250,13903480,9900740,7329125,11060050,9087160,12026070,13547460,9574950,13613320,14480950,12649650,7689500,10864880,9683840,10676510,6066000,17471500,8087365,12837890,5038250,13099400,11575870,13502140,14121610,12643190,11333130,14020280,15850840,3891250,14106990,10848760,10736530,6683750,8969400,9117330,9132865,8325850,9155320,11606300,5464000,11926600,8669050,10285360,9213320,13308490,13089560,8611350,9952510,11505040,5136000,7416000,6081000,14402200,11863790,6997500,17248780,13518220,17934280,12183080,8532500,10569040,12021160,9000305,12412950,10281375,14773100,7178990,10970740,8270125,7514750,9737060,11665400,5441000,11375820,7697920,11809800,14276060,13888700,11863220,13785170,14159480,11994050,13266650,13597890,10431690,11752460,13945940,10699280,10895000,5882500,13990830,8344040,10773390,8320290,4243125,7978600,11117625,8991380,7081160,8269500,12397590,5716935,11148980,9320800,9282050,12753880,14246650,9902600,10254500,12428040,13594630,10774250,13324620,14471520,17242780,16814260,12639580,6642000,13049510,16835310,10371250,13805110,13975040,3454000,16693265,14154820,14691200,15704500,11645200,7284250,10169750,9252340,12308240,9689440,13280420,7603010,10631860,17449820,7904525,17187060,10137210,13206150,12792980,8690980,8878740,9629850,12919750,12347950,4627500,13822920,12072650,11270960,13957610,13356200,14477850,9077550,11998010,13942350,12941380,8598500,9200725,9393000,15122540,9737150,9241670,9688300,11630020,9301605,8292190,16300260,7525375,6911070,10563700,7693965,8418500,11516250,10567050,8939050,11648840,8883750,17363590,14477820,6399750,8348770,13764960,3210125,8889850,9951030,8776500,9468000,8350260,16354300,7957500,18402940,11820720,13761350,11939850,11712660,9225240,5711000,4876500,13925230,7507375,13545830,14866620,13376150,11819950,12495925,4182250,9064800,9995770,7377300,11277710,9643920,8756780,21789460,13906030,21810920,8484620,15494260,8387750,13435000,6352250,12279230,12885880,10764320,8092310,11014650,12334760,13267150,8414700,12304750,9448455,11284700,13094870,6353750,13331980,6678875,10065600,9150510,12232800,14103230,8957390,20241530,8080925,6567375,10335050,9045605,13234330,5032625,12724510,6888450,11411760,9965620,7651250,12938720,9946290,12123250,12039380,6776450,7193030,5272250,6252365,11840340,9890560,14485900,12359320,12716150,4982055,20562600,8732470,10754410,13168605,7675750,17720900,12454750,12735905,6997335,9983410,18546530,13211540,9808360,3102500,12040960,11963590,13478895,10499650,11667270,9022165,6206700,8287180,13442250,13113330,10095000,8597500,13371220,9268750,14397160,12339780,10236960,8566750,18658980,13186470,9292000,7202750,11338920,13642920,7174375,9630040,8203665,8661320,11548700,11320960,15503650,13606450,8423350,6061625,7688000,10958500,6237500,5426740,6752540,10765530,8871195,10802190,8917740,8638540,7922150,9711430,5330500,14862430,8901750,20362800,15779500,11274750,7999750,7729125,14411150,12632900,16497820,9847570,10794060,12171140,11451250,19939120,9778420,9045250,9758600,9879950,9795980,8296250,11295000,14962800,11546330,10173350,8638785,12866410,12025410,7550250,8421940,9341380,14203140,6313250,13627030,17360470,10458220,11996750,9162950,9701600,8527375,4517000,20487250,7774580,8637320,6374265,10567300,12368790,4798625,6611365,8195220,13553180,12879720,8418360,9168580,3815750,13567150,9607900,8269610,13154100,9455100,21686920,13801050,6348750,13040160,19761890,8854790,9955440,10643500,6666735,10589000,8983700,11073340,8454860,6802150,7814575,13941590,10468580,12616820,20982920,13788080,9985750,6660000,5355750,16982280,13759280,12840300,10243060,11029700,16174720,8883050,15476650,14093160,10782380,7839500,11531000,17240870,8916410,10931250,9103800,11090200,9177820,10056300,6560250,11704830,9837875,9879040,8572650,6576375,11046310,8242250,10571990,6709750,9817160,11513500,11348140,20272170,20656290,17670400,11583300,8033250,3331750,13971130,7693740,13118450,12721750,9480000,12046250,6050375,12924800,10048510,11770400,11381360,6224875,10890050,10882430,10560810,5326500,7341790,18911110,18011000,19789040,14139220,7926700,7484395,6855750,12904650,13057270,17357440,6916665,6652020,9653285,7603375,9790040,7629750,7014250,4661125,5147305,7374500,10235550,17874820,21217800,11559880,9464500,4491625,8803420,13245710,15003560,10671275,7871720,14429740,10185610,12946500,10001250,16935440,9347935,5434250,11663490,15589440,10337000,14200900,13709340,13685190,7953250,12332820,22053480,7356625,7338250,9996000,6849125,10462500,17523920,10010000,14873340,20461220,11231390,12711220,15010890,10139270,10007800,5636000,7877645,11716020,3226250,9368650,7074750,5587150,16593240,9478820,6356125,7145230,10626305,8744875,12335200,10284000,14214940,7727410,5564000,12391870,7976295,12572700,9801040,14917750,10362620,6503500,13864450,8438625,5818500,15472200,7883050,13197400,14093240,9869710,11786460,13009230,6251000,6821735,6685100,3219750,14844980,12406480,9094750,9040975,8743750,10976510,10106750,6996125,8469580,10148300,19240040,10101200,11772340,12492400,7131000,14392520,12097820,10163940,10780920,12756200,8033695,7972690,7197800,10439690,11827040,9045250,9871800,10994850,5347250,14737850,7335890,7952375,22633000,8442110,8214800,13921240,7520335,11212900,9651940,16071420,7700295,14057110,10936000,7593850,8657220,9390500,14415540,14408010,12364620,10563530,15399860,15793800,8078550,9632330,8718400,9155815,9073040,12578650,4512250,9484000,9722500,11762140,7913650,12063380,4819500,13870800,20817260,6895000,9555750,12076530,12439640,9915110,7074750,13180810,14344210,6333495,10455360,10302000,10911000,16384220,9647855,13822050,12754380,19627640,12542950,9365500,9406050,6755000,14345060,14717440,8255500,10252060,10727975,8100250,6286255,8779820,10366390,15417080,13511550,8761750,9451780,20999330,5100500,6056500,9333075,12351340,14516600,11238050,11167270,9572950,10647205,7855000,21362800,16567500,8812260,12442340,12885120,9148120,7954770,9736540,8570300,10525625,8978750,8289150,11177540,13654950,8586625,12110770,11095180,13244520,12591440,13554690,6632820,6662000,6624250,22124730,5782500,11468620,8229750,11374070,6057375,13385355,11350850,13948580,5815125,9758650,10438400,10448260,20152800,6973595,20703290,6389500,10374040,12026900,6881585,7793500,11483350,11341450,5477875,7468250,12654180,8580950,7088700,11254700,7150185,11175750,9416330,12266200,8901800,6587380,8762710,11582700,13039650,13679850,11918620,10092000,10178500,7484250,13851000,6590000,11395000,11050140,10699500,13712780,12756380,11573840,5094500,8837090,11346080,12427940,9853200,9546450,7429230,13378150,15546980,12224420,5745250,6969750,8934470,6658000,5101000,14394140,8022500,6924500,7720300,7640160,14791400,14095950,9429275,13511360,11131800,9508930,3863750,12943320,17224100,10688640,7397875,8852085,9771780,9270980,12128780,7538000,10670035,6906295,9750500,9057500,13003330,7196210,6167000,12958620,13028240,13361380,12537750,8712970,14901220,11574300,15032380,16295260,6040500,12543380,12428900,5015625,9899050,5770875,12053310,7706100,6472305,11829500,12078350,13081070,9060500,12827050,14104610,22078000,22104600,15965260,6732825,5553875,8715800,15344360,21008600,12386240,6810000,14085560,17695060,3524750,9540370,12389840,7741750,21330680,8967600,7979400,11129980,21067620,12403350,14000930,11160095,18143430,10033660,6176500,12504530,9801480,7167380,8342150,7197750,10132530,5980500,14529560,7265010,13450300,15442540,11613500,10895520,13672720,9684200,12545220,7938700,12837050,12124700,9582140,14246350,21735940,12305480,3914750,14285850,13938520,10686720,12432000,14546520,14155830,12535180,9299500,10726300,10788420,5171375,21122200,12735120,7852070,12207750,21562790,8678060,6493670,7533450,10237660,9364090,4926250,7701505,12078770,21329650,7476500,12815640,4546625,13925310,7242500,8416200,9852290,17131960,12069180,4944250,10441050,6263750,10058430,17592540,13976300,3947250,11696200,10515160,10296250,13979190,9404200,4425500,15667180,10093760,11357640,9706720,8419850,13170800,19830670,9409880,8397025,10241290,14256340,9553870,7559125,12368280,8322920,12694600,10862580,12973020,14218350,9103100,14579200,12503750,9459500,18770340,13484650,13699490,10768375,12199430,10190000,20628140,12911530,7478460,17338600,21858180,11514600,9708700,4606500,14832770,8989620,12514000,11531350,16026600,9741000,7629475,10677650,10178870,13340400,12863520,14482020,13484060,12209510,12669880,20037030,12080690,7810830,9030250,15110580,9316900,7066280,5976000,9785400,4190250,21141390,13523500,8816220,15524880,14162605,8109400,10666560,11085750,17144820,6201000,7214000,12900770,7745700,9799440,8297305,7040500,12285100,10443600,11325985,9664460,8159375,11825750,11402380,9318280,16859010,14072760,9508790,15030780,7135990,9314850,13534820,12484960,19021940,9732090,11072500,11127180,3990250,10313310,7350500,8336390,14025290,13859950,7824540,8447030,7441250,10320050,19633070,10477750,8440180,12947100,9701100,10829040,12697830,13138550,6527250,15277200,7393940,13892720,9077510,8687220,10562850,9656875,10826770,10503250,13402700,7230510,6922495,9059580,14538990,14554600,8734350,10983560,7058310,14465540,12255910,9556640,5955500,7078720,11200200,12144500,13871280,8004510,13035050,16174900,12310100,8874700,8071050,12593000,23247590,9255095,11035260,12677420,7365020,15492080,7916100,11573840,5781750,15769700,13208200,8563750,14272420,9689125,12177750,11285250,7051750,7870150,11718530,13055160,10422340,8809180,7062500,13430730,15163850,18976810,9524800,10415200,11350430,9641790,9038500,10122740,17542110,5950375,14201380,12316440,10714500,13458750,14405060,9171900,17545620,8157710,16440220,7287735,5207250,20559960,9945720,16947760,10940600,7084250,13158410,9892600,8728800,20402870,4517000,7917300,9786000,13979000,9673210,9824900,14358860,8408440,6590550,13730250,9688320,9903840,21844070,9446220,7768750,10011600,11778850,9786440,11930880,9185320,8756250,7827000,11487520,8072250,8929390,5994000,8929150,15777670,3452750,10170565,14299560,10121570,6614250,11620880,8551500,11365900,6849000,10007400,7838500,11401150,7308060,11859315,12501250,11478110,12316650,7677000,18233520,16243990,10840625,18310270,12177140,11146840,8925600,13438040,8327210,11683630,8227170,8269700,9108940,13858750,10638400,8082400,12106760,12415260,20509480,12809850,12575330,11409485,8178250,14083210,11411380,9462850,17253540,7864100,12371480,13989080,6544250,14832480,10542660,8426070,8661120,7924350,18787680,8987500,13053100,13868440,8854370,12571020,8702100,8911250,10846380,9550950,22431260,4704500,10386500,3029750,14852210,12836660,9622080,4342750,6774500,6397375,13871100,9962560,12064300,10974200,12570050,9798850,8602800,7313720,5449625,13397330,4667875,8885505,7681125,16959080,20175500,8968800,12539630,14421410,12858800,8710250,9638990,15324610,8510250,12821435,10932200,6309980,8439410,6454700,16485600,7850435,11286200,9033320,15132260,15023210,12000450,4204000,12772400,6088870,12123800,11207070,8485500,10810090,8627495,8271200,7903000,12303600,18896300,10496550,12826140,6511000,10063000,7575000,7182160,3992000,12429230,12994530,8836970,8391010,9184130,13867560,11866220,12526950,13457270,6044375,8939375,12490460,9231950,17492740,13890750,15136680,7420660,5649250,12940955,12599400,10029280,11096050,13479510,10884000,10868500,17961120,11642000,15488740,7887730,12244540,10667920,8940790,8172250,6652125,14449620,8590100,9485505,11417640,13745240,8858160,8086950,8506290,12844055,6002600,12596710,17603160,7604205,9330460,8283610,7451100,13835200,8645250,14547240,10432580,9393450,12196750,8424650,10468250,14373860,10526040,3999250,13043320,14333470,8334330,14274180,8813250,13855020,9238375,10160800,10116560,13562340,8197450,6873410,10626810,9462850,18235960,11243310,6282125,19041320,10151900,12758250,7455000,13259300,6114295,19897420,10382350,14990730,7419410,13265120,5133330,10920230,6686075,4943680,8052900,6609500,10885530,13623940,11361840,7045750,4372250,9298860,12114410,9409300,8195890,8179590,9079950,10734750,5716250,9840560,11408210,8072750,7582320,14787965,11793720,11110165,13464130,6958750,9583400,13797670,20542790,7495030,8088000,12538550,12419450,7643550,7018750,8445960,10437700,13494580,8298710,10607620,6155750,8696375,9387600,9776410,10569880,11690990,10158300,14741440,13460520,13827160,11469350,10676410,8299955,6830600,6960000,10666520,8925995,11892560,7906290,6579195,11701750,9767030,12227500,6410875,11076280,9292400,11139830,15990020,7586000,10904100,17489700,11401230,12373200,7877250,9767120,9258050,8136645,8000150,8358120,12153420,4864750,3717250,13839900,11514650,7497100,8316400,5237125,8460450,7428250,8209950,13137420,10708580,12997600,11302520,4642000,10260000,8120800,5623250,10280800,5798500,12197980,14238900,10305500,9402450,8687250,8427650,9524740,9819020,9017500,8899375,9886560,13164420,15456650,8397000,7626210,11994130,11543750,8653000,10056950,5455965,4674000,11692000,10790770,8894000,14263020,12162650,9878990,9459475,11337335,5301855,10163100,9892565,14753320,7137900,9150280,9127350,7482260,8640110,8259010,11899860,5323250,6614000,3189500,13938740,8263500,4937025,12502800,13554470,9347000,5822750,11726550,22686330,11398650,6142750,6020125,10208460,12204650,7370250,9613940,10436115,11837500,7775990,12318550,10038630,8346000,11569710,8672000,11217940,5425250,13347960,6629690,10757980,18690080,13638900,11881010,10297500,11544130,8947500,7399625,8815630,10977400,9470890,10961500,9817500,15195150,4678875,7976000,12336720,12486170,17101580,20151580,8702510,17876680,4555000,7130400,8469500,12511690,10559330,9696550,11015000,7191840,8620150,8836310,5852250,6843000,15673080,14483410,6804500,8380775,8165230,22201820,9311100,16377280,4737250,7446000,18554220,10538280,14468350,14032000,20551520,8819440,11935150,9092600,6390000,10449500,12142520,12115600,9386685,11581500,9791680,13144050,9283260,16515880,7079750,10253410,14256100,12493850,9489290,8766600,12436280,18673590,19369040,7582840,11750710,15247820,15310800,5180000,8033250,12871040,5925790,7036410,15676760,8285550,18293830,13876620,8142550,10353315,6878625,13456660,10588470,11346500,11642240,8005310,22619470,7828105,11077770,7584040,7387600,13370400,16094990,15030330,7666980,16918940,7732750,12231750,5283250,9570520,9842290,11064550,10706080,9834610,10980150,8935900,12089100,11966700,12755110,12617700,11872680,13566940,10080770,9914650,5352875,8499600,6221000,4591875,13331980,13264000,16625090,3741250,12010860,12432100,6421125,7649800,7119000,11187900,12673360,7872500,14115670,8368990,12099995,21252230,3833500,13463390,6468090,22007470,9284180,11050660,11633740,8061375,12145750,9221000,16666700,7685050,9188710,6479750,11174665,9120250,14289740,7240500,7935350,15093640,5754250,12021830,7537975,10854110,15603340,10636110,11643180,9577000,10916420,6235500,11827050,8931100,13510630,7628730,8287250,10381640,12556130,19978530,7363600,7759200,9160100,15053510,12555850,8744300,12212000,8975540,6152500,10831740,4626250,9942750,13038800,19467250,7056300,11948330,10660400,8361750,13175500,6031500,7478750,9780000,8614150,12952820,11938300,10942360,13534450,10707680,9497460,7575380,8458500,7625250,11709450,7032250,7756750,10516450,11832500,8170290,13940820,20387660,11088470,8865880,6243300,14956820,9717300,11834440,9929000,14047140,7180750,9522210,7730470,9000320,13399250,7320850,12035150,4505500,8487410,12763700,18543840,8965750,13378620,13199950,5633250,14416660,9422000,9089140,9681250,8876760,20003050,12334440,7558000,19839060,13570940,10341610,7007250,9967750,14721720,14052490,8177250,9213250,10820520,9187560,14124700,9886000,9500250,14704500,15237150,8987800,12990820,11062000,13472800,8762095,10357920,8614330,13475870,9080550,21530880,8920800,7870685,10246160,13217550,11265800,4168625,11001750,9226180,7195550,18365420,5648000,8992520,10485480,8001610,10138550,12529240,8904750,14737720,13798400,14615700,13495120,12034000,20334690,10781300,9512550,8994500,9354900,14830590,10195310,13027020,8602280,6515045,9749000,9009500,10873880,8017350,8474250,12505440,8567050,4256250,11133440,9884750,12443800,8445450,7387625,19848170,8224000,13473750,8728635,11781050,11739740,12613410,12656590,11585000,8474920,8965500,16077100,21750600,9818010,16196760,11547935,6690720,9755310,9991510,6909125,7065000,12514070,9779750,18610560,16478960,9356020,5576560,10214750,11046700,10753720,19240920,9715800,7638500,7955250,10897710,7877290,12781400,13572840,9053300,12999460,12590750,6830000,11971000,9832750,6249500,9302420,15931810,10605950,15089800,8802250,11659850,8713470,17426900,14480160,8860120,8461750,6677000,8967625,11347040,13461540,11289880,19959060,13381530,13522410,14376860,13937920,5448750,16246070,11077460,8834250,9446200,12196510,12382360,5016625,13081220,4521500,17812120,5162250,4485750,13849520,10753200,15722880,7028960,11095900,10560230,10728800,10609450,11415250,15598600,7812900,12045160,10569900,5561250,11671660,10133720,10119880,13933850,8222000,22593290,9652510,8581000,7605945,13129250,10047540,8911850,13874910,12798530,9003860,9029500,11570100,13902360,7575500,9150230,9893420,7121000,6334300,8739135,13390780,6386750,21165570,18055240,6501500,12583340,7112250,10983530,15728210,10578000,8425000,11541320,7865000,7269300,9801720,8896740,12311250,12256520,6583500,8557760,9440800,12558620,12074700,8299100,8434850,14038465,9729650,12627130,11905180,8182525,7704145,12952940,9255790,3974000,9477620,9318660,8328830,8358250,8748900,6030000,11227800,11132540,11045865,7561350,6433250,8352235,13025840,12017530,12386540,9938250,13774720,14042030,11697500,8116035,12584475,3953125,11637200,14013210,12525300,14064400,13063900,15120240,11354230,10728940,7851840,8545660,16549820,12913500,8829350,13875150,12610500,19359180,7368100,14029100,5028250,6321500,5856595,7825250,10708380,7372180,21512830,15533370,11371920,10388980,4762750,8689410,10790620,11481960,8259750,9346410,20841430,15118500,15202400,8628250,15486610,11377000,5378000,10334640,7774950,9235150,9266600,9404600,6771500,15311500,9389920,11948440,12129270,11681650,15224290,15490850,7608500,17268380,7500750,3608250,14019480,10283690,11109840,21350340,5582500,20231160,10770140,4664500,8086750,10049250,11237140,18763360,10088120,18286600,6956750,10312400,5699500,6036800,10145540,7387000,13073340,11494940,12383920,6624750,15087520,10295890,15414900,8172980,5360500,6613250,13250400,12829750,10724600,9524080,20283340,9427130,21340820,8547800,10412770,18197010,6350490,10104040,12336310,10978335,6721750,7031000,11925160,9732220,12787100,7242250,14635980,20581260,20600300,4456285,21744380,13342960,16063820,19151250,8817800,8239330,6946275,7215190,7774000,12369320,8632400,10917620,10107150,16686780,8051490,12493450,9598800,5644750,14849300,9789995,13708870,11709470,7840470,17735560,13737660,18257260,11711950,13840875,8747420,18127850,8572850,8882750,19436960,20421310,22499550,5710250,10839370,10249920,10813000,7283940,9423970,10222950,12914980,14057920,12498160,19030440,11934800,7141125,11734800,9719120,13281650,9512350,22401070,12616740,12631140,13846250,20695180,8121150,11205450,14702890,13177330,6805500,7148255,8371810,14524030,13802880,7945255,6628625,5574400,7900250,8621960,11845200,9516250,8558000,9789500,8383570,12136090,8905710,15165030,8905640,5623500,9962690,5109750,18726320,21198330,7132750,13575070,13267610,9605500,8941450,9784500,20399250,6226140,10282630,8202120,8634900,18792260,12288650,11311420,10236350,13800280,5844625,11853530,21336660,6620420,17976550,7681650,5358500,10369970,12590580,11217480,7204440,9387330,12992320,4513000,7585000,12605100,5447000,8024600,20203750,21006920,6374000,19430380,15140080,9966200,7729875,10175500,11978250,13622050,8960460,17542930,7489210,7688390,9951000,6972000,12547180,21926630,10186950,6491375,7676730,20560910,14367780,6927750,15502160,13780420,16234440,13926940,9660660,10621695,13104880,6787250,9812105,13836800,5236000,4941000,10072650,19103360,9324040,8543280,8929340,13082710,10738570,11651505,8331850,7319850,11543250,7299610,8617960,11842250,7516880,12344390,9455790,10908570,15256080,8688350,8177125,11546650,12734420,16129140,20889760,11511100,7770395,16838870,14602040,12703130,8265980,8358575,10918260,11950360,9084140,11278550,7168585,5255750,8446600,7791750,14993670,8742520,7866010,8847900,10392560,14309040,10032310,20007810,10327100,13239280,13510550,18132160,11818860,20990270,12184280,6660500,13690650,8169350,7102330,8425520,12732500,14814550,6059870,4188750,8536600,8359690,10972000,11793060,8083950,12840250,9392380,13223000,14328620,15189120,13715380,13281200,11316450,7525650,7413750,14008530,9349850,7527770,14962620,7629750,8096500,9354620,11548600,20686670,7238630,9814930,8052400,9866820,9161750,6076595,7001750,12089360,12814080,6179750,8523750,9940500,9975260,6934500,8826875,9751820,14441850,13641050,12728180,10386800,15740140,13952630,10012960,13723030,6034000,6866800,10009165,11350880,10005620,6241800,7754200,13752850,10074070,12152660,7568500,10574160,9966350,9765250,8595550,9000960,13214700,11037750,9168900,14168750,7959100,15421030,10698900,13955470,12661850,10360480,14531570,6416600,10529400,7456590,15062480,12759490,6831380,23314580,12310870,15147490,9400670,12827720,14299300,6803175,13409070,9034940,14279490,5693500,11028940,10742130,7778900,9674790,13520850,13576610,5164250,18829680,11896620,9966750,14404780,9738300,13383450,11472860,12148390,13491940,9378105,7705900,9540150,15000180,6801500,7829240,13464510,11553400,9544150,20497670,10637520,10915660,10013250,10199620,8154400,5489750,11632500,11056500,12113600,20654230,15025660,10991250,8934000,11597500,6437350,4004250,20684660,3267125,12402500,19124310,12019650,13476000,3793250,11011880,9006900,17076900,8799000,14217890,7347950,9020160,5093750,11301650,7685250,8380250,15880930,11391530,9696120,9020650,10008525,12129780,6765500,8847850,4577750,11679950,10010430,5890500,6918500,7945975,18604220,7358760,9435600,7819750,12536520,5430500,13241770,12549700,9317950,7730750,12731260,9871100,11325590,4315500,8958560,12133960,22217590,4981250,8568240,9303620,9890550,5995375,10332200,15899450,7769980,9414770,11400820,20602870,5488250,12181500,11336600,4049375,13033360,11784400,14197950,5332000,9654890,9732850,11240430,11566670,13675700,5436000,7686250,5254250,8583250,14727220,20288980,13088250,10622100,11374960,6146755,10718100,13026890,9505500,5709500,18576840,9012665,16434500,9330090,19002540,10377680,21447680,11475260,11455900,20398010,8258600,10217940,16595430,7161000,12952300,8936750,7085950,12498810,9552295,8022740,3785500,6555750,13468145,10157300,17346200,9060600,12043540,12733640,10354350,17155600,6184500,23407860,17593940,6100250,18457180,7814500,11226950,5874250,9688485,7999200,21770500,7618500,6762300,22726060,13255480,11913820,7169720,9094300,8988520,13912330,21104380,7882680,14657040,11097000,4788000,8548150,7174975,10573610,8346035,11716760,7130000,6117625,10979125,13635670,13923340,7234950,16473460,11230600,5752250,6980335,19260550,7044865,8655900,13982900,6986750,13891800,6340500,12053400,21283130,8824900,11950520,9892670,8116455,10161000,20329120,14488580,4980250,6059010,19125010,12089580,7270375,12774630,12530800,9774800,7995545,11121130,10335130,3944500,8032400,16444460,7734500,13515920,12508550,19753360,13926830,4828750,12086610,11443980,9685425,3968625,12121290,16152680,9060830,13426800,7662250,19697720,11604630,14885280,11294655,13531290,6822110,10070405,10189350,8852535,10611070,12763380,9079875,9318600,16841700,9593020,10706200,8689650,13580180,10303350,14645650,12450610,10995190,8578170,6212280,13027180,19807800,13746750,8755610,20940440,18098940,8487780,18483960,14560920,8540670,10937450,8642060,8798650,9615620,11812650,6348535,9051580,6725100,9467250,7968450,14686020,8254510,17560410,7300250,8291375,5076885,8624170,8399365,14868160,12917000,9052280,9364825,6454125,12109340,8701550,10892720,8566460,18179660,11265840,21660460,12096000,13901150,5710375,8232600,6189750,12188020,8059250,8409000,10233215,9283610,7603540,12303350,4971250,8689250,6457750,9531325,19642900,7451850,5734000,13133030,15108770,9671750,10173430,9869950,8326585,9896250,5736500,12368750,8862060,14049630,8600300,16243160,8110160,8389450,9085400,8564170,11447880,15397020,8704550,7197730,10851750,7145500,12492250,4770810,14956290,19477760,19536370,5813750,7484785,11164340,20626490,10291500,19954710,7542800,8677460,8937320,9860700,5412500,12548800,9787650,22579530,8168160,8924700,6478250,10113810,9573230,8896420,7794500,7990550,7686500,20016180,9810880,14705880,12522140,12718400,12083500,6518000,20460930,7203000,19871700,18316390,9815100,10001300,9588000,6646610,15596520,6957500,7057360,8676350,9691680,13921280,13449750,12161870,11157530,13547020,14034060,16315140,11119250,19775040,8754980,8429640,18076450,12776550,5742750,6988500,9941220,12732180,8688420,8191250,12085000,11740620,9341570,18758320,14556550,12893650,7352780,16291000,7975350,9864800,11713120,12755280,9987140,9198650,10514440,12090050,12964760,8889360,8216980,14844750,10644170,7277375,11879730,10849240,10504060,10989500,9182700,10960120,12968400,9208160,18096490,9191250,14673210,8394250,8993590,9452650,10094760,8350380,9288000,13668020,14412320,16222200,11657540,8444880,10029650,8844000,18035580,9102370,11199750,18657920,14647600,8977940,12878485,11443800,6253350,13470470,7282000,11486650,9295440,11395530,5698250,12997440,16470640,10311140,8521180,11370800,13866780,11051205,9449050,11941410,5811250,8209450,3081375,10206440,18352680,7482800,10512050,8102500,9822520,14365020,10771100,10994200,15564570,3948000,11327800,12929130,12606890,18568580,9313330,15246580,19110170,8379110,14917160,19824800,12746690,15181250,11444700,7184600,8416200,12103000,9306125,8929050,10308500,14077750,11008020,7577590,7279250,8224125,9410965,6700125,9000790,4432750,19622340,10443500,18171220,12560200,9146050,13719580,6626000,8737670,5539000,11861100,10039720,21077760,19147860,13713910,7443750,7034730,8840300,14265360,8439000,8643590,11356690,14985280,8394815,9622650,9738500,15242220,4389500,11597050,6139750,6487600,9545390,8636890,15505720,13263370,12834440,11780960,4877500,7539000,10841340,10756700,13144990,9216160,9695260,8688600,8863490,11321050,9031250,12190400,18122230,7525505,8229000,9896880,5990500,22465060,8516800,15982580,7176980,8784250,9632440,13459920,7543900,9171270,15688540,21690890,7789175,13614160,7726850,16803000,13395730,6906420,8477410,14456880,6671500,9833380,9635600,14925700,3172500,9632770,12373420,7606750,21960910,14990160,5819195,4824750,11486800,8278220,6382640,8389190,7744625,13451130,3090250,18515080,9159770,7344540,10353100,14149250,6615250,8171850,9167400,6835375,12537920,8127405,5763500,12555150,6200500,12157950,8041750,12062330,10249110,4295250,22351040,8583750,11567750,10287820,11003250,8229420,18946420,8258790,12776330,9437150,11469920,18893580,10324250,9724240,14244070,11089250,9652750,14684750,20656530,14991115,15879350,10712030,10260570,11126750,7638750,16990300,20301890,13382350,9216700,14876760,10506870,15106810,7471850,6787275,4613750,10406790,9722150,5850985,12316150,7459750,13366140,12619960,16796780,7131000,7139330,7027585,9726400,11834000,10369740,7930750,7260750,10842880,5483250,6463000,8444770,5935980,8412880,12986720,7968600,21047400,4635625,12286010,9616360,6167500,8215400,8224250,12459280,8877450,9013550,10113540,12415480,7821300,7460125,10308550,8037750,11374040,9251110,13861750,7604000,11826060,6348250,14737120,12863220,9994920,7105875,17414970,11066740,13670150,14580880,5029250,9868600,14344300,11902185,12575070,7218625,9577910,4224375,8315940,10146980,7180640,8861290,9054350,9031350,7163000,14796940,14016870,7129250,11531600,9631420,13498060,5374750,6318500,12217890,14119680,8159000,4504250,17134360,15086550,8660320,5516500,9815400,15769420,6375000,14248300,12719430,9472040,17152340,11264600,20212910,12041420,9815400,14632790,13417250,14319840,7062250,16663130,8441250,8988830,5555875,5020500,6049750,8992980,7399500,10559260,8347500,6467750,14238410,5664050,13230010,6481750,12010000,10318400,14608400,8076410,12574540,9642400,13560550,11047570,6233500,10231600,9632200,8577425,12335950,9242930,15023650,9296665,13045810,10878900,8835500,6466375,13088850,13738350,14647650,8729375,7730250,6987500,16372900,8272100,9261000,12279920,7919880,11589220,22629400,8958140,9893805,8145750,10148570,7316000,10134780,10134160,21556330,9933680,7543620,10353250,8711490,5967360,14290850,5853875,6498050,13573320,18588840,10445600,13131950,14119360,10829080,7104320,20782250,6613250,6032250,14154300,4436750,10711340,7996045,11477930,9493940,9681475,12593220,12560600,14179660,12845090,10730970,12674160,6461230,10732960,10662050,14039550,10889655,8342600,13906100,12716450,7130125,15237520,9406680,13049030,10363160,14949140,13383200,9838490,14331890,11273740,21185700,12654650,9896150,12824450,8709750,7099500,12195960,6162250,13754600,8195150,19798550,14944220,11383690,11570050,10808940,5688470,13117020,7929750,23013500,13697880,13174060,8017445,7611350,14280890,9782785,11129100,7543400,11956000,4587750,9120250,7164000,14025340,11095520,11437920,8610340,9420260,14155200,13308750,9593250,14111320,13944780,7371800,19501600,6211750,5643500,9387250,5353000,10818480,8351410,8507000,9976480],\"yaxis\":\"y\",\"type\":\"scattergl\"}],                        {\"template\":{\"data\":{\"bar\":[{\"error_x\":{\"color\":\"#2a3f5f\"},\"error_y\":{\"color\":\"#2a3f5f\"},\"marker\":{\"line\":{\"color\":\"#E5ECF6\",\"width\":0.5},\"pattern\":{\"fillmode\":\"overlay\",\"size\":10,\"solidity\":0.2}},\"type\":\"bar\"}],\"barpolar\":[{\"marker\":{\"line\":{\"color\":\"#E5ECF6\",\"width\":0.5},\"pattern\":{\"fillmode\":\"overlay\",\"size\":10,\"solidity\":0.2}},\"type\":\"barpolar\"}],\"carpet\":[{\"aaxis\":{\"endlinecolor\":\"#2a3f5f\",\"gridcolor\":\"white\",\"linecolor\":\"white\",\"minorgridcolor\":\"white\",\"startlinecolor\":\"#2a3f5f\"},\"baxis\":{\"endlinecolor\":\"#2a3f5f\",\"gridcolor\":\"white\",\"linecolor\":\"white\",\"minorgridcolor\":\"white\",\"startlinecolor\":\"#2a3f5f\"},\"type\":\"carpet\"}],\"choropleth\":[{\"colorbar\":{\"outlinewidth\":0,\"ticks\":\"\"},\"type\":\"choropleth\"}],\"contour\":[{\"colorbar\":{\"outlinewidth\":0,\"ticks\":\"\"},\"colorscale\":[[0.0,\"#0d0887\"],[0.1111111111111111,\"#46039f\"],[0.2222222222222222,\"#7201a8\"],[0.3333333333333333,\"#9c179e\"],[0.4444444444444444,\"#bd3786\"],[0.5555555555555556,\"#d8576b\"],[0.6666666666666666,\"#ed7953\"],[0.7777777777777778,\"#fb9f3a\"],[0.8888888888888888,\"#fdca26\"],[1.0,\"#f0f921\"]],\"type\":\"contour\"}],\"contourcarpet\":[{\"colorbar\":{\"outlinewidth\":0,\"ticks\":\"\"},\"type\":\"contourcarpet\"}],\"heatmap\":[{\"colorbar\":{\"outlinewidth\":0,\"ticks\":\"\"},\"colorscale\":[[0.0,\"#0d0887\"],[0.1111111111111111,\"#46039f\"],[0.2222222222222222,\"#7201a8\"],[0.3333333333333333,\"#9c179e\"],[0.4444444444444444,\"#bd3786\"],[0.5555555555555556,\"#d8576b\"],[0.6666666666666666,\"#ed7953\"],[0.7777777777777778,\"#fb9f3a\"],[0.8888888888888888,\"#fdca26\"],[1.0,\"#f0f921\"]],\"type\":\"heatmap\"}],\"heatmapgl\":[{\"colorbar\":{\"outlinewidth\":0,\"ticks\":\"\"},\"colorscale\":[[0.0,\"#0d0887\"],[0.1111111111111111,\"#46039f\"],[0.2222222222222222,\"#7201a8\"],[0.3333333333333333,\"#9c179e\"],[0.4444444444444444,\"#bd3786\"],[0.5555555555555556,\"#d8576b\"],[0.6666666666666666,\"#ed7953\"],[0.7777777777777778,\"#fb9f3a\"],[0.8888888888888888,\"#fdca26\"],[1.0,\"#f0f921\"]],\"type\":\"heatmapgl\"}],\"histogram\":[{\"marker\":{\"pattern\":{\"fillmode\":\"overlay\",\"size\":10,\"solidity\":0.2}},\"type\":\"histogram\"}],\"histogram2d\":[{\"colorbar\":{\"outlinewidth\":0,\"ticks\":\"\"},\"colorscale\":[[0.0,\"#0d0887\"],[0.1111111111111111,\"#46039f\"],[0.2222222222222222,\"#7201a8\"],[0.3333333333333333,\"#9c179e\"],[0.4444444444444444,\"#bd3786\"],[0.5555555555555556,\"#d8576b\"],[0.6666666666666666,\"#ed7953\"],[0.7777777777777778,\"#fb9f3a\"],[0.8888888888888888,\"#fdca26\"],[1.0,\"#f0f921\"]],\"type\":\"histogram2d\"}],\"histogram2dcontour\":[{\"colorbar\":{\"outlinewidth\":0,\"ticks\":\"\"},\"colorscale\":[[0.0,\"#0d0887\"],[0.1111111111111111,\"#46039f\"],[0.2222222222222222,\"#7201a8\"],[0.3333333333333333,\"#9c179e\"],[0.4444444444444444,\"#bd3786\"],[0.5555555555555556,\"#d8576b\"],[0.6666666666666666,\"#ed7953\"],[0.7777777777777778,\"#fb9f3a\"],[0.8888888888888888,\"#fdca26\"],[1.0,\"#f0f921\"]],\"type\":\"histogram2dcontour\"}],\"mesh3d\":[{\"colorbar\":{\"outlinewidth\":0,\"ticks\":\"\"},\"type\":\"mesh3d\"}],\"parcoords\":[{\"line\":{\"colorbar\":{\"outlinewidth\":0,\"ticks\":\"\"}},\"type\":\"parcoords\"}],\"pie\":[{\"automargin\":true,\"type\":\"pie\"}],\"scatter\":[{\"marker\":{\"colorbar\":{\"outlinewidth\":0,\"ticks\":\"\"}},\"type\":\"scatter\"}],\"scatter3d\":[{\"line\":{\"colorbar\":{\"outlinewidth\":0,\"ticks\":\"\"}},\"marker\":{\"colorbar\":{\"outlinewidth\":0,\"ticks\":\"\"}},\"type\":\"scatter3d\"}],\"scattercarpet\":[{\"marker\":{\"colorbar\":{\"outlinewidth\":0,\"ticks\":\"\"}},\"type\":\"scattercarpet\"}],\"scattergeo\":[{\"marker\":{\"colorbar\":{\"outlinewidth\":0,\"ticks\":\"\"}},\"type\":\"scattergeo\"}],\"scattergl\":[{\"marker\":{\"colorbar\":{\"outlinewidth\":0,\"ticks\":\"\"}},\"type\":\"scattergl\"}],\"scattermapbox\":[{\"marker\":{\"colorbar\":{\"outlinewidth\":0,\"ticks\":\"\"}},\"type\":\"scattermapbox\"}],\"scatterpolar\":[{\"marker\":{\"colorbar\":{\"outlinewidth\":0,\"ticks\":\"\"}},\"type\":\"scatterpolar\"}],\"scatterpolargl\":[{\"marker\":{\"colorbar\":{\"outlinewidth\":0,\"ticks\":\"\"}},\"type\":\"scatterpolargl\"}],\"scatterternary\":[{\"marker\":{\"colorbar\":{\"outlinewidth\":0,\"ticks\":\"\"}},\"type\":\"scatterternary\"}],\"surface\":[{\"colorbar\":{\"outlinewidth\":0,\"ticks\":\"\"},\"colorscale\":[[0.0,\"#0d0887\"],[0.1111111111111111,\"#46039f\"],[0.2222222222222222,\"#7201a8\"],[0.3333333333333333,\"#9c179e\"],[0.4444444444444444,\"#bd3786\"],[0.5555555555555556,\"#d8576b\"],[0.6666666666666666,\"#ed7953\"],[0.7777777777777778,\"#fb9f3a\"],[0.8888888888888888,\"#fdca26\"],[1.0,\"#f0f921\"]],\"type\":\"surface\"}],\"table\":[{\"cells\":{\"fill\":{\"color\":\"#EBF0F8\"},\"line\":{\"color\":\"white\"}},\"header\":{\"fill\":{\"color\":\"#C8D4E3\"},\"line\":{\"color\":\"white\"}},\"type\":\"table\"}]},\"layout\":{\"annotationdefaults\":{\"arrowcolor\":\"#2a3f5f\",\"arrowhead\":0,\"arrowwidth\":1},\"autotypenumbers\":\"strict\",\"coloraxis\":{\"colorbar\":{\"outlinewidth\":0,\"ticks\":\"\"}},\"colorscale\":{\"diverging\":[[0,\"#8e0152\"],[0.1,\"#c51b7d\"],[0.2,\"#de77ae\"],[0.3,\"#f1b6da\"],[0.4,\"#fde0ef\"],[0.5,\"#f7f7f7\"],[0.6,\"#e6f5d0\"],[0.7,\"#b8e186\"],[0.8,\"#7fbc41\"],[0.9,\"#4d9221\"],[1,\"#276419\"]],\"sequential\":[[0.0,\"#0d0887\"],[0.1111111111111111,\"#46039f\"],[0.2222222222222222,\"#7201a8\"],[0.3333333333333333,\"#9c179e\"],[0.4444444444444444,\"#bd3786\"],[0.5555555555555556,\"#d8576b\"],[0.6666666666666666,\"#ed7953\"],[0.7777777777777778,\"#fb9f3a\"],[0.8888888888888888,\"#fdca26\"],[1.0,\"#f0f921\"]],\"sequentialminus\":[[0.0,\"#0d0887\"],[0.1111111111111111,\"#46039f\"],[0.2222222222222222,\"#7201a8\"],[0.3333333333333333,\"#9c179e\"],[0.4444444444444444,\"#bd3786\"],[0.5555555555555556,\"#d8576b\"],[0.6666666666666666,\"#ed7953\"],[0.7777777777777778,\"#fb9f3a\"],[0.8888888888888888,\"#fdca26\"],[1.0,\"#f0f921\"]]},\"colorway\":[\"#636efa\",\"#EF553B\",\"#00cc96\",\"#ab63fa\",\"#FFA15A\",\"#19d3f3\",\"#FF6692\",\"#B6E880\",\"#FF97FF\",\"#FECB52\"],\"font\":{\"color\":\"#2a3f5f\"},\"geo\":{\"bgcolor\":\"white\",\"lakecolor\":\"white\",\"landcolor\":\"#E5ECF6\",\"showlakes\":true,\"showland\":true,\"subunitcolor\":\"white\"},\"hoverlabel\":{\"align\":\"left\"},\"hovermode\":\"closest\",\"mapbox\":{\"style\":\"light\"},\"paper_bgcolor\":\"white\",\"plot_bgcolor\":\"#E5ECF6\",\"polar\":{\"angularaxis\":{\"gridcolor\":\"white\",\"linecolor\":\"white\",\"ticks\":\"\"},\"bgcolor\":\"#E5ECF6\",\"radialaxis\":{\"gridcolor\":\"white\",\"linecolor\":\"white\",\"ticks\":\"\"}},\"scene\":{\"xaxis\":{\"backgroundcolor\":\"#E5ECF6\",\"gridcolor\":\"white\",\"gridwidth\":2,\"linecolor\":\"white\",\"showbackground\":true,\"ticks\":\"\",\"zerolinecolor\":\"white\"},\"yaxis\":{\"backgroundcolor\":\"#E5ECF6\",\"gridcolor\":\"white\",\"gridwidth\":2,\"linecolor\":\"white\",\"showbackground\":true,\"ticks\":\"\",\"zerolinecolor\":\"white\"},\"zaxis\":{\"backgroundcolor\":\"#E5ECF6\",\"gridcolor\":\"white\",\"gridwidth\":2,\"linecolor\":\"white\",\"showbackground\":true,\"ticks\":\"\",\"zerolinecolor\":\"white\"}},\"shapedefaults\":{\"line\":{\"color\":\"#2a3f5f\"}},\"ternary\":{\"aaxis\":{\"gridcolor\":\"white\",\"linecolor\":\"white\",\"ticks\":\"\"},\"baxis\":{\"gridcolor\":\"white\",\"linecolor\":\"white\",\"ticks\":\"\"},\"bgcolor\":\"#E5ECF6\",\"caxis\":{\"gridcolor\":\"white\",\"linecolor\":\"white\",\"ticks\":\"\"}},\"title\":{\"x\":0.05},\"xaxis\":{\"automargin\":true,\"gridcolor\":\"white\",\"linecolor\":\"white\",\"ticks\":\"\",\"title\":{\"standoff\":15},\"zerolinecolor\":\"white\",\"zerolinewidth\":2},\"yaxis\":{\"automargin\":true,\"gridcolor\":\"white\",\"linecolor\":\"white\",\"ticks\":\"\",\"title\":{\"standoff\":15},\"zerolinecolor\":\"white\",\"zerolinewidth\":2}}},\"xaxis\":{\"anchor\":\"y\",\"domain\":[0.0,1.0],\"title\":{\"text\":\"Age_Bldg\"}},\"yaxis\":{\"anchor\":\"x\",\"domain\":[0.0,1.0],\"title\":{\"text\":\"SALES_PRICE\"}},\"legend\":{\"tracegroupgap\":0},\"margin\":{\"t\":60}},                        {\"responsive\": true}                    ).then(function(){\n",
              "                            \n",
              "var gd = document.getElementById('3bbe7797-a944-4b4d-8fd5-ccb84dab95a0');\n",
              "var x = new MutationObserver(function (mutations, observer) {{\n",
              "        var display = window.getComputedStyle(gd).display;\n",
              "        if (!display || display === 'none') {{\n",
              "            console.log([gd, 'removed!']);\n",
              "            Plotly.purge(gd);\n",
              "            observer.disconnect();\n",
              "        }}\n",
              "}});\n",
              "\n",
              "// Listen for the removal of the full notebook cells\n",
              "var notebookContainer = gd.closest('#notebook-container');\n",
              "if (notebookContainer) {{\n",
              "    x.observe(notebookContainer, {childList: true});\n",
              "}}\n",
              "\n",
              "// Listen for the clearing of the current output cell\n",
              "var outputEl = gd.closest('.output');\n",
              "if (outputEl) {{\n",
              "    x.observe(outputEl, {childList: true});\n",
              "}}\n",
              "\n",
              "                        })                };                            </script>        </div>\n",
              "</body>\n",
              "</html>"
            ]
          },
          "metadata": {}
        }
      ]
    },
    {
      "cell_type": "code",
      "source": [
        "from sklearn.preprocessing import LabelEncoder  # Converting data type to 'int or float' because in regression model 'object' data type can't be read.\n",
        "le = LabelEncoder()\n",
        "for col in house.columns:\n",
        "    if house[col].dtypes == 'object':\n",
        "        house[col] = le.fit_transform(house[col])"
      ],
      "metadata": {
        "id": "RZ4qLfo0RyvY"
      },
      "execution_count": 83,
      "outputs": []
    },
    {
      "cell_type": "markdown",
      "source": [
        "**Correlation between the columns**"
      ],
      "metadata": {
        "id": "dJ3NL1RHQOF7"
      }
    },
    {
      "cell_type": "code",
      "source": [
        "corr = house.corr()\n",
        "corr\n",
        "\n",
        "plt.figure(figsize = (18, 18))\n",
        "sb.heatmap(data = corr, fmt = '.2%', annot = True)\n",
        "b, t = plt.ylim() # discover the values for bottom and top\n",
        "b += 0.5 # Add 0.5 to the bottom\n",
        "t -= 0.5 # Subtract 0.5 from the top\n",
        "plt.ylim(b, t) # update the ylim(bottom, top) values"
      ],
      "metadata": {
        "colab": {
          "base_uri": "https://localhost:8080/",
          "height": 1000
        },
        "id": "lSYuKcwaPspx",
        "outputId": "0e6ee9c8-da54-4716-bbc5-28af5706f739"
      },
      "execution_count": 84,
      "outputs": [
        {
          "output_type": "execute_result",
          "data": {
            "text/plain": [
              "(14.5, -0.5)"
            ]
          },
          "metadata": {},
          "execution_count": 84
        },
        {
          "output_type": "display_data",
          "data": {
            "text/plain": [
              "<Figure size 1296x1296 with 2 Axes>"
            ],
            "image/png": "[encoded data removed]"
          },
          "metadata": {
            "needs_background": "light"
          }
        }
      ]
    },
    {
      "cell_type": "code",
      "source": [
        "house.dtypes"
      ],
      "metadata": {
        "colab": {
          "base_uri": "https://localhost:8080/"
        },
        "id": "2yiJxpuqLif0",
        "outputId": "07426317-5fe4-43c1-c8b2-636fda22d76c"
      },
      "execution_count": 85,
      "outputs": [
        {
          "output_type": "execute_result",
          "data": {
            "text/plain": [
              "AREA             int64\n",
              "INT_SQFT         int64\n",
              "DIST_MAINROAD    int64\n",
              "N_BEDROOM        int64\n",
              "N_BATHROOM       int64\n",
              "N_ROOM           int64\n",
              "SALE_COND        int64\n",
              "PARK_FACIL       int64\n",
              "BUILDTYPE        int64\n",
              "UTILITY_AVAIL    int64\n",
              "STREET           int64\n",
              "MZZONE           int64\n",
              "SALES_PRICE      int64\n",
              "Age_Bldg         int64\n",
              "dtype: object"
            ]
          },
          "metadata": {},
          "execution_count": 85
        }
      ]
    },
    {
      "cell_type": "markdown",
      "source": [
        "**Build a Model Now...**"
      ],
      "metadata": {
        "id": "4dzYpnoEc-3s"
      }
    },
    {
      "cell_type": "code",
      "source": [
        "X = house.drop(columns=['SALES_PRICE'])"
      ],
      "metadata": {
        "id": "RVRB8926P6z7"
      },
      "execution_count": 86,
      "outputs": []
    },
    {
      "cell_type": "code",
      "source": [
        "y=house[\"SALES_PRICE\"]"
      ],
      "metadata": {
        "id": "1oIRpUB4PvE6"
      },
      "execution_count": 87,
      "outputs": []
    },
    {
      "cell_type": "markdown",
      "source": [
        "**Linear Regression**"
      ],
      "metadata": {
        "id": "ngNi05Jnti81"
      }
    },
    {
      "cell_type": "code",
      "source": [
        "from sklearn.model_selection import train_test_split\n",
        "X_train,X_test,y_train,y_test=train_test_split(X,y,test_size=0.2,random_state=0)"
      ],
      "metadata": {
        "id": "fd6Fzr9PSkrc"
      },
      "execution_count": 88,
      "outputs": []
    },
    {
      "cell_type": "code",
      "source": [
        "print(X_train.shape)\n",
        "print(X_test.shape)"
      ],
      "metadata": {
        "colab": {
          "base_uri": "https://localhost:8080/"
        },
        "id": "3MRUn0p1oBZl",
        "outputId": "40d74637-4b27-4375-b720-a334b418caf5"
      },
      "execution_count": 89,
      "outputs": [
        {
          "output_type": "stream",
          "name": "stdout",
          "text": [
            "(5644, 13)\n",
            "(1412, 13)\n"
          ]
        }
      ]
    },
    {
      "cell_type": "code",
      "source": [
        "from sklearn.linear_model import LinearRegression\n",
        "model=LinearRegression()\n",
        "model.fit(X_train,y_train)\n",
        "model.score(X_test,y_test)"
      ],
      "metadata": {
        "colab": {
          "base_uri": "https://localhost:8080/"
        },
        "id": "zLLAp-GqQPkg",
        "outputId": "492a095d-2e4e-4004-9b6b-19a7f3fda606"
      },
      "execution_count": 90,
      "outputs": [
        {
          "output_type": "execute_result",
          "data": {
            "text/plain": [
              "0.7916037042635726"
            ]
          },
          "metadata": {},
          "execution_count": 90
        }
      ]
    },
    {
      "cell_type": "code",
      "source": [
        "print(\"Accuracy --> \", model.score(X_test, y_test)*100)"
      ],
      "metadata": {
        "id": "nJ4xiJ6qR0nm",
        "colab": {
          "base_uri": "https://localhost:8080/"
        },
        "outputId": "fe76ceff-1101-4f50-e0a1-f21f315b21a0"
      },
      "execution_count": 91,
      "outputs": [
        {
          "output_type": "stream",
          "name": "stdout",
          "text": [
            "Accuracy -->  79.16037042635726\n"
          ]
        }
      ]
    },
    {
      "cell_type": "markdown",
      "source": [
        "**RandomForestRegressor**"
      ],
      "metadata": {
        "id": "gWpmGxOltpJ4"
      }
    },
    {
      "cell_type": "code",
      "source": [
        "from sklearn.ensemble import RandomForestRegressor\n",
        "model = RandomForestRegressor(n_estimators=100,random_state = 0)\n",
        "model.fit(X_train, y_train)"
      ],
      "metadata": {
        "colab": {
          "base_uri": "https://localhost:8080/"
        },
        "id": "HkEud7zas5J0",
        "outputId": "e2b1542a-4efa-4fab-b7c1-c93f53b4d8fa"
      },
      "execution_count": 92,
      "outputs": [
        {
          "output_type": "execute_result",
          "data": {
            "text/plain": [
              "RandomForestRegressor(random_state=0)"
            ]
          },
          "metadata": {},
          "execution_count": 92
        }
      ]
    },
    {
      "cell_type": "code",
      "source": [
        "print(\"Accuracy --> \", model.score(X_test, y_test)*100)"
      ],
      "metadata": {
        "colab": {
          "base_uri": "https://localhost:8080/"
        },
        "id": "Ml4Zh1AAtPXa",
        "outputId": "ad967185-3765-4ee9-8972-88530aceba7f"
      },
      "execution_count": 93,
      "outputs": [
        {
          "output_type": "stream",
          "name": "stdout",
          "text": [
            "Accuracy -->  98.09688359106244\n"
          ]
        }
      ]
    },
    {
      "cell_type": "markdown",
      "source": [
        "**GradientBoostingRegresso**"
      ],
      "metadata": {
        "id": "RDAuI6nat7ft"
      }
    },
    {
      "cell_type": "code",
      "source": [
        "from sklearn.ensemble import GradientBoostingRegressor\n",
        "GBR = GradientBoostingRegressor(n_estimators=100, max_depth=4)"
      ],
      "metadata": {
        "id": "TpIWKp5faU8B"
      },
      "execution_count": 94,
      "outputs": []
    },
    {
      "cell_type": "code",
      "source": [
        "GBR.fit(X_train, y_train)"
      ],
      "metadata": {
        "id": "VOng2f87aY7Z",
        "colab": {
          "base_uri": "https://localhost:8080/"
        },
        "outputId": "c08fa68d-095d-4a1f-d407-493f49a373c7"
      },
      "execution_count": 95,
      "outputs": [
        {
          "output_type": "execute_result",
          "data": {
            "text/plain": [
              "GradientBoostingRegressor(max_depth=4)"
            ]
          },
          "metadata": {},
          "execution_count": 95
        }
      ]
    },
    {
      "cell_type": "code",
      "source": [
        "print(\"Accuracy --> \", GBR.score(X_test, y_test)*100)"
      ],
      "metadata": {
        "id": "MskhEBw2aesD",
        "colab": {
          "base_uri": "https://localhost:8080/"
        },
        "outputId": "3373a155-4dc2-4c5d-a243-b458d96bfb65"
      },
      "execution_count": 96,
      "outputs": [
        {
          "output_type": "stream",
          "name": "stdout",
          "text": [
            "Accuracy -->  99.08379262611955\n"
          ]
        }
      ]
    },
    {
      "cell_type": "code",
      "source": [
        "GBR.predict([[1300,1,3,4,1,2,2,2,4,2,0,3,2]])"
      ],
      "metadata": {
        "colab": {
          "base_uri": "https://localhost:8080/"
        },
        "id": "bAFLuY1hj6qO",
        "outputId": "7d3c3589-b05c-4fcf-9287-718be43c2b89"
      },
      "execution_count": 97,
      "outputs": [
        {
          "output_type": "execute_result",
          "data": {
            "text/plain": [
              "array([7189965.94562926])"
            ]
          },
          "metadata": {},
          "execution_count": 97
        }
      ]
    },
    {
      "cell_type": "markdown",
      "source": [
        "**Use K Fold cross validation to measure accuracy of our LinearRegression model**."
      ],
      "metadata": {
        "id": "HMXDt3SMHEFa"
      }
    },
    {
      "cell_type": "code",
      "source": [
        "from sklearn.model_selection import ShuffleSplit\n",
        "from sklearn.model_selection import cross_val_score\n",
        "\n",
        "cv = ShuffleSplit(n_splits=5, test_size=0.2, random_state=40)\n",
        "\n",
        "cross_val_score(LinearRegression(), X, y, cv=cv)"
      ],
      "metadata": {
        "id": "IOaUAEEcTX2c",
        "colab": {
          "base_uri": "https://localhost:8080/"
        },
        "outputId": "8e8cea8d-a044-4099-af9d-3b85e9a6a772"
      },
      "execution_count": 98,
      "outputs": [
        {
          "output_type": "execute_result",
          "data": {
            "text/plain": [
              "array([0.78716576, 0.79947407, 0.78546927, 0.79406414, 0.79888042])"
            ]
          },
          "metadata": {},
          "execution_count": 98
        }
      ]
    },
    {
      "cell_type": "markdown",
      "source": [
        "**Find best model using GridSearchCV**"
      ],
      "metadata": {
        "id": "FKZ2b2v1HNJr"
      }
    },
    {
      "cell_type": "code",
      "source": [
        "from sklearn.model_selection import GridSearchCV\n",
        "\n",
        "from sklearn.linear_model import Lasso\n",
        "from sklearn.tree import DecisionTreeRegressor\n",
        "\n",
        "def find_best_model_using_gridsearchcv(X,y):\n",
        "    algos = {\n",
        "        'linear_regression' : {\n",
        "            'model': LinearRegression(),\n",
        "            'params': {\n",
        "                'normalize': [True, False]\n",
        "            }\n",
        "        },\n",
        "        'lasso': {\n",
        "            'model': Lasso(),\n",
        "            'params': {\n",
        "                'alpha': [1,2],\n",
        "                'selection': ['random', 'cyclic']\n",
        "            }\n",
        "        },\n",
        "        'decision_tree': {\n",
        "            'model': DecisionTreeRegressor(),\n",
        "            'params': {\n",
        "                'criterion' : ['mse','friedman_mse'],\n",
        "                'splitter': ['best','random']\n",
        "            }\n",
        "        }\n",
        "    }\n",
        "    scores = []\n",
        "    cv = ShuffleSplit(n_splits=5, test_size=0.2, random_state=40)\n",
        "    for algo_name, config in algos.items():\n",
        "        gs =  GridSearchCV(config['model'], config['params'], cv=cv, return_train_score=False)\n",
        "        gs.fit(X,y)\n",
        "        scores.append({\n",
        "            'model': algo_name,\n",
        "            'best_score': gs.best_score_,\n",
        "            'best_params': gs.best_params_\n",
        "        })\n",
        "\n",
        "    return pd.DataFrame(scores,columns=['model','best_score','best_params'])\n",
        "\n",
        "find_best_model_using_gridsearchcv(X,y)"
      ],
      "metadata": {
        "id": "5DwmG8AWTNya",
        "colab": {
          "base_uri": "https://localhost:8080/",
          "height": 143
        },
        "outputId": "63cec0e3-50c9-486d-941d-ece2653476a8"
      },
      "execution_count": 99,
      "outputs": [
        {
          "output_type": "execute_result",
          "data": {
            "text/plain": [
              "               model  best_score                                 best_params\n",
              "0  linear_regression    0.793011                         {'normalize': True}\n",
              "1              lasso    0.793011         {'alpha': 1, 'selection': 'random'}\n",
              "2      decision_tree    0.970267  {'criterion': 'mse', 'splitter': 'random'}"
            ],
            "text/html": [
              "\n",
              "  <div id=\"df-f5ba43fe-ff9a-4c71-9d86-2272e011d8df\">\n",
              "    <div class=\"colab-df-container\">\n",
              "      <div>\n",
              "<style scoped>\n",
              "    .dataframe tbody tr th:only-of-type {\n",
              "        vertical-align: middle;\n",
              "    }\n",
              "\n",
              "    .dataframe tbody tr th {\n",
              "        vertical-align: top;\n",
              "    }\n",
              "\n",
              "    .dataframe thead th {\n",
              "        text-align: right;\n",
              "    }\n",
              "</style>\n",
              "<table border=\"1\" class=\"dataframe\">\n",
              "  <thead>\n",
              "    <tr style=\"text-align: right;\">\n",
              "      <th></th>\n",
              "      <th>model</th>\n",
              "      <th>best_score</th>\n",
              "      <th>best_params</th>\n",
              "    </tr>\n",
              "  </thead>\n",
              "  <tbody>\n",
              "    <tr>\n",
              "      <th>0</th>\n",
              "      <td>linear_regression</td>\n",
              "      <td>0.793011</td>\n",
              "      <td>{'normalize': True}</td>\n",
              "    </tr>\n",
              "    <tr>\n",
              "      <th>1</th>\n",
              "      <td>lasso</td>\n",
              "      <td>0.793011</td>\n",
              "      <td>{'alpha': 1, 'selection': 'random'}</td>\n",
              "    </tr>\n",
              "    <tr>\n",
              "      <th>2</th>\n",
              "      <td>decision_tree</td>\n",
              "      <td>0.970267</td>\n",
              "      <td>{'criterion': 'mse', 'splitter': 'random'}</td>\n",
              "    </tr>\n",
              "  </tbody>\n",
              "</table>\n",
              "</div>\n",
              "      <button class=\"colab-df-convert\" onclick=\"convertToInteractive('df-f5ba43fe-ff9a-4c71-9d86-2272e011d8df')\"\n",
              "              title=\"Convert this dataframe to an interactive table.\"\n",
              "              style=\"display:none;\">\n",
              "        \n",
              "  <svg xmlns=\"http://www.w3.org/2000/svg\" height=\"24px\"viewBox=\"0 0 24 24\"\n",
              "       width=\"24px\">\n",
              "    <path d=\"M0 0h24v24H0V0z\" fill=\"none\"/>\n",
              "    <path d=\"M18.56 5.44l.94 2.06.94-2.06 2.06-.94-2.06-.94-.94-2.06-.94 2.06-2.06.94zm-11 1L8.5 8.5l.94-2.06 2.06-.94-2.06-.94L8.5 2.5l-.94 2.06-2.06.94zm10 10l.94 2.06.94-2.06 2.06-.94-2.06-.94-.94-2.06-.94 2.06-2.06.94z\"/><path d=\"M17.41 7.96l-1.37-1.37c-.4-.4-.92-.59-1.43-.59-.52 0-1.04.2-1.43.59L10.3 9.45l-7.72 7.72c-.78.78-.78 2.05 0 2.83L4 21.41c.39.39.9.59 1.41.59.51 0 1.02-.2 1.41-.59l7.78-7.78 2.81-2.81c.8-.78.8-2.07 0-2.86zM5.41 20L4 18.59l7.72-7.72 1.47 1.35L5.41 20z\"/>\n",
              "  </svg>\n",
              "      </button>\n",
              "      \n",
              "  <style>\n",
              "    .colab-df-container {\n",
              "      display:flex;\n",
              "      flex-wrap:wrap;\n",
              "      gap: 12px;\n",
              "    }\n",
              "\n",
              "    .colab-df-convert {\n",
              "      background-color: #E8F0FE;\n",
              "      border: none;\n",
              "      border-radius: 50%;\n",
              "      cursor: pointer;\n",
              "      display: none;\n",
              "      fill: #1967D2;\n",
              "      height: 32px;\n",
              "      padding: 0 0 0 0;\n",
              "      width: 32px;\n",
              "    }\n",
              "\n",
              "    .colab-df-convert:hover {\n",
              "      background-color: #E2EBFA;\n",
              "      box-shadow: 0px 1px 2px rgba(60, 64, 67, 0.3), 0px 1px 3px 1px rgba(60, 64, 67, 0.15);\n",
              "      fill: #174EA6;\n",
              "    }\n",
              "\n",
              "    [theme=dark] .colab-df-convert {\n",
              "      background-color: #3B4455;\n",
              "      fill: #D2E3FC;\n",
              "    }\n",
              "\n",
              "    [theme=dark] .colab-df-convert:hover {\n",
              "      background-color: #434B5C;\n",
              "      box-shadow: 0px 1px 3px 1px rgba(0, 0, 0, 0.15);\n",
              "      filter: drop-shadow(0px 1px 2px rgba(0, 0, 0, 0.3));\n",
              "      fill: #FFFFFF;\n",
              "    }\n",
              "  </style>\n",
              "\n",
              "      <script>\n",
              "        const buttonEl =\n",
              "          document.querySelector('#df-f5ba43fe-ff9a-4c71-9d86-2272e011d8df button.colab-df-convert');\n",
              "        buttonEl.style.display =\n",
              "          google.colab.kernel.accessAllowed ? 'block' : 'none';\n",
              "\n",
              "        async function convertToInteractive(key) {\n",
              "          const element = document.querySelector('#df-f5ba43fe-ff9a-4c71-9d86-2272e011d8df');\n",
              "          const dataTable =\n",
              "            await google.colab.kernel.invokeFunction('convertToInteractive',\n",
              "                                                     [key], {});\n",
              "          if (!dataTable) return;\n",
              "\n",
              "          const docLinkHtml = 'Like what you see? Visit the ' +\n",
              "            '<a target=\"_blank\" href=https://colab.research.google.com/notebooks/data_table.ipynb>data table notebook</a>'\n",
              "            + ' to learn more about interactive tables.';\n",
              "          element.innerHTML = '';\n",
              "          dataTable['output_type'] = 'display_data';\n",
              "          await google.colab.output.renderOutput(dataTable, element);\n",
              "          const docLink = document.createElement('div');\n",
              "          docLink.innerHTML = docLinkHtml;\n",
              "          element.appendChild(docLink);\n",
              "        }\n",
              "      </script>\n",
              "    </div>\n",
              "  </div>\n",
              "  "
            ]
          },
          "metadata": {},
          "execution_count": 99
        }
      ]
    },
    {
      "cell_type": "code",
      "source": [
        "#Currency Conversion\n",
        "from babel.numbers import format_currency"
      ],
      "metadata": {
        "id": "Y4Sf4wQukea2"
      },
      "execution_count": 100,
      "outputs": []
    },
    {
      "cell_type": "code",
      "source": [
        "valu=GBR.predict([[1847,2,3,4,1,2,2,1,3,2,0,3,1]])\n",
        "low=int(valu-(valu*0.01))\n",
        "low = format_currency(low, 'INR', locale='en_IN')\n",
        "high=int(valu+(valu*0.01))\n",
        "high = format_currency(high, 'INR', locale='en_IN')\n",
        "print('Estimated value is:',low , 'to', high)"
      ],
      "metadata": {
        "colab": {
          "base_uri": "https://localhost:8080/"
        },
        "id": "lpu679smkj_n",
        "outputId": "6009a9a4-cffa-4cb1-bad7-4612946e276e"
      },
      "execution_count": 101,
      "outputs": [
        {
          "output_type": "stream",
          "name": "stdout",
          "text": [
            "Estimated value is: ₹71,18,066.00 to ₹72,61,865.00\n"
          ]
        }
      ]
    }
  ]
}